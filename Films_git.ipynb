{
 "cells": [
  {
   "cell_type": "markdown",
   "id": "bd4614b2",
   "metadata": {},
   "source": [
    "# Проект - исследование рынка российского кинопроката\n",
    "\n",
    "Заказчик этого исследования — Министерство культуры Российской Федерации. \n",
    "\n",
    "Вам нужно изучить рынок российского кинопроката и выявить текущие тренды. Уделите внимание фильмам, которые получили государственную поддержку. Попробуйте ответить на вопрос, насколько такие фильмы интересны зрителю. \n",
    "\n",
    "Вы будете работать с данными, опубликованными на портале открытых данных Министерства культуры. Набор данных содержит информацию о прокатных удостоверениях, сборах и государственной поддержке фильмов, а также информацию с сайта КиноПоиск. "
   ]
  },
  {
   "cell_type": "code",
   "execution_count": 1,
   "id": "2c3a2694",
   "metadata": {},
   "outputs": [],
   "source": [
    "import pandas as pd\n",
    "import matplotlib.pyplot as plt"
   ]
  },
  {
   "cell_type": "markdown",
   "id": "d3eb5987",
   "metadata": {},
   "source": [
    "**1. Открываем файлы с данными и объедтняем их в один датафрейм.**"
   ]
  },
  {
   "cell_type": "markdown",
   "id": "742e2f7a",
   "metadata": {},
   "source": [
    "**Открываем файлы с данными и смотрим информацию по данным датафреймов, используя методом info().** "
   ]
  },
  {
   "cell_type": "code",
   "execution_count": 3,
   "id": "aca11ef0",
   "metadata": {},
   "outputs": [
    {
     "name": "stdout",
     "output_type": "stream",
     "text": [
      "<class 'pandas.core.frame.DataFrame'>\n",
      "RangeIndex: 7486 entries, 0 to 7485\n",
      "Data columns (total 15 columns):\n",
      " #   Column                 Non-Null Count  Dtype  \n",
      "---  ------                 --------------  -----  \n",
      " 0   title                  7486 non-null   object \n",
      " 1   puNumber               7486 non-null   object \n",
      " 2   show_start_date        7486 non-null   object \n",
      " 3   type                   7486 non-null   object \n",
      " 4   film_studio            7468 non-null   object \n",
      " 5   production_country     7484 non-null   object \n",
      " 6   director               7477 non-null   object \n",
      " 7   producer               6918 non-null   object \n",
      " 8   age_restriction        7486 non-null   object \n",
      " 9   refundable_support     332 non-null    float64\n",
      " 10  nonrefundable_support  332 non-null    float64\n",
      " 11  budget                 332 non-null    float64\n",
      " 12  financing_source       332 non-null    object \n",
      " 13  ratings                6519 non-null   object \n",
      " 14  genres                 6510 non-null   object \n",
      "dtypes: float64(3), object(12)\n",
      "memory usage: 877.4+ KB\n"
     ]
    }
   ],
   "source": [
    "mkrf_movies = pd.read_csv('D:\\Мои Документы\\Desktop\\Материалы по учебе\\Сборный проект 1\\mkrf_movies.csv')\n",
    "#mkrf_movies = pd.read_csv('/datasets/mkrf_movies.csv')\n",
    "mkrf_movies.info()"
   ]
  },
  {
   "cell_type": "code",
   "execution_count": 4,
   "id": "62ab3103",
   "metadata": {},
   "outputs": [
    {
     "name": "stdout",
     "output_type": "stream",
     "text": [
      "<class 'pandas.core.frame.DataFrame'>\n",
      "RangeIndex: 3158 entries, 0 to 3157\n",
      "Data columns (total 2 columns):\n",
      " #   Column      Non-Null Count  Dtype  \n",
      "---  ------      --------------  -----  \n",
      " 0   puNumber    3158 non-null   int64  \n",
      " 1   box_office  3158 non-null   float64\n",
      "dtypes: float64(1), int64(1)\n",
      "memory usage: 49.5 KB\n"
     ]
    }
   ],
   "source": [
    "mkrf_shows = pd.read_csv('D:\\Мои Документы\\Desktop\\Материалы по учебе\\Сборный проект 1\\mkrf_shows.csv')\n",
    "#mkrf_shows = pd.read_csv('/datasets/mkrf_shows.csv')\n",
    "mkrf_shows.info()"
   ]
  },
  {
   "cell_type": "code",
   "execution_count": 5,
   "id": "8af80545",
   "metadata": {},
   "outputs": [
    {
     "data": {
      "text/html": [
       "<div>\n",
       "<style scoped>\n",
       "    .dataframe tbody tr th:only-of-type {\n",
       "        vertical-align: middle;\n",
       "    }\n",
       "\n",
       "    .dataframe tbody tr th {\n",
       "        vertical-align: top;\n",
       "    }\n",
       "\n",
       "    .dataframe thead th {\n",
       "        text-align: right;\n",
       "    }\n",
       "</style>\n",
       "<table border=\"1\" class=\"dataframe\">\n",
       "  <thead>\n",
       "    <tr style=\"text-align: right;\">\n",
       "      <th></th>\n",
       "      <th>puNumber</th>\n",
       "      <th>box_office</th>\n",
       "    </tr>\n",
       "  </thead>\n",
       "  <tbody>\n",
       "    <tr>\n",
       "      <th>0</th>\n",
       "      <td>111000113</td>\n",
       "      <td>2.450000e+03</td>\n",
       "    </tr>\n",
       "    <tr>\n",
       "      <th>1</th>\n",
       "      <td>111000115</td>\n",
       "      <td>6.104000e+04</td>\n",
       "    </tr>\n",
       "    <tr>\n",
       "      <th>2</th>\n",
       "      <td>111000116</td>\n",
       "      <td>1.530300e+08</td>\n",
       "    </tr>\n",
       "    <tr>\n",
       "      <th>3</th>\n",
       "      <td>111000117</td>\n",
       "      <td>1.226096e+07</td>\n",
       "    </tr>\n",
       "    <tr>\n",
       "      <th>4</th>\n",
       "      <td>111000118</td>\n",
       "      <td>1.636841e+08</td>\n",
       "    </tr>\n",
       "  </tbody>\n",
       "</table>\n",
       "</div>"
      ],
      "text/plain": [
       "    puNumber    box_office\n",
       "0  111000113  2.450000e+03\n",
       "1  111000115  6.104000e+04\n",
       "2  111000116  1.530300e+08\n",
       "3  111000117  1.226096e+07\n",
       "4  111000118  1.636841e+08"
      ]
     },
     "execution_count": 5,
     "metadata": {},
     "output_type": "execute_result"
    }
   ],
   "source": [
    "mkrf_shows.head()"
   ]
  },
  {
   "cell_type": "markdown",
   "id": "68eb84a8",
   "metadata": {},
   "source": [
    "**Меняем тип данных в колонке puNumber в датафрейме mkrf_shows методом astype(), проверяем тип данных в данном столбце. При попытке поменять тип данных в столбце, вышла ошибка, что в столбце puNumber есть значение 'нет'. Пока решила найти данные строки и поменять в них значение 'нет' на 0, а потом при обработке данных уже решу, что с этим делать.**"
   ]
  },
  {
   "cell_type": "code",
   "execution_count": 4,
   "id": "60bb7ef3",
   "metadata": {},
   "outputs": [
    {
     "data": {
      "text/html": [
       "<div>\n",
       "<style scoped>\n",
       "    .dataframe tbody tr th:only-of-type {\n",
       "        vertical-align: middle;\n",
       "    }\n",
       "\n",
       "    .dataframe tbody tr th {\n",
       "        vertical-align: top;\n",
       "    }\n",
       "\n",
       "    .dataframe thead th {\n",
       "        text-align: right;\n",
       "    }\n",
       "</style>\n",
       "<table border=\"1\" class=\"dataframe\">\n",
       "  <thead>\n",
       "    <tr style=\"text-align: right;\">\n",
       "      <th></th>\n",
       "      <th>title</th>\n",
       "      <th>puNumber</th>\n",
       "      <th>show_start_date</th>\n",
       "      <th>type</th>\n",
       "      <th>film_studio</th>\n",
       "      <th>production_country</th>\n",
       "      <th>director</th>\n",
       "      <th>producer</th>\n",
       "      <th>age_restriction</th>\n",
       "      <th>refundable_support</th>\n",
       "      <th>nonrefundable_support</th>\n",
       "      <th>budget</th>\n",
       "      <th>financing_source</th>\n",
       "      <th>ratings</th>\n",
       "      <th>genres</th>\n",
       "    </tr>\n",
       "  </thead>\n",
       "  <tbody>\n",
       "    <tr>\n",
       "      <th>1797</th>\n",
       "      <td>Курбан-роман. (История с жертвой)</td>\n",
       "      <td>0</td>\n",
       "      <td>2014-05-15T12:00:00.000Z</td>\n",
       "      <td>Художественный</td>\n",
       "      <td>ФОНД \"ИННОВАЦИЯ\"</td>\n",
       "      <td>Россия</td>\n",
       "      <td>С.Юзеев</td>\n",
       "      <td>М.Галицкая</td>\n",
       "      <td>«12+» - для детей старше 12 лет</td>\n",
       "      <td>NaN</td>\n",
       "      <td>NaN</td>\n",
       "      <td>NaN</td>\n",
       "      <td>NaN</td>\n",
       "      <td>NaN</td>\n",
       "      <td>NaN</td>\n",
       "    </tr>\n",
       "  </tbody>\n",
       "</table>\n",
       "</div>"
      ],
      "text/plain": [
       "                                  title puNumber           show_start_date  \\\n",
       "1797  Курбан-роман. (История с жертвой)        0  2014-05-15T12:00:00.000Z   \n",
       "\n",
       "                type       film_studio production_country director  \\\n",
       "1797  Художественный  ФОНД \"ИННОВАЦИЯ\"             Россия  С.Юзеев   \n",
       "\n",
       "        producer                  age_restriction  refundable_support  \\\n",
       "1797  М.Галицкая  «12+» - для детей старше 12 лет                 NaN   \n",
       "\n",
       "      nonrefundable_support  budget financing_source ratings genres  \n",
       "1797                    NaN     NaN              NaN     NaN    NaN  "
      ]
     },
     "execution_count": 4,
     "metadata": {},
     "output_type": "execute_result"
    }
   ],
   "source": [
    "mkrf_movies.loc[mkrf_movies['puNumber'] == 'нет', 'puNumber'] = 0\n",
    "mkrf_movies.query('puNumber == 0')"
   ]
  },
  {
   "cell_type": "code",
   "execution_count": 5,
   "id": "3440d9c2",
   "metadata": {
    "scrolled": true
   },
   "outputs": [
    {
     "name": "stdout",
     "output_type": "stream",
     "text": [
      "<class 'pandas.core.frame.DataFrame'>\n",
      "RangeIndex: 7486 entries, 0 to 7485\n",
      "Data columns (total 15 columns):\n",
      " #   Column                 Non-Null Count  Dtype  \n",
      "---  ------                 --------------  -----  \n",
      " 0   title                  7486 non-null   object \n",
      " 1   puNumber               7486 non-null   int64  \n",
      " 2   show_start_date        7486 non-null   object \n",
      " 3   type                   7486 non-null   object \n",
      " 4   film_studio            7468 non-null   object \n",
      " 5   production_country     7484 non-null   object \n",
      " 6   director               7477 non-null   object \n",
      " 7   producer               6918 non-null   object \n",
      " 8   age_restriction        7486 non-null   object \n",
      " 9   refundable_support     332 non-null    float64\n",
      " 10  nonrefundable_support  332 non-null    float64\n",
      " 11  budget                 332 non-null    float64\n",
      " 12  financing_source       332 non-null    object \n",
      " 13  ratings                6519 non-null   object \n",
      " 14  genres                 6510 non-null   object \n",
      "dtypes: float64(3), int64(1), object(11)\n",
      "memory usage: 877.4+ KB\n"
     ]
    }
   ],
   "source": [
    "mkrf_movies['puNumber'] = mkrf_movies['puNumber'].astype('int64')\n",
    "mkrf_movies.info() "
   ]
  },
  {
   "cell_type": "markdown",
   "id": "d3f76aaf",
   "metadata": {},
   "source": [
    "**Объеденям датафрейм mkrf_movies и mkrf_shows в один методом merge(), по принципу, чтобы все значения в mkrf_movies вошли в новый датасет.**"
   ]
  },
  {
   "cell_type": "code",
   "execution_count": 6,
   "id": "4d5c96d8",
   "metadata": {
    "scrolled": false
   },
   "outputs": [
    {
     "name": "stdout",
     "output_type": "stream",
     "text": [
      "<class 'pandas.core.frame.DataFrame'>\n",
      "Int64Index: 7486 entries, 0 to 7485\n",
      "Data columns (total 16 columns):\n",
      " #   Column                 Non-Null Count  Dtype  \n",
      "---  ------                 --------------  -----  \n",
      " 0   title                  7486 non-null   object \n",
      " 1   puNumber               7486 non-null   int64  \n",
      " 2   show_start_date        7486 non-null   object \n",
      " 3   type                   7486 non-null   object \n",
      " 4   film_studio            7468 non-null   object \n",
      " 5   production_country     7484 non-null   object \n",
      " 6   director               7477 non-null   object \n",
      " 7   producer               6918 non-null   object \n",
      " 8   age_restriction        7486 non-null   object \n",
      " 9   refundable_support     332 non-null    float64\n",
      " 10  nonrefundable_support  332 non-null    float64\n",
      " 11  budget                 332 non-null    float64\n",
      " 12  financing_source       332 non-null    object \n",
      " 13  ratings                6519 non-null   object \n",
      " 14  genres                 6510 non-null   object \n",
      " 15  box_office             3158 non-null   float64\n",
      "dtypes: float64(4), int64(1), object(11)\n",
      "memory usage: 994.2+ KB\n",
      "None\n"
     ]
    },
    {
     "data": {
      "text/html": [
       "<div>\n",
       "<style scoped>\n",
       "    .dataframe tbody tr th:only-of-type {\n",
       "        vertical-align: middle;\n",
       "    }\n",
       "\n",
       "    .dataframe tbody tr th {\n",
       "        vertical-align: top;\n",
       "    }\n",
       "\n",
       "    .dataframe thead th {\n",
       "        text-align: right;\n",
       "    }\n",
       "</style>\n",
       "<table border=\"1\" class=\"dataframe\">\n",
       "  <thead>\n",
       "    <tr style=\"text-align: right;\">\n",
       "      <th></th>\n",
       "      <th>title</th>\n",
       "      <th>puNumber</th>\n",
       "      <th>show_start_date</th>\n",
       "      <th>type</th>\n",
       "      <th>film_studio</th>\n",
       "      <th>production_country</th>\n",
       "      <th>director</th>\n",
       "      <th>producer</th>\n",
       "      <th>age_restriction</th>\n",
       "      <th>refundable_support</th>\n",
       "      <th>nonrefundable_support</th>\n",
       "      <th>budget</th>\n",
       "      <th>financing_source</th>\n",
       "      <th>ratings</th>\n",
       "      <th>genres</th>\n",
       "      <th>box_office</th>\n",
       "    </tr>\n",
       "  </thead>\n",
       "  <tbody>\n",
       "    <tr>\n",
       "      <th>0</th>\n",
       "      <td>Открытый простор</td>\n",
       "      <td>221048915</td>\n",
       "      <td>2015-11-27T12:00:00.000Z</td>\n",
       "      <td>Художественный</td>\n",
       "      <td>Тачстоун Пикчерз, Кобальт Пикчерз, Бикон Пикче...</td>\n",
       "      <td>США</td>\n",
       "      <td>Кевин Костнер</td>\n",
       "      <td>Дэвид Валдес, Кевин Костнер, Джейк Эбертс</td>\n",
       "      <td>«18+» - запрещено для детей</td>\n",
       "      <td>NaN</td>\n",
       "      <td>NaN</td>\n",
       "      <td>NaN</td>\n",
       "      <td>NaN</td>\n",
       "      <td>7.2</td>\n",
       "      <td>боевик,драма,мелодрама</td>\n",
       "      <td>NaN</td>\n",
       "    </tr>\n",
       "    <tr>\n",
       "      <th>1</th>\n",
       "      <td>Особо важное задание</td>\n",
       "      <td>111013716</td>\n",
       "      <td>2016-09-13T12:00:00.000Z</td>\n",
       "      <td>Художественный</td>\n",
       "      <td>Киностудия \"Мосфильм\"</td>\n",
       "      <td>СССР</td>\n",
       "      <td>Е.Матвеев</td>\n",
       "      <td>NaN</td>\n",
       "      <td>«6+» - для детей старше 6 лет</td>\n",
       "      <td>NaN</td>\n",
       "      <td>NaN</td>\n",
       "      <td>NaN</td>\n",
       "      <td>NaN</td>\n",
       "      <td>6.6</td>\n",
       "      <td>драма,военный</td>\n",
       "      <td>NaN</td>\n",
       "    </tr>\n",
       "    <tr>\n",
       "      <th>2</th>\n",
       "      <td>Особо опасен</td>\n",
       "      <td>221038416</td>\n",
       "      <td>2016-10-10T12:00:00.000Z</td>\n",
       "      <td>Художественный</td>\n",
       "      <td>Юниверсал Пикчерз, Кикстарт Продакшнз, Марк Пл...</td>\n",
       "      <td>США</td>\n",
       "      <td>Тимур Бекмамбетов</td>\n",
       "      <td>Джим Лемли, Джейсон Нетер, Марк Е.Платт, Яйн Смит</td>\n",
       "      <td>«18+» - запрещено для детей</td>\n",
       "      <td>NaN</td>\n",
       "      <td>NaN</td>\n",
       "      <td>NaN</td>\n",
       "      <td>NaN</td>\n",
       "      <td>6.8</td>\n",
       "      <td>фантастика,боевик,триллер</td>\n",
       "      <td>NaN</td>\n",
       "    </tr>\n",
       "    <tr>\n",
       "      <th>3</th>\n",
       "      <td>Особо опасен</td>\n",
       "      <td>221026916</td>\n",
       "      <td>2016-06-10T12:00:00.000Z</td>\n",
       "      <td>Художественный</td>\n",
       "      <td>Юниверсал Пикчерз, Кикстарт Продакшнз, Марк Пл...</td>\n",
       "      <td>США</td>\n",
       "      <td>Тимур Бекмамбетов</td>\n",
       "      <td>Джим Лемли, Джейсон Нетер, Марк Е.Платт, Яйн Смит</td>\n",
       "      <td>«18+» - запрещено для детей</td>\n",
       "      <td>NaN</td>\n",
       "      <td>NaN</td>\n",
       "      <td>NaN</td>\n",
       "      <td>NaN</td>\n",
       "      <td>6.8</td>\n",
       "      <td>фантастика,боевик,триллер</td>\n",
       "      <td>NaN</td>\n",
       "    </tr>\n",
       "    <tr>\n",
       "      <th>4</th>\n",
       "      <td>Особо опасен</td>\n",
       "      <td>221030815</td>\n",
       "      <td>2015-07-29T12:00:00.000Z</td>\n",
       "      <td>Художественный</td>\n",
       "      <td>Юниверсал Пикчерз, Кикстарт Продакшнз, Марк Пл...</td>\n",
       "      <td>США</td>\n",
       "      <td>Тимур Бекмамбетов</td>\n",
       "      <td>Джим Лемли, Джейсон Нетер, Марк Е.Платт, Яйн Смит</td>\n",
       "      <td>«18+» - запрещено для детей</td>\n",
       "      <td>NaN</td>\n",
       "      <td>NaN</td>\n",
       "      <td>NaN</td>\n",
       "      <td>NaN</td>\n",
       "      <td>6.8</td>\n",
       "      <td>фантастика,боевик,триллер</td>\n",
       "      <td>NaN</td>\n",
       "    </tr>\n",
       "  </tbody>\n",
       "</table>\n",
       "</div>"
      ],
      "text/plain": [
       "                  title   puNumber           show_start_date            type  \\\n",
       "0      Открытый простор  221048915  2015-11-27T12:00:00.000Z  Художественный   \n",
       "1  Особо важное задание  111013716  2016-09-13T12:00:00.000Z  Художественный   \n",
       "2          Особо опасен  221038416  2016-10-10T12:00:00.000Z  Художественный   \n",
       "3          Особо опасен  221026916  2016-06-10T12:00:00.000Z  Художественный   \n",
       "4          Особо опасен  221030815  2015-07-29T12:00:00.000Z  Художественный   \n",
       "\n",
       "                                         film_studio production_country  \\\n",
       "0  Тачстоун Пикчерз, Кобальт Пикчерз, Бикон Пикче...                США   \n",
       "1                              Киностудия \"Мосфильм\"               СССР   \n",
       "2  Юниверсал Пикчерз, Кикстарт Продакшнз, Марк Пл...                США   \n",
       "3  Юниверсал Пикчерз, Кикстарт Продакшнз, Марк Пл...                США   \n",
       "4  Юниверсал Пикчерз, Кикстарт Продакшнз, Марк Пл...                США   \n",
       "\n",
       "            director                                           producer  \\\n",
       "0      Кевин Костнер          Дэвид Валдес, Кевин Костнер, Джейк Эбертс   \n",
       "1          Е.Матвеев                                                NaN   \n",
       "2  Тимур Бекмамбетов  Джим Лемли, Джейсон Нетер, Марк Е.Платт, Яйн Смит   \n",
       "3  Тимур Бекмамбетов  Джим Лемли, Джейсон Нетер, Марк Е.Платт, Яйн Смит   \n",
       "4  Тимур Бекмамбетов  Джим Лемли, Джейсон Нетер, Марк Е.Платт, Яйн Смит   \n",
       "\n",
       "                 age_restriction  refundable_support  nonrefundable_support  \\\n",
       "0    «18+» - запрещено для детей                 NaN                    NaN   \n",
       "1  «6+» - для детей старше 6 лет                 NaN                    NaN   \n",
       "2    «18+» - запрещено для детей                 NaN                    NaN   \n",
       "3    «18+» - запрещено для детей                 NaN                    NaN   \n",
       "4    «18+» - запрещено для детей                 NaN                    NaN   \n",
       "\n",
       "   budget financing_source ratings                     genres  box_office  \n",
       "0     NaN              NaN     7.2     боевик,драма,мелодрама         NaN  \n",
       "1     NaN              NaN     6.6              драма,военный         NaN  \n",
       "2     NaN              NaN     6.8  фантастика,боевик,триллер         NaN  \n",
       "3     NaN              NaN     6.8  фантастика,боевик,триллер         NaN  \n",
       "4     NaN              NaN     6.8  фантастика,боевик,триллер         NaN  "
      ]
     },
     "execution_count": 6,
     "metadata": {},
     "output_type": "execute_result"
    }
   ],
   "source": [
    "df = mkrf_movies.merge(mkrf_shows, on='puNumber', how='left')\n",
    "print(df.info())\n",
    "df.head()"
   ]
  },
  {
   "cell_type": "markdown",
   "id": "6f5f5548",
   "metadata": {},
   "source": [
    "Открыла два файла с данными mkrf_movies и mkrf_shows, поменяла тип данных столбца puNumber в датафрейме mkrf_movies на int, объеденила их в один датафрейм - df."
   ]
  },
  {
   "cell_type": "markdown",
   "id": "64fdbe9c",
   "metadata": {},
   "source": [
    "**2.Предобработка данных**"
   ]
  },
  {
   "cell_type": "markdown",
   "id": "047bb006",
   "metadata": {},
   "source": [
    "**Изменяем тип данных в столбце 'show_start_date'на datetime методом to_datetime()**"
   ]
  },
  {
   "cell_type": "code",
   "execution_count": 7,
   "id": "3db2f32e",
   "metadata": {},
   "outputs": [
    {
     "name": "stdout",
     "output_type": "stream",
     "text": [
      "<class 'pandas.core.frame.DataFrame'>\n",
      "Int64Index: 7486 entries, 0 to 7485\n",
      "Data columns (total 16 columns):\n",
      " #   Column                 Non-Null Count  Dtype              \n",
      "---  ------                 --------------  -----              \n",
      " 0   title                  7486 non-null   object             \n",
      " 1   puNumber               7486 non-null   int64              \n",
      " 2   show_start_date        7486 non-null   datetime64[ns, UTC]\n",
      " 3   type                   7486 non-null   object             \n",
      " 4   film_studio            7468 non-null   object             \n",
      " 5   production_country     7484 non-null   object             \n",
      " 6   director               7477 non-null   object             \n",
      " 7   producer               6918 non-null   object             \n",
      " 8   age_restriction        7486 non-null   object             \n",
      " 9   refundable_support     332 non-null    float64            \n",
      " 10  nonrefundable_support  332 non-null    float64            \n",
      " 11  budget                 332 non-null    float64            \n",
      " 12  financing_source       332 non-null    object             \n",
      " 13  ratings                6519 non-null   object             \n",
      " 14  genres                 6510 non-null   object             \n",
      " 15  box_office             3158 non-null   float64            \n",
      "dtypes: datetime64[ns, UTC](1), float64(4), int64(1), object(10)\n",
      "memory usage: 994.2+ KB\n"
     ]
    }
   ],
   "source": [
    "df['show_start_date'] = pd.to_datetime(df['show_start_date'], format='%Y-%m-%dT%H:%M:%S')\n",
    "df.info()\n"
   ]
  },
  {
   "cell_type": "markdown",
   "id": "4ec99d2f",
   "metadata": {},
   "source": [
    "**Изменяем тип данных в столбце 'ratings' на float. Смотрим , какие уникальные занения есть в этом столбце.**"
   ]
  },
  {
   "cell_type": "code",
   "execution_count": 8,
   "id": "b36ce1ae",
   "metadata": {},
   "outputs": [
    {
     "data": {
      "text/plain": [
       "array(['7.2', '6.6', '6.8', '7.7', '8.3', '8.0', '7.8', '8.1', '7.1',\n",
       "       '6.0', '7.4', '5.8', '8.7', '6.3', '6.9', '5.0', '4.3', '7.3',\n",
       "       '7.0', '6.4', nan, '8.2', '7.5', '6.7', '7.9', '5.9', '6.2', '5.6',\n",
       "       '6.5', '2.4', '7.6', '6.1', '8.6', '8.5', '8.8', '5.5', '5.1',\n",
       "       '5.7', '5.4', '99%', '4.4', '4.5', '5.3', '4.1', '8.4', '2.6',\n",
       "       '3.8', '4.6', '4.8', '4.0', '3.0', '1.6', '4.2', '5.2', '4.7',\n",
       "       '4.9', '3.9', '2.7', '3.3', '2.9', '28%', '3.7', '1.4', '3.1',\n",
       "       '97%', '3.5', '3.2', '2.8', '1.5', '2.1', '2.5', '9.2', '3.4',\n",
       "       '1.1', '3.6', '83%', '64%', '91%', '94%', '62%', '79%', '90%',\n",
       "       '19%', '88%', '1.0', '89%', '1.3', '1.9', '1.8', '1.2', '1.7',\n",
       "       '9.0', '98%', '8.9', '9.1'], dtype=object)"
      ]
     },
     "execution_count": 8,
     "metadata": {},
     "output_type": "execute_result"
    }
   ],
   "source": [
    "df['ratings'].unique()"
   ]
  },
  {
   "cell_type": "markdown",
   "id": "f9323cb0",
   "metadata": {},
   "source": [
    "**В ряде случаев рейтинг указан в %, изменяем эти значения на корректные методом replace(), проверяем уникальные значения.**"
   ]
  },
  {
   "cell_type": "code",
   "execution_count": 9,
   "id": "83c17c18",
   "metadata": {},
   "outputs": [
    {
     "data": {
      "text/plain": [
       "array(['7.2', '6.6', '6.8', '7.7', '8.3', '8.0', '7.8', '8.1', '7.1',\n",
       "       '6.0', '7.4', '5.8', '8.7', '6.3', '6.9', '5.0', '4.3', '7.3',\n",
       "       '7.0', '6.4', nan, '8.2', '7.5', '6.7', '7.9', '5.9', '6.2', '5.6',\n",
       "       '6.5', '2.4', '7.6', '6.1', '8.6', '8.5', '8.8', '5.5', '5.1',\n",
       "       '5.7', '5.4', '9.9', '4.4', '4.5', '5.3', '4.1', '8.4', '2.6',\n",
       "       '3.8', '4.6', '4.8', '4.0', '3.0', '1.6', '4.2', '5.2', '4.7',\n",
       "       '4.9', '3.9', '2.7', '3.3', '2.9', '2.8', '3.7', '1.4', '3.1',\n",
       "       '9.7', '3.5', '3.2', '1.5', '2.1', '2.5', '9.2', '3.4', '1.1',\n",
       "       '3.6', '9.1', '9.4', '9.0', '1.9', '1.0', '8.9', '1.3', '1.8',\n",
       "       '1.2', '1.7', '9.8'], dtype=object)"
      ]
     },
     "execution_count": 9,
     "metadata": {},
     "output_type": "execute_result"
    }
   ],
   "source": [
    "dictionary = {'99%': '9.9', '28%': '2.8', '97%': '9.7', '83%': '8.3', '64%': '6.4', '91%': '9.1', '94%': '9.4', \n",
    "              '62%': '6.2', '79%': '7.9', '90%': '9.0', '19%': '1.9', '88%': '8.8', '89%': '8.9',  '98%': '9.8'} \n",
    "\n",
    "df['ratings'] = df['ratings'].replace(dictionary, regex=True )\n",
    "df['ratings'].unique()"
   ]
  },
  {
   "cell_type": "markdown",
   "id": "990cadc5",
   "metadata": {},
   "source": [
    "**Переводим значение данных в столбце в формат float методом to_numeric, т.к  остались занчения nan**"
   ]
  },
  {
   "cell_type": "code",
   "execution_count": 10,
   "id": "9af4ad0e",
   "metadata": {},
   "outputs": [
    {
     "name": "stdout",
     "output_type": "stream",
     "text": [
      "<class 'pandas.core.frame.DataFrame'>\n",
      "Int64Index: 7486 entries, 0 to 7485\n",
      "Data columns (total 16 columns):\n",
      " #   Column                 Non-Null Count  Dtype              \n",
      "---  ------                 --------------  -----              \n",
      " 0   title                  7486 non-null   object             \n",
      " 1   puNumber               7486 non-null   int64              \n",
      " 2   show_start_date        7486 non-null   datetime64[ns, UTC]\n",
      " 3   type                   7486 non-null   object             \n",
      " 4   film_studio            7468 non-null   object             \n",
      " 5   production_country     7484 non-null   object             \n",
      " 6   director               7477 non-null   object             \n",
      " 7   producer               6918 non-null   object             \n",
      " 8   age_restriction        7486 non-null   object             \n",
      " 9   refundable_support     332 non-null    float64            \n",
      " 10  nonrefundable_support  332 non-null    float64            \n",
      " 11  budget                 332 non-null    float64            \n",
      " 12  financing_source       332 non-null    object             \n",
      " 13  ratings                6519 non-null   float64            \n",
      " 14  genres                 6510 non-null   object             \n",
      " 15  box_office             3158 non-null   float64            \n",
      "dtypes: datetime64[ns, UTC](1), float64(5), int64(1), object(9)\n",
      "memory usage: 994.2+ KB\n"
     ]
    },
    {
     "data": {
      "text/plain": [
       "None"
      ]
     },
     "metadata": {},
     "output_type": "display_data"
    },
    {
     "data": {
      "text/plain": [
       "array([7.2, 6.6, 6.8, 7.7, 8.3, 8. , 7.8, 8.1, 7.1, 6. , 7.4, 5.8, 8.7,\n",
       "       6.3, 6.9, 5. , 4.3, 7.3, 7. , 6.4, nan, 8.2, 7.5, 6.7, 7.9, 5.9,\n",
       "       6.2, 5.6, 6.5, 2.4, 7.6, 6.1, 8.6, 8.5, 8.8, 5.5, 5.1, 5.7, 5.4,\n",
       "       9.9, 4.4, 4.5, 5.3, 4.1, 8.4, 2.6, 3.8, 4.6, 4.8, 4. , 3. , 1.6,\n",
       "       4.2, 5.2, 4.7, 4.9, 3.9, 2.7, 3.3, 2.9, 2.8, 3.7, 1.4, 3.1, 9.7,\n",
       "       3.5, 3.2, 1.5, 2.1, 2.5, 9.2, 3.4, 1.1, 3.6, 9.1, 9.4, 9. , 1.9,\n",
       "       1. , 8.9, 1.3, 1.8, 1.2, 1.7, 9.8])"
      ]
     },
     "execution_count": 10,
     "metadata": {},
     "output_type": "execute_result"
    }
   ],
   "source": [
    "df['ratings'] = pd.to_numeric(df['ratings'], errors='coerce')\n",
    "display(df.info())\n",
    "df['ratings'].unique()"
   ]
  },
  {
   "cell_type": "markdown",
   "id": "ad132dad",
   "metadata": {},
   "source": [
    "**Определяем количество пропусков в датафрейме**"
   ]
  },
  {
   "cell_type": "code",
   "execution_count": 11,
   "id": "ce3b3da9",
   "metadata": {},
   "outputs": [
    {
     "data": {
      "text/plain": [
       "title                       0\n",
       "puNumber                    0\n",
       "show_start_date             0\n",
       "type                        0\n",
       "film_studio                18\n",
       "production_country          2\n",
       "director                    9\n",
       "producer                  568\n",
       "age_restriction             0\n",
       "refundable_support       7154\n",
       "nonrefundable_support    7154\n",
       "budget                   7154\n",
       "financing_source         7154\n",
       "ratings                   967\n",
       "genres                    976\n",
       "box_office               4328\n",
       "dtype: int64"
      ]
     },
     "execution_count": 11,
     "metadata": {},
     "output_type": "execute_result"
    }
   ],
   "source": [
    "df.isna().sum()"
   ]
  },
  {
   "cell_type": "markdown",
   "id": "2a81a699",
   "metadata": {},
   "source": [
    "**Исследуем пропуски в столбце film_studio**"
   ]
  },
  {
   "cell_type": "code",
   "execution_count": 12,
   "id": "d04fb811",
   "metadata": {},
   "outputs": [
    {
     "data": {
      "text/html": [
       "<div>\n",
       "<style scoped>\n",
       "    .dataframe tbody tr th:only-of-type {\n",
       "        vertical-align: middle;\n",
       "    }\n",
       "\n",
       "    .dataframe tbody tr th {\n",
       "        vertical-align: top;\n",
       "    }\n",
       "\n",
       "    .dataframe thead th {\n",
       "        text-align: right;\n",
       "    }\n",
       "</style>\n",
       "<table border=\"1\" class=\"dataframe\">\n",
       "  <thead>\n",
       "    <tr style=\"text-align: right;\">\n",
       "      <th></th>\n",
       "      <th>title</th>\n",
       "      <th>puNumber</th>\n",
       "      <th>show_start_date</th>\n",
       "      <th>type</th>\n",
       "      <th>film_studio</th>\n",
       "      <th>production_country</th>\n",
       "      <th>director</th>\n",
       "      <th>producer</th>\n",
       "      <th>age_restriction</th>\n",
       "      <th>refundable_support</th>\n",
       "      <th>nonrefundable_support</th>\n",
       "      <th>budget</th>\n",
       "      <th>financing_source</th>\n",
       "      <th>ratings</th>\n",
       "      <th>genres</th>\n",
       "      <th>box_office</th>\n",
       "    </tr>\n",
       "  </thead>\n",
       "  <tbody>\n",
       "    <tr>\n",
       "      <th>1293</th>\n",
       "      <td>Stars in Shorts</td>\n",
       "      <td>121011114</td>\n",
       "      <td>2014-06-03 12:00:00+00:00</td>\n",
       "      <td>Художественный</td>\n",
       "      <td>NaN</td>\n",
       "      <td>США, Великобритания</td>\n",
       "      <td>Роберт Фестингер, Руперт Френд, Джей Камен, Ни...</td>\n",
       "      <td>Татьяна Келли, Роберта Мунро, Руперт Френд, До...</td>\n",
       "      <td>«16+» - для детей старше 16 лет</td>\n",
       "      <td>NaN</td>\n",
       "      <td>NaN</td>\n",
       "      <td>NaN</td>\n",
       "      <td>NaN</td>\n",
       "      <td>7.3</td>\n",
       "      <td>комедия</td>\n",
       "      <td>NaN</td>\n",
       "    </tr>\n",
       "    <tr>\n",
       "      <th>4441</th>\n",
       "      <td>Мульт личности. Выпуск 5</td>\n",
       "      <td>214000410</td>\n",
       "      <td>2010-01-25 12:00:00+00:00</td>\n",
       "      <td>Художественный</td>\n",
       "      <td>NaN</td>\n",
       "      <td>NaN</td>\n",
       "      <td>NaN</td>\n",
       "      <td>NaN</td>\n",
       "      <td>«0+» - для любой зрительской аудитории</td>\n",
       "      <td>NaN</td>\n",
       "      <td>NaN</td>\n",
       "      <td>NaN</td>\n",
       "      <td>NaN</td>\n",
       "      <td>4.0</td>\n",
       "      <td>мультфильм,комедия</td>\n",
       "      <td>NaN</td>\n",
       "    </tr>\n",
       "    <tr>\n",
       "      <th>6105</th>\n",
       "      <td>Значит любит</td>\n",
       "      <td>111013818</td>\n",
       "      <td>2018-08-10 12:00:00+00:00</td>\n",
       "      <td>Художественный</td>\n",
       "      <td>NaN</td>\n",
       "      <td>Россия</td>\n",
       "      <td>А.Краевский</td>\n",
       "      <td>Е.Щербакова</td>\n",
       "      <td>«18+» - запрещено для детей</td>\n",
       "      <td>NaN</td>\n",
       "      <td>NaN</td>\n",
       "      <td>NaN</td>\n",
       "      <td>NaN</td>\n",
       "      <td>NaN</td>\n",
       "      <td>NaN</td>\n",
       "      <td>NaN</td>\n",
       "    </tr>\n",
       "    <tr>\n",
       "      <th>6181</th>\n",
       "      <td>Несейка. Младшая дочь</td>\n",
       "      <td>112007018</td>\n",
       "      <td>2018-09-01 12:00:00+00:00</td>\n",
       "      <td>Документальный</td>\n",
       "      <td>NaN</td>\n",
       "      <td>Россия</td>\n",
       "      <td>В.Марин</td>\n",
       "      <td>Д.Якунин, Ф.Абрютин, О.Филонова</td>\n",
       "      <td>«6+» - для детей старше 6 лет</td>\n",
       "      <td>NaN</td>\n",
       "      <td>NaN</td>\n",
       "      <td>NaN</td>\n",
       "      <td>NaN</td>\n",
       "      <td>NaN</td>\n",
       "      <td>NaN</td>\n",
       "      <td>NaN</td>\n",
       "    </tr>\n",
       "    <tr>\n",
       "      <th>6379</th>\n",
       "      <td>Ян Антонышев</td>\n",
       "      <td>112011818</td>\n",
       "      <td>2018-11-15 12:00:00+00:00</td>\n",
       "      <td>Документальный</td>\n",
       "      <td>NaN</td>\n",
       "      <td>Россия</td>\n",
       "      <td>Е.Окопная</td>\n",
       "      <td>Е.Герасимов</td>\n",
       "      <td>«12+» - для детей старше 12 лет</td>\n",
       "      <td>NaN</td>\n",
       "      <td>NaN</td>\n",
       "      <td>NaN</td>\n",
       "      <td>NaN</td>\n",
       "      <td>NaN</td>\n",
       "      <td>NaN</td>\n",
       "      <td>NaN</td>\n",
       "    </tr>\n",
       "    <tr>\n",
       "      <th>6380</th>\n",
       "      <td>Ян Антонышев</td>\n",
       "      <td>112011918</td>\n",
       "      <td>2018-11-15 12:00:00+00:00</td>\n",
       "      <td>Документальный</td>\n",
       "      <td>NaN</td>\n",
       "      <td>Россия</td>\n",
       "      <td>Е.Окопная</td>\n",
       "      <td>Е.Герасимов</td>\n",
       "      <td>«12+» - для детей старше 12 лет</td>\n",
       "      <td>NaN</td>\n",
       "      <td>NaN</td>\n",
       "      <td>NaN</td>\n",
       "      <td>NaN</td>\n",
       "      <td>NaN</td>\n",
       "      <td>NaN</td>\n",
       "      <td>NaN</td>\n",
       "    </tr>\n",
       "    <tr>\n",
       "      <th>6399</th>\n",
       "      <td>Доживем до каникул?..</td>\n",
       "      <td>111021918</td>\n",
       "      <td>2018-11-15 12:00:00+00:00</td>\n",
       "      <td>Художественный</td>\n",
       "      <td>NaN</td>\n",
       "      <td>Россия</td>\n",
       "      <td>Я.Хальпукова (псевдоним Яна Мартынец)</td>\n",
       "      <td>Я.Хальпукова (псевдоним Яна Мартынец)</td>\n",
       "      <td>«12+» - для детей старше 12 лет</td>\n",
       "      <td>NaN</td>\n",
       "      <td>NaN</td>\n",
       "      <td>NaN</td>\n",
       "      <td>NaN</td>\n",
       "      <td>NaN</td>\n",
       "      <td>NaN</td>\n",
       "      <td>41225.0</td>\n",
       "    </tr>\n",
       "    <tr>\n",
       "      <th>6485</th>\n",
       "      <td>До и После</td>\n",
       "      <td>112014418</td>\n",
       "      <td>2018-12-05 12:00:00+00:00</td>\n",
       "      <td>Документальный</td>\n",
       "      <td>NaN</td>\n",
       "      <td>Россия</td>\n",
       "      <td>А.Новокреповская</td>\n",
       "      <td>А.Новокреповская</td>\n",
       "      <td>«6+» - для детей старше 6 лет</td>\n",
       "      <td>NaN</td>\n",
       "      <td>NaN</td>\n",
       "      <td>NaN</td>\n",
       "      <td>NaN</td>\n",
       "      <td>6.9</td>\n",
       "      <td>драма,криминал,детектив</td>\n",
       "      <td>NaN</td>\n",
       "    </tr>\n",
       "    <tr>\n",
       "      <th>6494</th>\n",
       "      <td>Калмыцкий геше Нгаванг Вангьял</td>\n",
       "      <td>113002018</td>\n",
       "      <td>2018-12-05 12:00:00+00:00</td>\n",
       "      <td>Научно-популярный</td>\n",
       "      <td>NaN</td>\n",
       "      <td>Россия</td>\n",
       "      <td>И.Долгина</td>\n",
       "      <td>И.Долгина</td>\n",
       "      <td>«12+» - для детей старше 12 лет</td>\n",
       "      <td>NaN</td>\n",
       "      <td>NaN</td>\n",
       "      <td>NaN</td>\n",
       "      <td>NaN</td>\n",
       "      <td>NaN</td>\n",
       "      <td>NaN</td>\n",
       "      <td>NaN</td>\n",
       "    </tr>\n",
       "    <tr>\n",
       "      <th>6497</th>\n",
       "      <td>Мой папа Чингисхан</td>\n",
       "      <td>112014918</td>\n",
       "      <td>2018-12-06 12:00:00+00:00</td>\n",
       "      <td>Документальный</td>\n",
       "      <td>NaN</td>\n",
       "      <td>Россия</td>\n",
       "      <td>А.Сайфуллина</td>\n",
       "      <td>А.Сайфуллина</td>\n",
       "      <td>«12+» - для детей старше 12 лет</td>\n",
       "      <td>NaN</td>\n",
       "      <td>NaN</td>\n",
       "      <td>NaN</td>\n",
       "      <td>NaN</td>\n",
       "      <td>NaN</td>\n",
       "      <td>NaN</td>\n",
       "      <td>NaN</td>\n",
       "    </tr>\n",
       "    <tr>\n",
       "      <th>6498</th>\n",
       "      <td>В плену города грёз</td>\n",
       "      <td>112014818</td>\n",
       "      <td>2018-12-06 12:00:00+00:00</td>\n",
       "      <td>Документальный</td>\n",
       "      <td>NaN</td>\n",
       "      <td>Россия</td>\n",
       "      <td>В.Витовцев</td>\n",
       "      <td>О.Мичи</td>\n",
       "      <td>«18+» - запрещено для детей</td>\n",
       "      <td>NaN</td>\n",
       "      <td>NaN</td>\n",
       "      <td>NaN</td>\n",
       "      <td>NaN</td>\n",
       "      <td>7.9</td>\n",
       "      <td>фантастика,боевик,триллер</td>\n",
       "      <td>NaN</td>\n",
       "    </tr>\n",
       "    <tr>\n",
       "      <th>6499</th>\n",
       "      <td>Последнее фото</td>\n",
       "      <td>112014518</td>\n",
       "      <td>2018-12-06 12:00:00+00:00</td>\n",
       "      <td>Документальный</td>\n",
       "      <td>NaN</td>\n",
       "      <td>Россия</td>\n",
       "      <td>Е.Севастьянов</td>\n",
       "      <td>Е.Севастьянов</td>\n",
       "      <td>«18+» - запрещено для детей</td>\n",
       "      <td>NaN</td>\n",
       "      <td>NaN</td>\n",
       "      <td>NaN</td>\n",
       "      <td>NaN</td>\n",
       "      <td>NaN</td>\n",
       "      <td>NaN</td>\n",
       "      <td>NaN</td>\n",
       "    </tr>\n",
       "    <tr>\n",
       "      <th>6507</th>\n",
       "      <td>Мой селфхарм</td>\n",
       "      <td>113001918</td>\n",
       "      <td>2018-12-06 12:00:00+00:00</td>\n",
       "      <td>Научно-популярный</td>\n",
       "      <td>NaN</td>\n",
       "      <td>Россия</td>\n",
       "      <td>Я.Лаптев (псевдоним Яков Раскалов)</td>\n",
       "      <td>Я.Лаптев (псевдоним Яков Раскалов)</td>\n",
       "      <td>«18+» - запрещено для детей</td>\n",
       "      <td>NaN</td>\n",
       "      <td>NaN</td>\n",
       "      <td>NaN</td>\n",
       "      <td>NaN</td>\n",
       "      <td>NaN</td>\n",
       "      <td>NaN</td>\n",
       "      <td>NaN</td>\n",
       "    </tr>\n",
       "    <tr>\n",
       "      <th>6511</th>\n",
       "      <td>Обстоятельства места и времени</td>\n",
       "      <td>112015018</td>\n",
       "      <td>2018-12-12 12:00:00+00:00</td>\n",
       "      <td>Документальный</td>\n",
       "      <td>NaN</td>\n",
       "      <td>Россия</td>\n",
       "      <td>Д.Кабаков</td>\n",
       "      <td>Д.Кабаков</td>\n",
       "      <td>«12+» - для детей старше 12 лет</td>\n",
       "      <td>NaN</td>\n",
       "      <td>NaN</td>\n",
       "      <td>NaN</td>\n",
       "      <td>NaN</td>\n",
       "      <td>NaN</td>\n",
       "      <td>NaN</td>\n",
       "      <td>NaN</td>\n",
       "    </tr>\n",
       "    <tr>\n",
       "      <th>6638</th>\n",
       "      <td>Эрик Булатов. Моя Третьяковка, серии 1-2</td>\n",
       "      <td>113000319</td>\n",
       "      <td>2019-01-28 12:00:00+00:00</td>\n",
       "      <td>Научно-популярный</td>\n",
       "      <td>NaN</td>\n",
       "      <td>Россия</td>\n",
       "      <td>С.Гарькавый</td>\n",
       "      <td>Т.Пинская</td>\n",
       "      <td>«6+» - для детей старше 6 лет</td>\n",
       "      <td>NaN</td>\n",
       "      <td>NaN</td>\n",
       "      <td>NaN</td>\n",
       "      <td>NaN</td>\n",
       "      <td>NaN</td>\n",
       "      <td>NaN</td>\n",
       "      <td>NaN</td>\n",
       "    </tr>\n",
       "    <tr>\n",
       "      <th>6639</th>\n",
       "      <td>Брови</td>\n",
       "      <td>111000719</td>\n",
       "      <td>2019-03-01 12:00:00+00:00</td>\n",
       "      <td>Художественный</td>\n",
       "      <td>NaN</td>\n",
       "      <td>Россия</td>\n",
       "      <td>О.Штром</td>\n",
       "      <td>В.Максимов, В.Степанов, Г.Киракосян, О.Штром</td>\n",
       "      <td>«16+» - для детей старше 16 лет</td>\n",
       "      <td>NaN</td>\n",
       "      <td>NaN</td>\n",
       "      <td>NaN</td>\n",
       "      <td>NaN</td>\n",
       "      <td>NaN</td>\n",
       "      <td>NaN</td>\n",
       "      <td>NaN</td>\n",
       "    </tr>\n",
       "    <tr>\n",
       "      <th>6662</th>\n",
       "      <td>Топливо</td>\n",
       "      <td>111001419</td>\n",
       "      <td>2019-02-12 12:00:00+00:00</td>\n",
       "      <td>Художественный</td>\n",
       "      <td>NaN</td>\n",
       "      <td>Россия</td>\n",
       "      <td>М.Архипов</td>\n",
       "      <td>М.Архипов</td>\n",
       "      <td>«12+» - для детей старше 12 лет</td>\n",
       "      <td>NaN</td>\n",
       "      <td>NaN</td>\n",
       "      <td>NaN</td>\n",
       "      <td>NaN</td>\n",
       "      <td>6.1</td>\n",
       "      <td>короткометражка,фантастика</td>\n",
       "      <td>NaN</td>\n",
       "    </tr>\n",
       "    <tr>\n",
       "      <th>6722</th>\n",
       "      <td>Путешествие в Париж</td>\n",
       "      <td>111002919</td>\n",
       "      <td>2019-03-01 12:00:00+00:00</td>\n",
       "      <td>Художественный</td>\n",
       "      <td>NaN</td>\n",
       "      <td>Россия</td>\n",
       "      <td>М.Олейник (псевдоним - Мария Полякова)</td>\n",
       "      <td>Н.Савко</td>\n",
       "      <td>«16+» - для детей старше 16 лет</td>\n",
       "      <td>NaN</td>\n",
       "      <td>NaN</td>\n",
       "      <td>NaN</td>\n",
       "      <td>NaN</td>\n",
       "      <td>NaN</td>\n",
       "      <td>NaN</td>\n",
       "      <td>NaN</td>\n",
       "    </tr>\n",
       "  </tbody>\n",
       "</table>\n",
       "</div>"
      ],
      "text/plain": [
       "                                         title   puNumber  \\\n",
       "1293                           Stars in Shorts  121011114   \n",
       "4441                  Мульт личности. Выпуск 5  214000410   \n",
       "6105                              Значит любит  111013818   \n",
       "6181                     Несейка. Младшая дочь  112007018   \n",
       "6379                              Ян Антонышев  112011818   \n",
       "6380                              Ян Антонышев  112011918   \n",
       "6399                     Доживем до каникул?..  111021918   \n",
       "6485                                До и После  112014418   \n",
       "6494            Калмыцкий геше Нгаванг Вангьял  113002018   \n",
       "6497                        Мой папа Чингисхан  112014918   \n",
       "6498                       В плену города грёз  112014818   \n",
       "6499                            Последнее фото  112014518   \n",
       "6507                              Мой селфхарм  113001918   \n",
       "6511            Обстоятельства места и времени  112015018   \n",
       "6638  Эрик Булатов. Моя Третьяковка, серии 1-2  113000319   \n",
       "6639                                     Брови  111000719   \n",
       "6662                                   Топливо  111001419   \n",
       "6722                       Путешествие в Париж  111002919   \n",
       "\n",
       "               show_start_date               type film_studio  \\\n",
       "1293 2014-06-03 12:00:00+00:00     Художественный         NaN   \n",
       "4441 2010-01-25 12:00:00+00:00     Художественный         NaN   \n",
       "6105 2018-08-10 12:00:00+00:00     Художественный         NaN   \n",
       "6181 2018-09-01 12:00:00+00:00     Документальный         NaN   \n",
       "6379 2018-11-15 12:00:00+00:00     Документальный         NaN   \n",
       "6380 2018-11-15 12:00:00+00:00     Документальный         NaN   \n",
       "6399 2018-11-15 12:00:00+00:00     Художественный         NaN   \n",
       "6485 2018-12-05 12:00:00+00:00     Документальный         NaN   \n",
       "6494 2018-12-05 12:00:00+00:00  Научно-популярный         NaN   \n",
       "6497 2018-12-06 12:00:00+00:00     Документальный         NaN   \n",
       "6498 2018-12-06 12:00:00+00:00     Документальный         NaN   \n",
       "6499 2018-12-06 12:00:00+00:00     Документальный         NaN   \n",
       "6507 2018-12-06 12:00:00+00:00  Научно-популярный         NaN   \n",
       "6511 2018-12-12 12:00:00+00:00     Документальный         NaN   \n",
       "6638 2019-01-28 12:00:00+00:00  Научно-популярный         NaN   \n",
       "6639 2019-03-01 12:00:00+00:00     Художественный         NaN   \n",
       "6662 2019-02-12 12:00:00+00:00     Художественный         NaN   \n",
       "6722 2019-03-01 12:00:00+00:00     Художественный         NaN   \n",
       "\n",
       "       production_country                                           director  \\\n",
       "1293  США, Великобритания  Роберт Фестингер, Руперт Френд, Джей Камен, Ни...   \n",
       "4441                  NaN                                                NaN   \n",
       "6105               Россия                                        А.Краевский   \n",
       "6181               Россия                                            В.Марин   \n",
       "6379               Россия                                          Е.Окопная   \n",
       "6380               Россия                                          Е.Окопная   \n",
       "6399               Россия              Я.Хальпукова (псевдоним Яна Мартынец)   \n",
       "6485               Россия                                   А.Новокреповская   \n",
       "6494               Россия                                          И.Долгина   \n",
       "6497               Россия                                       А.Сайфуллина   \n",
       "6498               Россия                                         В.Витовцев   \n",
       "6499               Россия                                      Е.Севастьянов   \n",
       "6507               Россия                 Я.Лаптев (псевдоним Яков Раскалов)   \n",
       "6511               Россия                                          Д.Кабаков   \n",
       "6638               Россия                                        С.Гарькавый   \n",
       "6639               Россия                                            О.Штром   \n",
       "6662               Россия                                          М.Архипов   \n",
       "6722               Россия             М.Олейник (псевдоним - Мария Полякова)   \n",
       "\n",
       "                                               producer  \\\n",
       "1293  Татьяна Келли, Роберта Мунро, Руперт Френд, До...   \n",
       "4441                                                NaN   \n",
       "6105                                        Е.Щербакова   \n",
       "6181                    Д.Якунин, Ф.Абрютин, О.Филонова   \n",
       "6379                                        Е.Герасимов   \n",
       "6380                                        Е.Герасимов   \n",
       "6399              Я.Хальпукова (псевдоним Яна Мартынец)   \n",
       "6485                                   А.Новокреповская   \n",
       "6494                                          И.Долгина   \n",
       "6497                                       А.Сайфуллина   \n",
       "6498                                             О.Мичи   \n",
       "6499                                      Е.Севастьянов   \n",
       "6507                 Я.Лаптев (псевдоним Яков Раскалов)   \n",
       "6511                                          Д.Кабаков   \n",
       "6638                                          Т.Пинская   \n",
       "6639       В.Максимов, В.Степанов, Г.Киракосян, О.Штром   \n",
       "6662                                          М.Архипов   \n",
       "6722                                            Н.Савко   \n",
       "\n",
       "                             age_restriction  refundable_support  \\\n",
       "1293         «16+» - для детей старше 16 лет                 NaN   \n",
       "4441  «0+» - для любой зрительской аудитории                 NaN   \n",
       "6105             «18+» - запрещено для детей                 NaN   \n",
       "6181           «6+» - для детей старше 6 лет                 NaN   \n",
       "6379         «12+» - для детей старше 12 лет                 NaN   \n",
       "6380         «12+» - для детей старше 12 лет                 NaN   \n",
       "6399         «12+» - для детей старше 12 лет                 NaN   \n",
       "6485           «6+» - для детей старше 6 лет                 NaN   \n",
       "6494         «12+» - для детей старше 12 лет                 NaN   \n",
       "6497         «12+» - для детей старше 12 лет                 NaN   \n",
       "6498             «18+» - запрещено для детей                 NaN   \n",
       "6499             «18+» - запрещено для детей                 NaN   \n",
       "6507             «18+» - запрещено для детей                 NaN   \n",
       "6511         «12+» - для детей старше 12 лет                 NaN   \n",
       "6638           «6+» - для детей старше 6 лет                 NaN   \n",
       "6639         «16+» - для детей старше 16 лет                 NaN   \n",
       "6662         «12+» - для детей старше 12 лет                 NaN   \n",
       "6722         «16+» - для детей старше 16 лет                 NaN   \n",
       "\n",
       "      nonrefundable_support  budget financing_source  ratings  \\\n",
       "1293                    NaN     NaN              NaN      7.3   \n",
       "4441                    NaN     NaN              NaN      4.0   \n",
       "6105                    NaN     NaN              NaN      NaN   \n",
       "6181                    NaN     NaN              NaN      NaN   \n",
       "6379                    NaN     NaN              NaN      NaN   \n",
       "6380                    NaN     NaN              NaN      NaN   \n",
       "6399                    NaN     NaN              NaN      NaN   \n",
       "6485                    NaN     NaN              NaN      6.9   \n",
       "6494                    NaN     NaN              NaN      NaN   \n",
       "6497                    NaN     NaN              NaN      NaN   \n",
       "6498                    NaN     NaN              NaN      7.9   \n",
       "6499                    NaN     NaN              NaN      NaN   \n",
       "6507                    NaN     NaN              NaN      NaN   \n",
       "6511                    NaN     NaN              NaN      NaN   \n",
       "6638                    NaN     NaN              NaN      NaN   \n",
       "6639                    NaN     NaN              NaN      NaN   \n",
       "6662                    NaN     NaN              NaN      6.1   \n",
       "6722                    NaN     NaN              NaN      NaN   \n",
       "\n",
       "                          genres  box_office  \n",
       "1293                     комедия         NaN  \n",
       "4441          мультфильм,комедия         NaN  \n",
       "6105                         NaN         NaN  \n",
       "6181                         NaN         NaN  \n",
       "6379                         NaN         NaN  \n",
       "6380                         NaN         NaN  \n",
       "6399                         NaN     41225.0  \n",
       "6485     драма,криминал,детектив         NaN  \n",
       "6494                         NaN         NaN  \n",
       "6497                         NaN         NaN  \n",
       "6498   фантастика,боевик,триллер         NaN  \n",
       "6499                         NaN         NaN  \n",
       "6507                         NaN         NaN  \n",
       "6511                         NaN         NaN  \n",
       "6638                         NaN         NaN  \n",
       "6639                         NaN         NaN  \n",
       "6662  короткометражка,фантастика         NaN  \n",
       "6722                         NaN         NaN  "
      ]
     },
     "execution_count": 12,
     "metadata": {},
     "output_type": "execute_result"
    }
   ],
   "source": [
    "df.query('film_studio.isna()')"
   ]
  },
  {
   "cell_type": "markdown",
   "id": "3ed1fce3",
   "metadata": {},
   "source": [
    "**Вывод** - Возмоно пропуски связаны с тем, что данная информация не обязательна для заполнения, или это фильмф снятые самостоятельно. Заполняю пропуски значением - Неизвестная студия. Проверяем количество пропусков."
   ]
  },
  {
   "cell_type": "code",
   "execution_count": 13,
   "id": "5b6aa27c",
   "metadata": {},
   "outputs": [
    {
     "data": {
      "text/plain": [
       "0"
      ]
     },
     "execution_count": 13,
     "metadata": {},
     "output_type": "execute_result"
    }
   ],
   "source": [
    "df.loc[df['film_studio'].isna(), 'film_studio'] = 'Неизвестная студия'\n",
    "df['film_studio'].isna().sum()"
   ]
  },
  {
   "cell_type": "markdown",
   "id": "3f53e9d6",
   "metadata": {},
   "source": [
    "**Исследуем пропуски в столбце production_country**"
   ]
  },
  {
   "cell_type": "code",
   "execution_count": 14,
   "id": "4dec26a3",
   "metadata": {},
   "outputs": [
    {
     "data": {
      "text/html": [
       "<div>\n",
       "<style scoped>\n",
       "    .dataframe tbody tr th:only-of-type {\n",
       "        vertical-align: middle;\n",
       "    }\n",
       "\n",
       "    .dataframe tbody tr th {\n",
       "        vertical-align: top;\n",
       "    }\n",
       "\n",
       "    .dataframe thead th {\n",
       "        text-align: right;\n",
       "    }\n",
       "</style>\n",
       "<table border=\"1\" class=\"dataframe\">\n",
       "  <thead>\n",
       "    <tr style=\"text-align: right;\">\n",
       "      <th></th>\n",
       "      <th>title</th>\n",
       "      <th>puNumber</th>\n",
       "      <th>show_start_date</th>\n",
       "      <th>type</th>\n",
       "      <th>film_studio</th>\n",
       "      <th>production_country</th>\n",
       "      <th>director</th>\n",
       "      <th>producer</th>\n",
       "      <th>age_restriction</th>\n",
       "      <th>refundable_support</th>\n",
       "      <th>nonrefundable_support</th>\n",
       "      <th>budget</th>\n",
       "      <th>financing_source</th>\n",
       "      <th>ratings</th>\n",
       "      <th>genres</th>\n",
       "      <th>box_office</th>\n",
       "    </tr>\n",
       "  </thead>\n",
       "  <tbody>\n",
       "    <tr>\n",
       "      <th>3186</th>\n",
       "      <td>Детский юмористический киножурнал \"Ералаш. Ну ...</td>\n",
       "      <td>111001216</td>\n",
       "      <td>2016-02-09 12:00:00+00:00</td>\n",
       "      <td>Художественный</td>\n",
       "      <td>ООО \"Продюсерский центр ЕРАЛАШ\"</td>\n",
       "      <td>NaN</td>\n",
       "      <td>Р.Светлов, И.Магитон, А.Арутюнян, Л.Мирский, А...</td>\n",
       "      <td>ООО \"Продюсерский центр ЕРАЛАШ\"</td>\n",
       "      <td>«0+» - для любой зрительской аудитории</td>\n",
       "      <td>NaN</td>\n",
       "      <td>NaN</td>\n",
       "      <td>NaN</td>\n",
       "      <td>NaN</td>\n",
       "      <td>7.2</td>\n",
       "      <td>детский,комедия</td>\n",
       "      <td>194527.0</td>\n",
       "    </tr>\n",
       "    <tr>\n",
       "      <th>4441</th>\n",
       "      <td>Мульт личности. Выпуск 5</td>\n",
       "      <td>214000410</td>\n",
       "      <td>2010-01-25 12:00:00+00:00</td>\n",
       "      <td>Художественный</td>\n",
       "      <td>Неизвестная студия</td>\n",
       "      <td>NaN</td>\n",
       "      <td>NaN</td>\n",
       "      <td>NaN</td>\n",
       "      <td>«0+» - для любой зрительской аудитории</td>\n",
       "      <td>NaN</td>\n",
       "      <td>NaN</td>\n",
       "      <td>NaN</td>\n",
       "      <td>NaN</td>\n",
       "      <td>4.0</td>\n",
       "      <td>мультфильм,комедия</td>\n",
       "      <td>NaN</td>\n",
       "    </tr>\n",
       "  </tbody>\n",
       "</table>\n",
       "</div>"
      ],
      "text/plain": [
       "                                                  title   puNumber  \\\n",
       "3186  Детский юмористический киножурнал \"Ералаш. Ну ...  111001216   \n",
       "4441                           Мульт личности. Выпуск 5  214000410   \n",
       "\n",
       "               show_start_date            type  \\\n",
       "3186 2016-02-09 12:00:00+00:00  Художественный   \n",
       "4441 2010-01-25 12:00:00+00:00  Художественный   \n",
       "\n",
       "                          film_studio production_country  \\\n",
       "3186  ООО \"Продюсерский центр ЕРАЛАШ\"                NaN   \n",
       "4441               Неизвестная студия                NaN   \n",
       "\n",
       "                                               director  \\\n",
       "3186  Р.Светлов, И.Магитон, А.Арутюнян, Л.Мирский, А...   \n",
       "4441                                                NaN   \n",
       "\n",
       "                             producer                         age_restriction  \\\n",
       "3186  ООО \"Продюсерский центр ЕРАЛАШ\"  «0+» - для любой зрительской аудитории   \n",
       "4441                              NaN  «0+» - для любой зрительской аудитории   \n",
       "\n",
       "      refundable_support  nonrefundable_support  budget financing_source  \\\n",
       "3186                 NaN                    NaN     NaN              NaN   \n",
       "4441                 NaN                    NaN     NaN              NaN   \n",
       "\n",
       "      ratings              genres  box_office  \n",
       "3186      7.2     детский,комедия    194527.0  \n",
       "4441      4.0  мультфильм,комедия         NaN  "
      ]
     },
     "execution_count": 14,
     "metadata": {},
     "output_type": "execute_result"
    }
   ],
   "source": [
    "df.query('production_country.isna()')"
   ]
  },
  {
   "cell_type": "markdown",
   "id": "5eeb427b",
   "metadata": {},
   "source": [
    "**Вывод** - Данные фильмы произведены в России, поэтому заменяем пропуски на Россию"
   ]
  },
  {
   "cell_type": "code",
   "execution_count": 15,
   "id": "078cac95",
   "metadata": {},
   "outputs": [
    {
     "data": {
      "text/plain": [
       "0"
      ]
     },
     "execution_count": 15,
     "metadata": {},
     "output_type": "execute_result"
    }
   ],
   "source": [
    "df.loc[df['production_country'].isna(), 'production_country'] = 'Россия'\n",
    "df['production_country'].isna().sum()"
   ]
  },
  {
   "cell_type": "markdown",
   "id": "edfa3dca",
   "metadata": {},
   "source": [
    "**Исследуем пропуски в столбце director**"
   ]
  },
  {
   "cell_type": "code",
   "execution_count": 16,
   "id": "e4023781",
   "metadata": {},
   "outputs": [
    {
     "data": {
      "text/html": [
       "<div>\n",
       "<style scoped>\n",
       "    .dataframe tbody tr th:only-of-type {\n",
       "        vertical-align: middle;\n",
       "    }\n",
       "\n",
       "    .dataframe tbody tr th {\n",
       "        vertical-align: top;\n",
       "    }\n",
       "\n",
       "    .dataframe thead th {\n",
       "        text-align: right;\n",
       "    }\n",
       "</style>\n",
       "<table border=\"1\" class=\"dataframe\">\n",
       "  <thead>\n",
       "    <tr style=\"text-align: right;\">\n",
       "      <th></th>\n",
       "      <th>title</th>\n",
       "      <th>puNumber</th>\n",
       "      <th>show_start_date</th>\n",
       "      <th>type</th>\n",
       "      <th>film_studio</th>\n",
       "      <th>production_country</th>\n",
       "      <th>director</th>\n",
       "      <th>producer</th>\n",
       "      <th>age_restriction</th>\n",
       "      <th>refundable_support</th>\n",
       "      <th>nonrefundable_support</th>\n",
       "      <th>budget</th>\n",
       "      <th>financing_source</th>\n",
       "      <th>ratings</th>\n",
       "      <th>genres</th>\n",
       "      <th>box_office</th>\n",
       "    </tr>\n",
       "  </thead>\n",
       "  <tbody>\n",
       "    <tr>\n",
       "      <th>764</th>\n",
       "      <td>Три звезды. Концерт в Waldbuhne Theater, Берли...</td>\n",
       "      <td>126003512</td>\n",
       "      <td>2012-12-04 12:00:00+00:00</td>\n",
       "      <td>Прочие</td>\n",
       "      <td>Райзинг Алтернатив</td>\n",
       "      <td>Великобритания</td>\n",
       "      <td>NaN</td>\n",
       "      <td>Вальдбюне Театр</td>\n",
       "      <td>«0+» - для любой зрительской аудитории</td>\n",
       "      <td>NaN</td>\n",
       "      <td>NaN</td>\n",
       "      <td>NaN</td>\n",
       "      <td>NaN</td>\n",
       "      <td>NaN</td>\n",
       "      <td>NaN</td>\n",
       "      <td>44350.0</td>\n",
       "    </tr>\n",
       "    <tr>\n",
       "      <th>1735</th>\n",
       "      <td>Помпеи. Британский музей</td>\n",
       "      <td>126003413</td>\n",
       "      <td>2013-09-11 12:00:00+00:00</td>\n",
       "      <td>Прочие</td>\n",
       "      <td>МортуСкрин, Британский музей</td>\n",
       "      <td>Великобритания</td>\n",
       "      <td>NaN</td>\n",
       "      <td>Британский музей</td>\n",
       "      <td>«0+» - для любой зрительской аудитории</td>\n",
       "      <td>NaN</td>\n",
       "      <td>NaN</td>\n",
       "      <td>NaN</td>\n",
       "      <td>NaN</td>\n",
       "      <td>NaN</td>\n",
       "      <td>NaN</td>\n",
       "      <td>NaN</td>\n",
       "    </tr>\n",
       "    <tr>\n",
       "      <th>3840</th>\n",
       "      <td>Зур концерт (Большой концерт).</td>\n",
       "      <td>217027010</td>\n",
       "      <td>2010-06-24 12:00:00+00:00</td>\n",
       "      <td>Художественный</td>\n",
       "      <td>ООО \"Барс Рекордс\"</td>\n",
       "      <td>Россия</td>\n",
       "      <td>NaN</td>\n",
       "      <td>NaN</td>\n",
       "      <td>«12+» - для детей старше 12 лет</td>\n",
       "      <td>NaN</td>\n",
       "      <td>NaN</td>\n",
       "      <td>NaN</td>\n",
       "      <td>NaN</td>\n",
       "      <td>NaN</td>\n",
       "      <td>NaN</td>\n",
       "      <td>NaN</td>\n",
       "    </tr>\n",
       "    <tr>\n",
       "      <th>4052</th>\n",
       "      <td>Ганс Сэйфуллин \"Авылым чишмэлэре. Ганс Сэйфулл...</td>\n",
       "      <td>217017310</td>\n",
       "      <td>2010-04-22 12:00:00+00:00</td>\n",
       "      <td>Художественный</td>\n",
       "      <td>ООО \"Барс-Рекордс\"</td>\n",
       "      <td>Россия</td>\n",
       "      <td>NaN</td>\n",
       "      <td>NaN</td>\n",
       "      <td>«0+» - для любой зрительской аудитории</td>\n",
       "      <td>NaN</td>\n",
       "      <td>NaN</td>\n",
       "      <td>NaN</td>\n",
       "      <td>NaN</td>\n",
       "      <td>NaN</td>\n",
       "      <td>NaN</td>\n",
       "      <td>NaN</td>\n",
       "    </tr>\n",
       "    <tr>\n",
       "      <th>4298</th>\n",
       "      <td>Изге Вэли (Святой Валентин)</td>\n",
       "      <td>217020610</td>\n",
       "      <td>2010-05-20 12:00:00+00:00</td>\n",
       "      <td>Художественный</td>\n",
       "      <td>ООО \"Барс Рекордс\"</td>\n",
       "      <td>Россия</td>\n",
       "      <td>NaN</td>\n",
       "      <td>NaN</td>\n",
       "      <td>«12+» - для детей старше 12 лет</td>\n",
       "      <td>NaN</td>\n",
       "      <td>NaN</td>\n",
       "      <td>NaN</td>\n",
       "      <td>NaN</td>\n",
       "      <td>NaN</td>\n",
       "      <td>NaN</td>\n",
       "      <td>NaN</td>\n",
       "    </tr>\n",
       "    <tr>\n",
       "      <th>4415</th>\n",
       "      <td>Bon Jovi. The Circle Tour</td>\n",
       "      <td>126001710</td>\n",
       "      <td>2010-11-11 12:00:00+00:00</td>\n",
       "      <td>Прочие</td>\n",
       "      <td>Эншутц Интертейнмент Груп</td>\n",
       "      <td>США</td>\n",
       "      <td>NaN</td>\n",
       "      <td>Эншутц Интертейнмент Груп</td>\n",
       "      <td>«0+» - для любой зрительской аудитории</td>\n",
       "      <td>NaN</td>\n",
       "      <td>NaN</td>\n",
       "      <td>NaN</td>\n",
       "      <td>NaN</td>\n",
       "      <td>7.9</td>\n",
       "      <td>концерт,музыка</td>\n",
       "      <td>NaN</td>\n",
       "    </tr>\n",
       "    <tr>\n",
       "      <th>4441</th>\n",
       "      <td>Мульт личности. Выпуск 5</td>\n",
       "      <td>214000410</td>\n",
       "      <td>2010-01-25 12:00:00+00:00</td>\n",
       "      <td>Художественный</td>\n",
       "      <td>Неизвестная студия</td>\n",
       "      <td>Россия</td>\n",
       "      <td>NaN</td>\n",
       "      <td>NaN</td>\n",
       "      <td>«0+» - для любой зрительской аудитории</td>\n",
       "      <td>NaN</td>\n",
       "      <td>NaN</td>\n",
       "      <td>NaN</td>\n",
       "      <td>NaN</td>\n",
       "      <td>4.0</td>\n",
       "      <td>мультфильм,комедия</td>\n",
       "      <td>NaN</td>\n",
       "    </tr>\n",
       "    <tr>\n",
       "      <th>4923</th>\n",
       "      <td>Георг Фридрих Гендель. Мессия. Оратория. Корол...</td>\n",
       "      <td>126001111</td>\n",
       "      <td>2011-04-25 12:00:00+00:00</td>\n",
       "      <td>Прочие</td>\n",
       "      <td>Опус Арт</td>\n",
       "      <td>Великобритания</td>\n",
       "      <td>NaN</td>\n",
       "      <td>Короевский колледж Кембриджа</td>\n",
       "      <td>«0+» - для любой зрительской аудитории</td>\n",
       "      <td>NaN</td>\n",
       "      <td>NaN</td>\n",
       "      <td>NaN</td>\n",
       "      <td>NaN</td>\n",
       "      <td>NaN</td>\n",
       "      <td>NaN</td>\n",
       "      <td>NaN</td>\n",
       "    </tr>\n",
       "    <tr>\n",
       "      <th>4942</th>\n",
       "      <td>Питер Гэбриэл и New Blood Orchestra 3D</td>\n",
       "      <td>126002711</td>\n",
       "      <td>2011-11-11 12:00:00+00:00</td>\n",
       "      <td>Прочие</td>\n",
       "      <td>Омниверс Визион</td>\n",
       "      <td>Великобритания</td>\n",
       "      <td>NaN</td>\n",
       "      <td>Омниверс Визион</td>\n",
       "      <td>«0+» - для любой зрительской аудитории</td>\n",
       "      <td>NaN</td>\n",
       "      <td>NaN</td>\n",
       "      <td>NaN</td>\n",
       "      <td>NaN</td>\n",
       "      <td>6.7</td>\n",
       "      <td>концерт,музыка</td>\n",
       "      <td>NaN</td>\n",
       "    </tr>\n",
       "  </tbody>\n",
       "</table>\n",
       "</div>"
      ],
      "text/plain": [
       "                                                  title   puNumber  \\\n",
       "764   Три звезды. Концерт в Waldbuhne Theater, Берли...  126003512   \n",
       "1735                           Помпеи. Британский музей  126003413   \n",
       "3840                     Зур концерт (Большой концерт).  217027010   \n",
       "4052  Ганс Сэйфуллин \"Авылым чишмэлэре. Ганс Сэйфулл...  217017310   \n",
       "4298                        Изге Вэли (Святой Валентин)  217020610   \n",
       "4415                          Bon Jovi. The Circle Tour  126001710   \n",
       "4441                           Мульт личности. Выпуск 5  214000410   \n",
       "4923  Георг Фридрих Гендель. Мессия. Оратория. Корол...  126001111   \n",
       "4942             Питер Гэбриэл и New Blood Orchestra 3D  126002711   \n",
       "\n",
       "               show_start_date            type                   film_studio  \\\n",
       "764  2012-12-04 12:00:00+00:00          Прочие            Райзинг Алтернатив   \n",
       "1735 2013-09-11 12:00:00+00:00          Прочие  МортуСкрин, Британский музей   \n",
       "3840 2010-06-24 12:00:00+00:00  Художественный            ООО \"Барс Рекордс\"   \n",
       "4052 2010-04-22 12:00:00+00:00  Художественный            ООО \"Барс-Рекордс\"   \n",
       "4298 2010-05-20 12:00:00+00:00  Художественный            ООО \"Барс Рекордс\"   \n",
       "4415 2010-11-11 12:00:00+00:00          Прочие     Эншутц Интертейнмент Груп   \n",
       "4441 2010-01-25 12:00:00+00:00  Художественный            Неизвестная студия   \n",
       "4923 2011-04-25 12:00:00+00:00          Прочие                      Опус Арт   \n",
       "4942 2011-11-11 12:00:00+00:00          Прочие               Омниверс Визион   \n",
       "\n",
       "     production_country director                      producer  \\\n",
       "764      Великобритания      NaN               Вальдбюне Театр   \n",
       "1735     Великобритания      NaN              Британский музей   \n",
       "3840             Россия      NaN                           NaN   \n",
       "4052             Россия      NaN                           NaN   \n",
       "4298             Россия      NaN                           NaN   \n",
       "4415                США      NaN     Эншутц Интертейнмент Груп   \n",
       "4441             Россия      NaN                           NaN   \n",
       "4923     Великобритания      NaN  Короевский колледж Кембриджа   \n",
       "4942     Великобритания      NaN               Омниверс Визион   \n",
       "\n",
       "                             age_restriction  refundable_support  \\\n",
       "764   «0+» - для любой зрительской аудитории                 NaN   \n",
       "1735  «0+» - для любой зрительской аудитории                 NaN   \n",
       "3840         «12+» - для детей старше 12 лет                 NaN   \n",
       "4052  «0+» - для любой зрительской аудитории                 NaN   \n",
       "4298         «12+» - для детей старше 12 лет                 NaN   \n",
       "4415  «0+» - для любой зрительской аудитории                 NaN   \n",
       "4441  «0+» - для любой зрительской аудитории                 NaN   \n",
       "4923  «0+» - для любой зрительской аудитории                 NaN   \n",
       "4942  «0+» - для любой зрительской аудитории                 NaN   \n",
       "\n",
       "      nonrefundable_support  budget financing_source  ratings  \\\n",
       "764                     NaN     NaN              NaN      NaN   \n",
       "1735                    NaN     NaN              NaN      NaN   \n",
       "3840                    NaN     NaN              NaN      NaN   \n",
       "4052                    NaN     NaN              NaN      NaN   \n",
       "4298                    NaN     NaN              NaN      NaN   \n",
       "4415                    NaN     NaN              NaN      7.9   \n",
       "4441                    NaN     NaN              NaN      4.0   \n",
       "4923                    NaN     NaN              NaN      NaN   \n",
       "4942                    NaN     NaN              NaN      6.7   \n",
       "\n",
       "                  genres  box_office  \n",
       "764                  NaN     44350.0  \n",
       "1735                 NaN         NaN  \n",
       "3840                 NaN         NaN  \n",
       "4052                 NaN         NaN  \n",
       "4298                 NaN         NaN  \n",
       "4415      концерт,музыка         NaN  \n",
       "4441  мультфильм,комедия         NaN  \n",
       "4923                 NaN         NaN  \n",
       "4942      концерт,музыка         NaN  "
      ]
     },
     "execution_count": 16,
     "metadata": {},
     "output_type": "execute_result"
    }
   ],
   "source": [
    "df.query('director.isna()')"
   ]
  },
  {
   "cell_type": "markdown",
   "id": "0839aaee",
   "metadata": {},
   "source": [
    "**Вывод** - Скорее всего у данных фильмов отсутсвует режесер, т.к. его нет, в основном это концерты. Поэтому оставляю пропуски."
   ]
  },
  {
   "cell_type": "markdown",
   "id": "9828431f",
   "metadata": {},
   "source": [
    "**Исследуем пропуски в столбце producer**"
   ]
  },
  {
   "cell_type": "code",
   "execution_count": 17,
   "id": "9ef2240e",
   "metadata": {},
   "outputs": [
    {
     "data": {
      "text/html": [
       "<div>\n",
       "<style scoped>\n",
       "    .dataframe tbody tr th:only-of-type {\n",
       "        vertical-align: middle;\n",
       "    }\n",
       "\n",
       "    .dataframe tbody tr th {\n",
       "        vertical-align: top;\n",
       "    }\n",
       "\n",
       "    .dataframe thead th {\n",
       "        text-align: right;\n",
       "    }\n",
       "</style>\n",
       "<table border=\"1\" class=\"dataframe\">\n",
       "  <thead>\n",
       "    <tr style=\"text-align: right;\">\n",
       "      <th></th>\n",
       "      <th>title</th>\n",
       "      <th>puNumber</th>\n",
       "      <th>show_start_date</th>\n",
       "      <th>type</th>\n",
       "      <th>film_studio</th>\n",
       "      <th>production_country</th>\n",
       "      <th>director</th>\n",
       "      <th>producer</th>\n",
       "      <th>age_restriction</th>\n",
       "      <th>refundable_support</th>\n",
       "      <th>nonrefundable_support</th>\n",
       "      <th>budget</th>\n",
       "      <th>financing_source</th>\n",
       "      <th>ratings</th>\n",
       "      <th>genres</th>\n",
       "      <th>box_office</th>\n",
       "    </tr>\n",
       "  </thead>\n",
       "  <tbody>\n",
       "    <tr>\n",
       "      <th>1</th>\n",
       "      <td>Особо важное задание</td>\n",
       "      <td>111013716</td>\n",
       "      <td>2016-09-13 12:00:00+00:00</td>\n",
       "      <td>Художественный</td>\n",
       "      <td>Киностудия \"Мосфильм\"</td>\n",
       "      <td>СССР</td>\n",
       "      <td>Е.Матвеев</td>\n",
       "      <td>NaN</td>\n",
       "      <td>«6+» - для детей старше 6 лет</td>\n",
       "      <td>NaN</td>\n",
       "      <td>NaN</td>\n",
       "      <td>NaN</td>\n",
       "      <td>NaN</td>\n",
       "      <td>6.6</td>\n",
       "      <td>драма,военный</td>\n",
       "      <td>NaN</td>\n",
       "    </tr>\n",
       "    <tr>\n",
       "      <th>5</th>\n",
       "      <td>Остановился поезд</td>\n",
       "      <td>111013816</td>\n",
       "      <td>2016-09-13 12:00:00+00:00</td>\n",
       "      <td>Художественный</td>\n",
       "      <td>Киностудия \"Мосфильм\"</td>\n",
       "      <td>СССР</td>\n",
       "      <td>В.Абдрашитов</td>\n",
       "      <td>NaN</td>\n",
       "      <td>«6+» - для детей старше 6 лет</td>\n",
       "      <td>NaN</td>\n",
       "      <td>NaN</td>\n",
       "      <td>NaN</td>\n",
       "      <td>NaN</td>\n",
       "      <td>7.7</td>\n",
       "      <td>драма</td>\n",
       "      <td>NaN</td>\n",
       "    </tr>\n",
       "    <tr>\n",
       "      <th>6</th>\n",
       "      <td>Любовь и голуби</td>\n",
       "      <td>111007013</td>\n",
       "      <td>2013-10-18 12:00:00+00:00</td>\n",
       "      <td>Художественный</td>\n",
       "      <td>Киностудия \"Мосфильм\"</td>\n",
       "      <td>СССР</td>\n",
       "      <td>В.Меньшов</td>\n",
       "      <td>NaN</td>\n",
       "      <td>«12+» - для детей старше 12 лет</td>\n",
       "      <td>NaN</td>\n",
       "      <td>NaN</td>\n",
       "      <td>NaN</td>\n",
       "      <td>NaN</td>\n",
       "      <td>8.3</td>\n",
       "      <td>мелодрама,комедия</td>\n",
       "      <td>2700.0</td>\n",
       "    </tr>\n",
       "    <tr>\n",
       "      <th>9</th>\n",
       "      <td>Отпуск за свой счет</td>\n",
       "      <td>111019114</td>\n",
       "      <td>2014-12-01 12:00:00+00:00</td>\n",
       "      <td>Художественный</td>\n",
       "      <td>Киностудия \"Мосфильм\", Телевидение ВНР</td>\n",
       "      <td>СССР, Венгрия</td>\n",
       "      <td>В.Титов</td>\n",
       "      <td>NaN</td>\n",
       "      <td>«12+» - для детей старше 12 лет</td>\n",
       "      <td>NaN</td>\n",
       "      <td>NaN</td>\n",
       "      <td>NaN</td>\n",
       "      <td>NaN</td>\n",
       "      <td>7.8</td>\n",
       "      <td>мелодрама,комедия</td>\n",
       "      <td>NaN</td>\n",
       "    </tr>\n",
       "    <tr>\n",
       "      <th>11</th>\n",
       "      <td>Ответный ход</td>\n",
       "      <td>111019014</td>\n",
       "      <td>2014-12-01 12:00:00+00:00</td>\n",
       "      <td>Художественный</td>\n",
       "      <td>Киностудия \"Мосфильм\"</td>\n",
       "      <td>СССР</td>\n",
       "      <td>М.Туманишвили</td>\n",
       "      <td>NaN</td>\n",
       "      <td>«12+» - для детей старше 12 лет</td>\n",
       "      <td>NaN</td>\n",
       "      <td>NaN</td>\n",
       "      <td>NaN</td>\n",
       "      <td>NaN</td>\n",
       "      <td>7.8</td>\n",
       "      <td>боевик,драма,приключения</td>\n",
       "      <td>NaN</td>\n",
       "    </tr>\n",
       "  </tbody>\n",
       "</table>\n",
       "</div>"
      ],
      "text/plain": [
       "                   title   puNumber           show_start_date            type  \\\n",
       "1   Особо важное задание  111013716 2016-09-13 12:00:00+00:00  Художественный   \n",
       "5      Остановился поезд  111013816 2016-09-13 12:00:00+00:00  Художественный   \n",
       "6        Любовь и голуби  111007013 2013-10-18 12:00:00+00:00  Художественный   \n",
       "9    Отпуск за свой счет  111019114 2014-12-01 12:00:00+00:00  Художественный   \n",
       "11          Ответный ход  111019014 2014-12-01 12:00:00+00:00  Художественный   \n",
       "\n",
       "                               film_studio production_country       director  \\\n",
       "1                    Киностудия \"Мосфильм\"               СССР      Е.Матвеев   \n",
       "5                    Киностудия \"Мосфильм\"               СССР   В.Абдрашитов   \n",
       "6                    Киностудия \"Мосфильм\"               СССР      В.Меньшов   \n",
       "9   Киностудия \"Мосфильм\", Телевидение ВНР      СССР, Венгрия        В.Титов   \n",
       "11                   Киностудия \"Мосфильм\"               СССР  М.Туманишвили   \n",
       "\n",
       "   producer                  age_restriction  refundable_support  \\\n",
       "1       NaN    «6+» - для детей старше 6 лет                 NaN   \n",
       "5       NaN    «6+» - для детей старше 6 лет                 NaN   \n",
       "6       NaN  «12+» - для детей старше 12 лет                 NaN   \n",
       "9       NaN  «12+» - для детей старше 12 лет                 NaN   \n",
       "11      NaN  «12+» - для детей старше 12 лет                 NaN   \n",
       "\n",
       "    nonrefundable_support  budget financing_source  ratings  \\\n",
       "1                     NaN     NaN              NaN      6.6   \n",
       "5                     NaN     NaN              NaN      7.7   \n",
       "6                     NaN     NaN              NaN      8.3   \n",
       "9                     NaN     NaN              NaN      7.8   \n",
       "11                    NaN     NaN              NaN      7.8   \n",
       "\n",
       "                      genres  box_office  \n",
       "1              драма,военный         NaN  \n",
       "5                      драма         NaN  \n",
       "6          мелодрама,комедия      2700.0  \n",
       "9          мелодрама,комедия         NaN  \n",
       "11  боевик,драма,приключения         NaN  "
      ]
     },
     "metadata": {},
     "output_type": "display_data"
    },
    {
     "data": {
      "text/plain": [
       "array(['СССР', 'СССР, Венгрия', 'Чехословакия', 'США',\n",
       "       'Россия, Казахстан, США', 'СССР, Швеция',\n",
       "       'СССР, Франция, Англия, Куба, ГДР',\n",
       "       'СССР, ЧССР, Западный Берлин, ПНР', 'СССР, Италия',\n",
       "       'Франция - Италия - Великобритания - США', 'Чехия',\n",
       "       'СССР, Финляндия', 'Великобритания - США', 'Япония',\n",
       "       'СССР, Польша', 'СССР - Швейцария - Франция', 'Франция',\n",
       "       'Великобритания', 'Австралия', 'Италия', 'Украина',\n",
       "       'Франция-Бельгия', 'Мексика - Франция',\n",
       "       'Великобритания - Германия', 'Россия', 'Иран',\n",
       "       'Республика Узбекистан', 'Бразилия', 'Италия ', 'Франция - Россия',\n",
       "       'Индонезия', 'СССР, ФРГ, Западный Берлин',\n",
       "       'США - Канада - Афганистан - Бельгия - Франция',\n",
       "       'США - Великобритания - Германия - Новая Зеландия - Бельгия - Франция',\n",
       "       'Бельгия - Испания - Канада - Нидерланды',\n",
       "       'СССР, Венгрия, ЧССР, ГДР', 'СССР  ', 'СССР ', ' СССР ', 'СССР   ',\n",
       "       ' СССР   ', 'СССР     ', 'Индия - Мексика', 'СССР    ', ' СССР',\n",
       "       'СССР, Афганистан', 'СССР, Монголия', 'СССР, Албания',\n",
       "       'Великобритания - США - Австралия - Ирландия - Германия - Куба - Канада',\n",
       "       'Грузия', 'СССР, Румыния, Франция', 'СССР, ГДР', 'Австрия',\n",
       "       'СССР, ВНР', 'Канада', 'Корея', 'Германия-Кения',\n",
       "       'Франция-Австралия', 'Великобритания - Австрия - Германия',\n",
       "       'Франция-Грузия-Германия-Россия-Украина-Бельгия', 'США-Германия',\n",
       "       'Испания', 'Германия', 'СССР, ФРГ',\n",
       "       'Испания, Франция, Великобритания, Дания, Бельгия, Германия',\n",
       "       'Румыния, ЮАР, Иран, Франция, Канада, Великобритания', 'Индия',\n",
       "       'США - Великобритания - Италия - Израиль - Сербия - Индия', 'КНР',\n",
       "       'Польша - Франция - Испания - Бразилия - Швеция'], dtype=object)"
      ]
     },
     "execution_count": 17,
     "metadata": {},
     "output_type": "execute_result"
    }
   ],
   "source": [
    "display(df.query('producer.isna()').head())\n",
    "df.query('producer.isna()')['production_country'].unique()"
   ]
  },
  {
   "cell_type": "markdown",
   "id": "8212eca0",
   "metadata": {},
   "source": [
    "**Вывод** - Скорее всего пропуски в этом столбце обусловлены отсутсвием информации. Например, в СССР не было продюссеров у фильмов. Оставляем пропуски."
   ]
  },
  {
   "cell_type": "markdown",
   "id": "68bee3d2",
   "metadata": {},
   "source": [
    "**Вывод** - Наличие пропусков в столбцах 'refundable_support'  'nonrefundable_support' 'budget financing_source' 'budget' обусловлено тем, что в этих колонках есть информация только по тем фильмам, у которых была поддержка со стороны государства. Пропуски в столбце 'box_office' обусловлены отсутсвием информации  о номере прокатного удостьоверения и сборах в файле - mkrf_shows, поэтому при слиянии датафреймов появились пропуски.\n"
   ]
  },
  {
   "cell_type": "markdown",
   "id": "8968a8cb",
   "metadata": {},
   "source": [
    "**Исследуем пропуски в столбце genres**"
   ]
  },
  {
   "cell_type": "code",
   "execution_count": 18,
   "id": "115e1726",
   "metadata": {},
   "outputs": [
    {
     "data": {
      "text/html": [
       "<div>\n",
       "<style scoped>\n",
       "    .dataframe tbody tr th:only-of-type {\n",
       "        vertical-align: middle;\n",
       "    }\n",
       "\n",
       "    .dataframe tbody tr th {\n",
       "        vertical-align: top;\n",
       "    }\n",
       "\n",
       "    .dataframe thead th {\n",
       "        text-align: right;\n",
       "    }\n",
       "</style>\n",
       "<table border=\"1\" class=\"dataframe\">\n",
       "  <thead>\n",
       "    <tr style=\"text-align: right;\">\n",
       "      <th></th>\n",
       "      <th>title</th>\n",
       "      <th>puNumber</th>\n",
       "      <th>show_start_date</th>\n",
       "      <th>type</th>\n",
       "      <th>film_studio</th>\n",
       "      <th>production_country</th>\n",
       "      <th>director</th>\n",
       "      <th>producer</th>\n",
       "      <th>age_restriction</th>\n",
       "      <th>refundable_support</th>\n",
       "      <th>nonrefundable_support</th>\n",
       "      <th>budget</th>\n",
       "      <th>financing_source</th>\n",
       "      <th>ratings</th>\n",
       "      <th>genres</th>\n",
       "      <th>box_office</th>\n",
       "    </tr>\n",
       "  </thead>\n",
       "  <tbody>\n",
       "    <tr>\n",
       "      <th>7457</th>\n",
       "      <td>Шарнохой - жёлтый пёс</td>\n",
       "      <td>111021819</td>\n",
       "      <td>2019-12-12 12:00:00+00:00</td>\n",
       "      <td>Художественный</td>\n",
       "      <td>ООО Студия \"БурятКино\"</td>\n",
       "      <td>Россия</td>\n",
       "      <td>Б.Дышенов</td>\n",
       "      <td>Б.Дышенов</td>\n",
       "      <td>«16+» - для детей старше 16 лет</td>\n",
       "      <td>NaN</td>\n",
       "      <td>NaN</td>\n",
       "      <td>NaN</td>\n",
       "      <td>NaN</td>\n",
       "      <td>NaN</td>\n",
       "      <td>NaN</td>\n",
       "      <td>129500.00</td>\n",
       "    </tr>\n",
       "    <tr>\n",
       "      <th>7459</th>\n",
       "      <td>Эрмитаж. Сила искусства</td>\n",
       "      <td>126007819</td>\n",
       "      <td>2019-12-11 12:00:00+00:00</td>\n",
       "      <td>Прочие</td>\n",
       "      <td>3D Продуциони, Нексо Диджитал</td>\n",
       "      <td>Италия</td>\n",
       "      <td>Микеле Малли</td>\n",
       "      <td>Диди Ньокки, Франко Ди Сарро</td>\n",
       "      <td>«16+» - для детей старше 16 лет</td>\n",
       "      <td>NaN</td>\n",
       "      <td>NaN</td>\n",
       "      <td>NaN</td>\n",
       "      <td>NaN</td>\n",
       "      <td>NaN</td>\n",
       "      <td>NaN</td>\n",
       "      <td>1032821.51</td>\n",
       "    </tr>\n",
       "    <tr>\n",
       "      <th>7462</th>\n",
       "      <td>МУЛЬТ в кино. Выпуск № 109</td>\n",
       "      <td>114004919</td>\n",
       "      <td>2019-12-21 12:00:00+00:00</td>\n",
       "      <td>Анимационный</td>\n",
       "      <td>ООО \"Мульт в кино\"</td>\n",
       "      <td>Россия</td>\n",
       "      <td>П.Смирнов</td>\n",
       "      <td>П.Смирнов</td>\n",
       "      <td>«0+» - для любой зрительской аудитории</td>\n",
       "      <td>NaN</td>\n",
       "      <td>NaN</td>\n",
       "      <td>NaN</td>\n",
       "      <td>NaN</td>\n",
       "      <td>NaN</td>\n",
       "      <td>NaN</td>\n",
       "      <td>NaN</td>\n",
       "    </tr>\n",
       "    <tr>\n",
       "      <th>7467</th>\n",
       "      <td>Жёлтый клевер</td>\n",
       "      <td>111022219</td>\n",
       "      <td>2019-12-27 12:00:00+00:00</td>\n",
       "      <td>Художественный</td>\n",
       "      <td>Соломатина Людмила Леонидовна</td>\n",
       "      <td>Россия</td>\n",
       "      <td>Л.Соломатина (Томилова)</td>\n",
       "      <td>Л.Соломатина (Томилова)</td>\n",
       "      <td>«12+» - для детей старше 12 лет</td>\n",
       "      <td>NaN</td>\n",
       "      <td>NaN</td>\n",
       "      <td>NaN</td>\n",
       "      <td>NaN</td>\n",
       "      <td>NaN</td>\n",
       "      <td>NaN</td>\n",
       "      <td>NaN</td>\n",
       "    </tr>\n",
       "    <tr>\n",
       "      <th>7470</th>\n",
       "      <td>Дикие и свободные</td>\n",
       "      <td>112004819</td>\n",
       "      <td>2019-12-23 12:00:00+00:00</td>\n",
       "      <td>Документальный</td>\n",
       "      <td>АНО \"ТВ-Новости\"</td>\n",
       "      <td>Россия</td>\n",
       "      <td>Н.Карачкова</td>\n",
       "      <td>В.Сенина</td>\n",
       "      <td>«6+» - для детей старше 6 лет</td>\n",
       "      <td>NaN</td>\n",
       "      <td>NaN</td>\n",
       "      <td>NaN</td>\n",
       "      <td>NaN</td>\n",
       "      <td>NaN</td>\n",
       "      <td>NaN</td>\n",
       "      <td>NaN</td>\n",
       "    </tr>\n",
       "    <tr>\n",
       "      <th>7479</th>\n",
       "      <td>Эколав</td>\n",
       "      <td>111023219</td>\n",
       "      <td>2019-12-26 12:00:00+00:00</td>\n",
       "      <td>Художественный</td>\n",
       "      <td>ВГИК</td>\n",
       "      <td>Россия</td>\n",
       "      <td>Д.Григорьев</td>\n",
       "      <td>ВГИК</td>\n",
       "      <td>«18+» - запрещено для детей</td>\n",
       "      <td>NaN</td>\n",
       "      <td>NaN</td>\n",
       "      <td>NaN</td>\n",
       "      <td>NaN</td>\n",
       "      <td>NaN</td>\n",
       "      <td>NaN</td>\n",
       "      <td>NaN</td>\n",
       "    </tr>\n",
       "    <tr>\n",
       "      <th>7480</th>\n",
       "      <td>Акрам Хан: Родом из Карри Хауса</td>\n",
       "      <td>126007919</td>\n",
       "      <td>2019-12-23 12:00:00+00:00</td>\n",
       "      <td>Прочие</td>\n",
       "      <td>Свон Филмз</td>\n",
       "      <td>Великобритания</td>\n",
       "      <td>Ник Пойнц</td>\n",
       "      <td>Поппи Бегум, Ник Пойнц</td>\n",
       "      <td>«12+» - для детей старше 12 лет</td>\n",
       "      <td>NaN</td>\n",
       "      <td>NaN</td>\n",
       "      <td>NaN</td>\n",
       "      <td>NaN</td>\n",
       "      <td>NaN</td>\n",
       "      <td>NaN</td>\n",
       "      <td>219569.00</td>\n",
       "    </tr>\n",
       "    <tr>\n",
       "      <th>7481</th>\n",
       "      <td>Сад художника: Американский импрессионизм</td>\n",
       "      <td>126008019</td>\n",
       "      <td>2019-12-23 12:00:00+00:00</td>\n",
       "      <td>Прочие</td>\n",
       "      <td>Севен Артс Продакшнз</td>\n",
       "      <td>Великобритания</td>\n",
       "      <td>Фил Грабски</td>\n",
       "      <td>Фил Грабски</td>\n",
       "      <td>«12+» - для детей старше 12 лет</td>\n",
       "      <td>NaN</td>\n",
       "      <td>NaN</td>\n",
       "      <td>NaN</td>\n",
       "      <td>NaN</td>\n",
       "      <td>NaN</td>\n",
       "      <td>NaN</td>\n",
       "      <td>NaN</td>\n",
       "    </tr>\n",
       "    <tr>\n",
       "      <th>7483</th>\n",
       "      <td>Щенячий патруль: Скорей спешим на помощь!</td>\n",
       "      <td>124010819</td>\n",
       "      <td>2019-12-28 12:00:00+00:00</td>\n",
       "      <td>Художественный</td>\n",
       "      <td>Никелодеон Анимейшн Студиос, Спин Мастер</td>\n",
       "      <td>США - Канада</td>\n",
       "      <td>Чарльз Е.Бастьен</td>\n",
       "      <td>Дженнифер Додж</td>\n",
       "      <td>«0+» - для любой зрительской аудитории</td>\n",
       "      <td>NaN</td>\n",
       "      <td>NaN</td>\n",
       "      <td>NaN</td>\n",
       "      <td>NaN</td>\n",
       "      <td>NaN</td>\n",
       "      <td>NaN</td>\n",
       "      <td>NaN</td>\n",
       "    </tr>\n",
       "    <tr>\n",
       "      <th>7484</th>\n",
       "      <td>Машины песенки. Серия \"Испанские мотивы\"</td>\n",
       "      <td>124010619</td>\n",
       "      <td>2019-12-30 12:00:00+00:00</td>\n",
       "      <td>Анимационный</td>\n",
       "      <td>Анимаккорд Лтд., ООО Студия \"АНИМАККОРД\"</td>\n",
       "      <td>Республика Кипр, Россия</td>\n",
       "      <td>А.Беляев</td>\n",
       "      <td>Д.Ловейко</td>\n",
       "      <td>«0+» - для любой зрительской аудитории</td>\n",
       "      <td>NaN</td>\n",
       "      <td>NaN</td>\n",
       "      <td>NaN</td>\n",
       "      <td>NaN</td>\n",
       "      <td>NaN</td>\n",
       "      <td>NaN</td>\n",
       "      <td>NaN</td>\n",
       "    </tr>\n",
       "  </tbody>\n",
       "</table>\n",
       "</div>"
      ],
      "text/plain": [
       "                                          title   puNumber  \\\n",
       "7457                      Шарнохой - жёлтый пёс  111021819   \n",
       "7459                    Эрмитаж. Сила искусства  126007819   \n",
       "7462                 МУЛЬТ в кино. Выпуск № 109  114004919   \n",
       "7467                              Жёлтый клевер  111022219   \n",
       "7470                          Дикие и свободные  112004819   \n",
       "7479                                     Эколав  111023219   \n",
       "7480            Акрам Хан: Родом из Карри Хауса  126007919   \n",
       "7481  Сад художника: Американский импрессионизм  126008019   \n",
       "7483  Щенячий патруль: Скорей спешим на помощь!  124010819   \n",
       "7484   Машины песенки. Серия \"Испанские мотивы\"  124010619   \n",
       "\n",
       "               show_start_date             type  \\\n",
       "7457 2019-12-12 12:00:00+00:00   Художественный   \n",
       "7459 2019-12-11 12:00:00+00:00           Прочие   \n",
       "7462 2019-12-21 12:00:00+00:00     Анимационный   \n",
       "7467 2019-12-27 12:00:00+00:00   Художественный   \n",
       "7470 2019-12-23 12:00:00+00:00   Документальный   \n",
       "7479 2019-12-26 12:00:00+00:00   Художественный   \n",
       "7480 2019-12-23 12:00:00+00:00           Прочие   \n",
       "7481 2019-12-23 12:00:00+00:00           Прочие   \n",
       "7483 2019-12-28 12:00:00+00:00   Художественный   \n",
       "7484 2019-12-30 12:00:00+00:00     Анимационный   \n",
       "\n",
       "                                   film_studio       production_country  \\\n",
       "7457                    ООО Студия \"БурятКино\"                   Россия   \n",
       "7459             3D Продуциони, Нексо Диджитал                   Италия   \n",
       "7462                       ООО \"Мульт в кино\"                    Россия   \n",
       "7467             Соломатина Людмила Леонидовна                   Россия   \n",
       "7470                          АНО \"ТВ-Новости\"                   Россия   \n",
       "7479                                      ВГИК                   Россия   \n",
       "7480                                Свон Филмз           Великобритания   \n",
       "7481                      Севен Артс Продакшнз           Великобритания   \n",
       "7483  Никелодеон Анимейшн Студиос, Спин Мастер             США - Канада   \n",
       "7484  Анимаккорд Лтд., ООО Студия \"АНИМАККОРД\"  Республика Кипр, Россия   \n",
       "\n",
       "                     director                      producer  \\\n",
       "7457                Б.Дышенов                     Б.Дышенов   \n",
       "7459             Микеле Малли  Диди Ньокки, Франко Ди Сарро   \n",
       "7462                П.Смирнов                     П.Смирнов   \n",
       "7467  Л.Соломатина (Томилова)       Л.Соломатина (Томилова)   \n",
       "7470              Н.Карачкова                      В.Сенина   \n",
       "7479              Д.Григорьев                          ВГИК   \n",
       "7480                Ник Пойнц        Поппи Бегум, Ник Пойнц   \n",
       "7481              Фил Грабски                   Фил Грабски   \n",
       "7483         Чарльз Е.Бастьен                Дженнифер Додж   \n",
       "7484                 А.Беляев                     Д.Ловейко   \n",
       "\n",
       "                             age_restriction  refundable_support  \\\n",
       "7457         «16+» - для детей старше 16 лет                 NaN   \n",
       "7459         «16+» - для детей старше 16 лет                 NaN   \n",
       "7462  «0+» - для любой зрительской аудитории                 NaN   \n",
       "7467         «12+» - для детей старше 12 лет                 NaN   \n",
       "7470           «6+» - для детей старше 6 лет                 NaN   \n",
       "7479             «18+» - запрещено для детей                 NaN   \n",
       "7480         «12+» - для детей старше 12 лет                 NaN   \n",
       "7481         «12+» - для детей старше 12 лет                 NaN   \n",
       "7483  «0+» - для любой зрительской аудитории                 NaN   \n",
       "7484  «0+» - для любой зрительской аудитории                 NaN   \n",
       "\n",
       "      nonrefundable_support  budget financing_source  ratings genres  \\\n",
       "7457                    NaN     NaN              NaN      NaN    NaN   \n",
       "7459                    NaN     NaN              NaN      NaN    NaN   \n",
       "7462                    NaN     NaN              NaN      NaN    NaN   \n",
       "7467                    NaN     NaN              NaN      NaN    NaN   \n",
       "7470                    NaN     NaN              NaN      NaN    NaN   \n",
       "7479                    NaN     NaN              NaN      NaN    NaN   \n",
       "7480                    NaN     NaN              NaN      NaN    NaN   \n",
       "7481                    NaN     NaN              NaN      NaN    NaN   \n",
       "7483                    NaN     NaN              NaN      NaN    NaN   \n",
       "7484                    NaN     NaN              NaN      NaN    NaN   \n",
       "\n",
       "      box_office  \n",
       "7457   129500.00  \n",
       "7459  1032821.51  \n",
       "7462         NaN  \n",
       "7467         NaN  \n",
       "7470         NaN  \n",
       "7479         NaN  \n",
       "7480   219569.00  \n",
       "7481         NaN  \n",
       "7483         NaN  \n",
       "7484         NaN  "
      ]
     },
     "metadata": {},
     "output_type": "display_data"
    }
   ],
   "source": [
    "display(df.query('genres.isna()').tail(10))"
   ]
  },
  {
   "cell_type": "markdown",
   "id": "49dfc071",
   "metadata": {},
   "source": [
    "**Исследуем пропуски в столбце ratings**"
   ]
  },
  {
   "cell_type": "code",
   "execution_count": 19,
   "id": "6aea3429",
   "metadata": {},
   "outputs": [
    {
     "data": {
      "text/html": [
       "<div>\n",
       "<style scoped>\n",
       "    .dataframe tbody tr th:only-of-type {\n",
       "        vertical-align: middle;\n",
       "    }\n",
       "\n",
       "    .dataframe tbody tr th {\n",
       "        vertical-align: top;\n",
       "    }\n",
       "\n",
       "    .dataframe thead th {\n",
       "        text-align: right;\n",
       "    }\n",
       "</style>\n",
       "<table border=\"1\" class=\"dataframe\">\n",
       "  <thead>\n",
       "    <tr style=\"text-align: right;\">\n",
       "      <th></th>\n",
       "      <th>title</th>\n",
       "      <th>puNumber</th>\n",
       "      <th>show_start_date</th>\n",
       "      <th>type</th>\n",
       "      <th>film_studio</th>\n",
       "      <th>production_country</th>\n",
       "      <th>director</th>\n",
       "      <th>producer</th>\n",
       "      <th>age_restriction</th>\n",
       "      <th>refundable_support</th>\n",
       "      <th>nonrefundable_support</th>\n",
       "      <th>budget</th>\n",
       "      <th>financing_source</th>\n",
       "      <th>ratings</th>\n",
       "      <th>genres</th>\n",
       "      <th>box_office</th>\n",
       "    </tr>\n",
       "  </thead>\n",
       "  <tbody>\n",
       "    <tr>\n",
       "      <th>7457</th>\n",
       "      <td>Шарнохой - жёлтый пёс</td>\n",
       "      <td>111021819</td>\n",
       "      <td>2019-12-12 12:00:00+00:00</td>\n",
       "      <td>Художественный</td>\n",
       "      <td>ООО Студия \"БурятКино\"</td>\n",
       "      <td>Россия</td>\n",
       "      <td>Б.Дышенов</td>\n",
       "      <td>Б.Дышенов</td>\n",
       "      <td>«16+» - для детей старше 16 лет</td>\n",
       "      <td>NaN</td>\n",
       "      <td>NaN</td>\n",
       "      <td>NaN</td>\n",
       "      <td>NaN</td>\n",
       "      <td>NaN</td>\n",
       "      <td>NaN</td>\n",
       "      <td>129500.00</td>\n",
       "    </tr>\n",
       "    <tr>\n",
       "      <th>7459</th>\n",
       "      <td>Эрмитаж. Сила искусства</td>\n",
       "      <td>126007819</td>\n",
       "      <td>2019-12-11 12:00:00+00:00</td>\n",
       "      <td>Прочие</td>\n",
       "      <td>3D Продуциони, Нексо Диджитал</td>\n",
       "      <td>Италия</td>\n",
       "      <td>Микеле Малли</td>\n",
       "      <td>Диди Ньокки, Франко Ди Сарро</td>\n",
       "      <td>«16+» - для детей старше 16 лет</td>\n",
       "      <td>NaN</td>\n",
       "      <td>NaN</td>\n",
       "      <td>NaN</td>\n",
       "      <td>NaN</td>\n",
       "      <td>NaN</td>\n",
       "      <td>NaN</td>\n",
       "      <td>1032821.51</td>\n",
       "    </tr>\n",
       "    <tr>\n",
       "      <th>7462</th>\n",
       "      <td>МУЛЬТ в кино. Выпуск № 109</td>\n",
       "      <td>114004919</td>\n",
       "      <td>2019-12-21 12:00:00+00:00</td>\n",
       "      <td>Анимационный</td>\n",
       "      <td>ООО \"Мульт в кино\"</td>\n",
       "      <td>Россия</td>\n",
       "      <td>П.Смирнов</td>\n",
       "      <td>П.Смирнов</td>\n",
       "      <td>«0+» - для любой зрительской аудитории</td>\n",
       "      <td>NaN</td>\n",
       "      <td>NaN</td>\n",
       "      <td>NaN</td>\n",
       "      <td>NaN</td>\n",
       "      <td>NaN</td>\n",
       "      <td>NaN</td>\n",
       "      <td>NaN</td>\n",
       "    </tr>\n",
       "    <tr>\n",
       "      <th>7467</th>\n",
       "      <td>Жёлтый клевер</td>\n",
       "      <td>111022219</td>\n",
       "      <td>2019-12-27 12:00:00+00:00</td>\n",
       "      <td>Художественный</td>\n",
       "      <td>Соломатина Людмила Леонидовна</td>\n",
       "      <td>Россия</td>\n",
       "      <td>Л.Соломатина (Томилова)</td>\n",
       "      <td>Л.Соломатина (Томилова)</td>\n",
       "      <td>«12+» - для детей старше 12 лет</td>\n",
       "      <td>NaN</td>\n",
       "      <td>NaN</td>\n",
       "      <td>NaN</td>\n",
       "      <td>NaN</td>\n",
       "      <td>NaN</td>\n",
       "      <td>NaN</td>\n",
       "      <td>NaN</td>\n",
       "    </tr>\n",
       "    <tr>\n",
       "      <th>7470</th>\n",
       "      <td>Дикие и свободные</td>\n",
       "      <td>112004819</td>\n",
       "      <td>2019-12-23 12:00:00+00:00</td>\n",
       "      <td>Документальный</td>\n",
       "      <td>АНО \"ТВ-Новости\"</td>\n",
       "      <td>Россия</td>\n",
       "      <td>Н.Карачкова</td>\n",
       "      <td>В.Сенина</td>\n",
       "      <td>«6+» - для детей старше 6 лет</td>\n",
       "      <td>NaN</td>\n",
       "      <td>NaN</td>\n",
       "      <td>NaN</td>\n",
       "      <td>NaN</td>\n",
       "      <td>NaN</td>\n",
       "      <td>NaN</td>\n",
       "      <td>NaN</td>\n",
       "    </tr>\n",
       "    <tr>\n",
       "      <th>7479</th>\n",
       "      <td>Эколав</td>\n",
       "      <td>111023219</td>\n",
       "      <td>2019-12-26 12:00:00+00:00</td>\n",
       "      <td>Художественный</td>\n",
       "      <td>ВГИК</td>\n",
       "      <td>Россия</td>\n",
       "      <td>Д.Григорьев</td>\n",
       "      <td>ВГИК</td>\n",
       "      <td>«18+» - запрещено для детей</td>\n",
       "      <td>NaN</td>\n",
       "      <td>NaN</td>\n",
       "      <td>NaN</td>\n",
       "      <td>NaN</td>\n",
       "      <td>NaN</td>\n",
       "      <td>NaN</td>\n",
       "      <td>NaN</td>\n",
       "    </tr>\n",
       "    <tr>\n",
       "      <th>7480</th>\n",
       "      <td>Акрам Хан: Родом из Карри Хауса</td>\n",
       "      <td>126007919</td>\n",
       "      <td>2019-12-23 12:00:00+00:00</td>\n",
       "      <td>Прочие</td>\n",
       "      <td>Свон Филмз</td>\n",
       "      <td>Великобритания</td>\n",
       "      <td>Ник Пойнц</td>\n",
       "      <td>Поппи Бегум, Ник Пойнц</td>\n",
       "      <td>«12+» - для детей старше 12 лет</td>\n",
       "      <td>NaN</td>\n",
       "      <td>NaN</td>\n",
       "      <td>NaN</td>\n",
       "      <td>NaN</td>\n",
       "      <td>NaN</td>\n",
       "      <td>NaN</td>\n",
       "      <td>219569.00</td>\n",
       "    </tr>\n",
       "    <tr>\n",
       "      <th>7481</th>\n",
       "      <td>Сад художника: Американский импрессионизм</td>\n",
       "      <td>126008019</td>\n",
       "      <td>2019-12-23 12:00:00+00:00</td>\n",
       "      <td>Прочие</td>\n",
       "      <td>Севен Артс Продакшнз</td>\n",
       "      <td>Великобритания</td>\n",
       "      <td>Фил Грабски</td>\n",
       "      <td>Фил Грабски</td>\n",
       "      <td>«12+» - для детей старше 12 лет</td>\n",
       "      <td>NaN</td>\n",
       "      <td>NaN</td>\n",
       "      <td>NaN</td>\n",
       "      <td>NaN</td>\n",
       "      <td>NaN</td>\n",
       "      <td>NaN</td>\n",
       "      <td>NaN</td>\n",
       "    </tr>\n",
       "    <tr>\n",
       "      <th>7483</th>\n",
       "      <td>Щенячий патруль: Скорей спешим на помощь!</td>\n",
       "      <td>124010819</td>\n",
       "      <td>2019-12-28 12:00:00+00:00</td>\n",
       "      <td>Художественный</td>\n",
       "      <td>Никелодеон Анимейшн Студиос, Спин Мастер</td>\n",
       "      <td>США - Канада</td>\n",
       "      <td>Чарльз Е.Бастьен</td>\n",
       "      <td>Дженнифер Додж</td>\n",
       "      <td>«0+» - для любой зрительской аудитории</td>\n",
       "      <td>NaN</td>\n",
       "      <td>NaN</td>\n",
       "      <td>NaN</td>\n",
       "      <td>NaN</td>\n",
       "      <td>NaN</td>\n",
       "      <td>NaN</td>\n",
       "      <td>NaN</td>\n",
       "    </tr>\n",
       "    <tr>\n",
       "      <th>7484</th>\n",
       "      <td>Машины песенки. Серия \"Испанские мотивы\"</td>\n",
       "      <td>124010619</td>\n",
       "      <td>2019-12-30 12:00:00+00:00</td>\n",
       "      <td>Анимационный</td>\n",
       "      <td>Анимаккорд Лтд., ООО Студия \"АНИМАККОРД\"</td>\n",
       "      <td>Республика Кипр, Россия</td>\n",
       "      <td>А.Беляев</td>\n",
       "      <td>Д.Ловейко</td>\n",
       "      <td>«0+» - для любой зрительской аудитории</td>\n",
       "      <td>NaN</td>\n",
       "      <td>NaN</td>\n",
       "      <td>NaN</td>\n",
       "      <td>NaN</td>\n",
       "      <td>NaN</td>\n",
       "      <td>NaN</td>\n",
       "      <td>NaN</td>\n",
       "    </tr>\n",
       "  </tbody>\n",
       "</table>\n",
       "</div>"
      ],
      "text/plain": [
       "                                          title   puNumber  \\\n",
       "7457                      Шарнохой - жёлтый пёс  111021819   \n",
       "7459                    Эрмитаж. Сила искусства  126007819   \n",
       "7462                 МУЛЬТ в кино. Выпуск № 109  114004919   \n",
       "7467                              Жёлтый клевер  111022219   \n",
       "7470                          Дикие и свободные  112004819   \n",
       "7479                                     Эколав  111023219   \n",
       "7480            Акрам Хан: Родом из Карри Хауса  126007919   \n",
       "7481  Сад художника: Американский импрессионизм  126008019   \n",
       "7483  Щенячий патруль: Скорей спешим на помощь!  124010819   \n",
       "7484   Машины песенки. Серия \"Испанские мотивы\"  124010619   \n",
       "\n",
       "               show_start_date             type  \\\n",
       "7457 2019-12-12 12:00:00+00:00   Художественный   \n",
       "7459 2019-12-11 12:00:00+00:00           Прочие   \n",
       "7462 2019-12-21 12:00:00+00:00     Анимационный   \n",
       "7467 2019-12-27 12:00:00+00:00   Художественный   \n",
       "7470 2019-12-23 12:00:00+00:00   Документальный   \n",
       "7479 2019-12-26 12:00:00+00:00   Художественный   \n",
       "7480 2019-12-23 12:00:00+00:00           Прочие   \n",
       "7481 2019-12-23 12:00:00+00:00           Прочие   \n",
       "7483 2019-12-28 12:00:00+00:00   Художественный   \n",
       "7484 2019-12-30 12:00:00+00:00     Анимационный   \n",
       "\n",
       "                                   film_studio       production_country  \\\n",
       "7457                    ООО Студия \"БурятКино\"                   Россия   \n",
       "7459             3D Продуциони, Нексо Диджитал                   Италия   \n",
       "7462                       ООО \"Мульт в кино\"                    Россия   \n",
       "7467             Соломатина Людмила Леонидовна                   Россия   \n",
       "7470                          АНО \"ТВ-Новости\"                   Россия   \n",
       "7479                                      ВГИК                   Россия   \n",
       "7480                                Свон Филмз           Великобритания   \n",
       "7481                      Севен Артс Продакшнз           Великобритания   \n",
       "7483  Никелодеон Анимейшн Студиос, Спин Мастер             США - Канада   \n",
       "7484  Анимаккорд Лтд., ООО Студия \"АНИМАККОРД\"  Республика Кипр, Россия   \n",
       "\n",
       "                     director                      producer  \\\n",
       "7457                Б.Дышенов                     Б.Дышенов   \n",
       "7459             Микеле Малли  Диди Ньокки, Франко Ди Сарро   \n",
       "7462                П.Смирнов                     П.Смирнов   \n",
       "7467  Л.Соломатина (Томилова)       Л.Соломатина (Томилова)   \n",
       "7470              Н.Карачкова                      В.Сенина   \n",
       "7479              Д.Григорьев                          ВГИК   \n",
       "7480                Ник Пойнц        Поппи Бегум, Ник Пойнц   \n",
       "7481              Фил Грабски                   Фил Грабски   \n",
       "7483         Чарльз Е.Бастьен                Дженнифер Додж   \n",
       "7484                 А.Беляев                     Д.Ловейко   \n",
       "\n",
       "                             age_restriction  refundable_support  \\\n",
       "7457         «16+» - для детей старше 16 лет                 NaN   \n",
       "7459         «16+» - для детей старше 16 лет                 NaN   \n",
       "7462  «0+» - для любой зрительской аудитории                 NaN   \n",
       "7467         «12+» - для детей старше 12 лет                 NaN   \n",
       "7470           «6+» - для детей старше 6 лет                 NaN   \n",
       "7479             «18+» - запрещено для детей                 NaN   \n",
       "7480         «12+» - для детей старше 12 лет                 NaN   \n",
       "7481         «12+» - для детей старше 12 лет                 NaN   \n",
       "7483  «0+» - для любой зрительской аудитории                 NaN   \n",
       "7484  «0+» - для любой зрительской аудитории                 NaN   \n",
       "\n",
       "      nonrefundable_support  budget financing_source  ratings genres  \\\n",
       "7457                    NaN     NaN              NaN      NaN    NaN   \n",
       "7459                    NaN     NaN              NaN      NaN    NaN   \n",
       "7462                    NaN     NaN              NaN      NaN    NaN   \n",
       "7467                    NaN     NaN              NaN      NaN    NaN   \n",
       "7470                    NaN     NaN              NaN      NaN    NaN   \n",
       "7479                    NaN     NaN              NaN      NaN    NaN   \n",
       "7480                    NaN     NaN              NaN      NaN    NaN   \n",
       "7481                    NaN     NaN              NaN      NaN    NaN   \n",
       "7483                    NaN     NaN              NaN      NaN    NaN   \n",
       "7484                    NaN     NaN              NaN      NaN    NaN   \n",
       "\n",
       "      box_office  \n",
       "7457   129500.00  \n",
       "7459  1032821.51  \n",
       "7462         NaN  \n",
       "7467         NaN  \n",
       "7470         NaN  \n",
       "7479         NaN  \n",
       "7480   219569.00  \n",
       "7481         NaN  \n",
       "7483         NaN  \n",
       "7484         NaN  "
      ]
     },
     "metadata": {},
     "output_type": "display_data"
    }
   ],
   "source": [
    "display(df.query('ratings.isna()').tail(10))"
   ]
  },
  {
   "cell_type": "markdown",
   "id": "6a434121",
   "metadata": {},
   "source": [
    "**Вывод** - Скорее всего данные о рейтинге и жанре подтягивались в файл из другого источника данных (скорре всего из Кинопоиска), либо произошел технический сбой и данные не подтянулись или этих данных изначачльно не было в данном источнике. Оставляем пропуски."
   ]
  },
  {
   "cell_type": "markdown",
   "id": "b4ca9a11",
   "metadata": {},
   "source": [
    "**Проверяем есть ли в датафрейме явные дубликаты. Явных дубликатов нет. **"
   ]
  },
  {
   "cell_type": "code",
   "execution_count": 20,
   "id": "8501cce3",
   "metadata": {},
   "outputs": [
    {
     "data": {
      "text/plain": [
       "0"
      ]
     },
     "execution_count": 20,
     "metadata": {},
     "output_type": "execute_result"
    }
   ],
   "source": [
    "df.duplicated().sum()"
   ]
  },
  {
   "cell_type": "markdown",
   "id": "772013b6",
   "metadata": {},
   "source": [
    "**Проверяем наличие явных и неявных дубликатов и исследуем данные в столбцах title и puNumber**"
   ]
  },
  {
   "cell_type": "code",
   "execution_count": 21,
   "id": "d3c1fc6e",
   "metadata": {},
   "outputs": [
    {
     "name": "stdout",
     "output_type": "stream",
     "text": [
      "День святого Валентина_                                        5\n",
      "Непокоренный.                                                  4\n",
      "Не брать живым /По книге Раджива Чандрасекарана/               4\n",
      "Красавчик-2                                                    4\n",
      "Гарри Поттер и Дары Смерти - Часть 1/По роману Дж.К.Ролинг/    4\n",
      "                                                              ..\n",
      "Клара и волшебный дракон                                       1\n",
      "Охота жить                                                     1\n",
      "Судная ночь. Начало                                            1\n",
      "Пришествие дьявола                                             1\n",
      "Мой любимый динозавр                                           1\n",
      "Name: title, Length: 6772, dtype: int64\n"
     ]
    },
    {
     "data": {
      "text/plain": [
       "714"
      ]
     },
     "execution_count": 21,
     "metadata": {},
     "output_type": "execute_result"
    }
   ],
   "source": [
    "print(df['title'].value_counts())\n",
    "df['title'].duplicated().sum()"
   ]
  },
  {
   "cell_type": "code",
   "execution_count": 22,
   "id": "13a392d3",
   "metadata": {},
   "outputs": [
    {
     "data": {
      "text/html": [
       "<div>\n",
       "<style scoped>\n",
       "    .dataframe tbody tr th:only-of-type {\n",
       "        vertical-align: middle;\n",
       "    }\n",
       "\n",
       "    .dataframe tbody tr th {\n",
       "        vertical-align: top;\n",
       "    }\n",
       "\n",
       "    .dataframe thead th {\n",
       "        text-align: right;\n",
       "    }\n",
       "</style>\n",
       "<table border=\"1\" class=\"dataframe\">\n",
       "  <thead>\n",
       "    <tr style=\"text-align: right;\">\n",
       "      <th></th>\n",
       "      <th>title</th>\n",
       "      <th>puNumber</th>\n",
       "      <th>show_start_date</th>\n",
       "      <th>type</th>\n",
       "      <th>film_studio</th>\n",
       "      <th>production_country</th>\n",
       "      <th>director</th>\n",
       "      <th>producer</th>\n",
       "      <th>age_restriction</th>\n",
       "      <th>refundable_support</th>\n",
       "      <th>nonrefundable_support</th>\n",
       "      <th>budget</th>\n",
       "      <th>financing_source</th>\n",
       "      <th>ratings</th>\n",
       "      <th>genres</th>\n",
       "      <th>box_office</th>\n",
       "    </tr>\n",
       "  </thead>\n",
       "  <tbody>\n",
       "    <tr>\n",
       "      <th>3902</th>\n",
       "      <td>День святого Валентина_</td>\n",
       "      <td>221083810</td>\n",
       "      <td>2010-07-15 12:00:00+00:00</td>\n",
       "      <td>Художественный</td>\n",
       "      <td>Уорнер Бразерс, Нью Лайн Синема, Уэйн Райс, Ка...</td>\n",
       "      <td>США</td>\n",
       "      <td>Гарри Маршалл</td>\n",
       "      <td>Сэмюэл Дж.Браун</td>\n",
       "      <td>«16+» - для детей старше 16 лет</td>\n",
       "      <td>NaN</td>\n",
       "      <td>NaN</td>\n",
       "      <td>NaN</td>\n",
       "      <td>NaN</td>\n",
       "      <td>6.7</td>\n",
       "      <td>мелодрама,комедия</td>\n",
       "      <td>NaN</td>\n",
       "    </tr>\n",
       "    <tr>\n",
       "      <th>3991</th>\n",
       "      <td>День святого Валентина_</td>\n",
       "      <td>221068010</td>\n",
       "      <td>2010-05-14 12:00:00+00:00</td>\n",
       "      <td>Художественный</td>\n",
       "      <td>Уорнер Бразерс, Нью Лайн Синема, Уэйн Райс, Ка...</td>\n",
       "      <td>США</td>\n",
       "      <td>Гарри Маршалл</td>\n",
       "      <td>Сэмюэл Дж.Браун</td>\n",
       "      <td>«16+» - для детей старше 16 лет</td>\n",
       "      <td>NaN</td>\n",
       "      <td>NaN</td>\n",
       "      <td>NaN</td>\n",
       "      <td>NaN</td>\n",
       "      <td>6.7</td>\n",
       "      <td>мелодрама,комедия</td>\n",
       "      <td>NaN</td>\n",
       "    </tr>\n",
       "    <tr>\n",
       "      <th>4070</th>\n",
       "      <td>День святого Валентина_</td>\n",
       "      <td>121002210</td>\n",
       "      <td>2010-02-03 12:00:00+00:00</td>\n",
       "      <td>Художественный</td>\n",
       "      <td>Уорнер Бразерс, Нью Лайн Синема, Уэйн Райс, Ка...</td>\n",
       "      <td>США</td>\n",
       "      <td>Гарри Маршалл</td>\n",
       "      <td>Сэмюэл Дж.Браун</td>\n",
       "      <td>«16+» - для детей старше 16 лет</td>\n",
       "      <td>NaN</td>\n",
       "      <td>NaN</td>\n",
       "      <td>NaN</td>\n",
       "      <td>NaN</td>\n",
       "      <td>6.7</td>\n",
       "      <td>мелодрама,комедия</td>\n",
       "      <td>NaN</td>\n",
       "    </tr>\n",
       "    <tr>\n",
       "      <th>4196</th>\n",
       "      <td>День святого Валентина_</td>\n",
       "      <td>221136210</td>\n",
       "      <td>2010-11-30 12:00:00+00:00</td>\n",
       "      <td>Художественный</td>\n",
       "      <td>Уорнер Бразерс, Нью Лайн Синема, Уэйн Райс, Ка...</td>\n",
       "      <td>США</td>\n",
       "      <td>Гарри Маршалл</td>\n",
       "      <td>Сэмюэл Дж.Браун</td>\n",
       "      <td>«16+» - для детей старше 16 лет</td>\n",
       "      <td>NaN</td>\n",
       "      <td>NaN</td>\n",
       "      <td>NaN</td>\n",
       "      <td>NaN</td>\n",
       "      <td>6.7</td>\n",
       "      <td>мелодрама,комедия</td>\n",
       "      <td>NaN</td>\n",
       "    </tr>\n",
       "    <tr>\n",
       "      <th>5070</th>\n",
       "      <td>День святого Валентина_</td>\n",
       "      <td>221066410</td>\n",
       "      <td>2010-06-01 12:00:00+00:00</td>\n",
       "      <td>Художественный</td>\n",
       "      <td>Уорнер Бразерс, Нью Лайн Синема, Уэйн Райс, Ка...</td>\n",
       "      <td>США</td>\n",
       "      <td>Гарри Маршалл</td>\n",
       "      <td>Сэмюэл Дж.Браун</td>\n",
       "      <td>«16+» - для детей старше 16 лет</td>\n",
       "      <td>NaN</td>\n",
       "      <td>NaN</td>\n",
       "      <td>NaN</td>\n",
       "      <td>NaN</td>\n",
       "      <td>6.7</td>\n",
       "      <td>мелодрама,комедия</td>\n",
       "      <td>NaN</td>\n",
       "    </tr>\n",
       "  </tbody>\n",
       "</table>\n",
       "</div>"
      ],
      "text/plain": [
       "                        title   puNumber           show_start_date  \\\n",
       "3902  День святого Валентина_  221083810 2010-07-15 12:00:00+00:00   \n",
       "3991  День святого Валентина_  221068010 2010-05-14 12:00:00+00:00   \n",
       "4070  День святого Валентина_  121002210 2010-02-03 12:00:00+00:00   \n",
       "4196  День святого Валентина_  221136210 2010-11-30 12:00:00+00:00   \n",
       "5070  День святого Валентина_  221066410 2010-06-01 12:00:00+00:00   \n",
       "\n",
       "                type                                        film_studio  \\\n",
       "3902  Художественный  Уорнер Бразерс, Нью Лайн Синема, Уэйн Райс, Ка...   \n",
       "3991  Художественный  Уорнер Бразерс, Нью Лайн Синема, Уэйн Райс, Ка...   \n",
       "4070  Художественный  Уорнер Бразерс, Нью Лайн Синема, Уэйн Райс, Ка...   \n",
       "4196  Художественный  Уорнер Бразерс, Нью Лайн Синема, Уэйн Райс, Ка...   \n",
       "5070  Художественный  Уорнер Бразерс, Нью Лайн Синема, Уэйн Райс, Ка...   \n",
       "\n",
       "     production_country       director         producer  \\\n",
       "3902                США  Гарри Маршалл  Сэмюэл Дж.Браун   \n",
       "3991                США  Гарри Маршалл  Сэмюэл Дж.Браун   \n",
       "4070                США  Гарри Маршалл  Сэмюэл Дж.Браун   \n",
       "4196                США  Гарри Маршалл  Сэмюэл Дж.Браун   \n",
       "5070                США  Гарри Маршалл  Сэмюэл Дж.Браун   \n",
       "\n",
       "                      age_restriction  refundable_support  \\\n",
       "3902  «16+» - для детей старше 16 лет                 NaN   \n",
       "3991  «16+» - для детей старше 16 лет                 NaN   \n",
       "4070  «16+» - для детей старше 16 лет                 NaN   \n",
       "4196  «16+» - для детей старше 16 лет                 NaN   \n",
       "5070  «16+» - для детей старше 16 лет                 NaN   \n",
       "\n",
       "      nonrefundable_support  budget financing_source  ratings  \\\n",
       "3902                    NaN     NaN              NaN      6.7   \n",
       "3991                    NaN     NaN              NaN      6.7   \n",
       "4070                    NaN     NaN              NaN      6.7   \n",
       "4196                    NaN     NaN              NaN      6.7   \n",
       "5070                    NaN     NaN              NaN      6.7   \n",
       "\n",
       "                 genres  box_office  \n",
       "3902  мелодрама,комедия         NaN  \n",
       "3991  мелодрама,комедия         NaN  \n",
       "4070  мелодрама,комедия         NaN  \n",
       "4196  мелодрама,комедия         NaN  \n",
       "5070  мелодрама,комедия         NaN  "
      ]
     },
     "execution_count": 22,
     "metadata": {},
     "output_type": "execute_result"
    }
   ],
   "source": [
    "df.query('title == \"День святого Валентина_\"')"
   ]
  },
  {
   "cell_type": "code",
   "execution_count": 23,
   "id": "f7a28387",
   "metadata": {},
   "outputs": [
    {
     "name": "stdout",
     "output_type": "stream",
     "text": [
      "2\n"
     ]
    },
    {
     "data": {
      "text/html": [
       "<div>\n",
       "<style scoped>\n",
       "    .dataframe tbody tr th:only-of-type {\n",
       "        vertical-align: middle;\n",
       "    }\n",
       "\n",
       "    .dataframe tbody tr th {\n",
       "        vertical-align: top;\n",
       "    }\n",
       "\n",
       "    .dataframe thead th {\n",
       "        text-align: right;\n",
       "    }\n",
       "</style>\n",
       "<table border=\"1\" class=\"dataframe\">\n",
       "  <thead>\n",
       "    <tr style=\"text-align: right;\">\n",
       "      <th></th>\n",
       "      <th>title</th>\n",
       "      <th>puNumber</th>\n",
       "      <th>show_start_date</th>\n",
       "      <th>type</th>\n",
       "      <th>film_studio</th>\n",
       "      <th>production_country</th>\n",
       "      <th>director</th>\n",
       "      <th>producer</th>\n",
       "      <th>age_restriction</th>\n",
       "      <th>refundable_support</th>\n",
       "      <th>nonrefundable_support</th>\n",
       "      <th>budget</th>\n",
       "      <th>financing_source</th>\n",
       "      <th>ratings</th>\n",
       "      <th>genres</th>\n",
       "      <th>box_office</th>\n",
       "    </tr>\n",
       "  </thead>\n",
       "  <tbody>\n",
       "    <tr>\n",
       "      <th>4639</th>\n",
       "      <td>Иоанна - женщина на папском престоле /По роман...</td>\n",
       "      <td>221154310</td>\n",
       "      <td>2010-12-17 12:00:00+00:00</td>\n",
       "      <td>Художественный</td>\n",
       "      <td>Константин Фильм, А Эр Ди Дегето Фильм, Дюне ...</td>\n",
       "      <td>Германия - Великобритания - Италия - Испания</td>\n",
       "      <td>Зенке Вортманн</td>\n",
       "      <td>Оливер Бербен, Дорис Д.Хайнце, Фарук Элтан</td>\n",
       "      <td>«16+» - для детей старше 16 лет</td>\n",
       "      <td>NaN</td>\n",
       "      <td>NaN</td>\n",
       "      <td>NaN</td>\n",
       "      <td>NaN</td>\n",
       "      <td>7.6</td>\n",
       "      <td>драма,мелодрама,история</td>\n",
       "      <td>NaN</td>\n",
       "    </tr>\n",
       "    <tr>\n",
       "      <th>5068</th>\n",
       "      <td>Анализируй то!</td>\n",
       "      <td>221054410</td>\n",
       "      <td>2010-05-25 12:00:00+00:00</td>\n",
       "      <td>Художественный</td>\n",
       "      <td>Уорнер Бразерс, Виллидж Роадшоу Пикчерз, Эн-Пи...</td>\n",
       "      <td>США</td>\n",
       "      <td>Гарольд Реймис</td>\n",
       "      <td>Джейн Розенталь, Паул Уэйнстейн</td>\n",
       "      <td>«12+» - для детей старше 12 лет</td>\n",
       "      <td>NaN</td>\n",
       "      <td>NaN</td>\n",
       "      <td>NaN</td>\n",
       "      <td>NaN</td>\n",
       "      <td>6.8</td>\n",
       "      <td>комедия,криминал</td>\n",
       "      <td>NaN</td>\n",
       "    </tr>\n",
       "  </tbody>\n",
       "</table>\n",
       "</div>"
      ],
      "text/plain": [
       "                                                  title   puNumber  \\\n",
       "4639  Иоанна - женщина на папском престоле /По роман...  221154310   \n",
       "5068                                     Анализируй то!  221054410   \n",
       "\n",
       "               show_start_date            type  \\\n",
       "4639 2010-12-17 12:00:00+00:00  Художественный   \n",
       "5068 2010-05-25 12:00:00+00:00  Художественный   \n",
       "\n",
       "                                            film_studio  \\\n",
       "4639   Константин Фильм, А Эр Ди Дегето Фильм, Дюне ...   \n",
       "5068  Уорнер Бразерс, Виллидж Роадшоу Пикчерз, Эн-Пи...   \n",
       "\n",
       "                                production_country        director  \\\n",
       "4639  Германия - Великобритания - Италия - Испания  Зенке Вортманн   \n",
       "5068                                           США  Гарольд Реймис   \n",
       "\n",
       "                                        producer  \\\n",
       "4639  Оливер Бербен, Дорис Д.Хайнце, Фарук Элтан   \n",
       "5068             Джейн Розенталь, Паул Уэйнстейн   \n",
       "\n",
       "                      age_restriction  refundable_support  \\\n",
       "4639  «16+» - для детей старше 16 лет                 NaN   \n",
       "5068  «12+» - для детей старше 12 лет                 NaN   \n",
       "\n",
       "      nonrefundable_support  budget financing_source  ratings  \\\n",
       "4639                    NaN     NaN              NaN      7.6   \n",
       "5068                    NaN     NaN              NaN      6.8   \n",
       "\n",
       "                       genres  box_office  \n",
       "4639  драма,мелодрама,история         NaN  \n",
       "5068         комедия,криминал         NaN  "
      ]
     },
     "execution_count": 23,
     "metadata": {},
     "output_type": "execute_result"
    }
   ],
   "source": [
    "print(df['puNumber'].duplicated().sum())\n",
    "duplicated_puNamber = df[df['puNumber'].duplicated()]\n",
    "duplicated_puNamber"
   ]
  },
  {
   "cell_type": "code",
   "execution_count": 24,
   "id": "f5850d44",
   "metadata": {},
   "outputs": [
    {
     "data": {
      "text/html": [
       "<div>\n",
       "<style scoped>\n",
       "    .dataframe tbody tr th:only-of-type {\n",
       "        vertical-align: middle;\n",
       "    }\n",
       "\n",
       "    .dataframe tbody tr th {\n",
       "        vertical-align: top;\n",
       "    }\n",
       "\n",
       "    .dataframe thead th {\n",
       "        text-align: right;\n",
       "    }\n",
       "</style>\n",
       "<table border=\"1\" class=\"dataframe\">\n",
       "  <thead>\n",
       "    <tr style=\"text-align: right;\">\n",
       "      <th></th>\n",
       "      <th>title</th>\n",
       "      <th>puNumber</th>\n",
       "      <th>show_start_date</th>\n",
       "      <th>type</th>\n",
       "      <th>film_studio</th>\n",
       "      <th>production_country</th>\n",
       "      <th>director</th>\n",
       "      <th>producer</th>\n",
       "      <th>age_restriction</th>\n",
       "      <th>refundable_support</th>\n",
       "      <th>nonrefundable_support</th>\n",
       "      <th>budget</th>\n",
       "      <th>financing_source</th>\n",
       "      <th>ratings</th>\n",
       "      <th>genres</th>\n",
       "      <th>box_office</th>\n",
       "    </tr>\n",
       "  </thead>\n",
       "  <tbody>\n",
       "    <tr>\n",
       "      <th>4638</th>\n",
       "      <td>Как жениться и остаться холостым</td>\n",
       "      <td>221154310</td>\n",
       "      <td>2010-12-17 12:00:00+00:00</td>\n",
       "      <td>Художественный</td>\n",
       "      <td>Ше Вам, Скрипт Ассосье, Тэ Фэ 1 Фильм Продюксь...</td>\n",
       "      <td>Франция</td>\n",
       "      <td>Эрик Лартиго</td>\n",
       "      <td>Амандин Било, Алан Шаба</td>\n",
       "      <td>«16+» - для детей старше 16 лет</td>\n",
       "      <td>NaN</td>\n",
       "      <td>NaN</td>\n",
       "      <td>NaN</td>\n",
       "      <td>NaN</td>\n",
       "      <td>7.0</td>\n",
       "      <td>мелодрама,комедия</td>\n",
       "      <td>NaN</td>\n",
       "    </tr>\n",
       "    <tr>\n",
       "      <th>4639</th>\n",
       "      <td>Иоанна - женщина на папском престоле /По роман...</td>\n",
       "      <td>221154310</td>\n",
       "      <td>2010-12-17 12:00:00+00:00</td>\n",
       "      <td>Художественный</td>\n",
       "      <td>Константин Фильм, А Эр Ди Дегето Фильм, Дюне ...</td>\n",
       "      <td>Германия - Великобритания - Италия - Испания</td>\n",
       "      <td>Зенке Вортманн</td>\n",
       "      <td>Оливер Бербен, Дорис Д.Хайнце, Фарук Элтан</td>\n",
       "      <td>«16+» - для детей старше 16 лет</td>\n",
       "      <td>NaN</td>\n",
       "      <td>NaN</td>\n",
       "      <td>NaN</td>\n",
       "      <td>NaN</td>\n",
       "      <td>7.6</td>\n",
       "      <td>драма,мелодрама,история</td>\n",
       "      <td>NaN</td>\n",
       "    </tr>\n",
       "    <tr>\n",
       "      <th>5067</th>\n",
       "      <td>Анализируй это!</td>\n",
       "      <td>221054410</td>\n",
       "      <td>2010-05-25 12:00:00+00:00</td>\n",
       "      <td>Художественный</td>\n",
       "      <td>Уорнер Бразерс, Вилладж Роудшоу Филмз ЛТД</td>\n",
       "      <td>США-Австралия</td>\n",
       "      <td>ХЭрольд Рэмис</td>\n",
       "      <td>Джейн Розенталь, Пола Уейнстейн</td>\n",
       "      <td>«16+» - для детей старше 16 лет</td>\n",
       "      <td>NaN</td>\n",
       "      <td>NaN</td>\n",
       "      <td>NaN</td>\n",
       "      <td>NaN</td>\n",
       "      <td>7.4</td>\n",
       "      <td>комедия,криминал</td>\n",
       "      <td>NaN</td>\n",
       "    </tr>\n",
       "    <tr>\n",
       "      <th>5068</th>\n",
       "      <td>Анализируй то!</td>\n",
       "      <td>221054410</td>\n",
       "      <td>2010-05-25 12:00:00+00:00</td>\n",
       "      <td>Художественный</td>\n",
       "      <td>Уорнер Бразерс, Виллидж Роадшоу Пикчерз, Эн-Пи...</td>\n",
       "      <td>США</td>\n",
       "      <td>Гарольд Реймис</td>\n",
       "      <td>Джейн Розенталь, Паул Уэйнстейн</td>\n",
       "      <td>«12+» - для детей старше 12 лет</td>\n",
       "      <td>NaN</td>\n",
       "      <td>NaN</td>\n",
       "      <td>NaN</td>\n",
       "      <td>NaN</td>\n",
       "      <td>6.8</td>\n",
       "      <td>комедия,криминал</td>\n",
       "      <td>NaN</td>\n",
       "    </tr>\n",
       "  </tbody>\n",
       "</table>\n",
       "</div>"
      ],
      "text/plain": [
       "                                                  title   puNumber  \\\n",
       "4638                   Как жениться и остаться холостым  221154310   \n",
       "4639  Иоанна - женщина на папском престоле /По роман...  221154310   \n",
       "5067                                    Анализируй это!  221054410   \n",
       "5068                                     Анализируй то!  221054410   \n",
       "\n",
       "               show_start_date            type  \\\n",
       "4638 2010-12-17 12:00:00+00:00  Художественный   \n",
       "4639 2010-12-17 12:00:00+00:00  Художественный   \n",
       "5067 2010-05-25 12:00:00+00:00  Художественный   \n",
       "5068 2010-05-25 12:00:00+00:00  Художественный   \n",
       "\n",
       "                                            film_studio  \\\n",
       "4638  Ше Вам, Скрипт Ассосье, Тэ Фэ 1 Фильм Продюксь...   \n",
       "4639   Константин Фильм, А Эр Ди Дегето Фильм, Дюне ...   \n",
       "5067          Уорнер Бразерс, Вилладж Роудшоу Филмз ЛТД   \n",
       "5068  Уорнер Бразерс, Виллидж Роадшоу Пикчерз, Эн-Пи...   \n",
       "\n",
       "                                production_country        director  \\\n",
       "4638                                       Франция    Эрик Лартиго   \n",
       "4639  Германия - Великобритания - Италия - Испания  Зенке Вортманн   \n",
       "5067                                 США-Австралия   ХЭрольд Рэмис   \n",
       "5068                                           США  Гарольд Реймис   \n",
       "\n",
       "                                        producer  \\\n",
       "4638                     Амандин Било, Алан Шаба   \n",
       "4639  Оливер Бербен, Дорис Д.Хайнце, Фарук Элтан   \n",
       "5067             Джейн Розенталь, Пола Уейнстейн   \n",
       "5068             Джейн Розенталь, Паул Уэйнстейн   \n",
       "\n",
       "                      age_restriction  refundable_support  \\\n",
       "4638  «16+» - для детей старше 16 лет                 NaN   \n",
       "4639  «16+» - для детей старше 16 лет                 NaN   \n",
       "5067  «16+» - для детей старше 16 лет                 NaN   \n",
       "5068  «12+» - для детей старше 12 лет                 NaN   \n",
       "\n",
       "      nonrefundable_support  budget financing_source  ratings  \\\n",
       "4638                    NaN     NaN              NaN      7.0   \n",
       "4639                    NaN     NaN              NaN      7.6   \n",
       "5067                    NaN     NaN              NaN      7.4   \n",
       "5068                    NaN     NaN              NaN      6.8   \n",
       "\n",
       "                       genres  box_office  \n",
       "4638        мелодрама,комедия         NaN  \n",
       "4639  драма,мелодрама,история         NaN  \n",
       "5067         комедия,криминал         NaN  \n",
       "5068         комедия,криминал         NaN  "
      ]
     },
     "execution_count": 24,
     "metadata": {},
     "output_type": "execute_result"
    }
   ],
   "source": [
    "df.query('puNumber == 221154310 or puNumber == 221054410')"
   ]
  },
  {
   "cell_type": "markdown",
   "id": "95f12ecb",
   "metadata": {},
   "source": [
    "**Вывод** - Проанализировала два столбца название фильма и номер прокатного удостоверения. Дубликатов в столбце title много, но при этом номера прокатных удостоверений повторяются толькол 2 раза. Следовательно наличие дублей в названии фильмов обусловлено разными датами премьеры фильма. Дубликатов в столбце puNumber всего 2: 221154310 - тут какая-то ошибка при вводе данных, т.к. два разных фильма с одним номером прокатного удостоверения (оставляю оба, т.к. не понятно, где неправильный);  221054410 - тут речь идет об одном и том же названии фильма, но видимо разные версии фильма (оставляю оба)."
   ]
  },
  {
   "cell_type": "markdown",
   "id": "82353af1",
   "metadata": {},
   "source": [
    "**Проверяю наличие неявных дубликатов в столбце type.**"
   ]
  },
  {
   "cell_type": "code",
   "execution_count": 25,
   "id": "9e0947b6",
   "metadata": {},
   "outputs": [
    {
     "data": {
      "text/plain": [
       "array(['Художественный', 'Анимационный', 'Прочие', 'Документальный',\n",
       "       'Научно-популярный', ' Художественный', ' Анимационный',\n",
       "       'Музыкально-развлекательный'], dtype=object)"
      ]
     },
     "execution_count": 25,
     "metadata": {},
     "output_type": "execute_result"
    }
   ],
   "source": [
    "df['type'].unique()"
   ]
  },
  {
   "cell_type": "markdown",
   "id": "0f91b4a6",
   "metadata": {},
   "source": [
    "**Удаляем неявные дубликаты в столбце type и проверяем**"
   ]
  },
  {
   "cell_type": "code",
   "execution_count": 26,
   "id": "71d7e25b",
   "metadata": {},
   "outputs": [
    {
     "data": {
      "text/plain": [
       "array(['Художественный', 'Анимационный', 'Прочие', 'Документальный',\n",
       "       'Научно-популярный', 'Музыкально-развлекательный'], dtype=object)"
      ]
     },
     "execution_count": 26,
     "metadata": {},
     "output_type": "execute_result"
    }
   ],
   "source": [
    "dictionary2 = {' Художественный':'Художественный', ' Анимационный': 'Анимационный'} \n",
    "\n",
    "df['type'] = df['type'].replace(dictionary2, regex=True )\n",
    "df['type'].unique()"
   ]
  },
  {
   "cell_type": "markdown",
   "id": "748a9ee0",
   "metadata": {},
   "source": [
    "**Проверяю наличие явных и неявных дубликатов и исследуем данные в столбце film_studio**"
   ]
  },
  {
   "cell_type": "code",
   "execution_count": 27,
   "id": "7772a114",
   "metadata": {},
   "outputs": [
    {
     "name": "stdout",
     "output_type": "stream",
     "text": [
      "1995\n"
     ]
    },
    {
     "data": {
      "text/plain": [
       "array(['Тачстоун Пикчерз, Кобальт Пикчерз, Бикон Пикчерз, Тиг Продакшнз',\n",
       "       'Киностудия \"Мосфильм\"',\n",
       "       'Юниверсал Пикчерз, Кикстарт Продакшнз, Марк Платт Продакшнз, Рилейтивити Медиа, Спайгласс Интертейнмент, Стилкин Филмз, Топ Кау Продакшнз',\n",
       "       ...,\n",
       "       'Дэниел Гродник Продакшнз, Вандерфилм Медиа Корпорэйшн, Импринт Интертейнмент, Вор Хорс Интертейнмент, Пимиента ',\n",
       "       'Никелодеон Анимейшн Студиос, Спин Мастер',\n",
       "       'Анимаккорд Лтд., ООО Студия \"АНИМАККОРД\"'], dtype=object)"
      ]
     },
     "execution_count": 27,
     "metadata": {},
     "output_type": "execute_result"
    }
   ],
   "source": [
    "print(df['film_studio'].duplicated().sum())\n",
    "df['film_studio'].unique()"
   ]
  },
  {
   "cell_type": "markdown",
   "id": "960c4414",
   "metadata": {},
   "source": [
    "**Вывод** - Дубликаты есть, они обоснованы тем, что одни и те же киностудии производят разные фильмы + один и тот же фильм появляется ни раз с разными номерами прокатных удостоверений. Проверить неявные дубликаты крайне сложно, т.к. занчений много, но скорее всего есть, т.к. одни и те же названия могут быть по разному записаны, может быть разное количество пропусков и отступов."
   ]
  },
  {
   "cell_type": "markdown",
   "id": "247d8d23",
   "metadata": {},
   "source": [
    "**Проваеряем наличие неявных дубликатов в столбце production_country и исследуем данные в нем**"
   ]
  },
  {
   "cell_type": "code",
   "execution_count": 28,
   "id": "3dc8f2de",
   "metadata": {},
   "outputs": [
    {
     "name": "stdout",
     "output_type": "stream",
     "text": [
      "950\n"
     ]
    },
    {
     "data": {
      "text/plain": [
       "array(['США', 'СССР', 'Франция', 'СССР, Венгрия',\n",
       "       'Германия-Великобритания', 'Великобритания - Италия',\n",
       "       'Чехословакия', 'США - Франция - Турция', 'Новая Зеландия',\n",
       "       'Канада - Франция - Испания', 'США-Германия',\n",
       "       'США - Великобритания', 'Великобритания', 'США - Германия',\n",
       "       'Франция - Мексика - США', 'Россия, Казахстан, США',\n",
       "       'СССР, Швеция', 'СССР, Франция, Англия, Куба, ГДР', 'Германия',\n",
       "       'Великобритания-США-Германия-КНР',\n",
       "       'СССР, ЧССР, Западный Берлин, ПНР', 'СССР, Италия', 'Гонконг, КНР',\n",
       "       'США - Франция', 'США - Япония - Франция - Великобритания',\n",
       "       'Гонконг - Сингапур - Таиланд - Великобритания', 'США-Канада',\n",
       "       'Франция - Италия - Великобритания - США', 'Франция - США',\n",
       "       'Ирландия-Великобритания-Германия', 'Чехия', 'США-Австралия',\n",
       "       'СССР, Финляндия', 'США-Франция-Великобритания-Австрия',\n",
       "       'США - Бельгия', 'США - Ирландия - Великобритания',\n",
       "       'Великобритания - США',\n",
       "       'Люксембург - Нидерланды - Испания - Великобритания - США - Италия',\n",
       "       'Великобритания - Франция - США', 'Новая Зеландия - США',\n",
       "       'США - Великобритания - Чехия',\n",
       "       'Канада - Франция - Великобритания', 'Ирландия',\n",
       "       'Великобритания - Германия - США',\n",
       "       'США - Франция - Великобритания', 'Япония', 'СССР, Польша',\n",
       "       'Франция - Испания', 'Канада-Франция', 'Германия - Италия - США',\n",
       "       'Аргентина - Бразилия', 'Дания - Швейцария - Бельгия - Франция',\n",
       "       'США - Испания', 'Германия - США',\n",
       "       'Франция - Австрия - Германия - Италия - США', 'Австрия',\n",
       "       'США - Канада - Германия', 'США - Канада',\n",
       "       'СССР - Швейцария - Франция', 'Россия - Казахстан', 'Гонконг',\n",
       "       'Италия', 'США - ОАЭ', 'Россия',\n",
       "       'США - Франция - Испания - Великобритания',\n",
       "       'Великобритания - Франция', 'США-Италия-Испания-Аргентина',\n",
       "       'Франция-Великобритания', 'КНР - Гонконг',\n",
       "       'Франция - Италия - Швейцария', 'США - Новая Зеландия',\n",
       "       'Франция - Бельгия', 'КНР', 'Германия - Великобритания - Австрия',\n",
       "       'Великобритания - Израиль - Франция - Япония - США', 'Швеция',\n",
       "       'Испания', 'Дания', 'Франция - Бельгия - Люксембург',\n",
       "       'США - Индия - ОАЭ',\n",
       "       'Германия-Канада-Великобритания-Швейцария-Франция',\n",
       "       'Мексика - Чили', 'Аргентина', 'Бразилия', 'Чили', 'Австралия',\n",
       "       'Португалия - Франция', 'США - ЮАР', 'Исландия-Ирландия-Германия',\n",
       "       'США-Индонезия', 'Южная Корея', 'Мексика - Испания - Дания - США',\n",
       "       'Великобритания-США', 'Франция - Италия', 'США-Франция',\n",
       "       'США - Венгрия - Великобритания', 'Бельгия-Франция-Италия',\n",
       "       'Чехия - Германия', 'Германия - Франция', 'США-Нидерланды',\n",
       "       'Украина', 'Великобритания - Германия', 'Франция-Бельгия',\n",
       "       'США-Франция-Испания', 'Италия - Франция', 'Канада',\n",
       "       'Швеция-Франция-Дания', 'Германия-Франция-Польша',\n",
       "       'Франция-Великобритания - Германия',\n",
       "       'США - Бразилия - Франция - Австралия - Великобритания - Германия',\n",
       "       'Германия-Австрия', 'Германия-Италия- Шри-Ланка',\n",
       "       'Великобритания - Испания',\n",
       "       'США - Великобритания - Канада - Швеция',\n",
       "       'Босния и Герцеговина - Франция - Великобритания - Германия - Словения - Бельгия - Сербия',\n",
       "       'Великобритания - Франция - Италия - США', 'США-ОАЭ',\n",
       "       'Испания - Франция', 'США-Великобритания', 'США-ЮАР',\n",
       "       'Великобритания-Австралия - США',\n",
       "       'Норвегия - Швеция - Дания - Германия', 'Норвегия', 'Швейцария',\n",
       "       'Греция - Германия - Франция', 'Норвения', 'Южная Корея - США',\n",
       "       'Чили - Франция - США', 'Австрия - Германия - Франция',\n",
       "       'Швеция - Дания', 'Великобритания - Франция - Бельгия - Италия',\n",
       "       'Франция - Германия', 'Грузия - Франция - Люксембург',\n",
       "       'США - Франция - Великобритания - Бразилия ', 'США - КНР',\n",
       "       'Мексика - Франция', 'США - Германия - Гонконг - Сингапур',\n",
       "       'Финляндия - Австрия - Россия', 'Испания - Куба',\n",
       "       'Великобритания - ЮАР', 'Великобритания - Ирландия', 'Израиль',\n",
       "       'Бразилия - Германия - Порртугалия - Франция ',\n",
       "       'Франция - Канада - Бельгия', 'Франция-Испания',\n",
       "       'Испания - Канада - Япония', 'Иран', 'Швеция-Куба',\n",
       "       'США-Великобритания-Ирландия', 'Гонконг - КНР', 'Нидерланды',\n",
       "       'Испания - Канада', 'Япония-Великобритания',\n",
       "       'Великобритания - Норвегия - Дания - Германия',\n",
       "       'Финляндия - Франция - Германия',\n",
       "       'Мексика - Франция - Нидерланды - Германия', 'США - Индия',\n",
       "       'США-Великобритания-Индия', 'США-Канада-Бельгия',\n",
       "       'Республика Узбекистан', 'Италия ', 'Турция',\n",
       "       'Сербия - Словения - Хорватия - Черногория - Македония',\n",
       "       'Киргизия', 'Германия - Нидерланды - Беларусь - Россия - Латвия',\n",
       "       'Индия', 'Нидерланды - Россия - Германия',\n",
       "       'Великобритания - Нидерланды - Франция - Хорватия',\n",
       "       'Канада - Южная Корея',\n",
       "       'Великобритания - Польша - КНР - Индия - Норвегия',\n",
       "       'Япония - Франция - США - Южная Корея - Турция',\n",
       "       'Мексика - Аргентина - Великобритания', 'Израиль - Франция',\n",
       "       'Польша - Португалия - Франция - Великобритания',\n",
       "       'Австралия - США', 'США - Великобритания ',\n",
       "       'Франция - Люксембург - Бельгия', 'Армения',\n",
       "       'Бельгия - Люксембург - Франция - Швейцария',\n",
       "       'США - Великобритания - Канада', 'Норвегия - Швеция',\n",
       "       'Канада - Франция', 'КНР - Гонконг - США',\n",
       "       'США - Сингапур - Малайзия - Индонезия', 'Германия - Россия',\n",
       "       'Япония - Канада', 'Финляндия - Дания - Германия - Ирландия',\n",
       "       'Франция - Люксембург - Германия - Бельгия - Швейцария - Великобритания ',\n",
       "       'Канада - США', 'США-Италия-Испания', 'США-Испания',\n",
       "       'США - Швейцария - Франция', 'Испания - США - Колумбия',\n",
       "       'Канада-ЮАР', 'Франция - Россия',\n",
       "       'Германия - Финляндия - Австралия', 'Дания - Швеция', 'Бельгия',\n",
       "       'Германия - Франция - Австрия', 'Франция-Индия', 'ЮАР',\n",
       "       'Франция-Перу', 'Франция - Канада', 'Республика Беларусь',\n",
       "       'Великобритания - Австрия - Франция - США',\n",
       "       'Австрия-Германия-Франция', 'США-Россия', 'Германия-США',\n",
       "       'США - Южная Корея', 'Канада - КНР',\n",
       "       'Дания - Швеция - Италия - Франция - Германия',\n",
       "       'Франция-Италия-Испания-Венгрия', 'Франция - Германия - Бельгия',\n",
       "       'Франция-Великобритания-Чехия', 'Румыния - Франция - Бельгия',\n",
       "       'Болгария - Франция - Изриль',\n",
       "       'Израиль - Германия - Польша - Бельгия - Франция - Люксембург',\n",
       "       'Россия, Германия, Франция, Бельгия', 'Индонезия',\n",
       "       'Франция - Португалия', 'Великобритания - Пуэрто-Рико',\n",
       "       'СССР, ФРГ, Западный Берлин', 'Россия, Республика Беларусь',\n",
       "       'США, Великобритания', 'Франция - Австрия', 'Бельгия-Нидерланды',\n",
       "       'Великобритания - США - Индия', 'США - Великобритания - Австралия',\n",
       "       'Канада - Франция - США - ОАЭ - Великобритания',\n",
       "       'США - Австралия - Франция',\n",
       "       'Дания-Франция-Бельгия-Германия-Великобритания',\n",
       "       'Испания - Аргентина', 'Исландия - Финляндия',\n",
       "       'Россия-Польша-Голландия-Словакия', 'Дания - Германия - Швеция',\n",
       "       'Южная Корея - США - Канада', 'Таиланд', 'США-Мальта',\n",
       "       'США -Германия',\n",
       "       'Великобритания - Германия - Франция - Кипр - США', 'Мексика',\n",
       "       'США - Великобритания - Ирландия', 'США - Украина',\n",
       "       'США - Финляндия - Испания - Великобритания - Франция',\n",
       "       'Австралия-Великобритания',\n",
       "       'США - Канада - Афганистан - Бельгия - Франция',\n",
       "       'США - Великобритания - Германия - Новая Зеландия - Бельгия - Франция',\n",
       "       'Франция-Канада',\n",
       "       'Ирландия - Финляндия - Бельгия - Великобритания - США - Швейцария',\n",
       "       'Малайзия - США', 'Германия - Италия',\n",
       "       'США - Франция - Бельгия - Италия', 'Франция - Ирландия - Швеция',\n",
       "       'Азербайджан-Россия', 'Великобритания - Италия - Швейцария',\n",
       "       'США - Германия - Великобритания',\n",
       "       'Германия - Бельгия - США -Франция', 'США-Китай', 'Чили - Испания',\n",
       "       'Франция - Швейцария', 'Канада - Испания',\n",
       "       'США - Румыния - Великобритания', 'США - Япония',\n",
       "       'США - Россия - Франция', 'Франция-США', 'Парагвай',\n",
       "       'Германия - Канада', 'США - Канада - Великобритания',\n",
       "       'Финляндия - Канада', 'Уругвай-Мексика-Германия ', 'США - Чили',\n",
       "       'Германия - Аргентина - Нидерланды - Чили',\n",
       "       'США - Канада - Индонезия', 'Армения - Казахстан', 'Финляндия',\n",
       "       'Испания - Италия - Франция',\n",
       "       'Бельгия - Испания - Канада - Нидерланды',\n",
       "       'Великобритания - Франция - Швеция - Бельгия',\n",
       "       'Мексика - Эквадор - Канада - США - Франция - Малайзия - Италия - Аргентина - Германия - Индия  ',\n",
       "       'Франция - Бенльгия', 'Индия - Великобритания',\n",
       "       'Япония - Великобритания - Франция',\n",
       "       'Испания - Уругвай - Аргентина',\n",
       "       'Франция - Италия - Бельгия - Люксембург',\n",
       "       'Франция - Украина - Грузия - Армения',\n",
       "       'Сербия - Германия - Венгрия', 'Франция-Польша', 'Франция ',\n",
       "       'Румыния-США', 'Россия-Азербайджан',\n",
       "       'США - Нидерланды - Бельгия - Венгрия - Греция - Канада',\n",
       "       'Германия - Франция - Люксембург', 'США - Россия',\n",
       "       'Великобритания - США - Франция', 'США - Австралия - Дания',\n",
       "       'Бельгия-Франция', 'США-Мексика',\n",
       "       'Норвегия - Азербайджан - Россия - Колумбия - Великобритания - Венгрия - Румыния - Франция - Грузия',\n",
       "       'СЩА', 'Бразилия - Испания', 'Россия, Франция, Латвия',\n",
       "       'Нидерланды - США - Германия - Канада - Франция - Ирландия - Великобритания',\n",
       "       'Уругвай - Колумбия', 'США - Испания - Болгария',\n",
       "       'Армения - Германия', 'США - Великобритания- Франция - Швеция',\n",
       "       'США - Мексика', 'Австралия-Турция-США', 'Швеция - Германия',\n",
       "       'Польша - Италия - Россия', 'Франция - Бразилия',\n",
       "       'США - Канада - КНР', 'СССР, Венгрия, ЧССР, ГДР',\n",
       "       'Бельгия - Германия - Люксембург', 'СССР  ', 'СССР ', ' СССР ',\n",
       "       'США - Австралия', 'Бразилия - США',\n",
       "       'США - Великобритания - Канада - КНР', 'Франция - Чили',\n",
       "       'Франция - США - Великобритания - Колумбия - Бельгия - Россия',\n",
       "       'Дания - Великобритания - ЮАР', 'СССР   ',\n",
       "       'Россия-США-Канада-Люксембург', 'Россия - Республика Кипр',\n",
       "       'Германия - США - Швеция - Франция',\n",
       "       'Великобритания-Германия-Канада-ЮАР', ' СССР   ', 'СССР     ',\n",
       "       'Ирландия, Канада',\n",
       "       'Япония - Великобритания - Швейцария - Ирландия - Дания - Франция - Польша - Австралия - Канада  ',\n",
       "       'Великобритания, Канада', 'Бельгия - США',\n",
       "       'Великобритания - США - Россия', 'Россия-Украина',\n",
       "       'Германия - США - Великобритания - Израиль', 'Канада - Германия',\n",
       "       'США- Ю.Корея', 'Индия - Мексика',\n",
       "       'Великобритания - Франция - Республика Кипр - Швейцария - США - Сербия',\n",
       "       'Испания - Аргентина - Индия - США',\n",
       "       'Норвегия - Исландия - США - Великобритания ',\n",
       "       'Турция - Германя - Франция', 'Германия - Великобритания',\n",
       "       'Австралия - Германия', 'Мексика - Испания',\n",
       "       'Великобритания - США - Германия - Бельгия',\n",
       "       'США - Чехия - Франция', 'Россия - Италия', 'Франция-Россия',\n",
       "       'Норвегия - Дания - Швеция', 'Франция - Швейцария - Германия',\n",
       "       'Грузия - Украина', 'Россия - Эстония - Финляндия - Беларусь',\n",
       "       'США - Франция - ЮАР', 'Великобритания - США - Швейцария',\n",
       "       'Канада-США', 'Мексика - Нидерланды - Германия - Франция',\n",
       "       'США - Испания - Франция', 'США - Великобритания - КНР',\n",
       "       'США-Франция-Канада',\n",
       "       'Япония, Великобритания, Австрия, Германия, Ю.Корея',\n",
       "       'Великобритания - Ирландия - США', 'Бельгия - Италия - Франция ',\n",
       "       'Швейцария-Германия-ЮАР', 'Великобритания - США - Германия',\n",
       "       'Германия - Исландия', 'Испания - США', 'СССР    ', 'Хорватия',\n",
       "       'Финляндия - Исландия - Швеция',\n",
       "       'Канада - США - Германия - Франция',\n",
       "       'США - Великобритания - Испания', 'Ирландия-Великобритания',\n",
       "       'Аргентина - Испания', 'Австрия - Германия', ' СССР',\n",
       "       'Германия - Швейцария - Франция - Южная Корея - США',\n",
       "       'Украина - Нидерланды', 'Венгрия - Германия - Швеция',\n",
       "       'Германия - Франция -  Польша - Турция - Канада - Италия - Россия ',\n",
       "       'СССР, Афганистан', 'СССР, Монголия', 'Россия-Кипр',\n",
       "       'Россия, Грузия, Испания',\n",
       "       'Великобритания - Нидерланды - Германия - Франция - Бельгия - Австрия ',\n",
       "       'Испания - Великобритания - Франция',\n",
       "       'Дания - Норвегия - Великобритания',\n",
       "       'Бельгия - Франция - Люксембург',\n",
       "       'Италия - Франция - Швейцария - Великобритания',\n",
       "       'Франция - Бельгия - Великобритания - Испания - Германия - США',\n",
       "       'Швейцария - Израиль - Франция - Великобритания',\n",
       "       'Великобритания - США - Канада - Нидерланды - Франция',\n",
       "       'Россия, Италия', 'СССР, Албания',\n",
       "       'Россия, Украина, Республика Беларусь, Литва',\n",
       "       'Финляндия - Великобритания - Германия', 'Россия, Украина, Польша',\n",
       "       'Франция - Италия - Бельгия - КНР',\n",
       "       'Германия - Бельгия - Люксембург - Ирландия', 'КНР - Сингапур',\n",
       "       'Франция - Бельгия - Великобритания - США - Нидерланды - Канада',\n",
       "       'США - Россия - Польша - Германия - Пуэрто Рико',\n",
       "       'Франция - Бельгия - Канада', 'США ', 'Мексика - США',\n",
       "       'США - Гонконг - КНР ', 'Греция - Россия',\n",
       "       'Ирландия - Дания - Бельгия - Люксембург - Франция',\n",
       "       'Эстония - Россия',\n",
       "       'Великобритания - Исландия - Испания - Швейцария - США',\n",
       "       'Австралия - Великобритания - Бельгия - Индия',\n",
       "       'Швеция - Германия - Франция - Норвегия',\n",
       "       'Нидерланды - Бельгия - Германия - Ирландия',\n",
       "       'Нидерланды - Великобритания - Бельгия',\n",
       "       'США - Колумбия - Испания', 'Франция-Испания-Бельгия-Панама',\n",
       "       'США-Великобритания-Чехия-Румыния',\n",
       "       'Аргентина - Уругвай - Россия - Германия - Франция - Нидерланды',\n",
       "       'Швеция - Франция - Норвегия - Дания',\n",
       "       'Италия-Франция-Великобритания', 'Великобритания, Франция',\n",
       "       'Австралия, США', 'Венесуэла',\n",
       "       'Великобритания - США - Австралия - Ирландия - Германия - Куба - Канада',\n",
       "       'Южная Корея - КНР',\n",
       "       'Аргентина - Мексика - Бразилия - Франция - США', 'Швеция - США',\n",
       "       'Франция - Германия - Турция - Катар', 'Франция-Китай',\n",
       "       'Россия, Германия, Великобритания',\n",
       "       'Великобритания - Италия - Испания', 'Италия - Россия',\n",
       "       'Япония - КНР - Южная Корея', 'Россия, Германия',\n",
       "       'Россия-Ирландия', 'Македония - Франция - Великобритания',\n",
       "       'Франция - Бразилия - Италия', 'Россия-США', 'Армения-Россия',\n",
       "       'Россия, Румыния', 'Франция -  Бельгия', 'Грузия-Франция',\n",
       "       'ЮАР - США', 'Великобритания-США-Франция',\n",
       "       'Великобритания - США - Германия - Канада - Австралия',\n",
       "       'США-Ирландия', 'Россия, Республика Кипр',\n",
       "       'Германия - Люксембург - Франция', 'Россия-Франция',\n",
       "       'США - Нидерланды - Финляндия - Великобритания - Италия',\n",
       "       'Республика Кипр', 'Венгрия', 'Франция - США - Норвегия - Дания',\n",
       "       'Германия - Австрия - Ирландия', 'США - Финляндия',\n",
       "       'Италия-Великобритания', 'Россия, Испания',\n",
       "       'США - Великобритания - Болгария', 'Великобритания - Люксембург',\n",
       "       'Индия - США', 'США - Канада - Россия - Франция - Чили - Ирландия',\n",
       "       'Грузия-Россия',\n",
       "       'Дания - Австрия - Ирландия - Финляндия - Норвегия - Швеция - Нидерланды',\n",
       "       'США-КНР', 'Грузия', 'Австралия - Ирландия',\n",
       "       'Великобритания - Канада', 'Италия - Аргентина - Словения ',\n",
       "       'Испания - Франция - Нидерланды - Германия - Бельгия - Великобритания - Канада',\n",
       "       'Франция - Чехия - Бельгия',\n",
       "       'Великобритания - Франция - Германия - США',\n",
       "       'Ирландия - Великобритания - Франция - США - Германия - Нидерланды',\n",
       "       'США - Канада - Япония - КНР', 'Италия-Франция',\n",
       "       'США - Великобритания - Исландия', 'Великобритания-Франция',\n",
       "       'Франция - Германия - Нидерланды', 'Иран ',\n",
       "       'Франция - Германия - Швеция - США - Чехия - Словакия - Великобритания - Нидерланды',\n",
       "       'Франция - Канада - Н.Зеландия - США - Нидерланды - Германия - Швеция - Россия',\n",
       "       'Турция - США',\n",
       "       'Великобритания - США - Канада - Бельгия - Нидерланды - Австрия - Германия',\n",
       "       'Израиль - Франция - Германия - Палестина - США - Австрия - Великобритания',\n",
       "       'Аргентина - Франция - Испания', 'СССР, Россия',\n",
       "       'Великобритания - Франция - Италия - Индия - Дания - КНР - Бангладеш - Камбоджа - Гаити - Уганда',\n",
       "       'Италия - Франция - Швейцария',\n",
       "       'Ирландия - Великобритания - Канада', 'Перу', 'США - Норвегия',\n",
       "       'Испания-Канада', 'Китай-Гонконг', 'США - Германия - КНР',\n",
       "       'Великобритания - Новая Зеландия',\n",
       "       'Франция - Дания - Швеция - КНР',\n",
       "       'США - Великобритания - Германия - Бельгия - Дания',\n",
       "       'США - Франция - Канада - Германия - Австралия - Индия',\n",
       "       'СССР, Румыния, Франция', 'СССР, ГДР', 'Австралия-Ирландия',\n",
       "       'США - Китай', 'Великобритания - Франция - Австрия - Швеция',\n",
       "       'Россия, Таджикистан', 'Нидерланды - Бельгия - Болгария',\n",
       "       'Великобритания - Канада - США', 'Франция - Бельгия - Испания',\n",
       "       'Китай-Гонконг-США', 'Франция - Великобритания', 'США - Вьетнам',\n",
       "       'США - Германия - Франция', 'Германия - Франция - Бельгия',\n",
       "       'США - Италия',\n",
       "       'Германия - Дания - Испания - Швеция - Канада - Эстония - Франция',\n",
       "       'Княжество Андорра - Украина', 'Германия - Люксембург - Бельгия',\n",
       "       'Великобритания - Россия - Украина - США',\n",
       "       'Германия - Бельгия - Люксембург - Норвегия',\n",
       "       'США - Австралия - Новая Зеландия - Великобритания',\n",
       "       'США - Франция - Канада - Великобритания', 'Испания-Колумбия',\n",
       "       'Великобритания - Чехия - Франция', 'Россия, Украина', 'Исландия',\n",
       "       'Великобритания - Франция - Венгрия',\n",
       "       'Россия, Франция, Германия, Бельгия', 'Франция - Македония',\n",
       "       'Нидерланды - Франция - Германия - Бельгия - Швеция - Великобритания',\n",
       "       'Испания - США - Великобритания - Канада', 'Германия - Австрия',\n",
       "       'Республика Казахстан',\n",
       "       'Франция - Испания - Дания - Венгрия - Швейцария', 'Франция-КНР',\n",
       "       'США - Пуэрто-Рико - Франция ', 'Мексика - Тайвань - США',\n",
       "       'Великобритания - Испания - Непал - Индия - Венгрия - Гонконг - Германия - Дания - Бахрейн',\n",
       "       'Великобритания - Аргентина - США - Франция - Россия - Испания',\n",
       "       'КНР - США', 'Италия - США', 'Финляндия - Швеция - Германия',\n",
       "       'Канада- Испания', 'Франция - Бельгия - Чехия',\n",
       "       'Франция-Бельгия-Канада', 'Франция - Германия - США',\n",
       "       'США - Дания', 'Индия - КНР', 'Чехия-Великобритания-США',\n",
       "       'США-ФРГ-Россия', 'Ирландия-Нидерланды-Франция-США-Великобритания',\n",
       "       'Россия, Грузия, Хорватия, Испания',\n",
       "       'Финляндия - Швеция - Норвегия', 'Сербия - Великобритания - США',\n",
       "       'США - Великобритания - Франция - Гонконг', 'Швейцария - Франция',\n",
       "       'Швейцария - Великобритания', 'ОАЭ - США',\n",
       "       'США - Франция - Германия - Канада - Австралия ',\n",
       "       'Германия - Австралия', 'Иран, Франция',\n",
       "       'США - Великобритания - Новая Зеландия', 'США-Колумбия',\n",
       "       'США-Франция-Ирландия', 'Великобритания - Франция - Бельгия',\n",
       "       'США - Великобритания - Япония', 'США - Франция - Германия',\n",
       "       'Польша - Ирландия', 'Ирландия - Великобритания - Франция - США',\n",
       "       'США - Бельгия - Великобритания', 'СССР, ВНР',\n",
       "       'Испания - Франция - США - Великобритания - Бельгия',\n",
       "       'Франция - Дания - США', 'США - Гонконг', 'Бразилия - К;анада',\n",
       "       'Франция-Германия', 'США - Колумбия',\n",
       "       'США - Ирландия - Великобритания - Франция',\n",
       "       'Великобритания - США - Канада', 'Польша - Франция',\n",
       "       'Канада - США - Нидерланды - Великобритания - Аргентина',\n",
       "       'Великобритания - Дания', 'Франция - Бельгия - Япония',\n",
       "       'Россия,  Испания', 'Франция -Бельгия',\n",
       "       'США - Канада - Германия - Франция', 'США-Канада-Франция',\n",
       "       'Россия - Германия', 'Россия-Италия', 'Китай - Гонконг',\n",
       "       'Германия-Австрия-Франция-Италия', 'США-Япония',\n",
       "       'США - Германия - Канада', 'Испания-Мексика',\n",
       "       'США - Япония - Канада - Великобритания - Германия - Франция',\n",
       "       'США -Великобритания - Австралия', 'Россия-Украина-Германия',\n",
       "       'Израиль - Франция - Великобритания - Германия', 'Корея',\n",
       "       'Россия - Болгария', 'США-Индия',\n",
       "       'Германия-Канада-Франция-Бельгия', 'Германия-Кения',\n",
       "       'Франция - Монако', 'Франция-Испания-Швейцария',\n",
       "       'Австрия-Франция-Германия', 'Румыния',\n",
       "       'США-Великобритания-Франция', 'Канада-Великобритания',\n",
       "       'Канада-Бразилия-Япония', 'Германия - Дания - Норвегия',\n",
       "       'Дания - Германия', 'СССР - Италия',\n",
       "       'СССР - ГДР - Польша - Италия',\n",
       "       'США - Испания - Франция - Великобритания', 'Китай',\n",
       "       'Мексика-Аргентина',\n",
       "       'Германия - Великобритания - Италия - Испания',\n",
       "       'Франция-Германия-Великобритания', 'Россия - Германия - Швейцария',\n",
       "       'Франция-Австралия', 'Голландия', 'Швейцария-Франция',\n",
       "       'Россия-Белоруссия', 'Франция - Испания - Тайвань',\n",
       "       'США-Южная Корея-Новая Зеландия', 'Великобритания-Венгрия',\n",
       "       'Россия-Германия', 'Великобритания-Франция-Германия',\n",
       "       'Франция-Германия-Италия', 'Швеция-Финляндия-Франция-Норвегия',\n",
       "       'Франция-Италия', 'Германия-Израиль',\n",
       "       'Швеция - Германия - Дания - Норвегия', 'США-Бельгия',\n",
       "       'Франция-Гонконг-Ирландия', 'Эстония', 'Литва-Россия-Украина',\n",
       "       'Германия - Италия - Франция',\n",
       "       'Великобритания - Австрия - Германия', 'Бельгия - Франция',\n",
       "       'Россия-Казахстан', 'Испания - Мальта',\n",
       "       'Франция-Россия-Румыния-Италия-Бельгия', 'Россия - Польша',\n",
       "       'Испания - Мексика', 'США-Аргентина', 'Великобритания ',\n",
       "       'Израиль-США-Франция', 'США - Новая Зеландия - Япония',\n",
       "       'Франция - Чехия - Великобритания', 'Россия-Польша',\n",
       "       'Германия-Франция-Великобритания', 'США-Германия-Канада',\n",
       "       'США-Гонконг-Китай', 'США - Великобритания - Германия',\n",
       "       'США-Канада-Австралия', 'Япония-США-Франция',\n",
       "       'Франция-Испания-Германия', 'США - Хорватия - Босния-Герцеговина',\n",
       "       'Великобритания - Чехия - Франция - Италия',\n",
       "       'США - Германия - Нидерланды', 'Германия - Франция - Канада',\n",
       "       'Франция-Грузия-Германия-Россия-Украина-Бельгия',\n",
       "       'Великобритания - Франция - Италия', 'Россия - США',\n",
       "       'Франция - Италия - Иран', 'Россия - Азербайджан', 'Греция',\n",
       "       'Дания - США', 'США-Великобритания-Новая Зеландия',\n",
       "       'США-Германия-Австралия', 'США-Канада-Италия',\n",
       "       'США - Япония - Германия', 'Австралия-США',\n",
       "       'Франция - Великобритания - Багамские острова - США',\n",
       "       'Швейцария - Люксембург', 'Швейцария - Австрия',\n",
       "       'Германия - Швейцария', 'Дания-Швеция-Франция-Германия', 'Польша',\n",
       "       'Швейцария-Австрия', 'Бразилия - Канада - США',\n",
       "       'Нидерланды - Россия', 'Португалия', 'Франция-Аргентина',\n",
       "       'Швеция-Франция', 'Франция-Украина', 'Германия-Украина-Нидерланды',\n",
       "       'Италия-Швейцария', 'США-Германия-Великобритания',\n",
       "       'Латвия - Россия', 'Германия-Франция-Великобритания-США',\n",
       "       'Канада - Италия', 'США - Объединенные Арабские Эмираты',\n",
       "       'США-Венгрия', 'Малайзия', 'Россия - Германия - Украина',\n",
       "       'США - Австралия - Мексика', 'Литва - Венгрия', 'Германия - Китай',\n",
       "       'Казахстан', 'Республика Корея',\n",
       "       'США - Германия - Франция - Великобритания - Канада ',\n",
       "       'Бельгия - Германия - Люксембург - Франция', 'Франция - Греция',\n",
       "       'Италия - Канада', 'США - Великобритания - Франция',\n",
       "       'США-Италия-Греция', 'Германия - США - Великобритания - Ирландия',\n",
       "       'Великобритания - Франция - Германия',\n",
       "       'Германия - Нидерланды - ЮАР',\n",
       "       'США-Япония-Германия-Великобритания-Нидерланды',\n",
       "       'США-Япония-Германия-Великобритания',\n",
       "       'Германия - Франция - Польша',\n",
       "       'Таиланд-Великобритания-Франция-Германия-Испания-Нидерланды',\n",
       "       'Германия-Италия-Швейцария',\n",
       "       'Дания - Швеция - Великобритания - Франция - Германия - Нидерланды - Норвегия - Финляндия',\n",
       "       'Франция - Великобритания - Нидерланды - Люксембург',\n",
       "       'Нидерланды-Великобритания-Франция-Италия-Япония',\n",
       "       'Финляндия-Дания-Германия-Ирландия', 'Испания-Аргентина',\n",
       "       'Великобритания - Нидерланды - Франция - США', 'Канада - Мексика',\n",
       "       'США, Франция', 'Канада-Южная Корея-США',\n",
       "       'Великобритания - Франция - Бельгия - США', 'КНР - Канада - США',\n",
       "       'Италия - Франция - Германия',\n",
       "       'Швеция - Германия - Франция - Дания', 'Франция - США - Бельгия',\n",
       "       'Украина - Германия - Латвия - Эстония', 'Австрия - Люксембург',\n",
       "       'Великобритания - КНР', 'Монголия', 'Франция - Дания',\n",
       "       'Швеция - Дания - Финляндия',\n",
       "       'Сингапур - Великобритания - Индонезия - Канада - США',\n",
       "       'США - Германия - Япония', 'Таиланд - США', 'Франция - Нидерланды',\n",
       "       'Великобритания - Румыния', 'США - Мальта',\n",
       "       'Великобритания - Германия - Нидерланды - Дания',\n",
       "       'Франция - Германия - Литва - Нидерланды - Россия',\n",
       "       'США - ЮАР - Гонконг', 'Австралия - Колумбия',\n",
       "       'Великобритания - Польша', 'США - Великобритания - Швеция',\n",
       "       'Франция - Швеция - Дания - Норвегия', 'Болгария - США',\n",
       "       'СССР, ФРГ', 'Бельгия - Нидерланды - Франция',\n",
       "       'Финляндия - Германия', 'Болгария',\n",
       "       'Грузия - Россия - Украина - Хорватия - Германия',\n",
       "       'Франция - Люксембург', 'Франция - Германия - Австрия',\n",
       "       'Норвегия - США', 'Германия-Швеция', 'Франция - Германия - Италия',\n",
       "       'Франция-Германия-Австрия', 'КНР-США',\n",
       "       'Великобритания - Ирландия - США ',\n",
       "       'Дания - Латвия - Россия - США', 'Финляндия - Польша',\n",
       "       'Германия - Бельгия', 'Германия - США - Франция - Испания',\n",
       "       'Бельгия-Германия-Канада-Франция-США-Великобритания',\n",
       "       'Нидерланды - Бельгия - Люксембург', 'Канада-Германия',\n",
       "       'Люксембург - Бельгия - Франция', 'США-Великобритания-Австралия',\n",
       "       'Великобритания, Новая Зеландия', 'Бельгия, Великобритания, США',\n",
       "       'Великобритания, Австралия', 'Исландия, Бельгия',\n",
       "       'Испания - Швейцария - Великобритания - Германия - Новая Зеландия - Нидерланды - Канада',\n",
       "       'Франция, Бельгия', 'Великобритания, США', 'Киргизия-Россия',\n",
       "       'Германия, США', 'Великобритания, США, Испания',\n",
       "       'Италия - Швейцария - Германия', 'Россия, Армения',\n",
       "       'Франция, Германия', 'Китай, Канада, США', 'Германия, Австралия',\n",
       "       'КНР, США', 'США, Великобритания, Люксембург',\n",
       "       'Испания, Ирландия, Бельгия, Франция',\n",
       "       'Великобритания - Гонконг - Венгрия - США - Ирландия',\n",
       "       'США - Пуэрто Рико', 'Аргентина - Испания - Уругвай',\n",
       "       'Израиль - Германия - Франция - Швейцария',\n",
       "       'Великобритания - Мексика - США', 'Испания - Болгария - США',\n",
       "       'Россия-Словакия-Чехия',\n",
       "       'Швейцария - КНР - США - Россия - Республика Корея - Великобритания',\n",
       "       'Россия, Нидерланды, Финляндия',\n",
       "       'Испания - Бельгия - Франция - Португалия - Великобритания',\n",
       "       'Бразилия - Португалия - Франция', 'Швеция - Норвегия',\n",
       "       'Франция - Польша - Бельгия', 'CША', 'Китай, США',\n",
       "       'Италия, Франция, Германия', 'Германия - Австрия - Франция',\n",
       "       'Чехия - Словакия - Хорватия', 'Россия, Польша, Финляндия',\n",
       "       'Россия, Латвия, Чешская Республика',\n",
       "       'Франция - Великобритания - Камбоджа - США - КНР',\n",
       "       'Чехия - Испания - США', 'Германия - Люксембург - Дания',\n",
       "       'Великобритания - Испания - Германия', 'Дания - Исландия',\n",
       "       'Германия, Франция, Великобритания',\n",
       "       'Великобритания - Испания - Италия - Латвия - Франция - Эстония',\n",
       "       'Дания, Швеция, Великобритания, Франция, Германия, Норвегия, Финляндия, Нидерланды, Италия',\n",
       "       'Польша - Франция - Великобритания',\n",
       "       'Дания, Норвегия, Венгрия, Чехия',\n",
       "       'Дания - Франция - Германия - Швеция',\n",
       "       'Великобритания, Швеция, США',\n",
       "       'Канада, Франция, Италия, Швейцария, США', 'США, Индия',\n",
       "       'США - Великобритания - Германия - - Швеция - Канада',\n",
       "       'Италия, Франция', 'Республика Беларусь, Германия, США, Россия',\n",
       "       'Италия-Швейцария-Франция-Германия ',\n",
       "       'Россия - Франция - Великобритания - Латвия', 'Россия-Беларусь',\n",
       "       'Франция - Испания - Румыния - США - Бельгия', 'Италия-США',\n",
       "       'Россия, Австрия', 'Ирландия - Великобритания - США',\n",
       "       'Швейцария, Великобритания, Франция, США, Ирландия',\n",
       "       'Мексика, Франция, Германия, Дания, Швеция', 'Нидерланды, Бельгия',\n",
       "       'Швеция, Норвегия, Финляндия, Франция', 'Испания, Франция, Италия',\n",
       "       'Испания-Франция-Греция-Индия-США-Россия-Великобритания',\n",
       "       'Великобритания - Япония - США',\n",
       "       'Дания, Канада, Норвегия, Австралия, США', 'Аргентина, Испания',\n",
       "       'Россия, Германия, Казахстан, Польша, Китай',\n",
       "       'Португалия, Франция, Польша, США', 'США - Канада - Аргентина',\n",
       "       'Ливан-США', 'Япония - США', 'США, Гонконг ',\n",
       "       'Франция - Россия - Швейцария - Румыния - Венгрия',\n",
       "       'Аргентина-Испания', 'Россия, Сербия', 'США - Болгария - Мексика',\n",
       "       'США - Великобритания - Швейцария - Франция',\n",
       "       'Таиланд - КНР - США',\n",
       "       'Великобритания, Нидерланды, Польша, Швейцария, Франция',\n",
       "       'Ирландия - США',\n",
       "       'Германия - Франция - Великобритания - Польша - США',\n",
       "       'Великобритания-Франция-Италия', 'США - Австралия - Индия',\n",
       "       'Франция - КНР', 'Великобритания - Израиль',\n",
       "       'Великобритания - Норвегия - Кения - Хорватия',\n",
       "       'США - Бразилия - Великобритания - Канада', 'Германия, Бельгия',\n",
       "       'Австралия, Канада', 'США, Великобритания, Франция',\n",
       "       'Кения, Германия', 'Нидерланды, Бельгия, Люксембург', 'Колумбия',\n",
       "       'Латвия - Франция', 'Ирландия, Великобритания',\n",
       "       'Франция - Израиль - Германия', 'Швеция, Франция, Великобритания',\n",
       "       'Бельгия - Люксембург', 'Германия - Бельгия - Великобритания',\n",
       "       'Испания, Франция, Великобритания, Дания, Бельгия, Германия',\n",
       "       'Румыния, ЮАР, Иран, Франция, Канада, Великобритания',\n",
       "       'Германия, Франция', 'США, Япония',\n",
       "       'США, Великобритания, Ирландия, Люксембург', 'Республика Армения',\n",
       "       'США, Франция, Япония', 'Япония, США', 'Канада, США',\n",
       "       'Республика Кипр - Россия',\n",
       "       'Дания - Франция - Италия - Бельгия - Нидерланды',\n",
       "       'Россия - Грузия', 'Италия, Германия', 'Норвегия, Швеция, Дания',\n",
       "       'Республика Кипр, Россия', 'КНР, Индия, Гонконг, США',\n",
       "       'Израиль, Украина', 'США, Россия', 'США - КНР - Индия - Ю.Корея',\n",
       "       'США - Швеция', 'Франция, Канада', 'Россия-Китай',\n",
       "       'Канада, Великобритания', 'США, Германия',\n",
       "       'Канада, США, Каймановы острова',\n",
       "       'Бразилия, Уругвай, Дания, Норвегия, Чили, Швеция',\n",
       "       'Пуэрто-Рико, Великобритания, США',\n",
       "       'Уругвай - Аргентина - Испания',\n",
       "       'США - Великобритания - Италия - Израиль - Сербия - Индия',\n",
       "       'США - Канада - Франция - Индия', 'Великобритания - Россия - КНР',\n",
       "       'Франция, Новая Зеландия', 'Франция, Люксембург, Бельгия',\n",
       "       'Канада, США, Норвегия', 'Италия, Испания',\n",
       "       'Испания - Германия - Нидерланды', 'Бразилия - США - КНР ',\n",
       "       'Великобритания, Германия, Дания, США', '2019',\n",
       "       'Италия - Фрация - Бразилия - Германия',\n",
       "       'Норвегия - Швеция - Россия', 'Великобритания, Япония, США',\n",
       "       'Сша, Канада', 'Бельгия, Канада',\n",
       "       'Великобритания - Австралия - США', 'США, Канада', 'КНР - США ',\n",
       "       'Франция - Финляндия', 'Колумбия - США',\n",
       "       'Великобритания, Франция, Бельгия', 'Норвегия - Нидерланды',\n",
       "       'Великобритания, Канада, США', 'Япония, Великобритания',\n",
       "       'Италия - Бельгия - Франция', 'Россия, Бельгия, Финляндия',\n",
       "       'США, Украина', 'Франция, Норвегия',\n",
       "       'Великобритания, Южная Корея, Канада, США, Индия, Китай, Япония',\n",
       "       'Канада - Норвегия', 'Республика Кипр-Россия', 'Германия, Россия',\n",
       "       'Польша - Франция - Испания - Бразилия - Швеция',\n",
       "       'Австрия, Великобритания, Германия', 'Франция - Сенегал - Бельгия',\n",
       "       'Франция, Бельгия, Люксембург', 'Финляндия, Латвия', 'Пакистан',\n",
       "       'Германия, Франция, США', 'Германия - Великобритания - США',\n",
       "       'КНР - Франция', 'Дания, Норвегия, Швеция, Исландия',\n",
       "       'Республика Кипр, США, Россия', 'Новая Зеландия - КНР',\n",
       "       'Дания - Канада - Швеция - Франция - Германия - Великобритания - США'],\n",
       "      dtype=object)"
      ]
     },
     "execution_count": 28,
     "metadata": {},
     "output_type": "execute_result"
    }
   ],
   "source": [
    "print(len(df['production_country'].unique()))\n",
    "df['production_country'].unique()"
   ]
  },
  {
   "cell_type": "code",
   "execution_count": 29,
   "id": "6ae82323",
   "metadata": {},
   "outputs": [
    {
     "name": "stdout",
     "output_type": "stream",
     "text": [
      "941\n"
     ]
    },
    {
     "data": {
      "text/plain": [
       "array(['США', 'СССР', 'Франция', 'СССР, Венгрия',\n",
       "       'Германия-Великобритания', 'Великобритания - Италия',\n",
       "       'Чехословакия', 'США - Франция - Турция', 'Новая Зеландия',\n",
       "       'Канада - Франция - Испания', 'США-Германия',\n",
       "       'США - Великобритания', 'Великобритания', 'США - Германия',\n",
       "       'Франция - Мексика - США', 'Россия, Казахстан, США',\n",
       "       'СССР, Швеция', 'СССР, Франция, Англия, Куба, ГДР', 'Германия',\n",
       "       'Великобритания-США-Германия-КНР',\n",
       "       'СССР, ЧССР, Западный Берлин, ПНР', 'СССР, Италия', 'Гонконг, КНР',\n",
       "       'США - Франция', 'США - Япония - Франция - Великобритания',\n",
       "       'Гонконг - Сингапур - Таиланд - Великобритания', 'США-Канада',\n",
       "       'Франция - Италия - Великобритания - США', 'Франция - США',\n",
       "       'Ирландия-Великобритания-Германия', 'Чехия', 'США-Австралия',\n",
       "       'СССР, Финляндия', 'США-Франция-Великобритания-Австрия',\n",
       "       'США - Бельгия', 'США - Ирландия - Великобритания',\n",
       "       'Великобритания - США',\n",
       "       'Люксембург - Нидерланды - Испания - Великобритания - США - Италия',\n",
       "       'Великобритания - Франция - США', 'Новая Зеландия - США',\n",
       "       'США - Великобритания - Чехия',\n",
       "       'Канада - Франция - Великобритания', 'Ирландия',\n",
       "       'Великобритания - Германия - США',\n",
       "       'США - Франция - Великобритания', 'Япония', 'СССР, Польша',\n",
       "       'Франция - Испания', 'Канада-Франция', 'Германия - Италия - США',\n",
       "       'Аргентина - Бразилия', 'Дания - Швейцария - Бельгия - Франция',\n",
       "       'США - Испания', 'Германия - США',\n",
       "       'Франция - Австрия - Германия - Италия - США', 'Австрия',\n",
       "       'США - Канада - Германия', 'США - Канада',\n",
       "       'СССР- Швейцария - Франция', 'Россия - Казахстан', 'Гонконг',\n",
       "       'Италия', 'США - ОАЭ', 'Россия',\n",
       "       'США - Франция - Испания - Великобритания',\n",
       "       'Великобритания - Франция', 'США-Италия-Испания-Аргентина',\n",
       "       'Франция-Великобритания', 'КНР - Гонконг',\n",
       "       'Франция - Италия - Швейцария', 'США - Новая Зеландия',\n",
       "       'Франция - Бельгия', 'КНР', 'Германия - Великобритания - Австрия',\n",
       "       'Великобритания - Израиль - Франция - Япония - США', 'Швеция',\n",
       "       'Испания', 'Дания', 'Франция - Бельгия - Люксембург',\n",
       "       'США - Индия - ОАЭ',\n",
       "       'Германия-Канада-Великобритания-Швейцария-Франция',\n",
       "       'Мексика - Чили', 'Аргентина', 'Бразилия', 'Чили', 'Австралия',\n",
       "       'Португалия - Франция', 'США - ЮАР', 'Исландия-Ирландия-Германия',\n",
       "       'США-Индонезия', 'Южная Корея', 'Мексика - Испания - Дания - США',\n",
       "       'Великобритания-США', 'Франция - Италия', 'США-Франция',\n",
       "       'США - Венгрия - Великобритания', 'Бельгия-Франция-Италия',\n",
       "       'Чехия - Германия', 'Германия - Франция', 'США-Нидерланды',\n",
       "       'Украина', 'Великобритания - Германия', 'Франция-Бельгия',\n",
       "       'США-Франция-Испания', 'Италия - Франция', 'Канада',\n",
       "       'Швеция-Франция-Дания', 'Германия-Франция-Польша',\n",
       "       'Франция-Великобритания - Германия',\n",
       "       'США - Бразилия - Франция - Австралия - Великобритания - Германия',\n",
       "       'Германия-Австрия', 'Германия-Италия- Шри-Ланка',\n",
       "       'Великобритания - Испания',\n",
       "       'США - Великобритания - Канада - Швеция',\n",
       "       'Босния и Герцеговина - Франция - Великобритания - Германия - Словения - Бельгия - Сербия',\n",
       "       'Великобритания - Франция - Италия - США', 'США-ОАЭ',\n",
       "       'Испания - Франция', 'США-Великобритания', 'США-ЮАР',\n",
       "       'Великобритания-Австралия - США',\n",
       "       'Норвегия - Швеция - Дания - Германия', 'Норвегия', 'Швейцария',\n",
       "       'Греция - Германия - Франция', 'Норвения', 'Южная Корея - США',\n",
       "       'Чили - Франция - США', 'Австрия - Германия - Франция',\n",
       "       'Швеция - Дания', 'Великобритания - Франция - Бельгия - Италия',\n",
       "       'Франция - Германия', 'Грузия - Франция - Люксембург',\n",
       "       'США - Франция - Великобритания - Бразилия ', 'США - КНР',\n",
       "       'Мексика - Франция', 'США - Германия - Гонконг - Сингапур',\n",
       "       'Финляндия - Австрия - Россия', 'Испания - Куба',\n",
       "       'Великобритания - ЮАР', 'Великобритания - Ирландия', 'Израиль',\n",
       "       'Бразилия - Германия - Порртугалия - Франция ',\n",
       "       'Франция - Канада - Бельгия', 'Франция-Испания',\n",
       "       'Испания - Канада - Япония', 'Иран', 'Швеция-Куба',\n",
       "       'США-Великобритания-Ирландия', 'Гонконг - КНР', 'Нидерланды',\n",
       "       'Испания - Канада', 'Япония-Великобритания',\n",
       "       'Великобритания - Норвегия - Дания - Германия',\n",
       "       'Финляндия - Франция - Германия',\n",
       "       'Мексика - Франция - Нидерланды - Германия', 'США - Индия',\n",
       "       'США-Великобритания-Индия', 'США-Канада-Бельгия',\n",
       "       'Республика Узбекистан', 'Италия ', 'Турция',\n",
       "       'Сербия - Словения - Хорватия - Черногория - Македония',\n",
       "       'Киргизия', 'Германия - Нидерланды - Беларусь - Россия - Латвия',\n",
       "       'Индия', 'Нидерланды - Россия - Германия',\n",
       "       'Великобритания - Нидерланды - Франция - Хорватия',\n",
       "       'Канада - Южная Корея',\n",
       "       'Великобритания - Польша - КНР - Индия - Норвегия',\n",
       "       'Япония - Франция - США - Южная Корея - Турция',\n",
       "       'Мексика - Аргентина - Великобритания', 'Израиль - Франция',\n",
       "       'Польша - Португалия - Франция - Великобритания',\n",
       "       'Австралия - США', 'США - Великобритания ',\n",
       "       'Франция - Люксембург - Бельгия', 'Армения',\n",
       "       'Бельгия - Люксембург - Франция - Швейцария',\n",
       "       'США - Великобритания - Канада', 'Норвегия - Швеция',\n",
       "       'Канада - Франция', 'КНР - Гонконг - США',\n",
       "       'США - Сингапур - Малайзия - Индонезия', 'Германия - Россия',\n",
       "       'Япония - Канада', 'Финляндия - Дания - Германия - Ирландия',\n",
       "       'Франция - Люксембург - Германия - Бельгия - Швейцария - Великобритания ',\n",
       "       'Канада - США', 'США-Италия-Испания', 'США-Испания',\n",
       "       'США - Швейцария - Франция', 'Испания - США - Колумбия',\n",
       "       'Канада-ЮАР', 'Франция - Россия',\n",
       "       'Германия - Финляндия - Австралия', 'Дания - Швеция', 'Бельгия',\n",
       "       'Германия - Франция - Австрия', 'Франция-Индия', 'ЮАР',\n",
       "       'Франция-Перу', 'Франция - Канада', 'Республика Беларусь',\n",
       "       'Великобритания - Австрия - Франция - США',\n",
       "       'Австрия-Германия-Франция', 'США-Россия', 'Германия-США',\n",
       "       'США - Южная Корея', 'Канада - КНР',\n",
       "       'Дания - Швеция - Италия - Франция - Германия',\n",
       "       'Франция-Италия-Испания-Венгрия', 'Франция - Германия - Бельгия',\n",
       "       'Франция-Великобритания-Чехия', 'Румыния - Франция - Бельгия',\n",
       "       'Болгария - Франция - Изриль',\n",
       "       'Израиль - Германия - Польша - Бельгия - Франция - Люксембург',\n",
       "       'Россия, Германия, Франция, Бельгия', 'Индонезия',\n",
       "       'Франция - Португалия', 'Великобритания - Пуэрто-Рико',\n",
       "       'СССР, ФРГ, Западный Берлин', 'Россия, Республика Беларусь',\n",
       "       'США, Великобритания', 'Франция - Австрия', 'Бельгия-Нидерланды',\n",
       "       'Великобритания - США - Индия', 'США - Великобритания - Австралия',\n",
       "       'Канада - Франция - США - ОАЭ - Великобритания',\n",
       "       'США - Австралия - Франция',\n",
       "       'Дания-Франция-Бельгия-Германия-Великобритания',\n",
       "       'Испания - Аргентина', 'Исландия - Финляндия',\n",
       "       'Россия-Польша-Голландия-Словакия', 'Дания - Германия - Швеция',\n",
       "       'Южная Корея - США - Канада', 'Таиланд', 'США-Мальта',\n",
       "       'США -Германия',\n",
       "       'Великобритания - Германия - Франция - Кипр - США', 'Мексика',\n",
       "       'США - Великобритания - Ирландия', 'США - Украина',\n",
       "       'США - Финляндия - Испания - Великобритания - Франция',\n",
       "       'Австралия-Великобритания',\n",
       "       'США - Канада - Афганистан - Бельгия - Франция',\n",
       "       'США - Великобритания - Германия - Новая Зеландия - Бельгия - Франция',\n",
       "       'Франция-Канада',\n",
       "       'Ирландия - Финляндия - Бельгия - Великобритания - США - Швейцария',\n",
       "       'Малайзия - США', 'Германия - Италия',\n",
       "       'США - Франция - Бельгия - Италия', 'Франция - Ирландия - Швеция',\n",
       "       'Азербайджан-Россия', 'Великобритания - Италия - Швейцария',\n",
       "       'США - Германия - Великобритания',\n",
       "       'Германия - Бельгия - США -Франция', 'США-Китай', 'Чили - Испания',\n",
       "       'Франция - Швейцария', 'Канада - Испания',\n",
       "       'США - Румыния - Великобритания', 'США - Япония',\n",
       "       'США - Россия - Франция', 'Франция-США', 'Парагвай',\n",
       "       'Германия - Канада', 'США - Канада - Великобритания',\n",
       "       'Финляндия - Канада', 'Уругвай-Мексика-Германия ', 'США - Чили',\n",
       "       'Германия - Аргентина - Нидерланды - Чили',\n",
       "       'США - Канада - Индонезия', 'Армения - Казахстан', 'Финляндия',\n",
       "       'Испания - Италия - Франция',\n",
       "       'Бельгия - Испания - Канада - Нидерланды',\n",
       "       'Великобритания - Франция - Швеция - Бельгия',\n",
       "       'Мексика - Эквадор - Канада - США - Франция - Малайзия - Италия - Аргентина - Германия - Индия  ',\n",
       "       'Франция - Бенльгия', 'Индия - Великобритания',\n",
       "       'Япония - Великобритания - Франция',\n",
       "       'Испания - Уругвай - Аргентина',\n",
       "       'Франция - Италия - Бельгия - Люксембург',\n",
       "       'Франция - Украина - Грузия - Армения',\n",
       "       'Сербия - Германия - Венгрия', 'Франция-Польша', 'Франция ',\n",
       "       'Румыния-США', 'Россия-Азербайджан',\n",
       "       'США - Нидерланды - Бельгия - Венгрия - Греция - Канада',\n",
       "       'Германия - Франция - Люксембург', 'США - Россия',\n",
       "       'Великобритания - США - Франция', 'США - Австралия - Дания',\n",
       "       'Бельгия-Франция', 'США-Мексика',\n",
       "       'Норвегия - Азербайджан - Россия - Колумбия - Великобритания - Венгрия - Румыния - Франция - Грузия',\n",
       "       'СЩА', 'Бразилия - Испания', 'Россия, Франция, Латвия',\n",
       "       'Нидерланды - США - Германия - Канада - Франция - Ирландия - Великобритания',\n",
       "       'Уругвай - Колумбия', 'США - Испания - Болгария',\n",
       "       'Армения - Германия', 'США - Великобритания- Франция - Швеция',\n",
       "       'США - Мексика', 'Австралия-Турция-США', 'Швеция - Германия',\n",
       "       'Польша - Италия - Россия', 'Франция - Бразилия',\n",
       "       'США - Канада - КНР', 'СССР, Венгрия, ЧССР, ГДР',\n",
       "       'Бельгия - Германия - Люксембург', 'США - Австралия',\n",
       "       'Бразилия - США', 'США - Великобритания - Канада - КНР',\n",
       "       'Франция - Чили',\n",
       "       'Франция - США - Великобритания - Колумбия - Бельгия - Россия',\n",
       "       'Дания - Великобритания - ЮАР', 'Россия-США-Канада-Люксембург',\n",
       "       'Россия - Республика Кипр', 'Германия - США - Швеция - Франция',\n",
       "       'Великобритания-Германия-Канада-ЮАР', 'Ирландия, Канада',\n",
       "       'Япония - Великобритания - Швейцария - Ирландия - Дания - Франция - Польша - Австралия - Канада  ',\n",
       "       'Великобритания, Канада', 'Бельгия - США',\n",
       "       'Великобритания - США - Россия', 'Россия-Украина',\n",
       "       'Германия - США - Великобритания - Израиль', 'Канада - Германия',\n",
       "       'США- Ю.Корея', 'Индия - Мексика',\n",
       "       'Великобритания - Франция - Республика Кипр - Швейцария - США - Сербия',\n",
       "       'Испания - Аргентина - Индия - США',\n",
       "       'Норвегия - Исландия - США - Великобритания ',\n",
       "       'Турция - Германя - Франция', 'Германия - Великобритания',\n",
       "       'Австралия - Германия', 'Мексика - Испания',\n",
       "       'Великобритания - США - Германия - Бельгия',\n",
       "       'США - Чехия - Франция', 'Россия - Италия', 'Франция-Россия',\n",
       "       'Норвегия - Дания - Швеция', 'Франция - Швейцария - Германия',\n",
       "       'Грузия - Украина', 'Россия - Эстония - Финляндия - Беларусь',\n",
       "       'США - Франция - ЮАР', 'Великобритания - США - Швейцария',\n",
       "       'Канада-США', 'Мексика - Нидерланды - Германия - Франция',\n",
       "       'США - Испания - Франция', 'США - Великобритания - КНР',\n",
       "       'США-Франция-Канада',\n",
       "       'Япония, Великобритания, Австрия, Германия, Ю.Корея',\n",
       "       'Великобритания - Ирландия - США', 'Бельгия - Италия - Франция ',\n",
       "       'Швейцария-Германия-ЮАР', 'Великобритания - США - Германия',\n",
       "       'Германия - Исландия', 'Испания - США', 'Хорватия',\n",
       "       'Финляндия - Исландия - Швеция',\n",
       "       'Канада - США - Германия - Франция',\n",
       "       'США - Великобритания - Испания', 'Ирландия-Великобритания',\n",
       "       'Аргентина - Испания', 'Австрия - Германия',\n",
       "       'Германия - Швейцария - Франция - Южная Корея - США',\n",
       "       'Украина - Нидерланды', 'Венгрия - Германия - Швеция',\n",
       "       'Германия - Франция -  Польша - Турция - Канада - Италия - Россия ',\n",
       "       'СССР, Афганистан', 'СССР, Монголия', 'Россия-Кипр',\n",
       "       'Россия, Грузия, Испания',\n",
       "       'Великобритания - Нидерланды - Германия - Франция - Бельгия - Австрия ',\n",
       "       'Испания - Великобритания - Франция',\n",
       "       'Дания - Норвегия - Великобритания',\n",
       "       'Бельгия - Франция - Люксембург',\n",
       "       'Италия - Франция - Швейцария - Великобритания',\n",
       "       'Франция - Бельгия - Великобритания - Испания - Германия - США',\n",
       "       'Швейцария - Израиль - Франция - Великобритания',\n",
       "       'Великобритания - США - Канада - Нидерланды - Франция',\n",
       "       'Россия, Италия', 'СССР, Албания',\n",
       "       'Россия, Украина, Республика Беларусь, Литва',\n",
       "       'Финляндия - Великобритания - Германия', 'Россия, Украина, Польша',\n",
       "       'Франция - Италия - Бельгия - КНР',\n",
       "       'Германия - Бельгия - Люксембург - Ирландия', 'КНР - Сингапур',\n",
       "       'Франция - Бельгия - Великобритания - США - Нидерланды - Канада',\n",
       "       'США - Россия - Польша - Германия - Пуэрто Рико',\n",
       "       'Франция - Бельгия - Канада', 'США ', 'Мексика - США',\n",
       "       'США - Гонконг - КНР ', 'Греция - Россия',\n",
       "       'Ирландия - Дания - Бельгия - Люксембург - Франция',\n",
       "       'Эстония - Россия',\n",
       "       'Великобритания - Исландия - Испания - Швейцария - США',\n",
       "       'Австралия - Великобритания - Бельгия - Индия',\n",
       "       'Швеция - Германия - Франция - Норвегия',\n",
       "       'Нидерланды - Бельгия - Германия - Ирландия',\n",
       "       'Нидерланды - Великобритания - Бельгия',\n",
       "       'США - Колумбия - Испания', 'Франция-Испания-Бельгия-Панама',\n",
       "       'США-Великобритания-Чехия-Румыния',\n",
       "       'Аргентина - Уругвай - Россия - Германия - Франция - Нидерланды',\n",
       "       'Швеция - Франция - Норвегия - Дания',\n",
       "       'Италия-Франция-Великобритания', 'Великобритания, Франция',\n",
       "       'Австралия, США', 'Венесуэла',\n",
       "       'Великобритания - США - Австралия - Ирландия - Германия - Куба - Канада',\n",
       "       'Южная Корея - КНР',\n",
       "       'Аргентина - Мексика - Бразилия - Франция - США', 'Швеция - США',\n",
       "       'Франция - Германия - Турция - Катар', 'Франция-Китай',\n",
       "       'Россия, Германия, Великобритания',\n",
       "       'Великобритания - Италия - Испания', 'Италия - Россия',\n",
       "       'Япония - КНР - Южная Корея', 'Россия, Германия',\n",
       "       'Россия-Ирландия', 'Македония - Франция - Великобритания',\n",
       "       'Франция - Бразилия - Италия', 'Россия-США', 'Армения-Россия',\n",
       "       'Россия, Румыния', 'Франция -  Бельгия', 'Грузия-Франция',\n",
       "       'ЮАР - США', 'Великобритания-США-Франция',\n",
       "       'Великобритания - США - Германия - Канада - Австралия',\n",
       "       'США-Ирландия', 'Россия, Республика Кипр',\n",
       "       'Германия - Люксембург - Франция', 'Россия-Франция',\n",
       "       'США - Нидерланды - Финляндия - Великобритания - Италия',\n",
       "       'Республика Кипр', 'Венгрия', 'Франция - США - Норвегия - Дания',\n",
       "       'Германия - Австрия - Ирландия', 'США - Финляндия',\n",
       "       'Италия-Великобритания', 'Россия, Испания',\n",
       "       'США - Великобритания - Болгария', 'Великобритания - Люксембург',\n",
       "       'Индия - США', 'США - Канада - Россия - Франция - Чили - Ирландия',\n",
       "       'Грузия-Россия',\n",
       "       'Дания - Австрия - Ирландия - Финляндия - Норвегия - Швеция - Нидерланды',\n",
       "       'США-КНР', 'Грузия', 'Австралия - Ирландия',\n",
       "       'Великобритания - Канада', 'Италия - Аргентина - Словения ',\n",
       "       'Испания - Франция - Нидерланды - Германия - Бельгия - Великобритания - Канада',\n",
       "       'Франция - Чехия - Бельгия',\n",
       "       'Великобритания - Франция - Германия - США',\n",
       "       'Ирландия - Великобритания - Франция - США - Германия - Нидерланды',\n",
       "       'США - Канада - Япония - КНР', 'Италия-Франция',\n",
       "       'США - Великобритания - Исландия', 'Великобритания-Франция',\n",
       "       'Франция - Германия - Нидерланды', 'Иран ',\n",
       "       'Франция - Германия - Швеция - США - Чехия - Словакия - Великобритания - Нидерланды',\n",
       "       'Франция - Канада - Н.Зеландия - США - Нидерланды - Германия - Швеция - Россия',\n",
       "       'Турция - США',\n",
       "       'Великобритания - США - Канада - Бельгия - Нидерланды - Австрия - Германия',\n",
       "       'Израиль - Франция - Германия - Палестина - США - Австрия - Великобритания',\n",
       "       'Аргентина - Франция - Испания', 'СССР, Россия',\n",
       "       'Великобритания - Франция - Италия - Индия - Дания - КНР - Бангладеш - Камбоджа - Гаити - Уганда',\n",
       "       'Италия - Франция - Швейцария',\n",
       "       'Ирландия - Великобритания - Канада', 'Перу', 'США - Норвегия',\n",
       "       'Испания-Канада', 'Китай-Гонконг', 'США - Германия - КНР',\n",
       "       'Великобритания - Новая Зеландия',\n",
       "       'Франция - Дания - Швеция - КНР',\n",
       "       'США - Великобритания - Германия - Бельгия - Дания',\n",
       "       'США - Франция - Канада - Германия - Австралия - Индия',\n",
       "       'СССР, Румыния, Франция', 'СССР, ГДР', 'Австралия-Ирландия',\n",
       "       'США - Китай', 'Великобритания - Франция - Австрия - Швеция',\n",
       "       'Россия, Таджикистан', 'Нидерланды - Бельгия - Болгария',\n",
       "       'Великобритания - Канада - США', 'Франция - Бельгия - Испания',\n",
       "       'Китай-Гонконг-США', 'Франция - Великобритания', 'США - Вьетнам',\n",
       "       'США - Германия - Франция', 'Германия - Франция - Бельгия',\n",
       "       'США - Италия',\n",
       "       'Германия - Дания - Испания - Швеция - Канада - Эстония - Франция',\n",
       "       'Княжество Андорра - Украина', 'Германия - Люксембург - Бельгия',\n",
       "       'Великобритания - Россия - Украина - США',\n",
       "       'Германия - Бельгия - Люксембург - Норвегия',\n",
       "       'США - Австралия - Новая Зеландия - Великобритания',\n",
       "       'США - Франция - Канада - Великобритания', 'Испания-Колумбия',\n",
       "       'Великобритания - Чехия - Франция', 'Россия, Украина', 'Исландия',\n",
       "       'Великобритания - Франция - Венгрия',\n",
       "       'Россия, Франция, Германия, Бельгия', 'Франция - Македония',\n",
       "       'Нидерланды - Франция - Германия - Бельгия - Швеция - Великобритания',\n",
       "       'Испания - США - Великобритания - Канада', 'Германия - Австрия',\n",
       "       'Республика Казахстан',\n",
       "       'Франция - Испания - Дания - Венгрия - Швейцария', 'Франция-КНР',\n",
       "       'США - Пуэрто-Рико - Франция ', 'Мексика - Тайвань - США',\n",
       "       'Великобритания - Испания - Непал - Индия - Венгрия - Гонконг - Германия - Дания - Бахрейн',\n",
       "       'Великобритания - Аргентина - США - Франция - Россия - Испания',\n",
       "       'КНР - США', 'Италия - США', 'Финляндия - Швеция - Германия',\n",
       "       'Канада- Испания', 'Франция - Бельгия - Чехия',\n",
       "       'Франция-Бельгия-Канада', 'Франция - Германия - США',\n",
       "       'США - Дания', 'Индия - КНР', 'Чехия-Великобритания-США',\n",
       "       'США-ФРГ-Россия', 'Ирландия-Нидерланды-Франция-США-Великобритания',\n",
       "       'Россия, Грузия, Хорватия, Испания',\n",
       "       'Финляндия - Швеция - Норвегия', 'Сербия - Великобритания - США',\n",
       "       'США - Великобритания - Франция - Гонконг', 'Швейцария - Франция',\n",
       "       'Швейцария - Великобритания', 'ОАЭ - США',\n",
       "       'США - Франция - Германия - Канада - Австралия ',\n",
       "       'Германия - Австралия', 'Иран, Франция',\n",
       "       'США - Великобритания - Новая Зеландия', 'США-Колумбия',\n",
       "       'США-Франция-Ирландия', 'Великобритания - Франция - Бельгия',\n",
       "       'США - Великобритания - Япония', 'США - Франция - Германия',\n",
       "       'Польша - Ирландия', 'Ирландия - Великобритания - Франция - США',\n",
       "       'США - Бельгия - Великобритания', 'СССР, ВНР',\n",
       "       'Испания - Франция - США - Великобритания - Бельгия',\n",
       "       'Франция - Дания - США', 'США - Гонконг', 'Бразилия - К;анада',\n",
       "       'Франция-Германия', 'США - Колумбия',\n",
       "       'США - Ирландия - Великобритания - Франция',\n",
       "       'Великобритания - США - Канада', 'Польша - Франция',\n",
       "       'Канада - США - Нидерланды - Великобритания - Аргентина',\n",
       "       'Великобритания - Дания', 'Франция - Бельгия - Япония',\n",
       "       'Россия,  Испания', 'Франция -Бельгия',\n",
       "       'США - Канада - Германия - Франция', 'США-Канада-Франция',\n",
       "       'Россия - Германия', 'Россия-Италия', 'Китай - Гонконг',\n",
       "       'Германия-Австрия-Франция-Италия', 'США-Япония',\n",
       "       'США - Германия - Канада', 'Испания-Мексика',\n",
       "       'США - Япония - Канада - Великобритания - Германия - Франция',\n",
       "       'США -Великобритания - Австралия', 'Россия-Украина-Германия',\n",
       "       'Израиль - Франция - Великобритания - Германия', 'Корея',\n",
       "       'Россия - Болгария', 'США-Индия',\n",
       "       'Германия-Канада-Франция-Бельгия', 'Германия-Кения',\n",
       "       'Франция - Монако', 'Франция-Испания-Швейцария',\n",
       "       'Австрия-Франция-Германия', 'Румыния',\n",
       "       'США-Великобритания-Франция', 'Канада-Великобритания',\n",
       "       'Канада-Бразилия-Япония', 'Германия - Дания - Норвегия',\n",
       "       'Дания - Германия', 'СССР- Италия', 'СССР- ГДР - Польша - Италия',\n",
       "       'США - Испания - Франция - Великобритания', 'Китай',\n",
       "       'Мексика-Аргентина',\n",
       "       'Германия - Великобритания - Италия - Испания',\n",
       "       'Франция-Германия-Великобритания', 'Россия - Германия - Швейцария',\n",
       "       'Франция-Австралия', 'Голландия', 'Швейцария-Франция',\n",
       "       'Россия-Белоруссия', 'Франция - Испания - Тайвань',\n",
       "       'США-Южная Корея-Новая Зеландия', 'Великобритания-Венгрия',\n",
       "       'Россия-Германия', 'Великобритания-Франция-Германия',\n",
       "       'Франция-Германия-Италия', 'Швеция-Финляндия-Франция-Норвегия',\n",
       "       'Франция-Италия', 'Германия-Израиль',\n",
       "       'Швеция - Германия - Дания - Норвегия', 'США-Бельгия',\n",
       "       'Франция-Гонконг-Ирландия', 'Эстония', 'Литва-Россия-Украина',\n",
       "       'Германия - Италия - Франция',\n",
       "       'Великобритания - Австрия - Германия', 'Бельгия - Франция',\n",
       "       'Россия-Казахстан', 'Испания - Мальта',\n",
       "       'Франция-Россия-Румыния-Италия-Бельгия', 'Россия - Польша',\n",
       "       'Испания - Мексика', 'США-Аргентина', 'Великобритания ',\n",
       "       'Израиль-США-Франция', 'США - Новая Зеландия - Япония',\n",
       "       'Франция - Чехия - Великобритания', 'Россия-Польша',\n",
       "       'Германия-Франция-Великобритания', 'США-Германия-Канада',\n",
       "       'США-Гонконг-Китай', 'США - Великобритания - Германия',\n",
       "       'США-Канада-Австралия', 'Япония-США-Франция',\n",
       "       'Франция-Испания-Германия', 'США - Хорватия - Босния-Герцеговина',\n",
       "       'Великобритания - Чехия - Франция - Италия',\n",
       "       'США - Германия - Нидерланды', 'Германия - Франция - Канада',\n",
       "       'Франция-Грузия-Германия-Россия-Украина-Бельгия',\n",
       "       'Великобритания - Франция - Италия', 'Россия - США',\n",
       "       'Франция - Италия - Иран', 'Россия - Азербайджан', 'Греция',\n",
       "       'Дания - США', 'США-Великобритания-Новая Зеландия',\n",
       "       'США-Германия-Австралия', 'США-Канада-Италия',\n",
       "       'США - Япония - Германия', 'Австралия-США',\n",
       "       'Франция - Великобритания - Багамские острова - США',\n",
       "       'Швейцария - Люксембург', 'Швейцария - Австрия',\n",
       "       'Германия - Швейцария', 'Дания-Швеция-Франция-Германия', 'Польша',\n",
       "       'Швейцария-Австрия', 'Бразилия - Канада - США',\n",
       "       'Нидерланды - Россия', 'Португалия', 'Франция-Аргентина',\n",
       "       'Швеция-Франция', 'Франция-Украина', 'Германия-Украина-Нидерланды',\n",
       "       'Италия-Швейцария', 'США-Германия-Великобритания',\n",
       "       'Латвия - Россия', 'Германия-Франция-Великобритания-США',\n",
       "       'Канада - Италия', 'США - Объединенные Арабские Эмираты',\n",
       "       'США-Венгрия', 'Малайзия', 'Россия - Германия - Украина',\n",
       "       'США - Австралия - Мексика', 'Литва - Венгрия', 'Германия - Китай',\n",
       "       'Казахстан', 'Республика Корея',\n",
       "       'США - Германия - Франция - Великобритания - Канада ',\n",
       "       'Бельгия - Германия - Люксембург - Франция', 'Франция - Греция',\n",
       "       'Италия - Канада', 'США - Великобритания - Франция',\n",
       "       'США-Италия-Греция', 'Германия - США - Великобритания - Ирландия',\n",
       "       'Великобритания - Франция - Германия',\n",
       "       'Германия - Нидерланды - ЮАР',\n",
       "       'США-Япония-Германия-Великобритания-Нидерланды',\n",
       "       'США-Япония-Германия-Великобритания',\n",
       "       'Германия - Франция - Польша',\n",
       "       'Таиланд-Великобритания-Франция-Германия-Испания-Нидерланды',\n",
       "       'Германия-Италия-Швейцария',\n",
       "       'Дания - Швеция - Великобритания - Франция - Германия - Нидерланды - Норвегия - Финляндия',\n",
       "       'Франция - Великобритания - Нидерланды - Люксембург',\n",
       "       'Нидерланды-Великобритания-Франция-Италия-Япония',\n",
       "       'Финляндия-Дания-Германия-Ирландия', 'Испания-Аргентина',\n",
       "       'Великобритания - Нидерланды - Франция - США', 'Канада - Мексика',\n",
       "       'США, Франция', 'Канада-Южная Корея-США',\n",
       "       'Великобритания - Франция - Бельгия - США', 'КНР - Канада - США',\n",
       "       'Италия - Франция - Германия',\n",
       "       'Швеция - Германия - Франция - Дания', 'Франция - США - Бельгия',\n",
       "       'Украина - Германия - Латвия - Эстония', 'Австрия - Люксембург',\n",
       "       'Великобритания - КНР', 'Монголия', 'Франция - Дания',\n",
       "       'Швеция - Дания - Финляндия',\n",
       "       'Сингапур - Великобритания - Индонезия - Канада - США',\n",
       "       'США - Германия - Япония', 'Таиланд - США', 'Франция - Нидерланды',\n",
       "       'Великобритания - Румыния', 'США - Мальта',\n",
       "       'Великобритания - Германия - Нидерланды - Дания',\n",
       "       'Франция - Германия - Литва - Нидерланды - Россия',\n",
       "       'США - ЮАР - Гонконг', 'Австралия - Колумбия',\n",
       "       'Великобритания - Польша', 'США - Великобритания - Швеция',\n",
       "       'Франция - Швеция - Дания - Норвегия', 'Болгария - США',\n",
       "       'СССР, ФРГ', 'Бельгия - Нидерланды - Франция',\n",
       "       'Финляндия - Германия', 'Болгария',\n",
       "       'Грузия - Россия - Украина - Хорватия - Германия',\n",
       "       'Франция - Люксембург', 'Франция - Германия - Австрия',\n",
       "       'Норвегия - США', 'Германия-Швеция', 'Франция - Германия - Италия',\n",
       "       'Франция-Германия-Австрия', 'КНР-США',\n",
       "       'Великобритания - Ирландия - США ',\n",
       "       'Дания - Латвия - Россия - США', 'Финляндия - Польша',\n",
       "       'Германия - Бельгия', 'Германия - США - Франция - Испания',\n",
       "       'Бельгия-Германия-Канада-Франция-США-Великобритания',\n",
       "       'Нидерланды - Бельгия - Люксембург', 'Канада-Германия',\n",
       "       'Люксембург - Бельгия - Франция', 'США-Великобритания-Австралия',\n",
       "       'Великобритания, Новая Зеландия', 'Бельгия, Великобритания, США',\n",
       "       'Великобритания, Австралия', 'Исландия, Бельгия',\n",
       "       'Испания - Швейцария - Великобритания - Германия - Новая Зеландия - Нидерланды - Канада',\n",
       "       'Франция, Бельгия', 'Великобритания, США', 'Киргизия-Россия',\n",
       "       'Германия, США', 'Великобритания, США, Испания',\n",
       "       'Италия - Швейцария - Германия', 'Россия, Армения',\n",
       "       'Франция, Германия', 'Китай, Канада, США', 'Германия, Австралия',\n",
       "       'КНР, США', 'США, Великобритания, Люксембург',\n",
       "       'Испания, Ирландия, Бельгия, Франция',\n",
       "       'Великобритания - Гонконг - Венгрия - США - Ирландия',\n",
       "       'США - Пуэрто Рико', 'Аргентина - Испания - Уругвай',\n",
       "       'Израиль - Германия - Франция - Швейцария',\n",
       "       'Великобритания - Мексика - США', 'Испания - Болгария - США',\n",
       "       'Россия-Словакия-Чехия',\n",
       "       'Швейцария - КНР - США - Россия - Республика Корея - Великобритания',\n",
       "       'Россия, Нидерланды, Финляндия',\n",
       "       'Испания - Бельгия - Франция - Португалия - Великобритания',\n",
       "       'Бразилия - Португалия - Франция', 'Швеция - Норвегия',\n",
       "       'Франция - Польша - Бельгия', 'CША', 'Китай, США',\n",
       "       'Италия, Франция, Германия', 'Германия - Австрия - Франция',\n",
       "       'Чехия - Словакия - Хорватия', 'Россия, Польша, Финляндия',\n",
       "       'Россия, Латвия, Чешская Республика',\n",
       "       'Франция - Великобритания - Камбоджа - США - КНР',\n",
       "       'Чехия - Испания - США', 'Германия - Люксембург - Дания',\n",
       "       'Великобритания - Испания - Германия', 'Дания - Исландия',\n",
       "       'Германия, Франция, Великобритания',\n",
       "       'Великобритания - Испания - Италия - Латвия - Франция - Эстония',\n",
       "       'Дания, Швеция, Великобритания, Франция, Германия, Норвегия, Финляндия, Нидерланды, Италия',\n",
       "       'Польша - Франция - Великобритания',\n",
       "       'Дания, Норвегия, Венгрия, Чехия',\n",
       "       'Дания - Франция - Германия - Швеция',\n",
       "       'Великобритания, Швеция, США',\n",
       "       'Канада, Франция, Италия, Швейцария, США', 'США, Индия',\n",
       "       'США - Великобритания - Германия - - Швеция - Канада',\n",
       "       'Италия, Франция', 'Республика Беларусь, Германия, США, Россия',\n",
       "       'Италия-Швейцария-Франция-Германия ',\n",
       "       'Россия - Франция - Великобритания - Латвия', 'Россия-Беларусь',\n",
       "       'Франция - Испания - Румыния - США - Бельгия', 'Италия-США',\n",
       "       'Россия, Австрия', 'Ирландия - Великобритания - США',\n",
       "       'Швейцария, Великобритания, Франция, США, Ирландия',\n",
       "       'Мексика, Франция, Германия, Дания, Швеция', 'Нидерланды, Бельгия',\n",
       "       'Швеция, Норвегия, Финляндия, Франция', 'Испания, Франция, Италия',\n",
       "       'Испания-Франция-Греция-Индия-США-Россия-Великобритания',\n",
       "       'Великобритания - Япония - США',\n",
       "       'Дания, Канада, Норвегия, Австралия, США', 'Аргентина, Испания',\n",
       "       'Россия, Германия, Казахстан, Польша, Китай',\n",
       "       'Португалия, Франция, Польша, США', 'США - Канада - Аргентина',\n",
       "       'Ливан-США', 'Япония - США', 'США, Гонконг ',\n",
       "       'Франция - Россия - Швейцария - Румыния - Венгрия',\n",
       "       'Аргентина-Испания', 'Россия, Сербия', 'США - Болгария - Мексика',\n",
       "       'США - Великобритания - Швейцария - Франция',\n",
       "       'Таиланд - КНР - США',\n",
       "       'Великобритания, Нидерланды, Польша, Швейцария, Франция',\n",
       "       'Ирландия - США',\n",
       "       'Германия - Франция - Великобритания - Польша - США',\n",
       "       'Великобритания-Франция-Италия', 'США - Австралия - Индия',\n",
       "       'Франция - КНР', 'Великобритания - Израиль',\n",
       "       'Великобритания - Норвегия - Кения - Хорватия',\n",
       "       'США - Бразилия - Великобритания - Канада', 'Германия, Бельгия',\n",
       "       'Австралия, Канада', 'США, Великобритания, Франция',\n",
       "       'Кения, Германия', 'Нидерланды, Бельгия, Люксембург', 'Колумбия',\n",
       "       'Латвия - Франция', 'Ирландия, Великобритания',\n",
       "       'Франция - Израиль - Германия', 'Швеция, Франция, Великобритания',\n",
       "       'Бельгия - Люксембург', 'Германия - Бельгия - Великобритания',\n",
       "       'Испания, Франция, Великобритания, Дания, Бельгия, Германия',\n",
       "       'Румыния, ЮАР, Иран, Франция, Канада, Великобритания',\n",
       "       'Германия, Франция', 'США, Япония',\n",
       "       'США, Великобритания, Ирландия, Люксембург', 'Республика Армения',\n",
       "       'США, Франция, Япония', 'Япония, США', 'Канада, США',\n",
       "       'Республика Кипр - Россия',\n",
       "       'Дания - Франция - Италия - Бельгия - Нидерланды',\n",
       "       'Россия - Грузия', 'Италия, Германия', 'Норвегия, Швеция, Дания',\n",
       "       'Республика Кипр, Россия', 'КНР, Индия, Гонконг, США',\n",
       "       'Израиль, Украина', 'США, Россия', 'США - КНР - Индия - Ю.Корея',\n",
       "       'США - Швеция', 'Франция, Канада', 'Россия-Китай',\n",
       "       'Канада, Великобритания', 'США, Германия',\n",
       "       'Канада, США, Каймановы острова',\n",
       "       'Бразилия, Уругвай, Дания, Норвегия, Чили, Швеция',\n",
       "       'Пуэрто-Рико, Великобритания, США',\n",
       "       'Уругвай - Аргентина - Испания',\n",
       "       'США - Великобритания - Италия - Израиль - Сербия - Индия',\n",
       "       'США - Канада - Франция - Индия', 'Великобритания - Россия - КНР',\n",
       "       'Франция, Новая Зеландия', 'Франция, Люксембург, Бельгия',\n",
       "       'Канада, США, Норвегия', 'Италия, Испания',\n",
       "       'Испания - Германия - Нидерланды', 'Бразилия - США - КНР ',\n",
       "       'Великобритания, Германия, Дания, США', '2019',\n",
       "       'Италия - Фрация - Бразилия - Германия',\n",
       "       'Норвегия - Швеция - Россия', 'Великобритания, Япония, США',\n",
       "       'США, Канада', 'Бельгия, Канада',\n",
       "       'Великобритания - Австралия - США', 'КНР - США ',\n",
       "       'Франция - Финляндия', 'Колумбия - США',\n",
       "       'Великобритания, Франция, Бельгия', 'Норвегия - Нидерланды',\n",
       "       'Великобритания, Канада, США', 'Япония, Великобритания',\n",
       "       'Италия - Бельгия - Франция', 'Россия, Бельгия, Финляндия',\n",
       "       'США, Украина', 'Франция, Норвегия',\n",
       "       'Великобритания, Южная Корея, Канада, США, Индия, Китай, Япония',\n",
       "       'Канада - Норвегия', 'Республика Кипр-Россия', 'Германия, Россия',\n",
       "       'Польша - Франция - Испания - Бразилия - Швеция',\n",
       "       'Австрия, Великобритания, Германия', 'Франция - Сенегал - Бельгия',\n",
       "       'Франция, Бельгия, Люксембург', 'Финляндия, Латвия', 'Пакистан',\n",
       "       'Германия, Франция, США', 'Германия - Великобритания - США',\n",
       "       'КНР - Франция', 'Дания, Норвегия, Швеция, Исландия',\n",
       "       'Республика Кипр, США, Россия', 'Новая Зеландия - КНР',\n",
       "       'Дания - Канада - Швеция - Франция - Германия - Великобритания - США'],\n",
       "      dtype=object)"
      ]
     },
     "execution_count": 29,
     "metadata": {},
     "output_type": "execute_result"
    }
   ],
   "source": [
    "dictionary3 = {'СССР    ': 'СССР', ' СССР': 'СССР', 'СССР  ': 'СССР', 'СССР ': 'СССР', ' СССР ': 'СССР',\n",
    "             ' СССР   ': 'СССР', 'СССР     ': 'СССР','СССР    ': 'СССР', 'Сша': 'США'}\n",
    "\n",
    "df['production_country'] = df['production_country'].replace(dictionary3, regex=True)\n",
    "print(len(df['production_country'].unique()))\n",
    "df['production_country'].unique()"
   ]
  },
  {
   "cell_type": "markdown",
   "id": "3c0732ce",
   "metadata": {},
   "source": [
    "**Вывод** - Много неявных дуюликотов, вызванных тем, что данные заносятся с пробелами, отступами, есть разница при написании за счет использования строчных и прописных букв, если несколько стран, то используются роазные разделители. Исправила те неявные дубликаты, которые смогла увидеть. "
   ]
  },
  {
   "cell_type": "markdown",
   "id": "16713ccd",
   "metadata": {},
   "source": [
    "**Проваеряем наличие неявных дубликатов в столбце director и исследуем данные в нем.**"
   ]
  },
  {
   "cell_type": "code",
   "execution_count": 30,
   "id": "db575571",
   "metadata": {},
   "outputs": [
    {
     "data": {
      "text/plain": [
       "О.Семёнова                               47\n",
       "Д.Червяцов                               17\n",
       "Стивен Содерберг                         17\n",
       "Ридли Скотт                              16\n",
       "Тиль Швайгер                             14\n",
       "                                         ..\n",
       "Бен Блейн, Крис Блейн                     1\n",
       "Тим Фельбаум                              1\n",
       "Ксави Хименез                             1\n",
       "Айрон Блейз, Роберт Уокер                 1\n",
       "Д.Цибаускайте (псевдоним - Дали Руст)     1\n",
       "Name: director, Length: 4811, dtype: int64"
      ]
     },
     "metadata": {},
     "output_type": "display_data"
    },
    {
     "data": {
      "text/plain": [
       "50                        С.Соловьев\n",
       "51    Иоахим Реннинг, Эспен Сандберг\n",
       "52                       Ролан Быков\n",
       "53                     Семен Туманов\n",
       "54                       Питер Сигал\n",
       "55                            М.Ромм\n",
       "56                          Г.Полока\n",
       "57                         Ю.Райзман\n",
       "58        Дрю Дэйуолт, Дэвид Шнейдер\n",
       "59                        С.Самсонов\n",
       "60         Айрон Блейз, Роберт Уокер\n",
       "61                      К.Шахназаров\n",
       "62                          И.Гостев\n",
       "63                         Е.Матвеев\n",
       "64                       Т.Лукашевич\n",
       "65                        В.Павлович\n",
       "66                      Эмиль Лотяну\n",
       "67                      Тиль Швайгер\n",
       "68                          А.Птушко\n",
       "69                        Г.Натансон\n",
       "70                          В.Азаров\n",
       "Name: director, dtype: object"
      ]
     },
     "metadata": {},
     "output_type": "display_data"
    },
    {
     "data": {
      "text/plain": [
       "4812"
      ]
     },
     "execution_count": 30,
     "metadata": {},
     "output_type": "execute_result"
    }
   ],
   "source": [
    "display(df['director'].value_counts())\n",
    "display(df.loc[50:70,'director'])\n",
    "len(df['director'].unique())"
   ]
  },
  {
   "cell_type": "markdown",
   "id": "2eb3871a",
   "metadata": {},
   "source": [
    "**Вывод** - Неявные дубликаты есть, но выявить их в таком количестве данных сложно, нашла один из таких дубликатов ранее (ХЭрольд Рэмис, Гарольд Реймис), но не уверена, что нет еще другого написания. Свзяано возникновение неявных дубликатов с тем, что ФИО режесеров пишут по разному. В ряде случаев это связано с переводом с одного языка на  другой, где-то указано имя и фамилия полностью, где-то инициалы и фамилия, может быть разное количество пропусков между словами и т.п."
   ]
  },
  {
   "cell_type": "markdown",
   "id": "f2da59e1",
   "metadata": {},
   "source": [
    "**Исследуем уникальные занчения и данные в столбце age_restriction**"
   ]
  },
  {
   "cell_type": "code",
   "execution_count": 31,
   "id": "1e6c5c50",
   "metadata": {},
   "outputs": [
    {
     "data": {
      "text/plain": [
       "array(['«18+» - запрещено для детей', '«6+» - для детей старше 6 лет',\n",
       "       '«12+» - для детей старше 12 лет',\n",
       "       '«16+» - для детей старше 16 лет',\n",
       "       '«0+» - для любой зрительской аудитории'], dtype=object)"
      ]
     },
     "execution_count": 31,
     "metadata": {},
     "output_type": "execute_result"
    }
   ],
   "source": [
    "df['age_restriction'].unique()"
   ]
  },
  {
   "cell_type": "markdown",
   "id": "b8f2e4b9",
   "metadata": {},
   "source": [
    "Для дальнейшего удобства работы с данным столбцом изменю названия категорий"
   ]
  },
  {
   "cell_type": "code",
   "execution_count": 32,
   "id": "28dd3d6b",
   "metadata": {},
   "outputs": [
    {
     "data": {
      "text/plain": [
       "array(['18+', '6+', '12+', '16+', '0+'], dtype=object)"
      ]
     },
     "execution_count": 32,
     "metadata": {},
     "output_type": "execute_result"
    }
   ],
   "source": [
    "dictionary4 = {'«18+» - запрещено для детей': '18+', '«6+» - для детей старше 6 лет': '6+',\n",
    "               '«12+» - для детей старше 12 лет': '12+', '«16+» - для детей старше 16 лет': '16+', \n",
    "               '«0+» - для любой зрительской аудитории': '0+'}\n",
    "\n",
    "df['age_restriction'] = df['age_restriction'].replace(dictionary4)\n",
    "df['age_restriction'].unique()"
   ]
  },
  {
   "cell_type": "markdown",
   "id": "7caf4b1f",
   "metadata": {},
   "source": [
    "**Вывод** Проанализировав инфоромацию, содержащуюся в столбцах с категориальными значениями, можно выделить общую проблему - данные занесены по разномму (нет стандарта занечения информации), используются разные разделители, разное количество пробелов, разное количенство отступов, разный формат записи ФИО, наблюдаются разное написание слов при переводе их на русский."
   ]
  },
  {
   "cell_type": "markdown",
   "id": "a6236446",
   "metadata": {},
   "source": [
    "**Изучаем столбцы с количественными занчениями методом describe() и строим гистограммы для всех столбцов**"
   ]
  },
  {
   "cell_type": "code",
   "execution_count": 33,
   "id": "80885a6c",
   "metadata": {},
   "outputs": [
    {
     "data": {
      "text/html": [
       "<div>\n",
       "<style scoped>\n",
       "    .dataframe tbody tr th:only-of-type {\n",
       "        vertical-align: middle;\n",
       "    }\n",
       "\n",
       "    .dataframe tbody tr th {\n",
       "        vertical-align: top;\n",
       "    }\n",
       "\n",
       "    .dataframe thead th {\n",
       "        text-align: right;\n",
       "    }\n",
       "</style>\n",
       "<table border=\"1\" class=\"dataframe\">\n",
       "  <thead>\n",
       "    <tr style=\"text-align: right;\">\n",
       "      <th></th>\n",
       "      <th>refundable_support</th>\n",
       "      <th>nonrefundable_support</th>\n",
       "      <th>budget</th>\n",
       "      <th>ratings</th>\n",
       "      <th>box_office</th>\n",
       "    </tr>\n",
       "  </thead>\n",
       "  <tbody>\n",
       "    <tr>\n",
       "      <th>count</th>\n",
       "      <td>3.320000e+02</td>\n",
       "      <td>3.320000e+02</td>\n",
       "      <td>3.320000e+02</td>\n",
       "      <td>6519.000000</td>\n",
       "      <td>3.158000e+03</td>\n",
       "    </tr>\n",
       "    <tr>\n",
       "      <th>mean</th>\n",
       "      <td>1.186446e+07</td>\n",
       "      <td>4.898099e+07</td>\n",
       "      <td>1.272297e+08</td>\n",
       "      <td>6.488173</td>\n",
       "      <td>7.647870e+07</td>\n",
       "    </tr>\n",
       "    <tr>\n",
       "      <th>std</th>\n",
       "      <td>2.491656e+07</td>\n",
       "      <td>5.998012e+07</td>\n",
       "      <td>1.885883e+08</td>\n",
       "      <td>1.114638</td>\n",
       "      <td>2.403531e+08</td>\n",
       "    </tr>\n",
       "    <tr>\n",
       "      <th>min</th>\n",
       "      <td>0.000000e+00</td>\n",
       "      <td>0.000000e+00</td>\n",
       "      <td>0.000000e+00</td>\n",
       "      <td>1.000000</td>\n",
       "      <td>0.000000e+00</td>\n",
       "    </tr>\n",
       "    <tr>\n",
       "      <th>25%</th>\n",
       "      <td>0.000000e+00</td>\n",
       "      <td>2.500000e+07</td>\n",
       "      <td>4.200000e+07</td>\n",
       "      <td>5.900000</td>\n",
       "      <td>8.623900e+04</td>\n",
       "    </tr>\n",
       "    <tr>\n",
       "      <th>50%</th>\n",
       "      <td>0.000000e+00</td>\n",
       "      <td>3.000000e+07</td>\n",
       "      <td>6.864992e+07</td>\n",
       "      <td>6.600000</td>\n",
       "      <td>2.327988e+06</td>\n",
       "    </tr>\n",
       "    <tr>\n",
       "      <th>75%</th>\n",
       "      <td>1.500000e+07</td>\n",
       "      <td>4.037500e+07</td>\n",
       "      <td>1.419853e+08</td>\n",
       "      <td>7.200000</td>\n",
       "      <td>2.397967e+07</td>\n",
       "    </tr>\n",
       "    <tr>\n",
       "      <th>max</th>\n",
       "      <td>1.800000e+08</td>\n",
       "      <td>4.000000e+08</td>\n",
       "      <td>2.305074e+09</td>\n",
       "      <td>9.900000</td>\n",
       "      <td>3.073569e+09</td>\n",
       "    </tr>\n",
       "  </tbody>\n",
       "</table>\n",
       "</div>"
      ],
      "text/plain": [
       "       refundable_support  nonrefundable_support        budget      ratings  \\\n",
       "count        3.320000e+02           3.320000e+02  3.320000e+02  6519.000000   \n",
       "mean         1.186446e+07           4.898099e+07  1.272297e+08     6.488173   \n",
       "std          2.491656e+07           5.998012e+07  1.885883e+08     1.114638   \n",
       "min          0.000000e+00           0.000000e+00  0.000000e+00     1.000000   \n",
       "25%          0.000000e+00           2.500000e+07  4.200000e+07     5.900000   \n",
       "50%          0.000000e+00           3.000000e+07  6.864992e+07     6.600000   \n",
       "75%          1.500000e+07           4.037500e+07  1.419853e+08     7.200000   \n",
       "max          1.800000e+08           4.000000e+08  2.305074e+09     9.900000   \n",
       "\n",
       "         box_office  \n",
       "count  3.158000e+03  \n",
       "mean   7.647870e+07  \n",
       "std    2.403531e+08  \n",
       "min    0.000000e+00  \n",
       "25%    8.623900e+04  \n",
       "50%    2.327988e+06  \n",
       "75%    2.397967e+07  \n",
       "max    3.073569e+09  "
      ]
     },
     "execution_count": 33,
     "metadata": {},
     "output_type": "execute_result"
    }
   ],
   "source": [
    "df[['refundable_support', 'nonrefundable_support', 'budget', 'ratings', 'box_office']].describe()"
   ]
  },
  {
   "cell_type": "code",
   "execution_count": 34,
   "id": "dd199c27",
   "metadata": {},
   "outputs": [
    {
     "data": {
      "text/plain": [
       "array([[<AxesSubplot:title={'center':'refundable_support'}>,\n",
       "        <AxesSubplot:title={'center':'nonrefundable_support'}>],\n",
       "       [<AxesSubplot:title={'center':'budget'}>,\n",
       "        <AxesSubplot:title={'center':'ratings'}>],\n",
       "       [<AxesSubplot:title={'center':'box_office'}>, <AxesSubplot:>]],\n",
       "      dtype=object)"
      ]
     },
     "execution_count": 34,
     "metadata": {},
     "output_type": "execute_result"
    },
    {
     "data": {
      "image/png": "[encoded data removed]",
      "text/plain": [
       "<Figure size 432x288 with 6 Axes>"
      ]
     },
     "metadata": {
      "needs_background": "light"
     },
     "output_type": "display_data"
    }
   ],
   "source": [
    "df[['refundable_support', 'nonrefundable_support', 'budget', 'ratings', 'box_office']].hist(bins=30)"
   ]
  },
  {
   "cell_type": "markdown",
   "id": "bac2549f",
   "metadata": {},
   "source": [
    "**Вывод** - Распределение значений в столбце 'ratings' выглядит вполне логичным, близким к нормальному, поэтому в этом столбце все оставляю как есть. Данные в дргих столбцах надо рассмотреть более подробно."
   ]
  },
  {
   "cell_type": "markdown",
   "id": "0d4f208f",
   "metadata": {},
   "source": [
    "Так как в задании указано, что столбец budget включает в себя полный объем государственной поддержки, то проверояем нет ли такой ситуации, что refundable_support + nonrefundable_support больше budget'. Если такие данные сеть, то они некорректны и лучше их удалить."
   ]
  },
  {
   "cell_type": "code",
   "execution_count": 35,
   "id": "d705c50c",
   "metadata": {},
   "outputs": [
    {
     "data": {
      "text/html": [
       "<div>\n",
       "<style scoped>\n",
       "    .dataframe tbody tr th:only-of-type {\n",
       "        vertical-align: middle;\n",
       "    }\n",
       "\n",
       "    .dataframe tbody tr th {\n",
       "        vertical-align: top;\n",
       "    }\n",
       "\n",
       "    .dataframe thead th {\n",
       "        text-align: right;\n",
       "    }\n",
       "</style>\n",
       "<table border=\"1\" class=\"dataframe\">\n",
       "  <thead>\n",
       "    <tr style=\"text-align: right;\">\n",
       "      <th></th>\n",
       "      <th>title</th>\n",
       "      <th>puNumber</th>\n",
       "      <th>show_start_date</th>\n",
       "      <th>type</th>\n",
       "      <th>film_studio</th>\n",
       "      <th>production_country</th>\n",
       "      <th>director</th>\n",
       "      <th>producer</th>\n",
       "      <th>age_restriction</th>\n",
       "      <th>refundable_support</th>\n",
       "      <th>nonrefundable_support</th>\n",
       "      <th>budget</th>\n",
       "      <th>financing_source</th>\n",
       "      <th>ratings</th>\n",
       "      <th>genres</th>\n",
       "      <th>box_office</th>\n",
       "    </tr>\n",
       "  </thead>\n",
       "  <tbody>\n",
       "    <tr>\n",
       "      <th>2053</th>\n",
       "      <td>14+</td>\n",
       "      <td>111023614</td>\n",
       "      <td>2014-12-19 12:00:00+00:00</td>\n",
       "      <td>Художественный</td>\n",
       "      <td>ООО Киностудия  \"Сентябрь\"</td>\n",
       "      <td>Россия</td>\n",
       "      <td>А.Зайцев</td>\n",
       "      <td>О.Гранина, А.Зайцев</td>\n",
       "      <td>16+</td>\n",
       "      <td>0.0</td>\n",
       "      <td>23000000.0</td>\n",
       "      <td>0.0</td>\n",
       "      <td>Министерство культуры, Фонд кино</td>\n",
       "      <td>6.6</td>\n",
       "      <td>мелодрама</td>\n",
       "      <td>1.023402e+07</td>\n",
       "    </tr>\n",
       "    <tr>\n",
       "      <th>2058</th>\n",
       "      <td>Дуxless 2</td>\n",
       "      <td>111000415</td>\n",
       "      <td>2015-01-26 12:00:00+00:00</td>\n",
       "      <td>Художественный</td>\n",
       "      <td>ООО \"Киностудия \"Слово\", ООО \"Арт Пикчерс Студия\"</td>\n",
       "      <td>Россия</td>\n",
       "      <td>Р.Прыгунов</td>\n",
       "      <td>П.Ануров, Ф.Бондарчук, Д.Рудовский</td>\n",
       "      <td>16+</td>\n",
       "      <td>0.0</td>\n",
       "      <td>75000000.0</td>\n",
       "      <td>0.0</td>\n",
       "      <td>Фонд кино</td>\n",
       "      <td>6.6</td>\n",
       "      <td>драма</td>\n",
       "      <td>4.461635e+08</td>\n",
       "    </tr>\n",
       "    <tr>\n",
       "      <th>2472</th>\n",
       "      <td>Воин (2015)</td>\n",
       "      <td>111017315</td>\n",
       "      <td>2015-09-28 12:00:00+00:00</td>\n",
       "      <td>Художественный</td>\n",
       "      <td>ООО \"Форпост Продакшн\", ООО \"Арт Пикчерс Студия\"</td>\n",
       "      <td>Россия</td>\n",
       "      <td>А.Андрианов</td>\n",
       "      <td>ООО \"Арт Пикчерс Студия\"</td>\n",
       "      <td>12+</td>\n",
       "      <td>10000000.0</td>\n",
       "      <td>70000000.0</td>\n",
       "      <td>0.0</td>\n",
       "      <td>Фонд кино</td>\n",
       "      <td>7.8</td>\n",
       "      <td>боевик,драма,криминал</td>\n",
       "      <td>1.965724e+08</td>\n",
       "    </tr>\n",
       "    <tr>\n",
       "      <th>2532</th>\n",
       "      <td>Бармен.</td>\n",
       "      <td>111009615</td>\n",
       "      <td>2015-05-26 12:00:00+00:00</td>\n",
       "      <td>Художественный</td>\n",
       "      <td>АО \"ВайТ Медиа\", ООО \"Арт Пикчерс Студия\"</td>\n",
       "      <td>Россия</td>\n",
       "      <td>Д.Штурманова</td>\n",
       "      <td>Т.Вайнштейн</td>\n",
       "      <td>16+</td>\n",
       "      <td>20000000.0</td>\n",
       "      <td>0.0</td>\n",
       "      <td>0.0</td>\n",
       "      <td>Фонд кино</td>\n",
       "      <td>6.2</td>\n",
       "      <td>комедия,фэнтези</td>\n",
       "      <td>6.741897e+07</td>\n",
       "    </tr>\n",
       "    <tr>\n",
       "      <th>2615</th>\n",
       "      <td>Савва. Сердце воина</td>\n",
       "      <td>114001715</td>\n",
       "      <td>2015-07-21 12:00:00+00:00</td>\n",
       "      <td>Анимационный</td>\n",
       "      <td>ООО \"Глюкоза Продакшн\", ООО \"Арт Пикчерс Студия\"</td>\n",
       "      <td>Россия</td>\n",
       "      <td>М.Фадеев</td>\n",
       "      <td>А.Чистяков</td>\n",
       "      <td>6+</td>\n",
       "      <td>60000000.0</td>\n",
       "      <td>100000000.0</td>\n",
       "      <td>0.0</td>\n",
       "      <td>Фонд кино</td>\n",
       "      <td>4.6</td>\n",
       "      <td>мультфильм,приключения,фэнтези</td>\n",
       "      <td>1.844876e+08</td>\n",
       "    </tr>\n",
       "    <tr>\n",
       "      <th>2684</th>\n",
       "      <td>Тряпичный союз</td>\n",
       "      <td>111010215</td>\n",
       "      <td>2015-06-08 12:00:00+00:00</td>\n",
       "      <td>Художественный</td>\n",
       "      <td>ООО \"Кинокомпания \"КОКТЕБЕЛЬ\"</td>\n",
       "      <td>Россия</td>\n",
       "      <td>М.Местецкий</td>\n",
       "      <td>Р.Борисевич, А.Кушаев</td>\n",
       "      <td>18+</td>\n",
       "      <td>0.0</td>\n",
       "      <td>59000000.0</td>\n",
       "      <td>0.0</td>\n",
       "      <td>Фонд кино</td>\n",
       "      <td>6.3</td>\n",
       "      <td>комедия,драма</td>\n",
       "      <td>1.957739e+06</td>\n",
       "    </tr>\n",
       "    <tr>\n",
       "      <th>2788</th>\n",
       "      <td>Срочно выйду замуж</td>\n",
       "      <td>111017115</td>\n",
       "      <td>2015-09-30 12:00:00+00:00</td>\n",
       "      <td>Художественный</td>\n",
       "      <td>АО \"ВайТ Медиа\", ООО \"Арт Пикчерс Студия\"</td>\n",
       "      <td>Россия</td>\n",
       "      <td>С Чекалов</td>\n",
       "      <td>Ф.Бондарчук, Т.Вайнштейн, Д.Рудовский</td>\n",
       "      <td>16+</td>\n",
       "      <td>0.0</td>\n",
       "      <td>35000000.0</td>\n",
       "      <td>0.0</td>\n",
       "      <td>Фонд кино</td>\n",
       "      <td>5.1</td>\n",
       "      <td>комедия,мелодрама</td>\n",
       "      <td>7.293778e+07</td>\n",
       "    </tr>\n",
       "    <tr>\n",
       "      <th>2874</th>\n",
       "      <td>Помню - не помню!</td>\n",
       "      <td>111004916</td>\n",
       "      <td>2016-03-01 12:00:00+00:00</td>\n",
       "      <td>Художественный</td>\n",
       "      <td>ООО \"КиноФирма\"</td>\n",
       "      <td>Россия</td>\n",
       "      <td>В.Ровенский</td>\n",
       "      <td>ООО \"КиноФирма\"</td>\n",
       "      <td>12+</td>\n",
       "      <td>0.0</td>\n",
       "      <td>6000000.0</td>\n",
       "      <td>0.0</td>\n",
       "      <td>Министерство культуры</td>\n",
       "      <td>4.3</td>\n",
       "      <td>комедия</td>\n",
       "      <td>1.536293e+07</td>\n",
       "    </tr>\n",
       "    <tr>\n",
       "      <th>3047</th>\n",
       "      <td>Любовь с ограничениями</td>\n",
       "      <td>111008216</td>\n",
       "      <td>2016-04-29 12:00:00+00:00</td>\n",
       "      <td>Художественный</td>\n",
       "      <td>АО \"ВайТ Медиа\", ООО \"Арт Пикчерс Студия\"</td>\n",
       "      <td>Россия</td>\n",
       "      <td>Д.Тюрин</td>\n",
       "      <td>Ф.Бондарчук, Т.Вайнштейн, Д.Рудовский</td>\n",
       "      <td>16+</td>\n",
       "      <td>19000000.0</td>\n",
       "      <td>51000000.0</td>\n",
       "      <td>0.0</td>\n",
       "      <td>Фонд кино</td>\n",
       "      <td>6.3</td>\n",
       "      <td>комедия,мелодрама</td>\n",
       "      <td>7.029905e+07</td>\n",
       "    </tr>\n",
       "    <tr>\n",
       "      <th>3565</th>\n",
       "      <td>Притяжение (2016)</td>\n",
       "      <td>111018116</td>\n",
       "      <td>2016-12-16 12:00:00+00:00</td>\n",
       "      <td>Художественный</td>\n",
       "      <td>ООО \"Водород 2011\",  ООО \"Арт Пикчерс Студия\"</td>\n",
       "      <td>Россия</td>\n",
       "      <td>Ф.Бондарчук</td>\n",
       "      <td>ООО \"Арт Пикчерс Студия\"</td>\n",
       "      <td>12+</td>\n",
       "      <td>0.0</td>\n",
       "      <td>250000000.0</td>\n",
       "      <td>0.0</td>\n",
       "      <td>Фонд кино</td>\n",
       "      <td>5.6</td>\n",
       "      <td>фантастика</td>\n",
       "      <td>1.038321e+09</td>\n",
       "    </tr>\n",
       "    <tr>\n",
       "      <th>3675</th>\n",
       "      <td>Чудо-юдо</td>\n",
       "      <td>114001817</td>\n",
       "      <td>2017-06-27 12:00:00+00:00</td>\n",
       "      <td>Анимационный</td>\n",
       "      <td>ООО \"КиноФирма\"</td>\n",
       "      <td>Россия</td>\n",
       "      <td>А.Лукичев</td>\n",
       "      <td>ООО \"КиноФирма\"</td>\n",
       "      <td>6+</td>\n",
       "      <td>20000000.0</td>\n",
       "      <td>20000000.0</td>\n",
       "      <td>0.0</td>\n",
       "      <td>Фонд кино</td>\n",
       "      <td>5.2</td>\n",
       "      <td>мультфильм,фэнтези,семейный</td>\n",
       "      <td>5.510801e+07</td>\n",
       "    </tr>\n",
       "    <tr>\n",
       "      <th>3739</th>\n",
       "      <td>Мифы</td>\n",
       "      <td>111004317</td>\n",
       "      <td>2017-06-07 12:00:00+00:00</td>\n",
       "      <td>Художественный</td>\n",
       "      <td>ООО \"ХАЙПФИЛМ\", ООО \"Арт Пикчерс Студия\"</td>\n",
       "      <td>Россия</td>\n",
       "      <td>А.Молочников</td>\n",
       "      <td>Ф.Бондарчук, Д.Рудовский, И.Стюарт, М.Османн, ...</td>\n",
       "      <td>16+</td>\n",
       "      <td>25000000.0</td>\n",
       "      <td>20000000.0</td>\n",
       "      <td>0.0</td>\n",
       "      <td>Фонд кино</td>\n",
       "      <td>4.8</td>\n",
       "      <td>комедия</td>\n",
       "      <td>5.045195e+07</td>\n",
       "    </tr>\n",
       "    <tr>\n",
       "      <th>5673</th>\n",
       "      <td>Селфи</td>\n",
       "      <td>111012117</td>\n",
       "      <td>2018-02-01 12:00:00+00:00</td>\n",
       "      <td>Художественный</td>\n",
       "      <td>ООО \"Киностудия \"Слово\", ООО \"Арт Пикчерс Студия\"</td>\n",
       "      <td>Россия</td>\n",
       "      <td>Н.Хомерики</td>\n",
       "      <td>П.Ануров, Ф.Бондарчук, Д.Рудовский</td>\n",
       "      <td>16+</td>\n",
       "      <td>20000000.0</td>\n",
       "      <td>40000000.0</td>\n",
       "      <td>0.0</td>\n",
       "      <td>Фонд кино</td>\n",
       "      <td>5.8</td>\n",
       "      <td>триллер,драма</td>\n",
       "      <td>2.251964e+08</td>\n",
       "    </tr>\n",
       "    <tr>\n",
       "      <th>5806</th>\n",
       "      <td>Два хвоста</td>\n",
       "      <td>114001018</td>\n",
       "      <td>2018-05-31 12:00:00+00:00</td>\n",
       "      <td>Анимационный</td>\n",
       "      <td>ООО \"ЛИЦЕНЗИОННЫЕ БРЕНДЫ\"</td>\n",
       "      <td>Россия</td>\n",
       "      <td>В.Ровенский, Н.Лопато, В.Азеев</td>\n",
       "      <td>ООО \"ЛИЦЕНЗИОННЫЕ БРЕНДЫ\"</td>\n",
       "      <td>6+</td>\n",
       "      <td>10000000.0</td>\n",
       "      <td>60000000.0</td>\n",
       "      <td>0.0</td>\n",
       "      <td>Фонд кино</td>\n",
       "      <td>5.0</td>\n",
       "      <td>мультфильм,детский</td>\n",
       "      <td>1.065143e+08</td>\n",
       "    </tr>\n",
       "    <tr>\n",
       "      <th>6008</th>\n",
       "      <td>Принцесса и дракон</td>\n",
       "      <td>114003018</td>\n",
       "      <td>2018-08-23 12:00:00+00:00</td>\n",
       "      <td>Анимационный</td>\n",
       "      <td>ООО \"ЛИЦЕНЗИОННЫЕ БРЕНДЫ\"</td>\n",
       "      <td>Россия</td>\n",
       "      <td>М.Нефедова</td>\n",
       "      <td>ООО \"ЛИЦЕНЗИОННЫЕ БРЕНДЫ\"</td>\n",
       "      <td>6+</td>\n",
       "      <td>40000000.0</td>\n",
       "      <td>40000000.0</td>\n",
       "      <td>0.0</td>\n",
       "      <td>Фонд кино</td>\n",
       "      <td>5.2</td>\n",
       "      <td>мультфильм,фэнтези,детский</td>\n",
       "      <td>8.336633e+07</td>\n",
       "    </tr>\n",
       "    <tr>\n",
       "      <th>6323</th>\n",
       "      <td>Баба Яга</td>\n",
       "      <td>114006518</td>\n",
       "      <td>2018-11-08 12:00:00+00:00</td>\n",
       "      <td>Анимационный</td>\n",
       "      <td>ООО \"Арт Пикчерс Студия\"</td>\n",
       "      <td>Россия</td>\n",
       "      <td>В.Саков</td>\n",
       "      <td>ООО \"Арт Пикчерс Студия\", ООО \"КРИЭЙТИВ АНИМЭЙ...</td>\n",
       "      <td>6+</td>\n",
       "      <td>0.0</td>\n",
       "      <td>138969465.0</td>\n",
       "      <td>0.0</td>\n",
       "      <td>Фонд кино</td>\n",
       "      <td>NaN</td>\n",
       "      <td>NaN</td>\n",
       "      <td>1.334699e+06</td>\n",
       "    </tr>\n",
       "    <tr>\n",
       "      <th>6823</th>\n",
       "      <td>Большое путешествие</td>\n",
       "      <td>114002419</td>\n",
       "      <td>2019-04-20 12:00:00+00:00</td>\n",
       "      <td>Анимационный</td>\n",
       "      <td>ООО \"ЛИЦЕНЗИОННЫЕ БРЕНДЫ\"</td>\n",
       "      <td>Россия</td>\n",
       "      <td>Н.Лопато, В.Ровенский</td>\n",
       "      <td>ООО \"ЛИЦЕНЗИОННЫЕ БРЕНДЫ\"</td>\n",
       "      <td>6+</td>\n",
       "      <td>60000000.0</td>\n",
       "      <td>120000000.0</td>\n",
       "      <td>0.0</td>\n",
       "      <td>Фонд кино</td>\n",
       "      <td>6.2</td>\n",
       "      <td>мультфильм,комедия,приключения</td>\n",
       "      <td>1.476068e+08</td>\n",
       "    </tr>\n",
       "  </tbody>\n",
       "</table>\n",
       "</div>"
      ],
      "text/plain": [
       "                       title   puNumber           show_start_date  \\\n",
       "2053                     14+  111023614 2014-12-19 12:00:00+00:00   \n",
       "2058               Дуxless 2  111000415 2015-01-26 12:00:00+00:00   \n",
       "2472             Воин (2015)  111017315 2015-09-28 12:00:00+00:00   \n",
       "2532                 Бармен.  111009615 2015-05-26 12:00:00+00:00   \n",
       "2615     Савва. Сердце воина  114001715 2015-07-21 12:00:00+00:00   \n",
       "2684          Тряпичный союз  111010215 2015-06-08 12:00:00+00:00   \n",
       "2788      Срочно выйду замуж  111017115 2015-09-30 12:00:00+00:00   \n",
       "2874       Помню - не помню!  111004916 2016-03-01 12:00:00+00:00   \n",
       "3047  Любовь с ограничениями  111008216 2016-04-29 12:00:00+00:00   \n",
       "3565       Притяжение (2016)  111018116 2016-12-16 12:00:00+00:00   \n",
       "3675                Чудо-юдо  114001817 2017-06-27 12:00:00+00:00   \n",
       "3739                    Мифы  111004317 2017-06-07 12:00:00+00:00   \n",
       "5673                   Селфи  111012117 2018-02-01 12:00:00+00:00   \n",
       "5806              Два хвоста  114001018 2018-05-31 12:00:00+00:00   \n",
       "6008      Принцесса и дракон  114003018 2018-08-23 12:00:00+00:00   \n",
       "6323                Баба Яга  114006518 2018-11-08 12:00:00+00:00   \n",
       "6823     Большое путешествие  114002419 2019-04-20 12:00:00+00:00   \n",
       "\n",
       "                type                                        film_studio  \\\n",
       "2053  Художественный                         ООО Киностудия  \"Сентябрь\"   \n",
       "2058  Художественный  ООО \"Киностудия \"Слово\", ООО \"Арт Пикчерс Студия\"   \n",
       "2472  Художественный   ООО \"Форпост Продакшн\", ООО \"Арт Пикчерс Студия\"   \n",
       "2532  Художественный          АО \"ВайТ Медиа\", ООО \"Арт Пикчерс Студия\"   \n",
       "2615    Анимационный   ООО \"Глюкоза Продакшн\", ООО \"Арт Пикчерс Студия\"   \n",
       "2684  Художественный                      ООО \"Кинокомпания \"КОКТЕБЕЛЬ\"   \n",
       "2788  Художественный          АО \"ВайТ Медиа\", ООО \"Арт Пикчерс Студия\"   \n",
       "2874  Художественный                                    ООО \"КиноФирма\"   \n",
       "3047  Художественный          АО \"ВайТ Медиа\", ООО \"Арт Пикчерс Студия\"   \n",
       "3565  Художественный      ООО \"Водород 2011\",  ООО \"Арт Пикчерс Студия\"   \n",
       "3675    Анимационный                                    ООО \"КиноФирма\"   \n",
       "3739  Художественный           ООО \"ХАЙПФИЛМ\", ООО \"Арт Пикчерс Студия\"   \n",
       "5673  Художественный  ООО \"Киностудия \"Слово\", ООО \"Арт Пикчерс Студия\"   \n",
       "5806    Анимационный                          ООО \"ЛИЦЕНЗИОННЫЕ БРЕНДЫ\"   \n",
       "6008    Анимационный                          ООО \"ЛИЦЕНЗИОННЫЕ БРЕНДЫ\"   \n",
       "6323    Анимационный                           ООО \"Арт Пикчерс Студия\"   \n",
       "6823    Анимационный                          ООО \"ЛИЦЕНЗИОННЫЕ БРЕНДЫ\"   \n",
       "\n",
       "     production_country                        director  \\\n",
       "2053             Россия                        А.Зайцев   \n",
       "2058             Россия                      Р.Прыгунов   \n",
       "2472             Россия                     А.Андрианов   \n",
       "2532             Россия                    Д.Штурманова   \n",
       "2615             Россия                        М.Фадеев   \n",
       "2684             Россия                     М.Местецкий   \n",
       "2788             Россия                       С Чекалов   \n",
       "2874             Россия                     В.Ровенский   \n",
       "3047             Россия                         Д.Тюрин   \n",
       "3565             Россия                     Ф.Бондарчук   \n",
       "3675             Россия                       А.Лукичев   \n",
       "3739             Россия                    А.Молочников   \n",
       "5673             Россия                      Н.Хомерики   \n",
       "5806             Россия  В.Ровенский, Н.Лопато, В.Азеев   \n",
       "6008             Россия                      М.Нефедова   \n",
       "6323             Россия                         В.Саков   \n",
       "6823             Россия           Н.Лопато, В.Ровенский   \n",
       "\n",
       "                                               producer age_restriction  \\\n",
       "2053                                О.Гранина, А.Зайцев             16+   \n",
       "2058                 П.Ануров, Ф.Бондарчук, Д.Рудовский             16+   \n",
       "2472                           ООО \"Арт Пикчерс Студия\"             12+   \n",
       "2532                                        Т.Вайнштейн             16+   \n",
       "2615                                         А.Чистяков              6+   \n",
       "2684                              Р.Борисевич, А.Кушаев             18+   \n",
       "2788              Ф.Бондарчук, Т.Вайнштейн, Д.Рудовский             16+   \n",
       "2874                                    ООО \"КиноФирма\"             12+   \n",
       "3047              Ф.Бондарчук, Т.Вайнштейн, Д.Рудовский             16+   \n",
       "3565                           ООО \"Арт Пикчерс Студия\"             12+   \n",
       "3675                                    ООО \"КиноФирма\"              6+   \n",
       "3739  Ф.Бондарчук, Д.Рудовский, И.Стюарт, М.Османн, ...             16+   \n",
       "5673                 П.Ануров, Ф.Бондарчук, Д.Рудовский             16+   \n",
       "5806                          ООО \"ЛИЦЕНЗИОННЫЕ БРЕНДЫ\"              6+   \n",
       "6008                          ООО \"ЛИЦЕНЗИОННЫЕ БРЕНДЫ\"              6+   \n",
       "6323  ООО \"Арт Пикчерс Студия\", ООО \"КРИЭЙТИВ АНИМЭЙ...              6+   \n",
       "6823                          ООО \"ЛИЦЕНЗИОННЫЕ БРЕНДЫ\"              6+   \n",
       "\n",
       "      refundable_support  nonrefundable_support  budget  \\\n",
       "2053                 0.0             23000000.0     0.0   \n",
       "2058                 0.0             75000000.0     0.0   \n",
       "2472          10000000.0             70000000.0     0.0   \n",
       "2532          20000000.0                    0.0     0.0   \n",
       "2615          60000000.0            100000000.0     0.0   \n",
       "2684                 0.0             59000000.0     0.0   \n",
       "2788                 0.0             35000000.0     0.0   \n",
       "2874                 0.0              6000000.0     0.0   \n",
       "3047          19000000.0             51000000.0     0.0   \n",
       "3565                 0.0            250000000.0     0.0   \n",
       "3675          20000000.0             20000000.0     0.0   \n",
       "3739          25000000.0             20000000.0     0.0   \n",
       "5673          20000000.0             40000000.0     0.0   \n",
       "5806          10000000.0             60000000.0     0.0   \n",
       "6008          40000000.0             40000000.0     0.0   \n",
       "6323                 0.0            138969465.0     0.0   \n",
       "6823          60000000.0            120000000.0     0.0   \n",
       "\n",
       "                      financing_source  ratings  \\\n",
       "2053  Министерство культуры, Фонд кино      6.6   \n",
       "2058                         Фонд кино      6.6   \n",
       "2472                         Фонд кино      7.8   \n",
       "2532                         Фонд кино      6.2   \n",
       "2615                         Фонд кино      4.6   \n",
       "2684                         Фонд кино      6.3   \n",
       "2788                         Фонд кино      5.1   \n",
       "2874             Министерство культуры      4.3   \n",
       "3047                         Фонд кино      6.3   \n",
       "3565                         Фонд кино      5.6   \n",
       "3675                         Фонд кино      5.2   \n",
       "3739                         Фонд кино      4.8   \n",
       "5673                         Фонд кино      5.8   \n",
       "5806                         Фонд кино      5.0   \n",
       "6008                         Фонд кино      5.2   \n",
       "6323                         Фонд кино      NaN   \n",
       "6823                         Фонд кино      6.2   \n",
       "\n",
       "                              genres    box_office  \n",
       "2053                       мелодрама  1.023402e+07  \n",
       "2058                           драма  4.461635e+08  \n",
       "2472           боевик,драма,криминал  1.965724e+08  \n",
       "2532                 комедия,фэнтези  6.741897e+07  \n",
       "2615  мультфильм,приключения,фэнтези  1.844876e+08  \n",
       "2684                   комедия,драма  1.957739e+06  \n",
       "2788               комедия,мелодрама  7.293778e+07  \n",
       "2874                         комедия  1.536293e+07  \n",
       "3047               комедия,мелодрама  7.029905e+07  \n",
       "3565                      фантастика  1.038321e+09  \n",
       "3675     мультфильм,фэнтези,семейный  5.510801e+07  \n",
       "3739                         комедия  5.045195e+07  \n",
       "5673                   триллер,драма  2.251964e+08  \n",
       "5806              мультфильм,детский  1.065143e+08  \n",
       "6008      мультфильм,фэнтези,детский  8.336633e+07  \n",
       "6323                             NaN  1.334699e+06  \n",
       "6823  мультфильм,комедия,приключения  1.476068e+08  "
      ]
     },
     "execution_count": 35,
     "metadata": {},
     "output_type": "execute_result"
    }
   ],
   "source": [
    "df.query('(refundable_support + nonrefundable_support) > budget')"
   ]
  },
  {
   "cell_type": "code",
   "execution_count": 36,
   "id": "40e644f3",
   "metadata": {},
   "outputs": [
    {
     "data": {
      "text/plain": [
       "17"
      ]
     },
     "execution_count": 36,
     "metadata": {},
     "output_type": "execute_result"
    }
   ],
   "source": [
    "df.query('budget == 0.0')['budget'].count()"
   ]
  },
  {
   "cell_type": "code",
   "execution_count": 37,
   "id": "c0cd919a",
   "metadata": {},
   "outputs": [
    {
     "data": {
      "text/html": [
       "<div>\n",
       "<style scoped>\n",
       "    .dataframe tbody tr th:only-of-type {\n",
       "        vertical-align: middle;\n",
       "    }\n",
       "\n",
       "    .dataframe tbody tr th {\n",
       "        vertical-align: top;\n",
       "    }\n",
       "\n",
       "    .dataframe thead th {\n",
       "        text-align: right;\n",
       "    }\n",
       "</style>\n",
       "<table border=\"1\" class=\"dataframe\">\n",
       "  <thead>\n",
       "    <tr style=\"text-align: right;\">\n",
       "      <th></th>\n",
       "      <th>title</th>\n",
       "      <th>puNumber</th>\n",
       "      <th>show_start_date</th>\n",
       "      <th>type</th>\n",
       "      <th>film_studio</th>\n",
       "      <th>production_country</th>\n",
       "      <th>director</th>\n",
       "      <th>producer</th>\n",
       "      <th>age_restriction</th>\n",
       "      <th>refundable_support</th>\n",
       "      <th>nonrefundable_support</th>\n",
       "      <th>budget</th>\n",
       "      <th>financing_source</th>\n",
       "      <th>ratings</th>\n",
       "      <th>genres</th>\n",
       "      <th>box_office</th>\n",
       "    </tr>\n",
       "  </thead>\n",
       "  <tbody>\n",
       "    <tr>\n",
       "      <th>1281</th>\n",
       "      <td>Пока еще жива</td>\n",
       "      <td>111005313</td>\n",
       "      <td>2013-10-11 12:00:00+00:00</td>\n",
       "      <td>Художественный</td>\n",
       "      <td>АНО содействия развитию кинематографии \"Ангел-...</td>\n",
       "      <td>Россия</td>\n",
       "      <td>А.Атанесян</td>\n",
       "      <td>А.Атанесян, М.Бабаханов, Р.Бутко</td>\n",
       "      <td>16+</td>\n",
       "      <td>0.0</td>\n",
       "      <td>26500000.0</td>\n",
       "      <td>79411900.0</td>\n",
       "      <td>Министерство культуры</td>\n",
       "      <td>8.1</td>\n",
       "      <td>драма,мелодрама</td>\n",
       "      <td>365353.6</td>\n",
       "    </tr>\n",
       "    <tr>\n",
       "      <th>1448</th>\n",
       "      <td>Бесславные придурки</td>\n",
       "      <td>111003314</td>\n",
       "      <td>2014-03-28 12:00:00+00:00</td>\n",
       "      <td>Художественный</td>\n",
       "      <td>ООО \"Компания \"АТК-Студио\"</td>\n",
       "      <td>Россия</td>\n",
       "      <td>А.Якимчук</td>\n",
       "      <td>А.Тютрюмов</td>\n",
       "      <td>12+</td>\n",
       "      <td>0.0</td>\n",
       "      <td>26000000.0</td>\n",
       "      <td>37142857.0</td>\n",
       "      <td>Министерство культуры</td>\n",
       "      <td>NaN</td>\n",
       "      <td>NaN</td>\n",
       "      <td>28140.0</td>\n",
       "    </tr>\n",
       "    <tr>\n",
       "      <th>1498</th>\n",
       "      <td>Невидимки</td>\n",
       "      <td>111004213</td>\n",
       "      <td>2013-09-10 12:00:00+00:00</td>\n",
       "      <td>Художественный</td>\n",
       "      <td>ООО \"Компания \"РЕАЛ-ДАКОТА\"</td>\n",
       "      <td>Россия</td>\n",
       "      <td>Р.Давлетьяров, С.Комаров</td>\n",
       "      <td>Р.Давлетьяров, А.Котелевский, А.Олейников</td>\n",
       "      <td>12+</td>\n",
       "      <td>0.0</td>\n",
       "      <td>107847945.0</td>\n",
       "      <td>176023490.0</td>\n",
       "      <td>Фонд кино</td>\n",
       "      <td>5.3</td>\n",
       "      <td>комедия,фантастика</td>\n",
       "      <td>19957031.5</td>\n",
       "    </tr>\n",
       "    <tr>\n",
       "      <th>1524</th>\n",
       "      <td>БЕРЦЫ</td>\n",
       "      <td>111004314</td>\n",
       "      <td>2014-05-05 12:00:00+00:00</td>\n",
       "      <td>Художественный</td>\n",
       "      <td>ООО \"Студия \"Пассажир\"</td>\n",
       "      <td>Россия</td>\n",
       "      <td>Е.Миндадзе (псевдоним Катя Шагалова)</td>\n",
       "      <td>Л.Антонова</td>\n",
       "      <td>16+</td>\n",
       "      <td>0.0</td>\n",
       "      <td>28000000.0</td>\n",
       "      <td>40574140.0</td>\n",
       "      <td>Министерство культуры</td>\n",
       "      <td>4.2</td>\n",
       "      <td>драма</td>\n",
       "      <td>55917.5</td>\n",
       "    </tr>\n",
       "    <tr>\n",
       "      <th>1792</th>\n",
       "      <td>Братья Ч</td>\n",
       "      <td>111004414</td>\n",
       "      <td>2014-04-23 12:00:00+00:00</td>\n",
       "      <td>Художественный</td>\n",
       "      <td>ООО \"Студия \"Пассажир\"</td>\n",
       "      <td>Россия</td>\n",
       "      <td>М.Угаров</td>\n",
       "      <td>А.Миндадзе, Л.Антонова</td>\n",
       "      <td>16+</td>\n",
       "      <td>0.0</td>\n",
       "      <td>25000000.0</td>\n",
       "      <td>40015122.0</td>\n",
       "      <td>Министерство культуры</td>\n",
       "      <td>6.4</td>\n",
       "      <td>драма</td>\n",
       "      <td>232100.0</td>\n",
       "    </tr>\n",
       "    <tr>\n",
       "      <th>1854</th>\n",
       "      <td>Тайна Сухаревой башни. Чародей равновесия</td>\n",
       "      <td>114000115</td>\n",
       "      <td>2015-02-18 12:00:00+00:00</td>\n",
       "      <td>Анимационный</td>\n",
       "      <td>ООО \"Студия \"Мастер-Фильм\"</td>\n",
       "      <td>Россия</td>\n",
       "      <td>С.Серегин</td>\n",
       "      <td>А.Герасимов</td>\n",
       "      <td>6+</td>\n",
       "      <td>0.0</td>\n",
       "      <td>25000000.0</td>\n",
       "      <td>51850000.0</td>\n",
       "      <td>Министерство культуры</td>\n",
       "      <td>6.1</td>\n",
       "      <td>мультфильм,фэнтези,история</td>\n",
       "      <td>15078858.6</td>\n",
       "    </tr>\n",
       "    <tr>\n",
       "      <th>1870</th>\n",
       "      <td>А зори здесь тихие..._</td>\n",
       "      <td>111002915</td>\n",
       "      <td>2015-03-16 12:00:00+00:00</td>\n",
       "      <td>Художественный</td>\n",
       "      <td>ООО \"Компания \"Реал-Дакота\"</td>\n",
       "      <td>Россия</td>\n",
       "      <td>Р.Давлетьяров</td>\n",
       "      <td>NaN</td>\n",
       "      <td>12+</td>\n",
       "      <td>50000000.0</td>\n",
       "      <td>100000000.0</td>\n",
       "      <td>220588394.0</td>\n",
       "      <td>Фонд кино</td>\n",
       "      <td>8.5</td>\n",
       "      <td>драма,военный,история</td>\n",
       "      <td>249166767.7</td>\n",
       "    </tr>\n",
       "    <tr>\n",
       "      <th>1871</th>\n",
       "      <td>Две женщины</td>\n",
       "      <td>111013714</td>\n",
       "      <td>2014-10-02 12:00:00+00:00</td>\n",
       "      <td>Художественный</td>\n",
       "      <td>ООО \"Продюсерский Центр \"Хорошо Продакшн\", Rez...</td>\n",
       "      <td>Россия, Франция, Латвия</td>\n",
       "      <td>В.Глаголева</td>\n",
       "      <td>Н.Иванова</td>\n",
       "      <td>12+</td>\n",
       "      <td>0.0</td>\n",
       "      <td>46502299.0</td>\n",
       "      <td>86210067.0</td>\n",
       "      <td>Министерство культуры, Фонд кино</td>\n",
       "      <td>6.7</td>\n",
       "      <td>драма</td>\n",
       "      <td>4731239.5</td>\n",
       "    </tr>\n",
       "    <tr>\n",
       "      <th>1903</th>\n",
       "      <td>Призрак_.</td>\n",
       "      <td>111001815</td>\n",
       "      <td>2015-03-02 12:00:00+00:00</td>\n",
       "      <td>Художественный</td>\n",
       "      <td>ООО \"Водород 2011\"</td>\n",
       "      <td>Россия</td>\n",
       "      <td>А.Войтинский</td>\n",
       "      <td>С.Сельянов</td>\n",
       "      <td>6+</td>\n",
       "      <td>0.0</td>\n",
       "      <td>75000000.0</td>\n",
       "      <td>139551503.0</td>\n",
       "      <td>Фонд кино</td>\n",
       "      <td>7.0</td>\n",
       "      <td>триллер,боевик,приключения</td>\n",
       "      <td>352804320.4</td>\n",
       "    </tr>\n",
       "    <tr>\n",
       "      <th>1912</th>\n",
       "      <td>Ведьма .</td>\n",
       "      <td>111002215</td>\n",
       "      <td>2015-03-05 12:00:00+00:00</td>\n",
       "      <td>Художественный</td>\n",
       "      <td>ООО \"Кинокомпания \"Ракурс\"</td>\n",
       "      <td>Россия</td>\n",
       "      <td>Д.Федоров</td>\n",
       "      <td>В.Сидоренко</td>\n",
       "      <td>16+</td>\n",
       "      <td>0.0</td>\n",
       "      <td>34000000.0</td>\n",
       "      <td>48571430.0</td>\n",
       "      <td>Министерство культуры</td>\n",
       "      <td>7.4</td>\n",
       "      <td>фэнтези,приключения,драма</td>\n",
       "      <td>51907.5</td>\n",
       "    </tr>\n",
       "  </tbody>\n",
       "</table>\n",
       "</div>"
      ],
      "text/plain": [
       "                                          title   puNumber  \\\n",
       "1281                              Пока еще жива  111005313   \n",
       "1448                        Бесславные придурки  111003314   \n",
       "1498                                  Невидимки  111004213   \n",
       "1524                                      БЕРЦЫ  111004314   \n",
       "1792                                   Братья Ч  111004414   \n",
       "1854  Тайна Сухаревой башни. Чародей равновесия  114000115   \n",
       "1870                     А зори здесь тихие..._  111002915   \n",
       "1871                                Две женщины  111013714   \n",
       "1903                                  Призрак_.  111001815   \n",
       "1912                                   Ведьма .  111002215   \n",
       "\n",
       "               show_start_date            type  \\\n",
       "1281 2013-10-11 12:00:00+00:00  Художественный   \n",
       "1448 2014-03-28 12:00:00+00:00  Художественный   \n",
       "1498 2013-09-10 12:00:00+00:00  Художественный   \n",
       "1524 2014-05-05 12:00:00+00:00  Художественный   \n",
       "1792 2014-04-23 12:00:00+00:00  Художественный   \n",
       "1854 2015-02-18 12:00:00+00:00    Анимационный   \n",
       "1870 2015-03-16 12:00:00+00:00  Художественный   \n",
       "1871 2014-10-02 12:00:00+00:00  Художественный   \n",
       "1903 2015-03-02 12:00:00+00:00  Художественный   \n",
       "1912 2015-03-05 12:00:00+00:00  Художественный   \n",
       "\n",
       "                                            film_studio  \\\n",
       "1281  АНО содействия развитию кинематографии \"Ангел-...   \n",
       "1448                         ООО \"Компания \"АТК-Студио\"   \n",
       "1498                        ООО \"Компания \"РЕАЛ-ДАКОТА\"   \n",
       "1524                             ООО \"Студия \"Пассажир\"   \n",
       "1792                             ООО \"Студия \"Пассажир\"   \n",
       "1854                        ООО \"Студия \"Мастер-Фильм\"    \n",
       "1870                        ООО \"Компания \"Реал-Дакота\"   \n",
       "1871  ООО \"Продюсерский Центр \"Хорошо Продакшн\", Rez...   \n",
       "1903                                 ООО \"Водород 2011\"   \n",
       "1912                         ООО \"Кинокомпания \"Ракурс\"   \n",
       "\n",
       "           production_country                              director  \\\n",
       "1281                   Россия                            А.Атанесян   \n",
       "1448                   Россия                             А.Якимчук   \n",
       "1498                   Россия              Р.Давлетьяров, С.Комаров   \n",
       "1524                   Россия  Е.Миндадзе (псевдоним Катя Шагалова)   \n",
       "1792                   Россия                              М.Угаров   \n",
       "1854                   Россия                             С.Серегин   \n",
       "1870                   Россия                         Р.Давлетьяров   \n",
       "1871  Россия, Франция, Латвия                           В.Глаголева   \n",
       "1903                   Россия                          А.Войтинский   \n",
       "1912                   Россия                             Д.Федоров   \n",
       "\n",
       "                                       producer age_restriction  \\\n",
       "1281           А.Атанесян, М.Бабаханов, Р.Бутко             16+   \n",
       "1448                                 А.Тютрюмов             12+   \n",
       "1498  Р.Давлетьяров, А.Котелевский, А.Олейников             12+   \n",
       "1524                                 Л.Антонова             16+   \n",
       "1792                     А.Миндадзе, Л.Антонова             16+   \n",
       "1854                                А.Герасимов              6+   \n",
       "1870                                        NaN             12+   \n",
       "1871                                  Н.Иванова             12+   \n",
       "1903                                 С.Сельянов              6+   \n",
       "1912                                В.Сидоренко             16+   \n",
       "\n",
       "      refundable_support  nonrefundable_support       budget  \\\n",
       "1281                 0.0             26500000.0   79411900.0   \n",
       "1448                 0.0             26000000.0   37142857.0   \n",
       "1498                 0.0            107847945.0  176023490.0   \n",
       "1524                 0.0             28000000.0   40574140.0   \n",
       "1792                 0.0             25000000.0   40015122.0   \n",
       "1854                 0.0             25000000.0   51850000.0   \n",
       "1870          50000000.0            100000000.0  220588394.0   \n",
       "1871                 0.0             46502299.0   86210067.0   \n",
       "1903                 0.0             75000000.0  139551503.0   \n",
       "1912                 0.0             34000000.0   48571430.0   \n",
       "\n",
       "                      financing_source  ratings                      genres  \\\n",
       "1281             Министерство культуры      8.1             драма,мелодрама   \n",
       "1448             Министерство культуры      NaN                         NaN   \n",
       "1498                         Фонд кино      5.3          комедия,фантастика   \n",
       "1524             Министерство культуры      4.2                       драма   \n",
       "1792             Министерство культуры      6.4                       драма   \n",
       "1854             Министерство культуры      6.1  мультфильм,фэнтези,история   \n",
       "1870                         Фонд кино      8.5       драма,военный,история   \n",
       "1871  Министерство культуры, Фонд кино      6.7                       драма   \n",
       "1903                         Фонд кино      7.0  триллер,боевик,приключения   \n",
       "1912             Министерство культуры      7.4   фэнтези,приключения,драма   \n",
       "\n",
       "       box_office  \n",
       "1281     365353.6  \n",
       "1448      28140.0  \n",
       "1498   19957031.5  \n",
       "1524      55917.5  \n",
       "1792     232100.0  \n",
       "1854   15078858.6  \n",
       "1870  249166767.7  \n",
       "1871    4731239.5  \n",
       "1903  352804320.4  \n",
       "1912      51907.5  "
      ]
     },
     "execution_count": 37,
     "metadata": {},
     "output_type": "execute_result"
    }
   ],
   "source": [
    "df.query('not (budget.isna())').head(10)"
   ]
  },
  {
   "cell_type": "markdown",
   "id": "6984a515",
   "metadata": {},
   "source": [
    "**Выявили, что в колонке budget у 17 фильмов неверно указан бюджет, исправлем данные, скороее всего просто указали, что собственный бюджет равен 0. Проверяем.**"
   ]
  },
  {
   "cell_type": "code",
   "execution_count": 38,
   "id": "36fdc27f",
   "metadata": {},
   "outputs": [
    {
     "data": {
      "text/plain": [
       "0"
      ]
     },
     "execution_count": 38,
     "metadata": {},
     "output_type": "execute_result"
    }
   ],
   "source": [
    "df.loc[df['budget'] == 0.0, 'budget'] = df['refundable_support'] + df['nonrefundable_support']\n",
    "df.query('budget == 0.0')['budget'].count()"
   ]
  },
  {
   "cell_type": "code",
   "execution_count": 39,
   "id": "de465c3e",
   "metadata": {
    "scrolled": true
   },
   "outputs": [
    {
     "data": {
      "text/html": [
       "<div>\n",
       "<style scoped>\n",
       "    .dataframe tbody tr th:only-of-type {\n",
       "        vertical-align: middle;\n",
       "    }\n",
       "\n",
       "    .dataframe tbody tr th {\n",
       "        vertical-align: top;\n",
       "    }\n",
       "\n",
       "    .dataframe thead th {\n",
       "        text-align: right;\n",
       "    }\n",
       "</style>\n",
       "<table border=\"1\" class=\"dataframe\">\n",
       "  <thead>\n",
       "    <tr style=\"text-align: right;\">\n",
       "      <th></th>\n",
       "      <th>title</th>\n",
       "      <th>puNumber</th>\n",
       "      <th>show_start_date</th>\n",
       "      <th>type</th>\n",
       "      <th>film_studio</th>\n",
       "      <th>production_country</th>\n",
       "      <th>director</th>\n",
       "      <th>producer</th>\n",
       "      <th>age_restriction</th>\n",
       "      <th>refundable_support</th>\n",
       "      <th>nonrefundable_support</th>\n",
       "      <th>budget</th>\n",
       "      <th>financing_source</th>\n",
       "      <th>ratings</th>\n",
       "      <th>genres</th>\n",
       "      <th>box_office</th>\n",
       "    </tr>\n",
       "  </thead>\n",
       "  <tbody>\n",
       "    <tr>\n",
       "      <th>2053</th>\n",
       "      <td>14+</td>\n",
       "      <td>111023614</td>\n",
       "      <td>2014-12-19 12:00:00+00:00</td>\n",
       "      <td>Художественный</td>\n",
       "      <td>ООО Киностудия  \"Сентябрь\"</td>\n",
       "      <td>Россия</td>\n",
       "      <td>А.Зайцев</td>\n",
       "      <td>О.Гранина, А.Зайцев</td>\n",
       "      <td>16+</td>\n",
       "      <td>0.0</td>\n",
       "      <td>23000000.0</td>\n",
       "      <td>23000000.0</td>\n",
       "      <td>Министерство культуры, Фонд кино</td>\n",
       "      <td>6.6</td>\n",
       "      <td>мелодрама</td>\n",
       "      <td>10234016.1</td>\n",
       "    </tr>\n",
       "  </tbody>\n",
       "</table>\n",
       "</div>"
      ],
      "text/plain": [
       "     title   puNumber           show_start_date            type  \\\n",
       "2053   14+  111023614 2014-12-19 12:00:00+00:00  Художественный   \n",
       "\n",
       "                     film_studio production_country  director  \\\n",
       "2053  ООО Киностудия  \"Сентябрь\"             Россия  А.Зайцев   \n",
       "\n",
       "                 producer age_restriction  refundable_support  \\\n",
       "2053  О.Гранина, А.Зайцев             16+                 0.0   \n",
       "\n",
       "      nonrefundable_support      budget                  financing_source  \\\n",
       "2053             23000000.0  23000000.0  Министерство культуры, Фонд кино   \n",
       "\n",
       "      ratings     genres  box_office  \n",
       "2053      6.6  мелодрама  10234016.1  "
      ]
     },
     "execution_count": 39,
     "metadata": {},
     "output_type": "execute_result"
    }
   ],
   "source": [
    "df.query('puNumber == 111023614')"
   ]
  },
  {
   "cell_type": "markdown",
   "id": "6390584e",
   "metadata": {},
   "source": [
    "**Исправив данные по бюджету, смотрим как изменились данные в этом столбце (получаем инфоромацию по столбцу методом describe() и строим гистограмму**"
   ]
  },
  {
   "cell_type": "code",
   "execution_count": 40,
   "id": "cd2cd8ba",
   "metadata": {},
   "outputs": [
    {
     "data": {
      "text/plain": [
       "count    3.320000e+02\n",
       "mean     1.314224e+08\n",
       "std      1.871482e+08\n",
       "min      6.000000e+06\n",
       "25%      4.552480e+07\n",
       "50%      7.119690e+07\n",
       "75%      1.500000e+08\n",
       "max      2.305074e+09\n",
       "Name: budget, dtype: float64"
      ]
     },
     "metadata": {},
     "output_type": "display_data"
    },
    {
     "data": {
      "text/plain": [
       "<AxesSubplot:title={'center':'Бюджет'}, ylabel='Frequency'>"
      ]
     },
     "execution_count": 40,
     "metadata": {},
     "output_type": "execute_result"
    },
    {
     "data": {
      "image/png": "[encoded data removed]",
      "text/plain": [
       "<Figure size 432x216 with 1 Axes>"
      ]
     },
     "metadata": {
      "needs_background": "light"
     },
     "output_type": "display_data"
    }
   ],
   "source": [
    "display(df['budget'].describe())\n",
    "df.plot(kind='hist', y='budget', bins=50, title = 'Бюджет', figsize = (6,3), grid=True, range=(6.000000e+06, 1.500000e+08))"
   ]
  },
  {
   "cell_type": "code",
   "execution_count": 41,
   "id": "2ff55b41",
   "metadata": {},
   "outputs": [
    {
     "data": {
      "text/html": [
       "<div>\n",
       "<style scoped>\n",
       "    .dataframe tbody tr th:only-of-type {\n",
       "        vertical-align: middle;\n",
       "    }\n",
       "\n",
       "    .dataframe tbody tr th {\n",
       "        vertical-align: top;\n",
       "    }\n",
       "\n",
       "    .dataframe thead th {\n",
       "        text-align: right;\n",
       "    }\n",
       "</style>\n",
       "<table border=\"1\" class=\"dataframe\">\n",
       "  <thead>\n",
       "    <tr style=\"text-align: right;\">\n",
       "      <th></th>\n",
       "      <th>title</th>\n",
       "      <th>puNumber</th>\n",
       "      <th>show_start_date</th>\n",
       "      <th>type</th>\n",
       "      <th>film_studio</th>\n",
       "      <th>production_country</th>\n",
       "      <th>director</th>\n",
       "      <th>producer</th>\n",
       "      <th>age_restriction</th>\n",
       "      <th>refundable_support</th>\n",
       "      <th>nonrefundable_support</th>\n",
       "      <th>budget</th>\n",
       "      <th>financing_source</th>\n",
       "      <th>ratings</th>\n",
       "      <th>genres</th>\n",
       "      <th>box_office</th>\n",
       "    </tr>\n",
       "  </thead>\n",
       "  <tbody>\n",
       "    <tr>\n",
       "      <th>2874</th>\n",
       "      <td>Помню - не помню!</td>\n",
       "      <td>111004916</td>\n",
       "      <td>2016-03-01 12:00:00+00:00</td>\n",
       "      <td>Художественный</td>\n",
       "      <td>ООО \"КиноФирма\"</td>\n",
       "      <td>Россия</td>\n",
       "      <td>В.Ровенский</td>\n",
       "      <td>ООО \"КиноФирма\"</td>\n",
       "      <td>12+</td>\n",
       "      <td>0.0</td>\n",
       "      <td>6000000.0</td>\n",
       "      <td>6000000.0</td>\n",
       "      <td>Министерство культуры</td>\n",
       "      <td>4.3</td>\n",
       "      <td>комедия</td>\n",
       "      <td>15362931.43</td>\n",
       "    </tr>\n",
       "  </tbody>\n",
       "</table>\n",
       "</div>"
      ],
      "text/plain": [
       "                  title   puNumber           show_start_date            type  \\\n",
       "2874  Помню - не помню!  111004916 2016-03-01 12:00:00+00:00  Художественный   \n",
       "\n",
       "           film_studio production_country     director          producer  \\\n",
       "2874   ООО \"КиноФирма\"             Россия  В.Ровенский   ООО \"КиноФирма\"   \n",
       "\n",
       "     age_restriction  refundable_support  nonrefundable_support     budget  \\\n",
       "2874             12+                 0.0              6000000.0  6000000.0   \n",
       "\n",
       "           financing_source  ratings   genres   box_office  \n",
       "2874  Министерство культуры      4.3  комедия  15362931.43  "
      ]
     },
     "execution_count": 41,
     "metadata": {},
     "output_type": "execute_result"
    }
   ],
   "source": [
    "df.query('budget < 10000000')"
   ]
  },
  {
   "cell_type": "markdown",
   "id": "d2c24274",
   "metadata": {},
   "source": [
    "**Вывод** - Теперь распределние выглядит более логичным.  Минимальный бюджет теперь составляет 6000000 руб, медиана около - 70000000 руб, среднее значение около 130000000. Nакое отличие медианы от среднего значения обусловлено длинным хвостом с правой стороны (наличием фильмов с большим бюджетом вплоть до 2300000000 руб). "
   ]
  },
  {
   "cell_type": "markdown",
   "id": "f2ae4c18",
   "metadata": {},
   "source": [
    "**Исследуем данные в столбце - 'refundable_support'**"
   ]
  },
  {
   "cell_type": "code",
   "execution_count": 42,
   "id": "90c166c1",
   "metadata": {
    "scrolled": true
   },
   "outputs": [
    {
     "data": {
      "text/plain": [
       "<AxesSubplot:title={'center':'Объем возвратных средств государственной поддержки'}, ylabel='Frequency'>"
      ]
     },
     "execution_count": 42,
     "metadata": {},
     "output_type": "execute_result"
    },
    {
     "data": {
      "image/png": "[encoded data removed]",
      "text/plain": [
       "<Figure size 432x216 with 1 Axes>"
      ]
     },
     "metadata": {
      "needs_background": "light"
     },
     "output_type": "display_data"
    }
   ],
   "source": [
    "df['refundable_support'].plot(kind='hist', bins=30, title ='Объем возвратных средств государственной поддержки', \n",
    "                              figsize = (6,3), grid=True, range=(0, 1.000000e+08))\n"
   ]
  },
  {
   "cell_type": "markdown",
   "id": "727d4bb1",
   "metadata": {},
   "source": [
    "**Вывод** - Пик значений приходится на сумму равную 0 руб (в большинстве случаев объем возвратных средств государственной поддержки = 0), что в принципе может соответсвовать действительности. Большой хвост в правой стороне, обусловлен наличием фильмов, у которых объем возвратных средств государственной поддержки достаточно большой. Пока оставляю все значения, т.к. анамалий здесь не вижу."
   ]
  },
  {
   "cell_type": "markdown",
   "id": "1ea50377",
   "metadata": {},
   "source": [
    "**Исследуем данные в столбце - 'nonrefundable_support'**"
   ]
  },
  {
   "cell_type": "code",
   "execution_count": 43,
   "id": "fc9777d5",
   "metadata": {},
   "outputs": [
    {
     "data": {
      "text/plain": [
       "<AxesSubplot:title={'center':'Объем невозвратных средств государственной поддержки'}, ylabel='Frequency'>"
      ]
     },
     "execution_count": 43,
     "metadata": {},
     "output_type": "execute_result"
    },
    {
     "data": {
      "image/png": "[encoded data removed]",
      "text/plain": [
       "<Figure size 432x216 with 1 Axes>"
      ]
     },
     "metadata": {
      "needs_background": "light"
     },
     "output_type": "display_data"
    }
   ],
   "source": [
    "df['nonrefundable_support'].plot(kind='hist', bins=30, title ='Объем невозвратных средств государственной поддержки', \n",
    "                              figsize = (6,3), grid=True, range=(0, 100000000))"
   ]
  },
  {
   "cell_type": "markdown",
   "id": "cd9dc7f0",
   "metadata": {},
   "source": [
    "**Вывод** - Тут картина немного другая, но тоже не вижу анамальных данных. Случаев с нулевым объемом невозвратных стредств мало. Средненее значение в районе - 49000000. Медиана - 30000000. Разница также обусловлена наличием длинного хвоста справа (данные по медиане и среднему брала из описания количенственных столбцов выше). Пока оставляю все значения, т.к. анамалий здесь не вижу."
   ]
  },
  {
   "cell_type": "markdown",
   "id": "475561d3",
   "metadata": {},
   "source": [
    "**На всякимй случай проверяем, нет ли такой ситуации, что и сумма невозвратных и возвратных средств равно 0. Таких ситуаци нет.**"
   ]
  },
  {
   "cell_type": "code",
   "execution_count": 44,
   "id": "82038163",
   "metadata": {},
   "outputs": [
    {
     "data": {
      "text/html": [
       "<div>\n",
       "<style scoped>\n",
       "    .dataframe tbody tr th:only-of-type {\n",
       "        vertical-align: middle;\n",
       "    }\n",
       "\n",
       "    .dataframe tbody tr th {\n",
       "        vertical-align: top;\n",
       "    }\n",
       "\n",
       "    .dataframe thead th {\n",
       "        text-align: right;\n",
       "    }\n",
       "</style>\n",
       "<table border=\"1\" class=\"dataframe\">\n",
       "  <thead>\n",
       "    <tr style=\"text-align: right;\">\n",
       "      <th></th>\n",
       "      <th>title</th>\n",
       "      <th>puNumber</th>\n",
       "      <th>show_start_date</th>\n",
       "      <th>type</th>\n",
       "      <th>film_studio</th>\n",
       "      <th>production_country</th>\n",
       "      <th>director</th>\n",
       "      <th>producer</th>\n",
       "      <th>age_restriction</th>\n",
       "      <th>refundable_support</th>\n",
       "      <th>nonrefundable_support</th>\n",
       "      <th>budget</th>\n",
       "      <th>financing_source</th>\n",
       "      <th>ratings</th>\n",
       "      <th>genres</th>\n",
       "      <th>box_office</th>\n",
       "    </tr>\n",
       "  </thead>\n",
       "  <tbody>\n",
       "  </tbody>\n",
       "</table>\n",
       "</div>"
      ],
      "text/plain": [
       "Empty DataFrame\n",
       "Columns: [title, puNumber, show_start_date, type, film_studio, production_country, director, producer, age_restriction, refundable_support, nonrefundable_support, budget, financing_source, ratings, genres, box_office]\n",
       "Index: []"
      ]
     },
     "execution_count": 44,
     "metadata": {},
     "output_type": "execute_result"
    }
   ],
   "source": [
    "df.query('nonrefundable_support == 0 and refundable_support==0')"
   ]
  },
  {
   "cell_type": "markdown",
   "id": "3a361cd1",
   "metadata": {},
   "source": [
    "**Исследуем данные в столбце - 'box_office'. Минимальное значение в столбце = 0, что выглядит очень странно (данныне получены выше), исследуем данные строки и какой процент от общего читсла они занимают.**"
   ]
  },
  {
   "cell_type": "code",
   "execution_count": 45,
   "id": "bb44965b",
   "metadata": {},
   "outputs": [
    {
     "data": {
      "text/html": [
       "<div>\n",
       "<style scoped>\n",
       "    .dataframe tbody tr th:only-of-type {\n",
       "        vertical-align: middle;\n",
       "    }\n",
       "\n",
       "    .dataframe tbody tr th {\n",
       "        vertical-align: top;\n",
       "    }\n",
       "\n",
       "    .dataframe thead th {\n",
       "        text-align: right;\n",
       "    }\n",
       "</style>\n",
       "<table border=\"1\" class=\"dataframe\">\n",
       "  <thead>\n",
       "    <tr style=\"text-align: right;\">\n",
       "      <th></th>\n",
       "      <th>title</th>\n",
       "      <th>puNumber</th>\n",
       "      <th>show_start_date</th>\n",
       "      <th>type</th>\n",
       "      <th>film_studio</th>\n",
       "      <th>production_country</th>\n",
       "      <th>director</th>\n",
       "      <th>producer</th>\n",
       "      <th>age_restriction</th>\n",
       "      <th>refundable_support</th>\n",
       "      <th>nonrefundable_support</th>\n",
       "      <th>budget</th>\n",
       "      <th>financing_source</th>\n",
       "      <th>ratings</th>\n",
       "      <th>genres</th>\n",
       "      <th>box_office</th>\n",
       "    </tr>\n",
       "  </thead>\n",
       "  <tbody>\n",
       "    <tr>\n",
       "      <th>66</th>\n",
       "      <td>Анна Павлова</td>\n",
       "      <td>111011013</td>\n",
       "      <td>2013-12-19 12:00:00+00:00</td>\n",
       "      <td>Художественный</td>\n",
       "      <td>совместное производство Киностудия \"Мосфильм\",...</td>\n",
       "      <td>СССР, Франция, Англия, Куба, ГДР</td>\n",
       "      <td>Эмиль Лотяну</td>\n",
       "      <td>NaN</td>\n",
       "      <td>6+</td>\n",
       "      <td>NaN</td>\n",
       "      <td>NaN</td>\n",
       "      <td>NaN</td>\n",
       "      <td>NaN</td>\n",
       "      <td>7.7</td>\n",
       "      <td>драма,биография,музыка</td>\n",
       "      <td>0.0</td>\n",
       "    </tr>\n",
       "    <tr>\n",
       "      <th>237</th>\n",
       "      <td>Подранки</td>\n",
       "      <td>111007613</td>\n",
       "      <td>2013-10-18 12:00:00+00:00</td>\n",
       "      <td>Художественный</td>\n",
       "      <td>Киностудия \"Мосфильм\"</td>\n",
       "      <td>СССР</td>\n",
       "      <td>Н.Губенко</td>\n",
       "      <td>NaN</td>\n",
       "      <td>12+</td>\n",
       "      <td>NaN</td>\n",
       "      <td>NaN</td>\n",
       "      <td>NaN</td>\n",
       "      <td>NaN</td>\n",
       "      <td>8.2</td>\n",
       "      <td>драма</td>\n",
       "      <td>0.0</td>\n",
       "    </tr>\n",
       "    <tr>\n",
       "      <th>596</th>\n",
       "      <td>Запах вереска</td>\n",
       "      <td>111003012</td>\n",
       "      <td>2012-05-23 12:00:00+00:00</td>\n",
       "      <td>Художественный</td>\n",
       "      <td>ООО \"Студия РИМ\"</td>\n",
       "      <td>Россия</td>\n",
       "      <td>А.Магомедов</td>\n",
       "      <td>М.Балашова, Е.Миронов</td>\n",
       "      <td>16+</td>\n",
       "      <td>NaN</td>\n",
       "      <td>NaN</td>\n",
       "      <td>NaN</td>\n",
       "      <td>NaN</td>\n",
       "      <td>6.3</td>\n",
       "      <td>комедия</td>\n",
       "      <td>0.0</td>\n",
       "    </tr>\n",
       "    <tr>\n",
       "      <th>914</th>\n",
       "      <td>В тумане /По одноименной повести Василя Быкова/</td>\n",
       "      <td>121027712</td>\n",
       "      <td>2012-11-07 12:00:00+00:00</td>\n",
       "      <td>Художественный</td>\n",
       "      <td>Ма Йа Де Фикшн, Лемминг Филм, Беларусьфильм, Д...</td>\n",
       "      <td>Германия - Нидерланды - Беларусь - Россия - Ла...</td>\n",
       "      <td>Сергей Лозница</td>\n",
       "      <td>Хайно Декерт</td>\n",
       "      <td>12+</td>\n",
       "      <td>NaN</td>\n",
       "      <td>NaN</td>\n",
       "      <td>NaN</td>\n",
       "      <td>NaN</td>\n",
       "      <td>6.5</td>\n",
       "      <td>драма,военный,история</td>\n",
       "      <td>0.0</td>\n",
       "    </tr>\n",
       "    <tr>\n",
       "      <th>932</th>\n",
       "      <td>Письмо для Момо</td>\n",
       "      <td>124002912</td>\n",
       "      <td>2012-10-25 12:00:00+00:00</td>\n",
       "      <td>Анимационный</td>\n",
       "      <td>Кадокава Пикчерз, Продакшнз И Джи, Токио Броад...</td>\n",
       "      <td>Япония</td>\n",
       "      <td>Окиура Хироюки</td>\n",
       "      <td>Хироюки Икеда, Митсухиса Ишикава, Кацзуя Хамана</td>\n",
       "      <td>12+</td>\n",
       "      <td>NaN</td>\n",
       "      <td>NaN</td>\n",
       "      <td>NaN</td>\n",
       "      <td>NaN</td>\n",
       "      <td>7.4</td>\n",
       "      <td>аниме,мультфильм,драма</td>\n",
       "      <td>0.0</td>\n",
       "    </tr>\n",
       "    <tr>\n",
       "      <th>933</th>\n",
       "      <td>Летние войны</td>\n",
       "      <td>124002812</td>\n",
       "      <td>2012-10-25 12:00:00+00:00</td>\n",
       "      <td>Анимационный</td>\n",
       "      <td>Медхауз, Ниппон Телевижн Нетуорк Корпорейшн, К...</td>\n",
       "      <td>Япония</td>\n",
       "      <td>Мамору Хосода</td>\n",
       "      <td>Такафуми Ватанабэ, Такуя Ито, Сэйдзи Окуда, Юи...</td>\n",
       "      <td>12+</td>\n",
       "      <td>NaN</td>\n",
       "      <td>NaN</td>\n",
       "      <td>NaN</td>\n",
       "      <td>NaN</td>\n",
       "      <td>7.7</td>\n",
       "      <td>аниме,мультфильм,фантастика</td>\n",
       "      <td>0.0</td>\n",
       "    </tr>\n",
       "    <tr>\n",
       "      <th>976</th>\n",
       "      <td>Гарегин Нжде</td>\n",
       "      <td>131000213</td>\n",
       "      <td>2013-04-23 12:00:00+00:00</td>\n",
       "      <td>Художественный</td>\n",
       "      <td>Эй Джи Кей Продакшнз, Пан Армениан Медиа Групп</td>\n",
       "      <td>Армения</td>\n",
       "      <td>Грач Кешишян</td>\n",
       "      <td>Грач Кешишян</td>\n",
       "      <td>12+</td>\n",
       "      <td>NaN</td>\n",
       "      <td>NaN</td>\n",
       "      <td>NaN</td>\n",
       "      <td>NaN</td>\n",
       "      <td>7.9</td>\n",
       "      <td>биография</td>\n",
       "      <td>0.0</td>\n",
       "    </tr>\n",
       "    <tr>\n",
       "      <th>1126</th>\n",
       "      <td>Марафон</td>\n",
       "      <td>111006712</td>\n",
       "      <td>2012-12-18 12:00:00+00:00</td>\n",
       "      <td>Художественный</td>\n",
       "      <td>ООО \"Синема Арт Студио\"</td>\n",
       "      <td>Россия</td>\n",
       "      <td>К.Оганесян</td>\n",
       "      <td>К.Оганесян</td>\n",
       "      <td>16+</td>\n",
       "      <td>NaN</td>\n",
       "      <td>NaN</td>\n",
       "      <td>NaN</td>\n",
       "      <td>NaN</td>\n",
       "      <td>5.5</td>\n",
       "      <td>комедия,мелодрама</td>\n",
       "      <td>0.0</td>\n",
       "    </tr>\n",
       "    <tr>\n",
       "      <th>1387</th>\n",
       "      <td>Экзамен для двоих /По роману Джин Ханфф Корелитц/</td>\n",
       "      <td>121014613</td>\n",
       "      <td>2013-06-11 12:00:00+00:00</td>\n",
       "      <td>Художественный</td>\n",
       "      <td>Депф оф Филд</td>\n",
       "      <td>США</td>\n",
       "      <td>Пол Вайц</td>\n",
       "      <td>Пол Вайц, Керри Кохански, Эндрю Миано</td>\n",
       "      <td>12+</td>\n",
       "      <td>NaN</td>\n",
       "      <td>NaN</td>\n",
       "      <td>NaN</td>\n",
       "      <td>NaN</td>\n",
       "      <td>5.8</td>\n",
       "      <td>мелодрама,комедия,драма</td>\n",
       "      <td>0.0</td>\n",
       "    </tr>\n",
       "    <tr>\n",
       "      <th>1559</th>\n",
       "      <td>Последняя любовь мистера Моргана /По роману Фр...</td>\n",
       "      <td>121002614</td>\n",
       "      <td>2014-02-11 12:00:00+00:00</td>\n",
       "      <td>Художественный</td>\n",
       "      <td>Камински Штим Фильм, Бавариа Пикчерз, Сенатор ...</td>\n",
       "      <td>Германия - Бельгия - США -Франция</td>\n",
       "      <td>Сандра Неттельбек</td>\n",
       "      <td>Франк Камински, Астрид Камке, Филипп Кройцер, ...</td>\n",
       "      <td>16+</td>\n",
       "      <td>NaN</td>\n",
       "      <td>NaN</td>\n",
       "      <td>NaN</td>\n",
       "      <td>NaN</td>\n",
       "      <td>6.9</td>\n",
       "      <td>драма</td>\n",
       "      <td>0.0</td>\n",
       "    </tr>\n",
       "    <tr>\n",
       "      <th>1772</th>\n",
       "      <td>Весёлые ребята ;)</td>\n",
       "      <td>111002414</td>\n",
       "      <td>2014-02-27 12:00:00+00:00</td>\n",
       "      <td>Художественный</td>\n",
       "      <td>ЗАО \"ПРОДЮСЕРСКАЯ КОМПАНИЯ ВАЛЕРИЯ ТОДОРОВСКОГО\"</td>\n",
       "      <td>Россия</td>\n",
       "      <td>А.Бобров</td>\n",
       "      <td>В.Тодоровский</td>\n",
       "      <td>6+</td>\n",
       "      <td>NaN</td>\n",
       "      <td>NaN</td>\n",
       "      <td>NaN</td>\n",
       "      <td>NaN</td>\n",
       "      <td>NaN</td>\n",
       "      <td>NaN</td>\n",
       "      <td>0.0</td>\n",
       "    </tr>\n",
       "    <tr>\n",
       "      <th>1782</th>\n",
       "      <td>Анжелика, маркиза ангелов</td>\n",
       "      <td>121031913</td>\n",
       "      <td>2013-12-12 12:00:00+00:00</td>\n",
       "      <td>Художественный</td>\n",
       "      <td>Европа Корп., МонаФилм, ВилмаФилм</td>\n",
       "      <td>Франция</td>\n",
       "      <td>Ариэль Зейтун</td>\n",
       "      <td>Эммануэль Жаклин, Павел Солк, Филипп Херинг</td>\n",
       "      <td>16+</td>\n",
       "      <td>NaN</td>\n",
       "      <td>NaN</td>\n",
       "      <td>NaN</td>\n",
       "      <td>NaN</td>\n",
       "      <td>8.0</td>\n",
       "      <td>драма,мелодрама,приключения</td>\n",
       "      <td>0.0</td>\n",
       "    </tr>\n",
       "    <tr>\n",
       "      <th>1978</th>\n",
       "      <td>Люблю твою жену</td>\n",
       "      <td>121013014</td>\n",
       "      <td>2014-06-23 12:00:00+00:00</td>\n",
       "      <td>Художественный</td>\n",
       "      <td>Серендипити Пойнт Фильм, Номадик Пикчерз</td>\n",
       "      <td>Канада</td>\n",
       "      <td>Джеримайя С.Чечик</td>\n",
       "      <td>Стефен Аликс, Эри Лантос, Роберт Лантош</td>\n",
       "      <td>16+</td>\n",
       "      <td>NaN</td>\n",
       "      <td>NaN</td>\n",
       "      <td>NaN</td>\n",
       "      <td>NaN</td>\n",
       "      <td>6.0</td>\n",
       "      <td>мелодрама,комедия</td>\n",
       "      <td>0.0</td>\n",
       "    </tr>\n",
       "    <tr>\n",
       "      <th>2037</th>\n",
       "      <td>Кино про Алексеева</td>\n",
       "      <td>111007114</td>\n",
       "      <td>2014-07-18 12:00:00+00:00</td>\n",
       "      <td>Художественный</td>\n",
       "      <td>ООО \"Кинокомпания \"Новые люди\"</td>\n",
       "      <td>Россия</td>\n",
       "      <td>М.Сегал</td>\n",
       "      <td>Н.Мокрицкая</td>\n",
       "      <td>12+</td>\n",
       "      <td>NaN</td>\n",
       "      <td>NaN</td>\n",
       "      <td>NaN</td>\n",
       "      <td>NaN</td>\n",
       "      <td>6.9</td>\n",
       "      <td>драма</td>\n",
       "      <td>0.0</td>\n",
       "    </tr>\n",
       "    <tr>\n",
       "      <th>2078</th>\n",
       "      <td>Курбан-роман. (История с жертвой).</td>\n",
       "      <td>111009614</td>\n",
       "      <td>2014-09-02 12:00:00+00:00</td>\n",
       "      <td>Художественный</td>\n",
       "      <td>ФОНД \"ИННОВАЦИЯ\"</td>\n",
       "      <td>Россия</td>\n",
       "      <td>С.Юзеев</td>\n",
       "      <td>М.Галицкая</td>\n",
       "      <td>12+</td>\n",
       "      <td>NaN</td>\n",
       "      <td>NaN</td>\n",
       "      <td>NaN</td>\n",
       "      <td>NaN</td>\n",
       "      <td>NaN</td>\n",
       "      <td>NaN</td>\n",
       "      <td>0.0</td>\n",
       "    </tr>\n",
       "    <tr>\n",
       "      <th>2126</th>\n",
       "      <td>Поездка к матери</td>\n",
       "      <td>111002015</td>\n",
       "      <td>2015-03-02 12:00:00+00:00</td>\n",
       "      <td>Художественный</td>\n",
       "      <td>ЗАО \"Киностудия \"М\"-Фильм\"</td>\n",
       "      <td>Россия</td>\n",
       "      <td>М.Косырев-Нестеров</td>\n",
       "      <td>М.Косырев-Нестеров</td>\n",
       "      <td>16+</td>\n",
       "      <td>NaN</td>\n",
       "      <td>NaN</td>\n",
       "      <td>NaN</td>\n",
       "      <td>NaN</td>\n",
       "      <td>9.1</td>\n",
       "      <td>драма,семейный</td>\n",
       "      <td>0.0</td>\n",
       "    </tr>\n",
       "    <tr>\n",
       "      <th>2219</th>\n",
       "      <td>Прогулка по солнечному свету</td>\n",
       "      <td>121011614</td>\n",
       "      <td>2014-06-11 12:00:00+00:00</td>\n",
       "      <td>Художественный</td>\n",
       "      <td>Вертиго Филмз, АйЭм Глобал</td>\n",
       "      <td>Великобритания</td>\n",
       "      <td>Макс Джива, Дания Пасквини</td>\n",
       "      <td>Кэролайн Леви, Эллан Нибло, Джеймс Ричардсон</td>\n",
       "      <td>12+</td>\n",
       "      <td>NaN</td>\n",
       "      <td>NaN</td>\n",
       "      <td>NaN</td>\n",
       "      <td>NaN</td>\n",
       "      <td>6.1</td>\n",
       "      <td>мюзикл,драма,мелодрама</td>\n",
       "      <td>0.0</td>\n",
       "    </tr>\n",
       "    <tr>\n",
       "      <th>2442</th>\n",
       "      <td>Звездный мальчик</td>\n",
       "      <td>111013915</td>\n",
       "      <td>2015-08-25 12:00:00+00:00</td>\n",
       "      <td>Художественный</td>\n",
       "      <td>Киностудия \"Мосфильм\"</td>\n",
       "      <td>СССР</td>\n",
       "      <td>Е.Зильберштейн, А.Дудоров</td>\n",
       "      <td>NaN</td>\n",
       "      <td>0+</td>\n",
       "      <td>NaN</td>\n",
       "      <td>NaN</td>\n",
       "      <td>NaN</td>\n",
       "      <td>NaN</td>\n",
       "      <td>7.5</td>\n",
       "      <td>драма</td>\n",
       "      <td>0.0</td>\n",
       "    </tr>\n",
       "    <tr>\n",
       "      <th>2685</th>\n",
       "      <td>ПУСТЬ ТАК БУДЕТ</td>\n",
       "      <td>111009815</td>\n",
       "      <td>2015-06-01 12:00:00+00:00</td>\n",
       "      <td>Художественный</td>\n",
       "      <td>ООО ПРОДЮСЕРСКАЯ КОМПАНИЯ \"ДЕРЖАВА\"</td>\n",
       "      <td>Россия</td>\n",
       "      <td>О.Смольников</td>\n",
       "      <td>К.Лавров, Ю.Потапова, В.Бутер, С.Прудников, С....</td>\n",
       "      <td>12+</td>\n",
       "      <td>NaN</td>\n",
       "      <td>NaN</td>\n",
       "      <td>NaN</td>\n",
       "      <td>NaN</td>\n",
       "      <td>NaN</td>\n",
       "      <td>NaN</td>\n",
       "      <td>0.0</td>\n",
       "    </tr>\n",
       "    <tr>\n",
       "      <th>3595</th>\n",
       "      <td>Ананас</td>\n",
       "      <td>111017116</td>\n",
       "      <td>2016-11-10 12:00:00+00:00</td>\n",
       "      <td>Художественный</td>\n",
       "      <td>Рудак Владимир Иванович</td>\n",
       "      <td>Россия</td>\n",
       "      <td>В.Рудак</td>\n",
       "      <td>В.Рудак, А.Бабенко</td>\n",
       "      <td>16+</td>\n",
       "      <td>NaN</td>\n",
       "      <td>NaN</td>\n",
       "      <td>NaN</td>\n",
       "      <td>NaN</td>\n",
       "      <td>6.7</td>\n",
       "      <td>боевик,комедия,криминал</td>\n",
       "      <td>0.0</td>\n",
       "    </tr>\n",
       "    <tr>\n",
       "      <th>3827</th>\n",
       "      <td>Москва, я люблю тебя</td>\n",
       "      <td>111001610</td>\n",
       "      <td>2010-02-09 12:00:00+00:00</td>\n",
       "      <td>Художественный</td>\n",
       "      <td>ООО \"БФГ-МЕДИА-ПРОДАКШН\", ООО \"Продюсерская ко...</td>\n",
       "      <td>Россия</td>\n",
       "      <td>Г.Михалков, Г.Натансон, В.Сторожева, А.Касатки...</td>\n",
       "      <td>Ю.Глоцер, Ю.Гинзбург</td>\n",
       "      <td>16+</td>\n",
       "      <td>NaN</td>\n",
       "      <td>NaN</td>\n",
       "      <td>NaN</td>\n",
       "      <td>NaN</td>\n",
       "      <td>4.5</td>\n",
       "      <td>мелодрама,комедия</td>\n",
       "      <td>0.0</td>\n",
       "    </tr>\n",
       "    <tr>\n",
       "      <th>3994</th>\n",
       "      <td>Стать Джоном Ленноном</td>\n",
       "      <td>121008610</td>\n",
       "      <td>2010-05-05 12:00:00+00:00</td>\n",
       "      <td>Художественный</td>\n",
       "      <td>Авер Медиа, Экосси Филмз, Филм 4, Норс Вест Ви...</td>\n",
       "      <td>Канада-Великобритания</td>\n",
       "      <td>Сэм Тейлор Вуд</td>\n",
       "      <td>Роберт Бернштейн, Кевин Лоудер, Дуглас Рэй</td>\n",
       "      <td>16+</td>\n",
       "      <td>NaN</td>\n",
       "      <td>NaN</td>\n",
       "      <td>NaN</td>\n",
       "      <td>NaN</td>\n",
       "      <td>7.5</td>\n",
       "      <td>драма,мелодрама,биография</td>\n",
       "      <td>0.0</td>\n",
       "    </tr>\n",
       "    <tr>\n",
       "      <th>4066</th>\n",
       "      <td>Дерево.</td>\n",
       "      <td>121020210</td>\n",
       "      <td>2010-11-03 12:00:00+00:00</td>\n",
       "      <td>Художественный</td>\n",
       "      <td>Ле Фильм Дю Позьон, Тэйлор Медиа, Скрин Ауастр...</td>\n",
       "      <td>Франция-Австралия</td>\n",
       "      <td>Жюли Бертучелли</td>\n",
       "      <td>NaN</td>\n",
       "      <td>16+</td>\n",
       "      <td>NaN</td>\n",
       "      <td>NaN</td>\n",
       "      <td>NaN</td>\n",
       "      <td>NaN</td>\n",
       "      <td>NaN</td>\n",
       "      <td>NaN</td>\n",
       "      <td>0.0</td>\n",
       "    </tr>\n",
       "    <tr>\n",
       "      <th>4790</th>\n",
       "      <td>КРАСНЫЙ ЛЕД. Сага о хантах Югры</td>\n",
       "      <td>111005910</td>\n",
       "      <td>2010-06-04 12:00:00+00:00</td>\n",
       "      <td>Художественный</td>\n",
       "      <td>Департамент культуры и искусства ХМАО-Югры, ОО...</td>\n",
       "      <td>Россия</td>\n",
       "      <td>О.Фесенко</td>\n",
       "      <td>О.Урушев</td>\n",
       "      <td>16+</td>\n",
       "      <td>NaN</td>\n",
       "      <td>NaN</td>\n",
       "      <td>NaN</td>\n",
       "      <td>NaN</td>\n",
       "      <td>4.5</td>\n",
       "      <td>драма,история</td>\n",
       "      <td>0.0</td>\n",
       "    </tr>\n",
       "  </tbody>\n",
       "</table>\n",
       "</div>"
      ],
      "text/plain": [
       "                                                  title   puNumber  \\\n",
       "66                                         Анна Павлова  111011013   \n",
       "237                                            Подранки  111007613   \n",
       "596                                       Запах вереска  111003012   \n",
       "914     В тумане /По одноименной повести Василя Быкова/  121027712   \n",
       "932                                     Письмо для Момо  124002912   \n",
       "933                                        Летние войны  124002812   \n",
       "976                                        Гарегин Нжде  131000213   \n",
       "1126                                            Марафон  111006712   \n",
       "1387  Экзамен для двоих /По роману Джин Ханфф Корелитц/  121014613   \n",
       "1559  Последняя любовь мистера Моргана /По роману Фр...  121002614   \n",
       "1772                                  Весёлые ребята ;)  111002414   \n",
       "1782                          Анжелика, маркиза ангелов  121031913   \n",
       "1978                                    Люблю твою жену  121013014   \n",
       "2037                                 Кино про Алексеева  111007114   \n",
       "2078                 Курбан-роман. (История с жертвой).  111009614   \n",
       "2126                                   Поездка к матери  111002015   \n",
       "2219                       Прогулка по солнечному свету  121011614   \n",
       "2442                                   Звездный мальчик  111013915   \n",
       "2685                                    ПУСТЬ ТАК БУДЕТ  111009815   \n",
       "3595                                             Ананас  111017116   \n",
       "3827                               Москва, я люблю тебя  111001610   \n",
       "3994                              Стать Джоном Ленноном  121008610   \n",
       "4066                                            Дерево.  121020210   \n",
       "4790                    КРАСНЫЙ ЛЕД. Сага о хантах Югры  111005910   \n",
       "\n",
       "               show_start_date            type  \\\n",
       "66   2013-12-19 12:00:00+00:00  Художественный   \n",
       "237  2013-10-18 12:00:00+00:00  Художественный   \n",
       "596  2012-05-23 12:00:00+00:00  Художественный   \n",
       "914  2012-11-07 12:00:00+00:00  Художественный   \n",
       "932  2012-10-25 12:00:00+00:00    Анимационный   \n",
       "933  2012-10-25 12:00:00+00:00    Анимационный   \n",
       "976  2013-04-23 12:00:00+00:00  Художественный   \n",
       "1126 2012-12-18 12:00:00+00:00  Художественный   \n",
       "1387 2013-06-11 12:00:00+00:00  Художественный   \n",
       "1559 2014-02-11 12:00:00+00:00  Художественный   \n",
       "1772 2014-02-27 12:00:00+00:00  Художественный   \n",
       "1782 2013-12-12 12:00:00+00:00  Художественный   \n",
       "1978 2014-06-23 12:00:00+00:00  Художественный   \n",
       "2037 2014-07-18 12:00:00+00:00  Художественный   \n",
       "2078 2014-09-02 12:00:00+00:00  Художественный   \n",
       "2126 2015-03-02 12:00:00+00:00  Художественный   \n",
       "2219 2014-06-11 12:00:00+00:00  Художественный   \n",
       "2442 2015-08-25 12:00:00+00:00  Художественный   \n",
       "2685 2015-06-01 12:00:00+00:00  Художественный   \n",
       "3595 2016-11-10 12:00:00+00:00  Художественный   \n",
       "3827 2010-02-09 12:00:00+00:00  Художественный   \n",
       "3994 2010-05-05 12:00:00+00:00  Художественный   \n",
       "4066 2010-11-03 12:00:00+00:00  Художественный   \n",
       "4790 2010-06-04 12:00:00+00:00  Художественный   \n",
       "\n",
       "                                            film_studio  \\\n",
       "66    совместное производство Киностудия \"Мосфильм\",...   \n",
       "237                               Киностудия \"Мосфильм\"   \n",
       "596                                    ООО \"Студия РИМ\"   \n",
       "914   Ма Йа Де Фикшн, Лемминг Филм, Беларусьфильм, Д...   \n",
       "932   Кадокава Пикчерз, Продакшнз И Джи, Токио Броад...   \n",
       "933   Медхауз, Ниппон Телевижн Нетуорк Корпорейшн, К...   \n",
       "976      Эй Джи Кей Продакшнз, Пан Армениан Медиа Групп   \n",
       "1126                            ООО \"Синема Арт Студио\"   \n",
       "1387                                       Депф оф Филд   \n",
       "1559  Камински Штим Фильм, Бавариа Пикчерз, Сенатор ...   \n",
       "1772   ЗАО \"ПРОДЮСЕРСКАЯ КОМПАНИЯ ВАЛЕРИЯ ТОДОРОВСКОГО\"   \n",
       "1782                  Европа Корп., МонаФилм, ВилмаФилм   \n",
       "1978           Серендипити Пойнт Фильм, Номадик Пикчерз   \n",
       "2037                     ООО \"Кинокомпания \"Новые люди\"   \n",
       "2078                                   ФОНД \"ИННОВАЦИЯ\"   \n",
       "2126                         ЗАО \"Киностудия \"М\"-Фильм\"   \n",
       "2219                         Вертиго Филмз, АйЭм Глобал   \n",
       "2442                              Киностудия \"Мосфильм\"   \n",
       "2685                ООО ПРОДЮСЕРСКАЯ КОМПАНИЯ \"ДЕРЖАВА\"   \n",
       "3595                            Рудак Владимир Иванович   \n",
       "3827  ООО \"БФГ-МЕДИА-ПРОДАКШН\", ООО \"Продюсерская ко...   \n",
       "3994  Авер Медиа, Экосси Филмз, Филм 4, Норс Вест Ви...   \n",
       "4066  Ле Фильм Дю Позьон, Тэйлор Медиа, Скрин Ауастр...   \n",
       "4790  Департамент культуры и искусства ХМАО-Югры, ОО...   \n",
       "\n",
       "                                     production_country  \\\n",
       "66                     СССР, Франция, Англия, Куба, ГДР   \n",
       "237                                                СССР   \n",
       "596                                              Россия   \n",
       "914   Германия - Нидерланды - Беларусь - Россия - Ла...   \n",
       "932                                              Япония   \n",
       "933                                              Япония   \n",
       "976                                             Армения   \n",
       "1126                                             Россия   \n",
       "1387                                                США   \n",
       "1559                  Германия - Бельгия - США -Франция   \n",
       "1772                                             Россия   \n",
       "1782                                            Франция   \n",
       "1978                                             Канада   \n",
       "2037                                             Россия   \n",
       "2078                                             Россия   \n",
       "2126                                             Россия   \n",
       "2219                                     Великобритания   \n",
       "2442                                               СССР   \n",
       "2685                                             Россия   \n",
       "3595                                             Россия   \n",
       "3827                                             Россия   \n",
       "3994                              Канада-Великобритания   \n",
       "4066                                  Франция-Австралия   \n",
       "4790                                             Россия   \n",
       "\n",
       "                                               director  \\\n",
       "66                                         Эмиль Лотяну   \n",
       "237                                           Н.Губенко   \n",
       "596                                         А.Магомедов   \n",
       "914                                      Сергей Лозница   \n",
       "932                                      Окиура Хироюки   \n",
       "933                                       Мамору Хосода   \n",
       "976                                        Грач Кешишян   \n",
       "1126                                         К.Оганесян   \n",
       "1387                                           Пол Вайц   \n",
       "1559                                  Сандра Неттельбек   \n",
       "1772                                           А.Бобров   \n",
       "1782                                      Ариэль Зейтун   \n",
       "1978                                  Джеримайя С.Чечик   \n",
       "2037                                            М.Сегал   \n",
       "2078                                            С.Юзеев   \n",
       "2126                                 М.Косырев-Нестеров   \n",
       "2219                         Макс Джива, Дания Пасквини   \n",
       "2442                          Е.Зильберштейн, А.Дудоров   \n",
       "2685                                       О.Смольников   \n",
       "3595                                            В.Рудак   \n",
       "3827  Г.Михалков, Г.Натансон, В.Сторожева, А.Касатки...   \n",
       "3994                                     Сэм Тейлор Вуд   \n",
       "4066                                    Жюли Бертучелли   \n",
       "4790                                          О.Фесенко   \n",
       "\n",
       "                                               producer age_restriction  \\\n",
       "66                                                  NaN              6+   \n",
       "237                                                 NaN             12+   \n",
       "596                               М.Балашова, Е.Миронов             16+   \n",
       "914                                        Хайно Декерт             12+   \n",
       "932     Хироюки Икеда, Митсухиса Ишикава, Кацзуя Хамана             12+   \n",
       "933   Такафуми Ватанабэ, Такуя Ито, Сэйдзи Окуда, Юи...             12+   \n",
       "976                                        Грач Кешишян             12+   \n",
       "1126                                         К.Оганесян             16+   \n",
       "1387              Пол Вайц, Керри Кохански, Эндрю Миано             12+   \n",
       "1559  Франк Камински, Астрид Камке, Филипп Кройцер, ...             16+   \n",
       "1772                                      В.Тодоровский              6+   \n",
       "1782        Эммануэль Жаклин, Павел Солк, Филипп Херинг             16+   \n",
       "1978            Стефен Аликс, Эри Лантос, Роберт Лантош             16+   \n",
       "2037                                        Н.Мокрицкая             12+   \n",
       "2078                                         М.Галицкая             12+   \n",
       "2126                                 М.Косырев-Нестеров             16+   \n",
       "2219       Кэролайн Леви, Эллан Нибло, Джеймс Ричардсон             12+   \n",
       "2442                                                NaN              0+   \n",
       "2685  К.Лавров, Ю.Потапова, В.Бутер, С.Прудников, С....             12+   \n",
       "3595                                 В.Рудак, А.Бабенко             16+   \n",
       "3827                               Ю.Глоцер, Ю.Гинзбург             16+   \n",
       "3994         Роберт Бернштейн, Кевин Лоудер, Дуглас Рэй             16+   \n",
       "4066                                                NaN             16+   \n",
       "4790                                           О.Урушев             16+   \n",
       "\n",
       "      refundable_support  nonrefundable_support  budget financing_source  \\\n",
       "66                   NaN                    NaN     NaN              NaN   \n",
       "237                  NaN                    NaN     NaN              NaN   \n",
       "596                  NaN                    NaN     NaN              NaN   \n",
       "914                  NaN                    NaN     NaN              NaN   \n",
       "932                  NaN                    NaN     NaN              NaN   \n",
       "933                  NaN                    NaN     NaN              NaN   \n",
       "976                  NaN                    NaN     NaN              NaN   \n",
       "1126                 NaN                    NaN     NaN              NaN   \n",
       "1387                 NaN                    NaN     NaN              NaN   \n",
       "1559                 NaN                    NaN     NaN              NaN   \n",
       "1772                 NaN                    NaN     NaN              NaN   \n",
       "1782                 NaN                    NaN     NaN              NaN   \n",
       "1978                 NaN                    NaN     NaN              NaN   \n",
       "2037                 NaN                    NaN     NaN              NaN   \n",
       "2078                 NaN                    NaN     NaN              NaN   \n",
       "2126                 NaN                    NaN     NaN              NaN   \n",
       "2219                 NaN                    NaN     NaN              NaN   \n",
       "2442                 NaN                    NaN     NaN              NaN   \n",
       "2685                 NaN                    NaN     NaN              NaN   \n",
       "3595                 NaN                    NaN     NaN              NaN   \n",
       "3827                 NaN                    NaN     NaN              NaN   \n",
       "3994                 NaN                    NaN     NaN              NaN   \n",
       "4066                 NaN                    NaN     NaN              NaN   \n",
       "4790                 NaN                    NaN     NaN              NaN   \n",
       "\n",
       "      ratings                       genres  box_office  \n",
       "66        7.7       драма,биография,музыка         0.0  \n",
       "237       8.2                        драма         0.0  \n",
       "596       6.3                      комедия         0.0  \n",
       "914       6.5        драма,военный,история         0.0  \n",
       "932       7.4       аниме,мультфильм,драма         0.0  \n",
       "933       7.7  аниме,мультфильм,фантастика         0.0  \n",
       "976       7.9                    биография         0.0  \n",
       "1126      5.5            комедия,мелодрама         0.0  \n",
       "1387      5.8      мелодрама,комедия,драма         0.0  \n",
       "1559      6.9                        драма         0.0  \n",
       "1772      NaN                          NaN         0.0  \n",
       "1782      8.0  драма,мелодрама,приключения         0.0  \n",
       "1978      6.0            мелодрама,комедия         0.0  \n",
       "2037      6.9                        драма         0.0  \n",
       "2078      NaN                          NaN         0.0  \n",
       "2126      9.1               драма,семейный         0.0  \n",
       "2219      6.1       мюзикл,драма,мелодрама         0.0  \n",
       "2442      7.5                        драма         0.0  \n",
       "2685      NaN                          NaN         0.0  \n",
       "3595      6.7      боевик,комедия,криминал         0.0  \n",
       "3827      4.5            мелодрама,комедия         0.0  \n",
       "3994      7.5    драма,мелодрама,биография         0.0  \n",
       "4066      NaN                          NaN         0.0  \n",
       "4790      4.5                драма,история         0.0  "
      ]
     },
     "metadata": {},
     "output_type": "display_data"
    },
    {
     "data": {
      "text/plain": [
       "0.0032059845044082286"
      ]
     },
     "execution_count": 45,
     "metadata": {},
     "output_type": "execute_result"
    }
   ],
   "source": [
    "display(df.query('box_office == 0'))\n",
    "len(df.query('box_office == 0'))/len(df)"
   ]
  },
  {
   "cell_type": "markdown",
   "id": "f36f0ffe",
   "metadata": {},
   "source": [
    "**Скорее всего это некорректные данные, удаляем данные строки и проверяем**"
   ]
  },
  {
   "cell_type": "code",
   "execution_count": 46,
   "id": "fb0c19d4",
   "metadata": {},
   "outputs": [
    {
     "data": {
      "text/plain": [
       "0"
      ]
     },
     "execution_count": 46,
     "metadata": {},
     "output_type": "execute_result"
    }
   ],
   "source": [
    "df = df.loc[df['box_office'] != 0]\n",
    "len(df.query('box_office == 0'))"
   ]
  },
  {
   "cell_type": "markdown",
   "id": "f584a50e",
   "metadata": {},
   "source": [
    "**Исправив данные по бюджету, смотрим как изменились данные в этом столбце (получаем инфоромацию по столбцу методом describe() и строим гистограмму**"
   ]
  },
  {
   "cell_type": "code",
   "execution_count": 47,
   "id": "38ad7ed5",
   "metadata": {},
   "outputs": [
    {
     "data": {
      "text/plain": [
       "count    3.134000e+03\n",
       "mean     7.706437e+07\n",
       "std      2.411784e+08\n",
       "min      4.000000e+01\n",
       "25%      1.010288e+05\n",
       "50%      2.409099e+06\n",
       "75%      2.456979e+07\n",
       "max      3.073569e+09\n",
       "Name: box_office, dtype: float64"
      ]
     },
     "metadata": {},
     "output_type": "display_data"
    },
    {
     "data": {
      "text/plain": [
       "<AxesSubplot:title={'center':'Сборы'}, ylabel='Frequency'>"
      ]
     },
     "execution_count": 47,
     "metadata": {},
     "output_type": "execute_result"
    },
    {
     "data": {
      "image/png": "[encoded data removed]",
      "text/plain": [
       "<Figure size 432x216 with 1 Axes>"
      ]
     },
     "metadata": {
      "needs_background": "light"
     },
     "output_type": "display_data"
    }
   ],
   "source": [
    "display(df['box_office'].describe())\n",
    "df.plot(kind='hist', y='box_office', bins=100, title = 'Сборы', figsize = (6,3), grid=True, range=(100000, 4000000))\n",
    "#df.plot(kind='box', y='box_office', title = 'Сборы', figsize = (6,3), grid=True)"
   ]
  },
  {
   "cell_type": "markdown",
   "id": "23a8d94b",
   "metadata": {},
   "source": [
    "**Посмотрим фильмы сборы, которых составили меньше 100000 руб.**"
   ]
  },
  {
   "cell_type": "code",
   "execution_count": 48,
   "id": "de7ed173",
   "metadata": {},
   "outputs": [
    {
     "data": {
      "text/html": [
       "<div>\n",
       "<style scoped>\n",
       "    .dataframe tbody tr th:only-of-type {\n",
       "        vertical-align: middle;\n",
       "    }\n",
       "\n",
       "    .dataframe tbody tr th {\n",
       "        vertical-align: top;\n",
       "    }\n",
       "\n",
       "    .dataframe thead th {\n",
       "        text-align: right;\n",
       "    }\n",
       "</style>\n",
       "<table border=\"1\" class=\"dataframe\">\n",
       "  <thead>\n",
       "    <tr style=\"text-align: right;\">\n",
       "      <th></th>\n",
       "      <th>title</th>\n",
       "      <th>puNumber</th>\n",
       "      <th>show_start_date</th>\n",
       "      <th>type</th>\n",
       "      <th>film_studio</th>\n",
       "      <th>production_country</th>\n",
       "      <th>director</th>\n",
       "      <th>producer</th>\n",
       "      <th>age_restriction</th>\n",
       "      <th>refundable_support</th>\n",
       "      <th>nonrefundable_support</th>\n",
       "      <th>budget</th>\n",
       "      <th>financing_source</th>\n",
       "      <th>ratings</th>\n",
       "      <th>genres</th>\n",
       "      <th>box_office</th>\n",
       "    </tr>\n",
       "  </thead>\n",
       "  <tbody>\n",
       "    <tr>\n",
       "      <th>6</th>\n",
       "      <td>Любовь и голуби</td>\n",
       "      <td>111007013</td>\n",
       "      <td>2013-10-18 12:00:00+00:00</td>\n",
       "      <td>Художественный</td>\n",
       "      <td>Киностудия \"Мосфильм\"</td>\n",
       "      <td>СССР</td>\n",
       "      <td>В.Меньшов</td>\n",
       "      <td>NaN</td>\n",
       "      <td>12+</td>\n",
       "      <td>NaN</td>\n",
       "      <td>NaN</td>\n",
       "      <td>NaN</td>\n",
       "      <td>NaN</td>\n",
       "      <td>8.3</td>\n",
       "      <td>мелодрама,комедия</td>\n",
       "      <td>2700.0</td>\n",
       "    </tr>\n",
       "    <tr>\n",
       "      <th>18</th>\n",
       "      <td>Неподдающиеся</td>\n",
       "      <td>111003616</td>\n",
       "      <td>2016-02-12 12:00:00+00:00</td>\n",
       "      <td>Художественный</td>\n",
       "      <td>Киностудия \"Мосфильм\"</td>\n",
       "      <td>СССР</td>\n",
       "      <td>Ю.Чулюкин</td>\n",
       "      <td>NaN</td>\n",
       "      <td>6+</td>\n",
       "      <td>NaN</td>\n",
       "      <td>NaN</td>\n",
       "      <td>NaN</td>\n",
       "      <td>NaN</td>\n",
       "      <td>8.0</td>\n",
       "      <td>мелодрама,комедия</td>\n",
       "      <td>360.0</td>\n",
       "    </tr>\n",
       "    <tr>\n",
       "      <th>19</th>\n",
       "      <td>Неподсуден</td>\n",
       "      <td>111003716</td>\n",
       "      <td>2016-02-12 12:00:00+00:00</td>\n",
       "      <td>Художественный</td>\n",
       "      <td>Киностудия \"Мосфильм\"</td>\n",
       "      <td>СССР</td>\n",
       "      <td>В.Краснопольский, В.Усков</td>\n",
       "      <td>NaN</td>\n",
       "      <td>6+</td>\n",
       "      <td>NaN</td>\n",
       "      <td>NaN</td>\n",
       "      <td>NaN</td>\n",
       "      <td>NaN</td>\n",
       "      <td>7.7</td>\n",
       "      <td>драма</td>\n",
       "      <td>420.0</td>\n",
       "    </tr>\n",
       "    <tr>\n",
       "      <th>22</th>\n",
       "      <td>Операция \"Ы\" и другие приключения Шурика</td>\n",
       "      <td>111007413</td>\n",
       "      <td>2013-10-18 12:00:00+00:00</td>\n",
       "      <td>Художественный</td>\n",
       "      <td>Киностудия \"Мосфильм\"</td>\n",
       "      <td>СССР</td>\n",
       "      <td>Л.Гайдай</td>\n",
       "      <td>NaN</td>\n",
       "      <td>6+</td>\n",
       "      <td>NaN</td>\n",
       "      <td>NaN</td>\n",
       "      <td>NaN</td>\n",
       "      <td>NaN</td>\n",
       "      <td>8.7</td>\n",
       "      <td>комедия,мелодрама,криминал</td>\n",
       "      <td>380.0</td>\n",
       "    </tr>\n",
       "    <tr>\n",
       "      <th>38</th>\n",
       "      <td>Мужики!..</td>\n",
       "      <td>111007213</td>\n",
       "      <td>2013-10-18 12:00:00+00:00</td>\n",
       "      <td>Художественный</td>\n",
       "      <td>Киностудия \"Мосфильм\"</td>\n",
       "      <td>СССР</td>\n",
       "      <td>И.Бабич</td>\n",
       "      <td>NaN</td>\n",
       "      <td>6+</td>\n",
       "      <td>NaN</td>\n",
       "      <td>NaN</td>\n",
       "      <td>NaN</td>\n",
       "      <td>NaN</td>\n",
       "      <td>8.1</td>\n",
       "      <td>драма</td>\n",
       "      <td>1165.0</td>\n",
       "    </tr>\n",
       "    <tr>\n",
       "      <th>...</th>\n",
       "      <td>...</td>\n",
       "      <td>...</td>\n",
       "      <td>...</td>\n",
       "      <td>...</td>\n",
       "      <td>...</td>\n",
       "      <td>...</td>\n",
       "      <td>...</td>\n",
       "      <td>...</td>\n",
       "      <td>...</td>\n",
       "      <td>...</td>\n",
       "      <td>...</td>\n",
       "      <td>...</td>\n",
       "      <td>...</td>\n",
       "      <td>...</td>\n",
       "      <td>...</td>\n",
       "      <td>...</td>\n",
       "    </tr>\n",
       "    <tr>\n",
       "      <th>7154</th>\n",
       "      <td>Созданный в Бездне - Блуждающие сумерки</td>\n",
       "      <td>124006219</td>\n",
       "      <td>2019-08-15 12:00:00+00:00</td>\n",
       "      <td>Анимационный</td>\n",
       "      <td>Кинема Цитрус Ко.</td>\n",
       "      <td>Япония</td>\n",
       "      <td>Масаюки Кодзима</td>\n",
       "      <td>Мунэки Огасавара</td>\n",
       "      <td>18+</td>\n",
       "      <td>NaN</td>\n",
       "      <td>NaN</td>\n",
       "      <td>NaN</td>\n",
       "      <td>NaN</td>\n",
       "      <td>8.0</td>\n",
       "      <td>аниме,мультфильм,детектив</td>\n",
       "      <td>73700.0</td>\n",
       "    </tr>\n",
       "    <tr>\n",
       "      <th>7155</th>\n",
       "      <td>Созданный в Бездне - Рассвет путешествия</td>\n",
       "      <td>124006319</td>\n",
       "      <td>2019-08-15 12:00:00+00:00</td>\n",
       "      <td>Анимационный</td>\n",
       "      <td>Кинема Цитрус Ко.</td>\n",
       "      <td>Япония</td>\n",
       "      <td>Масаюки Кодзима</td>\n",
       "      <td>Мунэки Огасавара</td>\n",
       "      <td>16+</td>\n",
       "      <td>NaN</td>\n",
       "      <td>NaN</td>\n",
       "      <td>NaN</td>\n",
       "      <td>NaN</td>\n",
       "      <td>7.9</td>\n",
       "      <td>аниме,мультфильм,детектив</td>\n",
       "      <td>75300.0</td>\n",
       "    </tr>\n",
       "    <tr>\n",
       "      <th>7205</th>\n",
       "      <td>Диего Марадона</td>\n",
       "      <td>126003519</td>\n",
       "      <td>2019-09-14 12:00:00+00:00</td>\n",
       "      <td>Прочие</td>\n",
       "      <td>Филм Фо, Лортон Интертейнмент, Корнер Филмз</td>\n",
       "      <td>Великобритания</td>\n",
       "      <td>Азиф Кападиа</td>\n",
       "      <td>Джеймс Гэй-Рис, Пол Мартин</td>\n",
       "      <td>16+</td>\n",
       "      <td>NaN</td>\n",
       "      <td>NaN</td>\n",
       "      <td>NaN</td>\n",
       "      <td>NaN</td>\n",
       "      <td>7.7</td>\n",
       "      <td>документальный,спорт,биография</td>\n",
       "      <td>38330.0</td>\n",
       "    </tr>\n",
       "    <tr>\n",
       "      <th>7421</th>\n",
       "      <td>Балет сегодня</td>\n",
       "      <td>126007219</td>\n",
       "      <td>2019-12-01 12:00:00+00:00</td>\n",
       "      <td>Прочие</td>\n",
       "      <td>Догвуф Фильм Дистрибьюшн, Лексикат Артистс, Ст...</td>\n",
       "      <td>США</td>\n",
       "      <td>Стивен Кантор</td>\n",
       "      <td>П.Дж.Аллен, А.Блаватник, О.Блаватник, Д.Гарги,...</td>\n",
       "      <td>16+</td>\n",
       "      <td>NaN</td>\n",
       "      <td>NaN</td>\n",
       "      <td>NaN</td>\n",
       "      <td>NaN</td>\n",
       "      <td>NaN</td>\n",
       "      <td>NaN</td>\n",
       "      <td>59829.0</td>\n",
       "    </tr>\n",
       "    <tr>\n",
       "      <th>7422</th>\n",
       "      <td>Лил Бак: Настоящий Лебедь</td>\n",
       "      <td>126007319</td>\n",
       "      <td>2019-12-01 12:00:00+00:00</td>\n",
       "      <td>Прочие</td>\n",
       "      <td>Версатий Фильм</td>\n",
       "      <td>Франция</td>\n",
       "      <td>Луи Валлекан</td>\n",
       "      <td>К.Арммер мл., Л.Бак, Ч.Райли, М.Хейдельбергер,...</td>\n",
       "      <td>16+</td>\n",
       "      <td>NaN</td>\n",
       "      <td>NaN</td>\n",
       "      <td>NaN</td>\n",
       "      <td>NaN</td>\n",
       "      <td>NaN</td>\n",
       "      <td>NaN</td>\n",
       "      <td>83285.0</td>\n",
       "    </tr>\n",
       "  </tbody>\n",
       "</table>\n",
       "<p>759 rows × 16 columns</p>\n",
       "</div>"
      ],
      "text/plain": [
       "                                         title   puNumber  \\\n",
       "6                              Любовь и голуби  111007013   \n",
       "18                               Неподдающиеся  111003616   \n",
       "19                                  Неподсуден  111003716   \n",
       "22    Операция \"Ы\" и другие приключения Шурика  111007413   \n",
       "38                                   Мужики!..  111007213   \n",
       "...                                        ...        ...   \n",
       "7154   Созданный в Бездне - Блуждающие сумерки  124006219   \n",
       "7155  Созданный в Бездне - Рассвет путешествия  124006319   \n",
       "7205                            Диего Марадона  126003519   \n",
       "7421                             Балет сегодня  126007219   \n",
       "7422                 Лил Бак: Настоящий Лебедь  126007319   \n",
       "\n",
       "               show_start_date            type  \\\n",
       "6    2013-10-18 12:00:00+00:00  Художественный   \n",
       "18   2016-02-12 12:00:00+00:00  Художественный   \n",
       "19   2016-02-12 12:00:00+00:00  Художественный   \n",
       "22   2013-10-18 12:00:00+00:00  Художественный   \n",
       "38   2013-10-18 12:00:00+00:00  Художественный   \n",
       "...                        ...             ...   \n",
       "7154 2019-08-15 12:00:00+00:00    Анимационный   \n",
       "7155 2019-08-15 12:00:00+00:00    Анимационный   \n",
       "7205 2019-09-14 12:00:00+00:00          Прочие   \n",
       "7421 2019-12-01 12:00:00+00:00          Прочие   \n",
       "7422 2019-12-01 12:00:00+00:00          Прочие   \n",
       "\n",
       "                                            film_studio production_country  \\\n",
       "6                                 Киностудия \"Мосфильм\"               СССР   \n",
       "18                                Киностудия \"Мосфильм\"               СССР   \n",
       "19                                Киностудия \"Мосфильм\"               СССР   \n",
       "22                                Киностудия \"Мосфильм\"               СССР   \n",
       "38                                Киностудия \"Мосфильм\"               СССР   \n",
       "...                                                 ...                ...   \n",
       "7154                                  Кинема Цитрус Ко.             Япония   \n",
       "7155                                  Кинема Цитрус Ко.             Япония   \n",
       "7205        Филм Фо, Лортон Интертейнмент, Корнер Филмз     Великобритания   \n",
       "7421  Догвуф Фильм Дистрибьюшн, Лексикат Артистс, Ст...                США   \n",
       "7422                                     Версатий Фильм            Франция   \n",
       "\n",
       "                       director  \\\n",
       "6                     В.Меньшов   \n",
       "18                    Ю.Чулюкин   \n",
       "19    В.Краснопольский, В.Усков   \n",
       "22                     Л.Гайдай   \n",
       "38                      И.Бабич   \n",
       "...                         ...   \n",
       "7154            Масаюки Кодзима   \n",
       "7155            Масаюки Кодзима   \n",
       "7205               Азиф Кападиа   \n",
       "7421              Стивен Кантор   \n",
       "7422               Луи Валлекан   \n",
       "\n",
       "                                               producer age_restriction  \\\n",
       "6                                                   NaN             12+   \n",
       "18                                                  NaN              6+   \n",
       "19                                                  NaN              6+   \n",
       "22                                                  NaN              6+   \n",
       "38                                                  NaN              6+   \n",
       "...                                                 ...             ...   \n",
       "7154                                   Мунэки Огасавара             18+   \n",
       "7155                                   Мунэки Огасавара             16+   \n",
       "7205                         Джеймс Гэй-Рис, Пол Мартин             16+   \n",
       "7421  П.Дж.Аллен, А.Блаватник, О.Блаватник, Д.Гарги,...             16+   \n",
       "7422  К.Арммер мл., Л.Бак, Ч.Райли, М.Хейдельбергер,...             16+   \n",
       "\n",
       "      refundable_support  nonrefundable_support  budget financing_source  \\\n",
       "6                    NaN                    NaN     NaN              NaN   \n",
       "18                   NaN                    NaN     NaN              NaN   \n",
       "19                   NaN                    NaN     NaN              NaN   \n",
       "22                   NaN                    NaN     NaN              NaN   \n",
       "38                   NaN                    NaN     NaN              NaN   \n",
       "...                  ...                    ...     ...              ...   \n",
       "7154                 NaN                    NaN     NaN              NaN   \n",
       "7155                 NaN                    NaN     NaN              NaN   \n",
       "7205                 NaN                    NaN     NaN              NaN   \n",
       "7421                 NaN                    NaN     NaN              NaN   \n",
       "7422                 NaN                    NaN     NaN              NaN   \n",
       "\n",
       "      ratings                          genres  box_office  \n",
       "6         8.3               мелодрама,комедия      2700.0  \n",
       "18        8.0               мелодрама,комедия       360.0  \n",
       "19        7.7                           драма       420.0  \n",
       "22        8.7      комедия,мелодрама,криминал       380.0  \n",
       "38        8.1                           драма      1165.0  \n",
       "...       ...                             ...         ...  \n",
       "7154      8.0       аниме,мультфильм,детектив     73700.0  \n",
       "7155      7.9       аниме,мультфильм,детектив     75300.0  \n",
       "7205      7.7  документальный,спорт,биография     38330.0  \n",
       "7421      NaN                             NaN     59829.0  \n",
       "7422      NaN                             NaN     83285.0  \n",
       "\n",
       "[759 rows x 16 columns]"
      ]
     },
     "metadata": {},
     "output_type": "display_data"
    },
    {
     "data": {
      "text/html": [
       "<div>\n",
       "<style scoped>\n",
       "    .dataframe tbody tr th:only-of-type {\n",
       "        vertical-align: middle;\n",
       "    }\n",
       "\n",
       "    .dataframe tbody tr th {\n",
       "        vertical-align: top;\n",
       "    }\n",
       "\n",
       "    .dataframe thead th {\n",
       "        text-align: right;\n",
       "    }\n",
       "</style>\n",
       "<table border=\"1\" class=\"dataframe\">\n",
       "  <thead>\n",
       "    <tr style=\"text-align: right;\">\n",
       "      <th></th>\n",
       "      <th>title</th>\n",
       "      <th>puNumber</th>\n",
       "      <th>show_start_date</th>\n",
       "      <th>type</th>\n",
       "      <th>film_studio</th>\n",
       "      <th>production_country</th>\n",
       "      <th>director</th>\n",
       "      <th>producer</th>\n",
       "      <th>age_restriction</th>\n",
       "      <th>refundable_support</th>\n",
       "      <th>nonrefundable_support</th>\n",
       "      <th>budget</th>\n",
       "      <th>financing_source</th>\n",
       "      <th>ratings</th>\n",
       "      <th>genres</th>\n",
       "      <th>box_office</th>\n",
       "    </tr>\n",
       "  </thead>\n",
       "  <tbody>\n",
       "    <tr>\n",
       "      <th>1448</th>\n",
       "      <td>Бесславные придурки</td>\n",
       "      <td>111003314</td>\n",
       "      <td>2014-03-28 12:00:00+00:00</td>\n",
       "      <td>Художественный</td>\n",
       "      <td>ООО \"Компания \"АТК-Студио\"</td>\n",
       "      <td>Россия</td>\n",
       "      <td>А.Якимчук</td>\n",
       "      <td>А.Тютрюмов</td>\n",
       "      <td>12+</td>\n",
       "      <td>0.0</td>\n",
       "      <td>26000000.0</td>\n",
       "      <td>37142857.0</td>\n",
       "      <td>Министерство культуры</td>\n",
       "      <td>NaN</td>\n",
       "      <td>NaN</td>\n",
       "      <td>28140.0</td>\n",
       "    </tr>\n",
       "    <tr>\n",
       "      <th>1524</th>\n",
       "      <td>БЕРЦЫ</td>\n",
       "      <td>111004314</td>\n",
       "      <td>2014-05-05 12:00:00+00:00</td>\n",
       "      <td>Художественный</td>\n",
       "      <td>ООО \"Студия \"Пассажир\"</td>\n",
       "      <td>Россия</td>\n",
       "      <td>Е.Миндадзе (псевдоним Катя Шагалова)</td>\n",
       "      <td>Л.Антонова</td>\n",
       "      <td>16+</td>\n",
       "      <td>0.0</td>\n",
       "      <td>28000000.0</td>\n",
       "      <td>40574140.0</td>\n",
       "      <td>Министерство культуры</td>\n",
       "      <td>4.2</td>\n",
       "      <td>драма</td>\n",
       "      <td>55917.5</td>\n",
       "    </tr>\n",
       "    <tr>\n",
       "      <th>1912</th>\n",
       "      <td>Ведьма .</td>\n",
       "      <td>111002215</td>\n",
       "      <td>2015-03-05 12:00:00+00:00</td>\n",
       "      <td>Художественный</td>\n",
       "      <td>ООО \"Кинокомпания \"Ракурс\"</td>\n",
       "      <td>Россия</td>\n",
       "      <td>Д.Федоров</td>\n",
       "      <td>В.Сидоренко</td>\n",
       "      <td>16+</td>\n",
       "      <td>0.0</td>\n",
       "      <td>34000000.0</td>\n",
       "      <td>48571430.0</td>\n",
       "      <td>Министерство культуры</td>\n",
       "      <td>7.4</td>\n",
       "      <td>фэнтези,приключения,драма</td>\n",
       "      <td>51907.5</td>\n",
       "    </tr>\n",
       "    <tr>\n",
       "      <th>2150</th>\n",
       "      <td>РЕВЕРБЕРАЦИЯ</td>\n",
       "      <td>111003515</td>\n",
       "      <td>2015-03-30 12:00:00+00:00</td>\n",
       "      <td>Художественный</td>\n",
       "      <td>ООО \"Артлайт\"</td>\n",
       "      <td>Россия</td>\n",
       "      <td>К.Сухарьков</td>\n",
       "      <td>А.Новиков</td>\n",
       "      <td>18+</td>\n",
       "      <td>0.0</td>\n",
       "      <td>25000000.0</td>\n",
       "      <td>37371262.0</td>\n",
       "      <td>Министерство культуры</td>\n",
       "      <td>NaN</td>\n",
       "      <td>NaN</td>\n",
       "      <td>19820.0</td>\n",
       "    </tr>\n",
       "    <tr>\n",
       "      <th>2169</th>\n",
       "      <td>Трагедия в бухте Роджерс</td>\n",
       "      <td>111003215</td>\n",
       "      <td>2015-03-26 12:00:00+00:00</td>\n",
       "      <td>Художественный</td>\n",
       "      <td>ООО \"Валдай\"</td>\n",
       "      <td>Россия</td>\n",
       "      <td>Ф.Абрютин</td>\n",
       "      <td>С.Кучмаева, С.Зернов</td>\n",
       "      <td>12+</td>\n",
       "      <td>0.0</td>\n",
       "      <td>30000000.0</td>\n",
       "      <td>43000000.0</td>\n",
       "      <td>Министерство культуры</td>\n",
       "      <td>6.1</td>\n",
       "      <td>детектив,история,драма</td>\n",
       "      <td>40050.0</td>\n",
       "    </tr>\n",
       "    <tr>\n",
       "      <th>2379</th>\n",
       "      <td>Экспириенс</td>\n",
       "      <td>111000315</td>\n",
       "      <td>2015-01-13 12:00:00+00:00</td>\n",
       "      <td>Художественный</td>\n",
       "      <td>ООО \"Компания \"АТК-Студио\"</td>\n",
       "      <td>Россия</td>\n",
       "      <td>Е.Татаров</td>\n",
       "      <td>А.Тютрюмов</td>\n",
       "      <td>16+</td>\n",
       "      <td>0.0</td>\n",
       "      <td>26000000.0</td>\n",
       "      <td>37142857.0</td>\n",
       "      <td>Министерство культуры</td>\n",
       "      <td>4.7</td>\n",
       "      <td>драма</td>\n",
       "      <td>36550.0</td>\n",
       "    </tr>\n",
       "    <tr>\n",
       "      <th>2397</th>\n",
       "      <td>Небесный верблюд</td>\n",
       "      <td>111000115</td>\n",
       "      <td>2015-01-14 12:00:00+00:00</td>\n",
       "      <td>Художественный</td>\n",
       "      <td>ООО Продюсерский центр \"Всё хорошо\"</td>\n",
       "      <td>Россия</td>\n",
       "      <td>Ю.Фетинг</td>\n",
       "      <td>И.Плиско</td>\n",
       "      <td>0+</td>\n",
       "      <td>0.0</td>\n",
       "      <td>34000000.0</td>\n",
       "      <td>49280496.0</td>\n",
       "      <td>Министерство культуры</td>\n",
       "      <td>6.7</td>\n",
       "      <td>детский,семейный</td>\n",
       "      <td>61040.0</td>\n",
       "    </tr>\n",
       "    <tr>\n",
       "      <th>2489</th>\n",
       "      <td>Последний вагон. Весна</td>\n",
       "      <td>111004115</td>\n",
       "      <td>2015-04-15 12:00:00+00:00</td>\n",
       "      <td>Художественный</td>\n",
       "      <td>ООО \"ТАН Фильм\"</td>\n",
       "      <td>Россия</td>\n",
       "      <td>А.Калинкин</td>\n",
       "      <td>Д.Ефремов, В.Пономаренко</td>\n",
       "      <td>18+</td>\n",
       "      <td>0.0</td>\n",
       "      <td>25000000.0</td>\n",
       "      <td>35760060.0</td>\n",
       "      <td>Министерство культуры</td>\n",
       "      <td>5.1</td>\n",
       "      <td>триллер</td>\n",
       "      <td>61193.0</td>\n",
       "    </tr>\n",
       "    <tr>\n",
       "      <th>2527</th>\n",
       "      <td>Вдвоем на льдине.</td>\n",
       "      <td>111011015</td>\n",
       "      <td>2015-06-25 12:00:00+00:00</td>\n",
       "      <td>Художественный</td>\n",
       "      <td>ООО \"Первое творческое объединение\"</td>\n",
       "      <td>Россия</td>\n",
       "      <td>Н.Джорджадзе, В.Игнатьев</td>\n",
       "      <td>П.Поляков, И.Букреев</td>\n",
       "      <td>12+</td>\n",
       "      <td>0.0</td>\n",
       "      <td>26500000.0</td>\n",
       "      <td>37943652.0</td>\n",
       "      <td>Министерство культуры</td>\n",
       "      <td>6.6</td>\n",
       "      <td>мелодрама</td>\n",
       "      <td>4450.0</td>\n",
       "    </tr>\n",
       "    <tr>\n",
       "      <th>2803</th>\n",
       "      <td>Битва с экстрасенсами</td>\n",
       "      <td>111011315</td>\n",
       "      <td>2015-07-20 12:00:00+00:00</td>\n",
       "      <td>Художественный</td>\n",
       "      <td>ООО \"КИНОДАНЦ\", ООО \"КИНОБАЙТ\"</td>\n",
       "      <td>Россия</td>\n",
       "      <td>И.Кордзаия</td>\n",
       "      <td>Е.Мелентьев</td>\n",
       "      <td>12+</td>\n",
       "      <td>0.0</td>\n",
       "      <td>25900000.0</td>\n",
       "      <td>59560746.0</td>\n",
       "      <td>Министерство культуры, Фонд кино</td>\n",
       "      <td>5.4</td>\n",
       "      <td>фэнтези,приключения</td>\n",
       "      <td>6000.0</td>\n",
       "    </tr>\n",
       "    <tr>\n",
       "      <th>2899</th>\n",
       "      <td>Преображение (2015)</td>\n",
       "      <td>111007016</td>\n",
       "      <td>2016-04-08 12:00:00+00:00</td>\n",
       "      <td>Художественный</td>\n",
       "      <td>ООО \"АБС\"</td>\n",
       "      <td>Россия</td>\n",
       "      <td>Т.Воронецкая, Д.Сергин</td>\n",
       "      <td>Е.Белова</td>\n",
       "      <td>16+</td>\n",
       "      <td>0.0</td>\n",
       "      <td>26000000.0</td>\n",
       "      <td>37142857.0</td>\n",
       "      <td>Министерство культуры</td>\n",
       "      <td>5.7</td>\n",
       "      <td>ужасы</td>\n",
       "      <td>56800.0</td>\n",
       "    </tr>\n",
       "    <tr>\n",
       "      <th>2948</th>\n",
       "      <td>ВСЯ НАША НАДЕЖДА...</td>\n",
       "      <td>111007716</td>\n",
       "      <td>2016-04-22 12:00:00+00:00</td>\n",
       "      <td>Художественный</td>\n",
       "      <td>ООО \"Продюсерский центр \"Парадиз\"</td>\n",
       "      <td>Россия</td>\n",
       "      <td>К.Геворкян</td>\n",
       "      <td>Г.Нерсисян, А.Манасарян, А.Гюлумян, Д.Кулаков</td>\n",
       "      <td>12+</td>\n",
       "      <td>0.0</td>\n",
       "      <td>30000000.0</td>\n",
       "      <td>46200000.0</td>\n",
       "      <td>Министерство культуры</td>\n",
       "      <td>7.2</td>\n",
       "      <td>драма,мелодрама</td>\n",
       "      <td>35897.0</td>\n",
       "    </tr>\n",
       "    <tr>\n",
       "      <th>2982</th>\n",
       "      <td>Сдается дом со всеми неудобствами</td>\n",
       "      <td>111008016</td>\n",
       "      <td>2016-04-27 12:00:00+00:00</td>\n",
       "      <td>Художественный</td>\n",
       "      <td>ФГУП \"Киноконцерн \"Мосфильм\", ООО \"Киностудия ...</td>\n",
       "      <td>Россия</td>\n",
       "      <td>В.Сторожева</td>\n",
       "      <td>К.Шахназаров, С.Говорухин</td>\n",
       "      <td>12+</td>\n",
       "      <td>3500000.0</td>\n",
       "      <td>20000000.0</td>\n",
       "      <td>69428728.0</td>\n",
       "      <td>Фонд кино</td>\n",
       "      <td>5.8</td>\n",
       "      <td>комедия</td>\n",
       "      <td>55800.0</td>\n",
       "    </tr>\n",
       "    <tr>\n",
       "      <th>3014</th>\n",
       "      <td>ПСИХИ.</td>\n",
       "      <td>111001416</td>\n",
       "      <td>2016-02-11 12:00:00+00:00</td>\n",
       "      <td>Художественный</td>\n",
       "      <td>ООО \"Студия Продюсерского Кино\"</td>\n",
       "      <td>Россия</td>\n",
       "      <td>А.Китайцев</td>\n",
       "      <td>В.Зверев, М.Линьков</td>\n",
       "      <td>18+</td>\n",
       "      <td>0.0</td>\n",
       "      <td>30000000.0</td>\n",
       "      <td>46160000.0</td>\n",
       "      <td>Министерство культуры</td>\n",
       "      <td>6.1</td>\n",
       "      <td>ужасы</td>\n",
       "      <td>60161.0</td>\n",
       "    </tr>\n",
       "    <tr>\n",
       "      <th>3061</th>\n",
       "      <td>Первая Мировая война WWI</td>\n",
       "      <td>111000716</td>\n",
       "      <td>2016-01-25 12:00:00+00:00</td>\n",
       "      <td>Художественный</td>\n",
       "      <td>ООО \"Корнер Ворк\"</td>\n",
       "      <td>Россия</td>\n",
       "      <td>И.Угольников</td>\n",
       "      <td>И.Угольников</td>\n",
       "      <td>12+</td>\n",
       "      <td>0.0</td>\n",
       "      <td>30000000.0</td>\n",
       "      <td>45538655.0</td>\n",
       "      <td>Фонд кино</td>\n",
       "      <td>NaN</td>\n",
       "      <td>NaN</td>\n",
       "      <td>87810.0</td>\n",
       "    </tr>\n",
       "    <tr>\n",
       "      <th>3143</th>\n",
       "      <td>Завтра утром</td>\n",
       "      <td>111021715</td>\n",
       "      <td>2015-12-28 12:00:00+00:00</td>\n",
       "      <td>Художественный</td>\n",
       "      <td>ООО \"Кинофабрика\"</td>\n",
       "      <td>Россия</td>\n",
       "      <td>А.Майовер, Д.Крылова</td>\n",
       "      <td>В.Рубан, А.Тельнов, А.Львович</td>\n",
       "      <td>12+</td>\n",
       "      <td>0.0</td>\n",
       "      <td>35000000.0</td>\n",
       "      <td>50000000.0</td>\n",
       "      <td>Министерство культуры</td>\n",
       "      <td>5.7</td>\n",
       "      <td>мелодрама,комедия,спорт</td>\n",
       "      <td>51220.0</td>\n",
       "    </tr>\n",
       "    <tr>\n",
       "      <th>3147</th>\n",
       "      <td>Память осени</td>\n",
       "      <td>111000516</td>\n",
       "      <td>2016-01-22 12:00:00+00:00</td>\n",
       "      <td>Художественный</td>\n",
       "      <td>ООО \"Продюсерский центр \"Синема Продакшн\"</td>\n",
       "      <td>Россия</td>\n",
       "      <td>А.Соколов</td>\n",
       "      <td>Э.Айнулова, М.Журомская, А.Соколов</td>\n",
       "      <td>16+</td>\n",
       "      <td>9000000.0</td>\n",
       "      <td>40000000.0</td>\n",
       "      <td>70000000.0</td>\n",
       "      <td>Министерство культуры, Фонд кино</td>\n",
       "      <td>5.7</td>\n",
       "      <td>драма</td>\n",
       "      <td>58500.0</td>\n",
       "    </tr>\n",
       "    <tr>\n",
       "      <th>3149</th>\n",
       "      <td>Я-Учитель</td>\n",
       "      <td>111019715</td>\n",
       "      <td>2015-12-02 12:00:00+00:00</td>\n",
       "      <td>Художественный</td>\n",
       "      <td>НП Киностудия детских и юношеских фильмов \"Иль...</td>\n",
       "      <td>Россия</td>\n",
       "      <td>С.Мокрицкий</td>\n",
       "      <td>А.Ковтунец</td>\n",
       "      <td>12+</td>\n",
       "      <td>0.0</td>\n",
       "      <td>35000000.0</td>\n",
       "      <td>91000000.0</td>\n",
       "      <td>Министерство культуры</td>\n",
       "      <td>7.4</td>\n",
       "      <td>мелодрама,комедия</td>\n",
       "      <td>1550.0</td>\n",
       "    </tr>\n",
       "    <tr>\n",
       "      <th>3504</th>\n",
       "      <td>День До</td>\n",
       "      <td>111010916</td>\n",
       "      <td>2016-07-06 12:00:00+00:00</td>\n",
       "      <td>Художественный</td>\n",
       "      <td>ООО \"Кинобюро\" по заказу ООО \"Среда и Ко\"</td>\n",
       "      <td>Россия</td>\n",
       "      <td>А.Котт, В.Котт, А.Карпиловский, Б.Хлебников</td>\n",
       "      <td>А.Цекало, А.Котт</td>\n",
       "      <td>18+</td>\n",
       "      <td>25000000.0</td>\n",
       "      <td>25000000.0</td>\n",
       "      <td>90822766.0</td>\n",
       "      <td>Фонд кино</td>\n",
       "      <td>4.8</td>\n",
       "      <td>драма,фантастика</td>\n",
       "      <td>9000.0</td>\n",
       "    </tr>\n",
       "    <tr>\n",
       "      <th>3655</th>\n",
       "      <td>О чем молчат французы</td>\n",
       "      <td>111012016</td>\n",
       "      <td>2016-07-22 12:00:00+00:00</td>\n",
       "      <td>Художественный</td>\n",
       "      <td>ООО \"Киностудия Арго\"</td>\n",
       "      <td>Россия</td>\n",
       "      <td>В.Шевельков</td>\n",
       "      <td>В.Шевельков, М.Бебенина</td>\n",
       "      <td>12+</td>\n",
       "      <td>0.0</td>\n",
       "      <td>30000000.0</td>\n",
       "      <td>46153887.0</td>\n",
       "      <td>Министерство культуры</td>\n",
       "      <td>NaN</td>\n",
       "      <td>NaN</td>\n",
       "      <td>95650.0</td>\n",
       "    </tr>\n",
       "    <tr>\n",
       "      <th>3657</th>\n",
       "      <td>Простая история .</td>\n",
       "      <td>111011816</td>\n",
       "      <td>2016-07-19 12:00:00+00:00</td>\n",
       "      <td>Художественный</td>\n",
       "      <td>ООО \"КИНОБЮРО\"</td>\n",
       "      <td>Россия</td>\n",
       "      <td>В.Татарский</td>\n",
       "      <td>Ю.Бахшиев</td>\n",
       "      <td>16+</td>\n",
       "      <td>0.0</td>\n",
       "      <td>64000000.0</td>\n",
       "      <td>180000000.0</td>\n",
       "      <td>Фонд кино</td>\n",
       "      <td>7.8</td>\n",
       "      <td>драма,биография</td>\n",
       "      <td>58720.0</td>\n",
       "    </tr>\n",
       "    <tr>\n",
       "      <th>6112</th>\n",
       "      <td>Кровь</td>\n",
       "      <td>111014018</td>\n",
       "      <td>2018-08-15 12:00:00+00:00</td>\n",
       "      <td>Художественный</td>\n",
       "      <td>ООО \"Студия ТРЕТИЙ РИМ\"</td>\n",
       "      <td>Россия</td>\n",
       "      <td>А.Темников</td>\n",
       "      <td>Е.Миронов, А.Новин, А.Темникова, Е.Бренькова</td>\n",
       "      <td>18+</td>\n",
       "      <td>0.0</td>\n",
       "      <td>30000000.0</td>\n",
       "      <td>45045050.0</td>\n",
       "      <td>Министерство культуры</td>\n",
       "      <td>7.3</td>\n",
       "      <td>мультфильм,фэнтези,боевик</td>\n",
       "      <td>55685.0</td>\n",
       "    </tr>\n",
       "    <tr>\n",
       "      <th>6910</th>\n",
       "      <td>ВЕСУРИ</td>\n",
       "      <td>111007619</td>\n",
       "      <td>2019-05-07 12:00:00+00:00</td>\n",
       "      <td>Художественный</td>\n",
       "      <td>ООО \"Компания \"АТК-СТУДИО\"</td>\n",
       "      <td>Россия</td>\n",
       "      <td>А.Якимчук, В.Лагунов</td>\n",
       "      <td>А.Тютрюмов</td>\n",
       "      <td>12+</td>\n",
       "      <td>0.0</td>\n",
       "      <td>30000000.0</td>\n",
       "      <td>46153846.0</td>\n",
       "      <td>Министерство культуры</td>\n",
       "      <td>NaN</td>\n",
       "      <td>NaN</td>\n",
       "      <td>75850.0</td>\n",
       "    </tr>\n",
       "  </tbody>\n",
       "</table>\n",
       "</div>"
      ],
      "text/plain": [
       "                                  title   puNumber           show_start_date  \\\n",
       "1448                Бесславные придурки  111003314 2014-03-28 12:00:00+00:00   \n",
       "1524                              БЕРЦЫ  111004314 2014-05-05 12:00:00+00:00   \n",
       "1912                           Ведьма .  111002215 2015-03-05 12:00:00+00:00   \n",
       "2150                       РЕВЕРБЕРАЦИЯ  111003515 2015-03-30 12:00:00+00:00   \n",
       "2169           Трагедия в бухте Роджерс  111003215 2015-03-26 12:00:00+00:00   \n",
       "2379                         Экспириенс  111000315 2015-01-13 12:00:00+00:00   \n",
       "2397                   Небесный верблюд  111000115 2015-01-14 12:00:00+00:00   \n",
       "2489             Последний вагон. Весна  111004115 2015-04-15 12:00:00+00:00   \n",
       "2527                  Вдвоем на льдине.  111011015 2015-06-25 12:00:00+00:00   \n",
       "2803              Битва с экстрасенсами  111011315 2015-07-20 12:00:00+00:00   \n",
       "2899                Преображение (2015)  111007016 2016-04-08 12:00:00+00:00   \n",
       "2948                ВСЯ НАША НАДЕЖДА...  111007716 2016-04-22 12:00:00+00:00   \n",
       "2982  Сдается дом со всеми неудобствами  111008016 2016-04-27 12:00:00+00:00   \n",
       "3014                             ПСИХИ.  111001416 2016-02-11 12:00:00+00:00   \n",
       "3061           Первая Мировая война WWI  111000716 2016-01-25 12:00:00+00:00   \n",
       "3143                       Завтра утром  111021715 2015-12-28 12:00:00+00:00   \n",
       "3147                       Память осени  111000516 2016-01-22 12:00:00+00:00   \n",
       "3149                          Я-Учитель  111019715 2015-12-02 12:00:00+00:00   \n",
       "3504                            День До  111010916 2016-07-06 12:00:00+00:00   \n",
       "3655              О чем молчат французы  111012016 2016-07-22 12:00:00+00:00   \n",
       "3657                  Простая история .  111011816 2016-07-19 12:00:00+00:00   \n",
       "6112                              Кровь  111014018 2018-08-15 12:00:00+00:00   \n",
       "6910                             ВЕСУРИ  111007619 2019-05-07 12:00:00+00:00   \n",
       "\n",
       "                type                                        film_studio  \\\n",
       "1448  Художественный                         ООО \"Компания \"АТК-Студио\"   \n",
       "1524  Художественный                             ООО \"Студия \"Пассажир\"   \n",
       "1912  Художественный                         ООО \"Кинокомпания \"Ракурс\"   \n",
       "2150  Художественный                                      ООО \"Артлайт\"   \n",
       "2169  Художественный                                       ООО \"Валдай\"   \n",
       "2379  Художественный                         ООО \"Компания \"АТК-Студио\"   \n",
       "2397  Художественный                ООО Продюсерский центр \"Всё хорошо\"   \n",
       "2489  Художественный                                    ООО \"ТАН Фильм\"   \n",
       "2527  Художественный                ООО \"Первое творческое объединение\"   \n",
       "2803  Художественный                     ООО \"КИНОДАНЦ\", ООО \"КИНОБАЙТ\"   \n",
       "2899  Художественный                                          ООО \"АБС\"   \n",
       "2948  Художественный                  ООО \"Продюсерский центр \"Парадиз\"   \n",
       "2982  Художественный  ФГУП \"Киноконцерн \"Мосфильм\", ООО \"Киностудия ...   \n",
       "3014  Художественный                    ООО \"Студия Продюсерского Кино\"   \n",
       "3061  Художественный                                  ООО \"Корнер Ворк\"   \n",
       "3143  Художественный                                  ООО \"Кинофабрика\"   \n",
       "3147  Художественный          ООО \"Продюсерский центр \"Синема Продакшн\"   \n",
       "3149  Художественный  НП Киностудия детских и юношеских фильмов \"Иль...   \n",
       "3504  Художественный          ООО \"Кинобюро\" по заказу ООО \"Среда и Ко\"   \n",
       "3655  Художественный                              ООО \"Киностудия Арго\"   \n",
       "3657  Художественный                                     ООО \"КИНОБЮРО\"   \n",
       "6112  Художественный                            ООО \"Студия ТРЕТИЙ РИМ\"   \n",
       "6910  Художественный                         ООО \"Компания \"АТК-СТУДИО\"   \n",
       "\n",
       "     production_country                                     director  \\\n",
       "1448             Россия                                    А.Якимчук   \n",
       "1524             Россия         Е.Миндадзе (псевдоним Катя Шагалова)   \n",
       "1912             Россия                                    Д.Федоров   \n",
       "2150             Россия                                  К.Сухарьков   \n",
       "2169             Россия                                    Ф.Абрютин   \n",
       "2379             Россия                                    Е.Татаров   \n",
       "2397             Россия                                     Ю.Фетинг   \n",
       "2489             Россия                                   А.Калинкин   \n",
       "2527             Россия                     Н.Джорджадзе, В.Игнатьев   \n",
       "2803             Россия                                   И.Кордзаия   \n",
       "2899             Россия                       Т.Воронецкая, Д.Сергин   \n",
       "2948             Россия                                   К.Геворкян   \n",
       "2982             Россия                                  В.Сторожева   \n",
       "3014             Россия                                   А.Китайцев   \n",
       "3061             Россия                                 И.Угольников   \n",
       "3143             Россия                         А.Майовер, Д.Крылова   \n",
       "3147             Россия                                    А.Соколов   \n",
       "3149             Россия                                  С.Мокрицкий   \n",
       "3504             Россия  А.Котт, В.Котт, А.Карпиловский, Б.Хлебников   \n",
       "3655             Россия                                  В.Шевельков   \n",
       "3657             Россия                                  В.Татарский   \n",
       "6112             Россия                                   А.Темников   \n",
       "6910             Россия                         А.Якимчук, В.Лагунов   \n",
       "\n",
       "                                           producer age_restriction  \\\n",
       "1448                                     А.Тютрюмов             12+   \n",
       "1524                                     Л.Антонова             16+   \n",
       "1912                                    В.Сидоренко             16+   \n",
       "2150                                      А.Новиков             18+   \n",
       "2169                           С.Кучмаева, С.Зернов             12+   \n",
       "2379                                     А.Тютрюмов             16+   \n",
       "2397                                       И.Плиско              0+   \n",
       "2489                       Д.Ефремов, В.Пономаренко             18+   \n",
       "2527                           П.Поляков, И.Букреев             12+   \n",
       "2803                                    Е.Мелентьев             12+   \n",
       "2899                                       Е.Белова             16+   \n",
       "2948  Г.Нерсисян, А.Манасарян, А.Гюлумян, Д.Кулаков             12+   \n",
       "2982                      К.Шахназаров, С.Говорухин             12+   \n",
       "3014                            В.Зверев, М.Линьков             18+   \n",
       "3061                                   И.Угольников             12+   \n",
       "3143                  В.Рубан, А.Тельнов, А.Львович             12+   \n",
       "3147             Э.Айнулова, М.Журомская, А.Соколов             16+   \n",
       "3149                                     А.Ковтунец             12+   \n",
       "3504                               А.Цекало, А.Котт             18+   \n",
       "3655                        В.Шевельков, М.Бебенина             12+   \n",
       "3657                                      Ю.Бахшиев             16+   \n",
       "6112   Е.Миронов, А.Новин, А.Темникова, Е.Бренькова             18+   \n",
       "6910                                     А.Тютрюмов             12+   \n",
       "\n",
       "      refundable_support  nonrefundable_support       budget  \\\n",
       "1448                 0.0             26000000.0   37142857.0   \n",
       "1524                 0.0             28000000.0   40574140.0   \n",
       "1912                 0.0             34000000.0   48571430.0   \n",
       "2150                 0.0             25000000.0   37371262.0   \n",
       "2169                 0.0             30000000.0   43000000.0   \n",
       "2379                 0.0             26000000.0   37142857.0   \n",
       "2397                 0.0             34000000.0   49280496.0   \n",
       "2489                 0.0             25000000.0   35760060.0   \n",
       "2527                 0.0             26500000.0   37943652.0   \n",
       "2803                 0.0             25900000.0   59560746.0   \n",
       "2899                 0.0             26000000.0   37142857.0   \n",
       "2948                 0.0             30000000.0   46200000.0   \n",
       "2982           3500000.0             20000000.0   69428728.0   \n",
       "3014                 0.0             30000000.0   46160000.0   \n",
       "3061                 0.0             30000000.0   45538655.0   \n",
       "3143                 0.0             35000000.0   50000000.0   \n",
       "3147           9000000.0             40000000.0   70000000.0   \n",
       "3149                 0.0             35000000.0   91000000.0   \n",
       "3504          25000000.0             25000000.0   90822766.0   \n",
       "3655                 0.0             30000000.0   46153887.0   \n",
       "3657                 0.0             64000000.0  180000000.0   \n",
       "6112                 0.0             30000000.0   45045050.0   \n",
       "6910                 0.0             30000000.0   46153846.0   \n",
       "\n",
       "                      financing_source  ratings                     genres  \\\n",
       "1448             Министерство культуры      NaN                        NaN   \n",
       "1524             Министерство культуры      4.2                      драма   \n",
       "1912             Министерство культуры      7.4  фэнтези,приключения,драма   \n",
       "2150             Министерство культуры      NaN                        NaN   \n",
       "2169             Министерство культуры      6.1     детектив,история,драма   \n",
       "2379             Министерство культуры      4.7                      драма   \n",
       "2397             Министерство культуры      6.7           детский,семейный   \n",
       "2489             Министерство культуры      5.1                    триллер   \n",
       "2527             Министерство культуры      6.6                  мелодрама   \n",
       "2803  Министерство культуры, Фонд кино      5.4        фэнтези,приключения   \n",
       "2899             Министерство культуры      5.7                      ужасы   \n",
       "2948             Министерство культуры      7.2            драма,мелодрама   \n",
       "2982                         Фонд кино      5.8                    комедия   \n",
       "3014             Министерство культуры      6.1                      ужасы   \n",
       "3061                         Фонд кино      NaN                        NaN   \n",
       "3143             Министерство культуры      5.7    мелодрама,комедия,спорт   \n",
       "3147  Министерство культуры, Фонд кино      5.7                      драма   \n",
       "3149             Министерство культуры      7.4          мелодрама,комедия   \n",
       "3504                         Фонд кино      4.8           драма,фантастика   \n",
       "3655             Министерство культуры      NaN                        NaN   \n",
       "3657                         Фонд кино      7.8            драма,биография   \n",
       "6112             Министерство культуры      7.3  мультфильм,фэнтези,боевик   \n",
       "6910             Министерство культуры      NaN                        NaN   \n",
       "\n",
       "      box_office  \n",
       "1448     28140.0  \n",
       "1524     55917.5  \n",
       "1912     51907.5  \n",
       "2150     19820.0  \n",
       "2169     40050.0  \n",
       "2379     36550.0  \n",
       "2397     61040.0  \n",
       "2489     61193.0  \n",
       "2527      4450.0  \n",
       "2803      6000.0  \n",
       "2899     56800.0  \n",
       "2948     35897.0  \n",
       "2982     55800.0  \n",
       "3014     60161.0  \n",
       "3061     87810.0  \n",
       "3143     51220.0  \n",
       "3147     58500.0  \n",
       "3149      1550.0  \n",
       "3504      9000.0  \n",
       "3655     95650.0  \n",
       "3657     58720.0  \n",
       "6112     55685.0  \n",
       "6910     75850.0  "
      ]
     },
     "execution_count": 48,
     "metadata": {},
     "output_type": "execute_result"
    }
   ],
   "source": [
    "display(df.query('box_office < 100000 and budget.isna()'))\n",
    "df.query('box_office < 100000 and not(budget.isna())')"
   ]
  },
  {
   "cell_type": "markdown",
   "id": "9b36e0d2",
   "metadata": {},
   "source": [
    "Посмотрим фильмы, сборы которых составили более 1000000000 руб."
   ]
  },
  {
   "cell_type": "code",
   "execution_count": 49,
   "id": "db61f6f8",
   "metadata": {},
   "outputs": [
    {
     "data": {
      "text/html": [
       "<div>\n",
       "<style scoped>\n",
       "    .dataframe tbody tr th:only-of-type {\n",
       "        vertical-align: middle;\n",
       "    }\n",
       "\n",
       "    .dataframe tbody tr th {\n",
       "        vertical-align: top;\n",
       "    }\n",
       "\n",
       "    .dataframe thead th {\n",
       "        text-align: right;\n",
       "    }\n",
       "</style>\n",
       "<table border=\"1\" class=\"dataframe\">\n",
       "  <thead>\n",
       "    <tr style=\"text-align: right;\">\n",
       "      <th></th>\n",
       "      <th>title</th>\n",
       "      <th>puNumber</th>\n",
       "      <th>show_start_date</th>\n",
       "      <th>type</th>\n",
       "      <th>film_studio</th>\n",
       "      <th>production_country</th>\n",
       "      <th>director</th>\n",
       "      <th>producer</th>\n",
       "      <th>age_restriction</th>\n",
       "      <th>refundable_support</th>\n",
       "      <th>nonrefundable_support</th>\n",
       "      <th>budget</th>\n",
       "      <th>financing_source</th>\n",
       "      <th>ratings</th>\n",
       "      <th>genres</th>\n",
       "      <th>box_office</th>\n",
       "    </tr>\n",
       "  </thead>\n",
       "  <tbody>\n",
       "    <tr>\n",
       "      <th>1982</th>\n",
       "      <td>Седьмой сын</td>\n",
       "      <td>121026614</td>\n",
       "      <td>2014-11-11 12:00:00+00:00</td>\n",
       "      <td>Художественный</td>\n",
       "      <td>Леджендари Пикчерз, Мовинг Пикчерз Компани, Ут...</td>\n",
       "      <td>США - Великобритания - Канада - КНР</td>\n",
       "      <td>Сергей Бодров</td>\n",
       "      <td>Бэзил Иваник, Томас Тулл, Лайонел Уигрэм</td>\n",
       "      <td>12+</td>\n",
       "      <td>NaN</td>\n",
       "      <td>NaN</td>\n",
       "      <td>NaN</td>\n",
       "      <td>NaN</td>\n",
       "      <td>5.8</td>\n",
       "      <td>фэнтези,приключения</td>\n",
       "      <td>1.016411e+09</td>\n",
       "    </tr>\n",
       "    <tr>\n",
       "      <th>2105</th>\n",
       "      <td>Форсаж 7</td>\n",
       "      <td>121001215</td>\n",
       "      <td>2015-01-27 12:00:00+00:00</td>\n",
       "      <td>Художественный</td>\n",
       "      <td>Юниверсал Пикчерз, Релятивити Медиа, Дентсу, Ф...</td>\n",
       "      <td>США</td>\n",
       "      <td>Джеймс Ван</td>\n",
       "      <td>Вин Дизель, Майкл Фоттрел</td>\n",
       "      <td>16+</td>\n",
       "      <td>NaN</td>\n",
       "      <td>NaN</td>\n",
       "      <td>NaN</td>\n",
       "      <td>NaN</td>\n",
       "      <td>7.0</td>\n",
       "      <td>боевик,триллер,приключения</td>\n",
       "      <td>1.486131e+09</td>\n",
       "    </tr>\n",
       "    <tr>\n",
       "      <th>2159</th>\n",
       "      <td>Мстители: Эра Альтрона</td>\n",
       "      <td>121007215</td>\n",
       "      <td>2015-04-03 12:00:00+00:00</td>\n",
       "      <td>Художественный</td>\n",
       "      <td>Марвел Студиос</td>\n",
       "      <td>США</td>\n",
       "      <td>Джосс Уидон</td>\n",
       "      <td>Кевин Фейги</td>\n",
       "      <td>12+</td>\n",
       "      <td>NaN</td>\n",
       "      <td>NaN</td>\n",
       "      <td>NaN</td>\n",
       "      <td>NaN</td>\n",
       "      <td>7.2</td>\n",
       "      <td>фантастика,боевик,приключения</td>\n",
       "      <td>1.500989e+09</td>\n",
       "    </tr>\n",
       "    <tr>\n",
       "      <th>2509</th>\n",
       "      <td>Терминатор: Генезис</td>\n",
       "      <td>121012415</td>\n",
       "      <td>2015-06-11 12:00:00+00:00</td>\n",
       "      <td>Художественный</td>\n",
       "      <td>Парамаунт Пикчерз, Скайдэнс Продакшнз</td>\n",
       "      <td>США</td>\n",
       "      <td>Алан Тэйлор</td>\n",
       "      <td>Дэвид Эллисон, Дэна Голдберг</td>\n",
       "      <td>12+</td>\n",
       "      <td>NaN</td>\n",
       "      <td>NaN</td>\n",
       "      <td>NaN</td>\n",
       "      <td>NaN</td>\n",
       "      <td>6.4</td>\n",
       "      <td>фантастика,боевик,триллер</td>\n",
       "      <td>1.060054e+09</td>\n",
       "    </tr>\n",
       "    <tr>\n",
       "      <th>2511</th>\n",
       "      <td>Монстры на каникулах 2</td>\n",
       "      <td>124003615</td>\n",
       "      <td>2015-10-15 12:00:00+00:00</td>\n",
       "      <td>Анимационный</td>\n",
       "      <td>Коламбиа Пикчерз, ЭлСтар Кэпитал, Сони Пикчерз...</td>\n",
       "      <td>США</td>\n",
       "      <td>Геннадий Тартаковский</td>\n",
       "      <td>Аллен Коверт, Мишель Мердокка</td>\n",
       "      <td>6+</td>\n",
       "      <td>NaN</td>\n",
       "      <td>NaN</td>\n",
       "      <td>NaN</td>\n",
       "      <td>NaN</td>\n",
       "      <td>7.2</td>\n",
       "      <td>мультфильм,фэнтези,комедия</td>\n",
       "      <td>1.000157e+09</td>\n",
       "    </tr>\n",
       "    <tr>\n",
       "      <th>2578</th>\n",
       "      <td>Миньоны</td>\n",
       "      <td>124001715</td>\n",
       "      <td>2015-03-30 12:00:00+00:00</td>\n",
       "      <td>Анимационный</td>\n",
       "      <td>Иллюминейшн Интертейнмент</td>\n",
       "      <td>США</td>\n",
       "      <td>Кайл Балда, Пьер Соффин</td>\n",
       "      <td>Кристофер Меледандри, Джанет Хили</td>\n",
       "      <td>6+</td>\n",
       "      <td>NaN</td>\n",
       "      <td>NaN</td>\n",
       "      <td>NaN</td>\n",
       "      <td>NaN</td>\n",
       "      <td>6.2</td>\n",
       "      <td>мультфильм,фантастика,комедия</td>\n",
       "      <td>1.646581e+09</td>\n",
       "    </tr>\n",
       "    <tr>\n",
       "      <th>2579</th>\n",
       "      <td>Мир Юрского периода</td>\n",
       "      <td>121006515</td>\n",
       "      <td>2015-04-03 12:00:00+00:00</td>\n",
       "      <td>Художественный</td>\n",
       "      <td>Эмблин Интертейнмент, Леджендари Пикчерз, Юнив...</td>\n",
       "      <td>США</td>\n",
       "      <td>Колин Треворроу</td>\n",
       "      <td>Патрик Краули, Фрэнк Маршалл</td>\n",
       "      <td>12+</td>\n",
       "      <td>NaN</td>\n",
       "      <td>NaN</td>\n",
       "      <td>NaN</td>\n",
       "      <td>NaN</td>\n",
       "      <td>6.9</td>\n",
       "      <td>фантастика,приключения,боевик</td>\n",
       "      <td>1.211159e+09</td>\n",
       "    </tr>\n",
       "    <tr>\n",
       "      <th>2840</th>\n",
       "      <td>Дэдпул</td>\n",
       "      <td>121002116</td>\n",
       "      <td>2016-02-03 12:00:00+00:00</td>\n",
       "      <td>Художественный</td>\n",
       "      <td>ХХ век Фокс, Марвел Энтерпрайзиз, Тэ Эс Гэ Инт...</td>\n",
       "      <td>США - Канада</td>\n",
       "      <td>Тим Миллер</td>\n",
       "      <td>Саймон Кинберг, Райан Рейнольдс, Лорен Шулер Д...</td>\n",
       "      <td>18+</td>\n",
       "      <td>NaN</td>\n",
       "      <td>NaN</td>\n",
       "      <td>NaN</td>\n",
       "      <td>NaN</td>\n",
       "      <td>7.5</td>\n",
       "      <td>фантастика,боевик,комедия</td>\n",
       "      <td>1.587516e+09</td>\n",
       "    </tr>\n",
       "    <tr>\n",
       "      <th>2859</th>\n",
       "      <td>Зверополис</td>\n",
       "      <td>124000316</td>\n",
       "      <td>2016-02-15 12:00:00+00:00</td>\n",
       "      <td>Анимационный</td>\n",
       "      <td>Уолт Дисней Анимейшн Студиос, Уолт Дисней Пикчерз</td>\n",
       "      <td>США</td>\n",
       "      <td>Рич Мур, Байрон Ховард</td>\n",
       "      <td>Кларк Спенсер</td>\n",
       "      <td>6+</td>\n",
       "      <td>NaN</td>\n",
       "      <td>NaN</td>\n",
       "      <td>NaN</td>\n",
       "      <td>NaN</td>\n",
       "      <td>8.3</td>\n",
       "      <td>мультфильм,комедия,криминал</td>\n",
       "      <td>2.048126e+09</td>\n",
       "    </tr>\n",
       "    <tr>\n",
       "      <th>2920</th>\n",
       "      <td>Экипаж .</td>\n",
       "      <td>111005416</td>\n",
       "      <td>2016-03-21 12:00:00+00:00</td>\n",
       "      <td>Художественный</td>\n",
       "      <td>ООО \"Студия \"ТРИТЭ\" Никиты Михалкова\"</td>\n",
       "      <td>Россия</td>\n",
       "      <td>Н.Лебедев</td>\n",
       "      <td>Л.Верещагин, А.Златопольский, Н.Михалков, ООО ...</td>\n",
       "      <td>6+</td>\n",
       "      <td>50000000.0</td>\n",
       "      <td>392104482.0</td>\n",
       "      <td>635283867.0</td>\n",
       "      <td>Фонд кино</td>\n",
       "      <td>7.6</td>\n",
       "      <td>драма,триллер,приключения</td>\n",
       "      <td>1.402255e+09</td>\n",
       "    </tr>\n",
       "    <tr>\n",
       "      <th>2938</th>\n",
       "      <td>Книга джунглей (2016)</td>\n",
       "      <td>121006616</td>\n",
       "      <td>2016-03-25 12:00:00+00:00</td>\n",
       "      <td>Художественный</td>\n",
       "      <td>Фэйрвью Интертейнмент, Мувинг Пикчер Компани, ...</td>\n",
       "      <td>США</td>\n",
       "      <td>Джон Фавро</td>\n",
       "      <td>Бригэм Тэйлор, Джон Фавро</td>\n",
       "      <td>12+</td>\n",
       "      <td>NaN</td>\n",
       "      <td>NaN</td>\n",
       "      <td>NaN</td>\n",
       "      <td>NaN</td>\n",
       "      <td>7.1</td>\n",
       "      <td>фэнтези,драма,приключения</td>\n",
       "      <td>1.216781e+09</td>\n",
       "    </tr>\n",
       "    <tr>\n",
       "      <th>2991</th>\n",
       "      <td>Варкрафт</td>\n",
       "      <td>121011716</td>\n",
       "      <td>2016-05-17 12:00:00+00:00</td>\n",
       "      <td>Художественный</td>\n",
       "      <td>Атлас Интертеймент, Леджендари Пикчерз, Близза...</td>\n",
       "      <td>США - Канада - Япония - КНР</td>\n",
       "      <td>Дункан Джонс</td>\n",
       "      <td>Стюарт Фенеган</td>\n",
       "      <td>12+</td>\n",
       "      <td>NaN</td>\n",
       "      <td>NaN</td>\n",
       "      <td>NaN</td>\n",
       "      <td>NaN</td>\n",
       "      <td>7.6</td>\n",
       "      <td>фэнтези,боевик,приключения</td>\n",
       "      <td>1.307254e+09</td>\n",
       "    </tr>\n",
       "    <tr>\n",
       "      <th>3002</th>\n",
       "      <td>Иллюзия обмана 2</td>\n",
       "      <td>121012016</td>\n",
       "      <td>2016-05-17 12:00:00+00:00</td>\n",
       "      <td>Художественный</td>\n",
       "      <td>Лайонсгейт, Саммит Интертейнмент</td>\n",
       "      <td>США</td>\n",
       "      <td>Джон М.Чу</td>\n",
       "      <td>Бобби Коэн, Алекс Куртцман, Роберто Орси</td>\n",
       "      <td>12+</td>\n",
       "      <td>NaN</td>\n",
       "      <td>NaN</td>\n",
       "      <td>NaN</td>\n",
       "      <td>NaN</td>\n",
       "      <td>6.6</td>\n",
       "      <td>боевик,триллер,комедия</td>\n",
       "      <td>1.021426e+09</td>\n",
       "    </tr>\n",
       "    <tr>\n",
       "      <th>3117</th>\n",
       "      <td>Звёздные войны: Пробуждение силы</td>\n",
       "      <td>121024915</td>\n",
       "      <td>2015-12-11 12:00:00+00:00</td>\n",
       "      <td>Художественный</td>\n",
       "      <td>Лукасфилм, Бэд Робот, Трунорт Продакшнз</td>\n",
       "      <td>США</td>\n",
       "      <td>Джей Джей Абрамс</td>\n",
       "      <td>Джей Джей Абрамс, Брайан Берк, Кэтлин Кеннеди</td>\n",
       "      <td>12+</td>\n",
       "      <td>NaN</td>\n",
       "      <td>NaN</td>\n",
       "      <td>NaN</td>\n",
       "      <td>NaN</td>\n",
       "      <td>7.1</td>\n",
       "      <td>фантастика,боевик,приключения</td>\n",
       "      <td>1.658861e+09</td>\n",
       "    </tr>\n",
       "    <tr>\n",
       "      <th>3172</th>\n",
       "      <td>Выживший (2015)</td>\n",
       "      <td>121026215</td>\n",
       "      <td>2015-12-30 12:00:00+00:00</td>\n",
       "      <td>Художественный</td>\n",
       "      <td>Нью Ридженси Пикчерз, Анонимус Контент, Аппиан...</td>\n",
       "      <td>США</td>\n",
       "      <td>Алехандро Гонсалес Иньярриту</td>\n",
       "      <td>Стив Голин, Алехандро Гонсалес Иньярриту, Дэви...</td>\n",
       "      <td>18+</td>\n",
       "      <td>NaN</td>\n",
       "      <td>NaN</td>\n",
       "      <td>NaN</td>\n",
       "      <td>NaN</td>\n",
       "      <td>7.8</td>\n",
       "      <td>приключения,вестерн,боевик</td>\n",
       "      <td>1.006737e+09</td>\n",
       "    </tr>\n",
       "    <tr>\n",
       "      <th>3235</th>\n",
       "      <td>Босс-Молокосос</td>\n",
       "      <td>124000317</td>\n",
       "      <td>2017-02-09 12:00:00+00:00</td>\n",
       "      <td>Анимационный</td>\n",
       "      <td>ДримУоркс Анимейшн</td>\n",
       "      <td>США</td>\n",
       "      <td>Том МакГрат</td>\n",
       "      <td>Рэмси Энн Наито</td>\n",
       "      <td>6+</td>\n",
       "      <td>NaN</td>\n",
       "      <td>NaN</td>\n",
       "      <td>NaN</td>\n",
       "      <td>NaN</td>\n",
       "      <td>6.5</td>\n",
       "      <td>мультфильм,комедия,приключения</td>\n",
       "      <td>1.376727e+09</td>\n",
       "    </tr>\n",
       "    <tr>\n",
       "      <th>3318</th>\n",
       "      <td>Доктор Стрэндж</td>\n",
       "      <td>121027416</td>\n",
       "      <td>2016-10-03 12:00:00+00:00</td>\n",
       "      <td>Художественный</td>\n",
       "      <td>Марвел Студиос</td>\n",
       "      <td>США</td>\n",
       "      <td>Скотт Дерриксон</td>\n",
       "      <td>Кевин Фейги</td>\n",
       "      <td>16+</td>\n",
       "      <td>NaN</td>\n",
       "      <td>NaN</td>\n",
       "      <td>NaN</td>\n",
       "      <td>NaN</td>\n",
       "      <td>7.4</td>\n",
       "      <td>фантастика,фэнтези,боевик</td>\n",
       "      <td>1.288357e+09</td>\n",
       "    </tr>\n",
       "    <tr>\n",
       "      <th>3334</th>\n",
       "      <td>Фантастические твари и где они обитают</td>\n",
       "      <td>121029216</td>\n",
       "      <td>2016-10-31 12:00:00+00:00</td>\n",
       "      <td>Художественный</td>\n",
       "      <td>Уорнер Бразерс, Хэйдэй Филмз</td>\n",
       "      <td>США - Великобритания</td>\n",
       "      <td>Дэвид Йейтс</td>\n",
       "      <td>Стивен Кловз, Дж. К. Роулинг, Дэвид Хэйман</td>\n",
       "      <td>12+</td>\n",
       "      <td>NaN</td>\n",
       "      <td>NaN</td>\n",
       "      <td>NaN</td>\n",
       "      <td>NaN</td>\n",
       "      <td>7.6</td>\n",
       "      <td>фэнтези,приключения,семейный</td>\n",
       "      <td>1.398265e+09</td>\n",
       "    </tr>\n",
       "    <tr>\n",
       "      <th>3371</th>\n",
       "      <td>Форсаж 8</td>\n",
       "      <td>121005617</td>\n",
       "      <td>2017-04-03 12:00:00+00:00</td>\n",
       "      <td>Художественный</td>\n",
       "      <td>Итака Филмз, Уан Рейс Филмз, Ориджинал Фильм</td>\n",
       "      <td>США</td>\n",
       "      <td>Ф.Гэри Грей</td>\n",
       "      <td>Вин Дизель, Нил Х.Мориц, Майкл Фоттрел</td>\n",
       "      <td>12+</td>\n",
       "      <td>NaN</td>\n",
       "      <td>NaN</td>\n",
       "      <td>NaN</td>\n",
       "      <td>NaN</td>\n",
       "      <td>6.2</td>\n",
       "      <td>боевик,триллер,криминал</td>\n",
       "      <td>1.429977e+09</td>\n",
       "    </tr>\n",
       "    <tr>\n",
       "      <th>3396</th>\n",
       "      <td>Отряд самоубийц</td>\n",
       "      <td>121018816</td>\n",
       "      <td>2016-06-21 12:00:00+00:00</td>\n",
       "      <td>Художественный</td>\n",
       "      <td>Атлас Интертейнмент, Ди Си Интертейнмент, Дюн ...</td>\n",
       "      <td>США</td>\n",
       "      <td>Дэвид Эйр</td>\n",
       "      <td>Чарльз Ровен, Ричард Скал</td>\n",
       "      <td>16+</td>\n",
       "      <td>NaN</td>\n",
       "      <td>NaN</td>\n",
       "      <td>NaN</td>\n",
       "      <td>NaN</td>\n",
       "      <td>6.1</td>\n",
       "      <td>фантастика,боевик,фэнтези</td>\n",
       "      <td>1.570380e+09</td>\n",
       "    </tr>\n",
       "    <tr>\n",
       "      <th>3488</th>\n",
       "      <td>Пираты Карибского моря: Мертвецы не рассказыва...</td>\n",
       "      <td>121009217</td>\n",
       "      <td>2017-05-17 12:00:00+00:00</td>\n",
       "      <td>Художественный</td>\n",
       "      <td>Джерри Брукхаймер Филмз, Уолт Дисней Пикчерз, ...</td>\n",
       "      <td>США</td>\n",
       "      <td>Йоаким Реннинг, Эспен Сандберг</td>\n",
       "      <td>Джерри Брукхаймер</td>\n",
       "      <td>16+</td>\n",
       "      <td>NaN</td>\n",
       "      <td>NaN</td>\n",
       "      <td>NaN</td>\n",
       "      <td>NaN</td>\n",
       "      <td>6.6</td>\n",
       "      <td>фэнтези,боевик,комедия</td>\n",
       "      <td>2.118396e+09</td>\n",
       "    </tr>\n",
       "    <tr>\n",
       "      <th>3523</th>\n",
       "      <td>Стражи Галактики. Часть 2</td>\n",
       "      <td>121008117</td>\n",
       "      <td>2017-04-27 12:00:00+00:00</td>\n",
       "      <td>Художественный</td>\n",
       "      <td>Марвел Студиос, Уолт Дисней Пикчерз</td>\n",
       "      <td>США</td>\n",
       "      <td>Джеймс Ганн</td>\n",
       "      <td>Кевин Фейги</td>\n",
       "      <td>16+</td>\n",
       "      <td>NaN</td>\n",
       "      <td>NaN</td>\n",
       "      <td>NaN</td>\n",
       "      <td>NaN</td>\n",
       "      <td>7.6</td>\n",
       "      <td>фантастика,боевик,приключения</td>\n",
       "      <td>1.468780e+09</td>\n",
       "    </tr>\n",
       "    <tr>\n",
       "      <th>3565</th>\n",
       "      <td>Притяжение (2016)</td>\n",
       "      <td>111018116</td>\n",
       "      <td>2016-12-16 12:00:00+00:00</td>\n",
       "      <td>Художественный</td>\n",
       "      <td>ООО \"Водород 2011\",  ООО \"Арт Пикчерс Студия\"</td>\n",
       "      <td>Россия</td>\n",
       "      <td>Ф.Бондарчук</td>\n",
       "      <td>ООО \"Арт Пикчерс Студия\"</td>\n",
       "      <td>12+</td>\n",
       "      <td>0.0</td>\n",
       "      <td>250000000.0</td>\n",
       "      <td>250000000.0</td>\n",
       "      <td>Фонд кино</td>\n",
       "      <td>5.6</td>\n",
       "      <td>фантастика</td>\n",
       "      <td>1.038321e+09</td>\n",
       "    </tr>\n",
       "    <tr>\n",
       "      <th>3742</th>\n",
       "      <td>Гадкий я 3</td>\n",
       "      <td>124001617</td>\n",
       "      <td>2017-06-15 12:00:00+00:00</td>\n",
       "      <td>Анимационный</td>\n",
       "      <td>Иллюминейшен Интертейнмент, Юниверсал Пикчерз</td>\n",
       "      <td>США</td>\n",
       "      <td>Кайл Балда, Эрик Гуильон, Пьер Коффан</td>\n",
       "      <td>Кристофер Меледандри, Джанет Хили, Бретт Хоффман</td>\n",
       "      <td>6+</td>\n",
       "      <td>NaN</td>\n",
       "      <td>NaN</td>\n",
       "      <td>NaN</td>\n",
       "      <td>NaN</td>\n",
       "      <td>6.3</td>\n",
       "      <td>мультфильм,фантастика,фэнтези</td>\n",
       "      <td>1.390393e+09</td>\n",
       "    </tr>\n",
       "    <tr>\n",
       "      <th>3755</th>\n",
       "      <td>Тайная жизнь домашних животных. Миньоны против...</td>\n",
       "      <td>124002816</td>\n",
       "      <td>2016-07-05 12:00:00+00:00</td>\n",
       "      <td>Анимационный</td>\n",
       "      <td>Иллюминейшн Интертейнмент, Юниверсал Пикчерз</td>\n",
       "      <td>США</td>\n",
       "      <td>Крис Рено</td>\n",
       "      <td>Кристофер Меледандри</td>\n",
       "      <td>6+</td>\n",
       "      <td>NaN</td>\n",
       "      <td>NaN</td>\n",
       "      <td>NaN</td>\n",
       "      <td>NaN</td>\n",
       "      <td>6.7</td>\n",
       "      <td>мультфильм,короткометражка,комедия</td>\n",
       "      <td>1.971005e+09</td>\n",
       "    </tr>\n",
       "    <tr>\n",
       "      <th>5473</th>\n",
       "      <td>Оно</td>\n",
       "      <td>121017617</td>\n",
       "      <td>2017-09-07 12:00:00+00:00</td>\n",
       "      <td>Художественный</td>\n",
       "      <td>Нью Лайн Синема, КатзСмит Продакшнз, Лин Пикче...</td>\n",
       "      <td>США</td>\n",
       "      <td>Андрес Мускетти</td>\n",
       "      <td>Сэт Грэм-Смит, Рой Ли, Дэн Лин</td>\n",
       "      <td>18+</td>\n",
       "      <td>NaN</td>\n",
       "      <td>NaN</td>\n",
       "      <td>NaN</td>\n",
       "      <td>NaN</td>\n",
       "      <td>7.3</td>\n",
       "      <td>ужасы,фэнтези,драма</td>\n",
       "      <td>1.036725e+09</td>\n",
       "    </tr>\n",
       "    <tr>\n",
       "      <th>5505</th>\n",
       "      <td>Последний богатырь</td>\n",
       "      <td>111007017</td>\n",
       "      <td>2017-10-19 12:00:00+00:00</td>\n",
       "      <td>Художественный</td>\n",
       "      <td>ООО \"Киностудия \"Слово\" по заказу ООО \"Уолт Ди...</td>\n",
       "      <td>Россия</td>\n",
       "      <td>Д.Дьяченко</td>\n",
       "      <td>Э.Илоян, Д.Жалинский, М.Озкан, А.Троцюк, В.Шляппо</td>\n",
       "      <td>12+</td>\n",
       "      <td>50000000.0</td>\n",
       "      <td>50000000.0</td>\n",
       "      <td>352477575.0</td>\n",
       "      <td>Фонд кино</td>\n",
       "      <td>6.8</td>\n",
       "      <td>комедия,фэнтези,приключения</td>\n",
       "      <td>1.655038e+09</td>\n",
       "    </tr>\n",
       "    <tr>\n",
       "      <th>5548</th>\n",
       "      <td>Тор: Рагнарёк</td>\n",
       "      <td>121022917</td>\n",
       "      <td>2017-11-02 12:00:00+00:00</td>\n",
       "      <td>Художественный</td>\n",
       "      <td>Марвел Интертейнмент, Марвел Студиос, Уолт Дис...</td>\n",
       "      <td>США</td>\n",
       "      <td>Тайка Вайтити</td>\n",
       "      <td>Кеви Фейги</td>\n",
       "      <td>16+</td>\n",
       "      <td>NaN</td>\n",
       "      <td>NaN</td>\n",
       "      <td>NaN</td>\n",
       "      <td>NaN</td>\n",
       "      <td>8.2</td>\n",
       "      <td>история,драма,боевик</td>\n",
       "      <td>1.229588e+09</td>\n",
       "    </tr>\n",
       "    <tr>\n",
       "      <th>5653</th>\n",
       "      <td>Движение вверх</td>\n",
       "      <td>111011817</td>\n",
       "      <td>2017-12-21 12:00:00+00:00</td>\n",
       "      <td>Художественный</td>\n",
       "      <td>ООО \"Студия \"ТРИТЭ\" Никиты Михалкова\"</td>\n",
       "      <td>Россия</td>\n",
       "      <td>А.Мегердичев</td>\n",
       "      <td>Л.Верещагин, А.Златопольский, Н.Михалков, ООО ...</td>\n",
       "      <td>6+</td>\n",
       "      <td>0.0</td>\n",
       "      <td>400000000.0</td>\n",
       "      <td>590192191.0</td>\n",
       "      <td>Фонд кино</td>\n",
       "      <td>7.5</td>\n",
       "      <td>спорт,драма</td>\n",
       "      <td>2.779686e+09</td>\n",
       "    </tr>\n",
       "    <tr>\n",
       "      <th>5654</th>\n",
       "      <td>Джуманджи: Зов джунглей</td>\n",
       "      <td>121027517</td>\n",
       "      <td>2017-12-21 12:00:00+00:00</td>\n",
       "      <td>Художественный</td>\n",
       "      <td>Мэтт Толмак Продакшнз, Радар Пикчерз, Севен Ба...</td>\n",
       "      <td>США</td>\n",
       "      <td>Джейк Касдан</td>\n",
       "      <td>Мэтт Толмак</td>\n",
       "      <td>16+</td>\n",
       "      <td>NaN</td>\n",
       "      <td>NaN</td>\n",
       "      <td>NaN</td>\n",
       "      <td>NaN</td>\n",
       "      <td>6.8</td>\n",
       "      <td>фэнтези,боевик,комедия</td>\n",
       "      <td>1.246588e+09</td>\n",
       "    </tr>\n",
       "    <tr>\n",
       "      <th>5708</th>\n",
       "      <td>Лёд</td>\n",
       "      <td>111000518</td>\n",
       "      <td>2018-02-01 12:00:00+00:00</td>\n",
       "      <td>Художественный</td>\n",
       "      <td>ООО \"Водород 2011\", ООО \"Арт Пикчерс Студия\", ...</td>\n",
       "      <td>Россия</td>\n",
       "      <td>О.Трофим</td>\n",
       "      <td>М.Врубель, А.Андрющенко, Ф.Бондарчук, Д.Рудовс...</td>\n",
       "      <td>12+</td>\n",
       "      <td>25000000.0</td>\n",
       "      <td>60000000.0</td>\n",
       "      <td>148585222.0</td>\n",
       "      <td>Фонд кино</td>\n",
       "      <td>NaN</td>\n",
       "      <td>NaN</td>\n",
       "      <td>1.445732e+09</td>\n",
       "    </tr>\n",
       "    <tr>\n",
       "      <th>5864</th>\n",
       "      <td>Мстители: Война бесконечности</td>\n",
       "      <td>121009118</td>\n",
       "      <td>2018-05-03 12:00:00+00:00</td>\n",
       "      <td>Художественный</td>\n",
       "      <td>Марвел Студиос</td>\n",
       "      <td>США</td>\n",
       "      <td>Энтони Руссо, Джо Руссо</td>\n",
       "      <td>Кевин Фейги</td>\n",
       "      <td>16+</td>\n",
       "      <td>NaN</td>\n",
       "      <td>NaN</td>\n",
       "      <td>NaN</td>\n",
       "      <td>NaN</td>\n",
       "      <td>7.9</td>\n",
       "      <td>фантастика,боевик,приключения</td>\n",
       "      <td>1.875990e+09</td>\n",
       "    </tr>\n",
       "    <tr>\n",
       "      <th>5876</th>\n",
       "      <td>Дэдпул 2</td>\n",
       "      <td>121009618</td>\n",
       "      <td>2018-05-17 12:00:00+00:00</td>\n",
       "      <td>Художественный</td>\n",
       "      <td>Доннерс Компани, Кинберг Жанр, Марвел Интертей...</td>\n",
       "      <td>США</td>\n",
       "      <td>Дэвид Литч</td>\n",
       "      <td>Лорен Шулер Доннер, Саймон Кинберг, Райан Рейн...</td>\n",
       "      <td>18+</td>\n",
       "      <td>NaN</td>\n",
       "      <td>NaN</td>\n",
       "      <td>NaN</td>\n",
       "      <td>NaN</td>\n",
       "      <td>7.4</td>\n",
       "      <td>фантастика,боевик,комедия</td>\n",
       "      <td>1.236763e+09</td>\n",
       "    </tr>\n",
       "    <tr>\n",
       "      <th>5896</th>\n",
       "      <td>Мир Юрского периода 2</td>\n",
       "      <td>121010718</td>\n",
       "      <td>2018-06-06 12:00:00+00:00</td>\n",
       "      <td>Художественный</td>\n",
       "      <td>Амблин Интертейнмент, Эпейчс Интертейнмент, Ле...</td>\n",
       "      <td>США - Испания</td>\n",
       "      <td>Хуан Антонио Байона</td>\n",
       "      <td>Белен Атьенса, Патрик Краули</td>\n",
       "      <td>12+</td>\n",
       "      <td>NaN</td>\n",
       "      <td>NaN</td>\n",
       "      <td>NaN</td>\n",
       "      <td>NaN</td>\n",
       "      <td>6.2</td>\n",
       "      <td>фантастика,боевик,приключения</td>\n",
       "      <td>1.096833e+09</td>\n",
       "    </tr>\n",
       "    <tr>\n",
       "      <th>6016</th>\n",
       "      <td>Монстры на каникулах 3: Море зовёт</td>\n",
       "      <td>124002518</td>\n",
       "      <td>2018-07-12 12:00:00+00:00</td>\n",
       "      <td>Анимационный</td>\n",
       "      <td>Коламбиа Пикчерз, Медиа Райтс Кэпитал, Сони Пи...</td>\n",
       "      <td>США</td>\n",
       "      <td>Геннадий Тартаковский</td>\n",
       "      <td>Мишель Мердокка</td>\n",
       "      <td>6+</td>\n",
       "      <td>NaN</td>\n",
       "      <td>NaN</td>\n",
       "      <td>NaN</td>\n",
       "      <td>NaN</td>\n",
       "      <td>7.5</td>\n",
       "      <td>аниме,мультфильм,приключения</td>\n",
       "      <td>1.125243e+09</td>\n",
       "    </tr>\n",
       "    <tr>\n",
       "      <th>6274</th>\n",
       "      <td>Веном</td>\n",
       "      <td>121022018</td>\n",
       "      <td>2018-10-04 12:00:00+00:00</td>\n",
       "      <td>Художественный</td>\n",
       "      <td>Коламбиа Пикчерз, Марвел Интертейнмент, Паскал...</td>\n",
       "      <td>США</td>\n",
       "      <td>Рубен Флейшер</td>\n",
       "      <td>Ави Арад, Эми Паскаль, Мэтт Толмак</td>\n",
       "      <td>16+</td>\n",
       "      <td>NaN</td>\n",
       "      <td>NaN</td>\n",
       "      <td>NaN</td>\n",
       "      <td>NaN</td>\n",
       "      <td>6.8</td>\n",
       "      <td>боевик,фантастика,триллер</td>\n",
       "      <td>1.913258e+09</td>\n",
       "    </tr>\n",
       "    <tr>\n",
       "      <th>6340</th>\n",
       "      <td>Богемская рапсодия</td>\n",
       "      <td>121024118</td>\n",
       "      <td>2018-10-26 12:00:00+00:00</td>\n",
       "      <td>Художественный</td>\n",
       "      <td>Нью Ридженси Пикчерз, Ридженси Интертейнмент, ...</td>\n",
       "      <td>США - Великобритания</td>\n",
       "      <td>Брайан Сингер</td>\n",
       "      <td>Джим Бич, Грэм Кинг, Роберт Де Ниро</td>\n",
       "      <td>18+</td>\n",
       "      <td>NaN</td>\n",
       "      <td>NaN</td>\n",
       "      <td>NaN</td>\n",
       "      <td>NaN</td>\n",
       "      <td>8.0</td>\n",
       "      <td>биография,музыка,драма</td>\n",
       "      <td>1.019186e+09</td>\n",
       "    </tr>\n",
       "    <tr>\n",
       "      <th>6392</th>\n",
       "      <td>Фантастические твари: Преступления Грин-де-Вальда</td>\n",
       "      <td>121025518</td>\n",
       "      <td>2018-11-15 12:00:00+00:00</td>\n",
       "      <td>Художественный</td>\n",
       "      <td>Хейдэй Филмз, Уорнер Бразерс</td>\n",
       "      <td>США - Великобритания</td>\n",
       "      <td>Дэвид Йейтс</td>\n",
       "      <td>Стив Кловз, Джоан К,Роулинг, Лайонел Уигрэм, Д...</td>\n",
       "      <td>12+</td>\n",
       "      <td>NaN</td>\n",
       "      <td>NaN</td>\n",
       "      <td>NaN</td>\n",
       "      <td>NaN</td>\n",
       "      <td>6.6</td>\n",
       "      <td>фэнтези,приключения,семейный</td>\n",
       "      <td>1.520627e+09</td>\n",
       "    </tr>\n",
       "    <tr>\n",
       "      <th>6470</th>\n",
       "      <td>Полицейский с рублевки. Новогодний беспредел</td>\n",
       "      <td>111023318</td>\n",
       "      <td>2018-12-20 12:00:00+00:00</td>\n",
       "      <td>Художественный</td>\n",
       "      <td>ООО \"ЛЕГИО ФЕЛИКС\", ООО \"Ника ТВ\"</td>\n",
       "      <td>Россия</td>\n",
       "      <td>И.Куликов</td>\n",
       "      <td>И.Куликов, А.Семенов, ООО \"Ника ТВ\"</td>\n",
       "      <td>16+</td>\n",
       "      <td>NaN</td>\n",
       "      <td>NaN</td>\n",
       "      <td>NaN</td>\n",
       "      <td>NaN</td>\n",
       "      <td>5.8</td>\n",
       "      <td>комедия,приключения</td>\n",
       "      <td>1.682680e+09</td>\n",
       "    </tr>\n",
       "    <tr>\n",
       "      <th>6501</th>\n",
       "      <td>Аквамен</td>\n",
       "      <td>121028518</td>\n",
       "      <td>2018-12-13 12:00:00+00:00</td>\n",
       "      <td>Художественный</td>\n",
       "      <td>Ди Си Комикс, Панорамик Пикчерз, Сафран Компан...</td>\n",
       "      <td>США - Австралия</td>\n",
       "      <td>Джеймс Ван</td>\n",
       "      <td>Роб Кауэн, Питер Сафран</td>\n",
       "      <td>12+</td>\n",
       "      <td>NaN</td>\n",
       "      <td>NaN</td>\n",
       "      <td>NaN</td>\n",
       "      <td>NaN</td>\n",
       "      <td>6.8</td>\n",
       "      <td>фантастика,фэнтези,боевик</td>\n",
       "      <td>1.278044e+09</td>\n",
       "    </tr>\n",
       "    <tr>\n",
       "      <th>6549</th>\n",
       "      <td>Т-34</td>\n",
       "      <td>111024918</td>\n",
       "      <td>2018-12-21 12:00:00+00:00</td>\n",
       "      <td>Художественный</td>\n",
       "      <td>ООО \"Кинокомпания МАРС-фильм\" по заказу ООО \"М...</td>\n",
       "      <td>Россия</td>\n",
       "      <td>А.Сидоров</td>\n",
       "      <td>А.Златопольский, Р.Дишдишян, Л.Блаватник, Н.Яр...</td>\n",
       "      <td>12+</td>\n",
       "      <td>60000000.0</td>\n",
       "      <td>120000000.0</td>\n",
       "      <td>563784717.0</td>\n",
       "      <td>Фонд кино</td>\n",
       "      <td>6.5</td>\n",
       "      <td>драма,военный,боевик</td>\n",
       "      <td>2.271754e+09</td>\n",
       "    </tr>\n",
       "    <tr>\n",
       "      <th>6715</th>\n",
       "      <td>Как приручить дракона 3</td>\n",
       "      <td>124000719</td>\n",
       "      <td>2019-02-21 12:00:00+00:00</td>\n",
       "      <td>Анимационный</td>\n",
       "      <td>ДримУоркс Анимейшн, Мэд Хаттер Интертейнмент</td>\n",
       "      <td>США</td>\n",
       "      <td>Дин ДеБлуа</td>\n",
       "      <td>Бонни Арнольд, Брэд Льюис</td>\n",
       "      <td>6+</td>\n",
       "      <td>NaN</td>\n",
       "      <td>NaN</td>\n",
       "      <td>NaN</td>\n",
       "      <td>NaN</td>\n",
       "      <td>7.7</td>\n",
       "      <td>мультфильм,фэнтези,боевик</td>\n",
       "      <td>1.689541e+09</td>\n",
       "    </tr>\n",
       "    <tr>\n",
       "      <th>6728</th>\n",
       "      <td>Капитан Марвел</td>\n",
       "      <td>121002119</td>\n",
       "      <td>2019-03-07 12:00:00+00:00</td>\n",
       "      <td>Художественный</td>\n",
       "      <td>Марвел Студиос</td>\n",
       "      <td>США</td>\n",
       "      <td>Анна Боден, Райан Флек</td>\n",
       "      <td>Кевин Фейги</td>\n",
       "      <td>16+</td>\n",
       "      <td>NaN</td>\n",
       "      <td>NaN</td>\n",
       "      <td>NaN</td>\n",
       "      <td>NaN</td>\n",
       "      <td>6.5</td>\n",
       "      <td>фантастика,боевик,приключения</td>\n",
       "      <td>1.144426e+09</td>\n",
       "    </tr>\n",
       "    <tr>\n",
       "      <th>6820</th>\n",
       "      <td>Мстители: Финал</td>\n",
       "      <td>121005519</td>\n",
       "      <td>2019-04-29 12:00:00+00:00</td>\n",
       "      <td>Художественный</td>\n",
       "      <td>Марвел Студиос</td>\n",
       "      <td>США</td>\n",
       "      <td>Джо Руссо, Энтони Руссо</td>\n",
       "      <td>Кевин Фейги</td>\n",
       "      <td>16+</td>\n",
       "      <td>NaN</td>\n",
       "      <td>NaN</td>\n",
       "      <td>NaN</td>\n",
       "      <td>NaN</td>\n",
       "      <td>7.6</td>\n",
       "      <td>фантастика,боевик,драма</td>\n",
       "      <td>2.576614e+09</td>\n",
       "    </tr>\n",
       "    <tr>\n",
       "      <th>6957</th>\n",
       "      <td>Тайная жизнь домашних животных 2</td>\n",
       "      <td>124003519</td>\n",
       "      <td>2019-05-25 12:00:00+00:00</td>\n",
       "      <td>Анимационный</td>\n",
       "      <td>Иллюминейшн Интертейнмент, Юниверсал Пикчерз</td>\n",
       "      <td>США, Франция, Япония</td>\n",
       "      <td>Крис Рено</td>\n",
       "      <td>Лиз-Мари Амар</td>\n",
       "      <td>6+</td>\n",
       "      <td>NaN</td>\n",
       "      <td>NaN</td>\n",
       "      <td>NaN</td>\n",
       "      <td>NaN</td>\n",
       "      <td>6.8</td>\n",
       "      <td>мультфильм,комедия,приключения</td>\n",
       "      <td>1.478921e+09</td>\n",
       "    </tr>\n",
       "    <tr>\n",
       "      <th>7057</th>\n",
       "      <td>Человек-Паук: Вдали от дома</td>\n",
       "      <td>121018019</td>\n",
       "      <td>2019-07-04 12:00:00+00:00</td>\n",
       "      <td>Художественный</td>\n",
       "      <td>Коламбиа Пикчерз, Марвел Студиос, Паскаль Пикчерз</td>\n",
       "      <td>США</td>\n",
       "      <td>Джон Уоттс</td>\n",
       "      <td>Эми Паскаль, Кевин Фейги</td>\n",
       "      <td>12+</td>\n",
       "      <td>NaN</td>\n",
       "      <td>NaN</td>\n",
       "      <td>NaN</td>\n",
       "      <td>NaN</td>\n",
       "      <td>7.2</td>\n",
       "      <td>фантастика,боевик,приключения</td>\n",
       "      <td>1.203696e+09</td>\n",
       "    </tr>\n",
       "    <tr>\n",
       "      <th>7109</th>\n",
       "      <td>Однажды... в Голливуде</td>\n",
       "      <td>121021719</td>\n",
       "      <td>2019-08-08 12:00:00+00:00</td>\n",
       "      <td>Художественный</td>\n",
       "      <td>Бона Филм Груп, Хейдей Филмз, Сони Пикчерз Инт...</td>\n",
       "      <td>США - Великобритания - КНР</td>\n",
       "      <td>Квентин Тарантино</td>\n",
       "      <td>Шэннон МакИнтош, Квентин Тарантино, Дэвид Хейман</td>\n",
       "      <td>18+</td>\n",
       "      <td>NaN</td>\n",
       "      <td>NaN</td>\n",
       "      <td>NaN</td>\n",
       "      <td>NaN</td>\n",
       "      <td>5.9</td>\n",
       "      <td>драма,комедия</td>\n",
       "      <td>1.121949e+09</td>\n",
       "    </tr>\n",
       "    <tr>\n",
       "      <th>7110</th>\n",
       "      <td>Форсаж: Хоббс и Шоу</td>\n",
       "      <td>121021319</td>\n",
       "      <td>2019-08-01 12:00:00+00:00</td>\n",
       "      <td>Художественный</td>\n",
       "      <td>Юниверсал Пикчерз</td>\n",
       "      <td>Великобритания - США</td>\n",
       "      <td>Дэвид Литч</td>\n",
       "      <td>Хирам Гарсиа, Дуэйн Джонсон</td>\n",
       "      <td>12+</td>\n",
       "      <td>NaN</td>\n",
       "      <td>NaN</td>\n",
       "      <td>NaN</td>\n",
       "      <td>NaN</td>\n",
       "      <td>6.3</td>\n",
       "      <td>боевик,триллер,приключения</td>\n",
       "      <td>1.065210e+09</td>\n",
       "    </tr>\n",
       "    <tr>\n",
       "      <th>7201</th>\n",
       "      <td>Оно-2</td>\n",
       "      <td>121025619</td>\n",
       "      <td>2019-09-05 12:00:00+00:00</td>\n",
       "      <td>Художественный</td>\n",
       "      <td>Дабл Дрим, Вертиго Интертейнмент, Райбэк, Катц...</td>\n",
       "      <td>США</td>\n",
       "      <td>Энди Мускетти</td>\n",
       "      <td>Дэн Ли, Рой Ли, Барбара Мускетти</td>\n",
       "      <td>18+</td>\n",
       "      <td>NaN</td>\n",
       "      <td>NaN</td>\n",
       "      <td>NaN</td>\n",
       "      <td>NaN</td>\n",
       "      <td>6.5</td>\n",
       "      <td>ужасы,фэнтези,драма</td>\n",
       "      <td>1.107950e+09</td>\n",
       "    </tr>\n",
       "    <tr>\n",
       "      <th>7216</th>\n",
       "      <td>Малефисента: Владычица тьмы</td>\n",
       "      <td>121026219</td>\n",
       "      <td>2019-10-04 12:00:00+00:00</td>\n",
       "      <td>Художественный</td>\n",
       "      <td>Рот Филмз, Уолт Дисней Пикчерз</td>\n",
       "      <td>США</td>\n",
       "      <td>Йоаким Роннинг</td>\n",
       "      <td>Анджелина Джоли, Джо Рот, Дункан Хендерсон</td>\n",
       "      <td>6+</td>\n",
       "      <td>NaN</td>\n",
       "      <td>NaN</td>\n",
       "      <td>NaN</td>\n",
       "      <td>NaN</td>\n",
       "      <td>6.9</td>\n",
       "      <td>фэнтези,приключения,семейный</td>\n",
       "      <td>1.911945e+09</td>\n",
       "    </tr>\n",
       "    <tr>\n",
       "      <th>7258</th>\n",
       "      <td>Джокер</td>\n",
       "      <td>121027519</td>\n",
       "      <td>2019-10-03 12:00:00+00:00</td>\n",
       "      <td>Художественный</td>\n",
       "      <td>Брон Студиос, Ди Си Комикс, Джоинт Эффорт, Вил...</td>\n",
       "      <td>США - Канада</td>\n",
       "      <td>Тодд Филлипс</td>\n",
       "      <td>Брэдли Купер, Эмма Тиллинджер Коскофф, Тодд Фи...</td>\n",
       "      <td>18+</td>\n",
       "      <td>NaN</td>\n",
       "      <td>NaN</td>\n",
       "      <td>NaN</td>\n",
       "      <td>NaN</td>\n",
       "      <td>8.0</td>\n",
       "      <td>триллер,драма,криминал</td>\n",
       "      <td>1.890368e+09</td>\n",
       "    </tr>\n",
       "    <tr>\n",
       "      <th>7383</th>\n",
       "      <td>Холодное сердце II</td>\n",
       "      <td>124009619</td>\n",
       "      <td>2019-11-23 12:00:00+00:00</td>\n",
       "      <td>Анимационный</td>\n",
       "      <td>Уолт Дисней Анимейшн Студиос, Уолт Дисней Пикчерс</td>\n",
       "      <td>США</td>\n",
       "      <td>Крис Бак, Дженнифер Ли</td>\n",
       "      <td>Питер Дел Вечо</td>\n",
       "      <td>6+</td>\n",
       "      <td>NaN</td>\n",
       "      <td>NaN</td>\n",
       "      <td>NaN</td>\n",
       "      <td>NaN</td>\n",
       "      <td>7.1</td>\n",
       "      <td>мультфильм,мюзикл,фэнтези</td>\n",
       "      <td>1.827245e+09</td>\n",
       "    </tr>\n",
       "    <tr>\n",
       "      <th>7388</th>\n",
       "      <td>Полицейский с Рублевки. Новогодний Беспредел 2</td>\n",
       "      <td>111019519</td>\n",
       "      <td>2019-12-12 12:00:00+00:00</td>\n",
       "      <td>Художественный</td>\n",
       "      <td>АО \"ТНТ-Телесеть\", ООО \"ЛЕГИО ФЕЛИКС\", ООО \"1-...</td>\n",
       "      <td>Россия</td>\n",
       "      <td>И.Куликов</td>\n",
       "      <td>В.Федорович, Е.Никишов, И.Куликов, ООО \"1-2-3 ...</td>\n",
       "      <td>12+</td>\n",
       "      <td>NaN</td>\n",
       "      <td>NaN</td>\n",
       "      <td>NaN</td>\n",
       "      <td>NaN</td>\n",
       "      <td>5.8</td>\n",
       "      <td>комедия,приключения</td>\n",
       "      <td>1.039706e+09</td>\n",
       "    </tr>\n",
       "    <tr>\n",
       "      <th>7418</th>\n",
       "      <td>Джуманджи: Новый уровень</td>\n",
       "      <td>121034919</td>\n",
       "      <td>2019-12-06 12:00:00+00:00</td>\n",
       "      <td>Художественный</td>\n",
       "      <td>Хартбит Продакшнз, Мэтт Толмак Продакшнз, Севе...</td>\n",
       "      <td>США</td>\n",
       "      <td>Джейк Кэздан</td>\n",
       "      <td>Дэни Гарсия, Хирам Гарсия, Дуэйн Джонсон, Джей...</td>\n",
       "      <td>12+</td>\n",
       "      <td>NaN</td>\n",
       "      <td>NaN</td>\n",
       "      <td>NaN</td>\n",
       "      <td>NaN</td>\n",
       "      <td>6.5</td>\n",
       "      <td>фэнтези,боевик,комедия</td>\n",
       "      <td>1.120026e+09</td>\n",
       "    </tr>\n",
       "    <tr>\n",
       "      <th>7456</th>\n",
       "      <td>Холоп</td>\n",
       "      <td>111021719</td>\n",
       "      <td>2019-12-19 12:00:00+00:00</td>\n",
       "      <td>Художественный</td>\n",
       "      <td>ООО \"МЕМ-МЕДИА\" по заказу АО \"ВБД Груп\"</td>\n",
       "      <td>Россия</td>\n",
       "      <td>К.Шипенко</td>\n",
       "      <td>Э.Илоян, Д.Жалинский, В.Дусмухаметов, Т.Бадзие...</td>\n",
       "      <td>12+</td>\n",
       "      <td>25000000.0</td>\n",
       "      <td>35000000.0</td>\n",
       "      <td>160000000.0</td>\n",
       "      <td>Фонд кино</td>\n",
       "      <td>6.8</td>\n",
       "      <td>комедия</td>\n",
       "      <td>3.073569e+09</td>\n",
       "    </tr>\n",
       "  </tbody>\n",
       "</table>\n",
       "</div>"
      ],
      "text/plain": [
       "                                                  title   puNumber  \\\n",
       "1982                                        Седьмой сын  121026614   \n",
       "2105                                           Форсаж 7  121001215   \n",
       "2159                             Мстители: Эра Альтрона  121007215   \n",
       "2509                                Терминатор: Генезис  121012415   \n",
       "2511                             Монстры на каникулах 2  124003615   \n",
       "2578                                            Миньоны  124001715   \n",
       "2579                                Мир Юрского периода  121006515   \n",
       "2840                                             Дэдпул  121002116   \n",
       "2859                                         Зверополис  124000316   \n",
       "2920                                           Экипаж .  111005416   \n",
       "2938                              Книга джунглей (2016)  121006616   \n",
       "2991                                           Варкрафт  121011716   \n",
       "3002                                   Иллюзия обмана 2  121012016   \n",
       "3117                   Звёздные войны: Пробуждение силы  121024915   \n",
       "3172                                    Выживший (2015)  121026215   \n",
       "3235                                     Босс-Молокосос  124000317   \n",
       "3318                                     Доктор Стрэндж  121027416   \n",
       "3334             Фантастические твари и где они обитают  121029216   \n",
       "3371                                           Форсаж 8  121005617   \n",
       "3396                                    Отряд самоубийц  121018816   \n",
       "3488  Пираты Карибского моря: Мертвецы не рассказыва...  121009217   \n",
       "3523                          Стражи Галактики. Часть 2  121008117   \n",
       "3565                                  Притяжение (2016)  111018116   \n",
       "3742                                         Гадкий я 3  124001617   \n",
       "3755  Тайная жизнь домашних животных. Миньоны против...  124002816   \n",
       "5473                                                Оно  121017617   \n",
       "5505                                 Последний богатырь  111007017   \n",
       "5548                                      Тор: Рагнарёк  121022917   \n",
       "5653                                     Движение вверх  111011817   \n",
       "5654                            Джуманджи: Зов джунглей  121027517   \n",
       "5708                                                Лёд  111000518   \n",
       "5864                      Мстители: Война бесконечности  121009118   \n",
       "5876                                           Дэдпул 2  121009618   \n",
       "5896                              Мир Юрского периода 2  121010718   \n",
       "6016                 Монстры на каникулах 3: Море зовёт  124002518   \n",
       "6274                                              Веном  121022018   \n",
       "6340                                 Богемская рапсодия  121024118   \n",
       "6392  Фантастические твари: Преступления Грин-де-Вальда  121025518   \n",
       "6470       Полицейский с рублевки. Новогодний беспредел  111023318   \n",
       "6501                                            Аквамен  121028518   \n",
       "6549                                               Т-34  111024918   \n",
       "6715                            Как приручить дракона 3  124000719   \n",
       "6728                                     Капитан Марвел  121002119   \n",
       "6820                                    Мстители: Финал  121005519   \n",
       "6957                   Тайная жизнь домашних животных 2  124003519   \n",
       "7057                        Человек-Паук: Вдали от дома  121018019   \n",
       "7109                             Однажды... в Голливуде  121021719   \n",
       "7110                                Форсаж: Хоббс и Шоу  121021319   \n",
       "7201                                              Оно-2  121025619   \n",
       "7216                        Малефисента: Владычица тьмы  121026219   \n",
       "7258                                             Джокер  121027519   \n",
       "7383                                 Холодное сердце II  124009619   \n",
       "7388     Полицейский с Рублевки. Новогодний Беспредел 2  111019519   \n",
       "7418                           Джуманджи: Новый уровень  121034919   \n",
       "7456                                              Холоп  111021719   \n",
       "\n",
       "               show_start_date            type  \\\n",
       "1982 2014-11-11 12:00:00+00:00  Художественный   \n",
       "2105 2015-01-27 12:00:00+00:00  Художественный   \n",
       "2159 2015-04-03 12:00:00+00:00  Художественный   \n",
       "2509 2015-06-11 12:00:00+00:00  Художественный   \n",
       "2511 2015-10-15 12:00:00+00:00    Анимационный   \n",
       "2578 2015-03-30 12:00:00+00:00    Анимационный   \n",
       "2579 2015-04-03 12:00:00+00:00  Художественный   \n",
       "2840 2016-02-03 12:00:00+00:00  Художественный   \n",
       "2859 2016-02-15 12:00:00+00:00    Анимационный   \n",
       "2920 2016-03-21 12:00:00+00:00  Художественный   \n",
       "2938 2016-03-25 12:00:00+00:00  Художественный   \n",
       "2991 2016-05-17 12:00:00+00:00  Художественный   \n",
       "3002 2016-05-17 12:00:00+00:00  Художественный   \n",
       "3117 2015-12-11 12:00:00+00:00  Художественный   \n",
       "3172 2015-12-30 12:00:00+00:00  Художественный   \n",
       "3235 2017-02-09 12:00:00+00:00    Анимационный   \n",
       "3318 2016-10-03 12:00:00+00:00  Художественный   \n",
       "3334 2016-10-31 12:00:00+00:00  Художественный   \n",
       "3371 2017-04-03 12:00:00+00:00  Художественный   \n",
       "3396 2016-06-21 12:00:00+00:00  Художественный   \n",
       "3488 2017-05-17 12:00:00+00:00  Художественный   \n",
       "3523 2017-04-27 12:00:00+00:00  Художественный   \n",
       "3565 2016-12-16 12:00:00+00:00  Художественный   \n",
       "3742 2017-06-15 12:00:00+00:00    Анимационный   \n",
       "3755 2016-07-05 12:00:00+00:00    Анимационный   \n",
       "5473 2017-09-07 12:00:00+00:00  Художественный   \n",
       "5505 2017-10-19 12:00:00+00:00  Художественный   \n",
       "5548 2017-11-02 12:00:00+00:00  Художественный   \n",
       "5653 2017-12-21 12:00:00+00:00  Художественный   \n",
       "5654 2017-12-21 12:00:00+00:00  Художественный   \n",
       "5708 2018-02-01 12:00:00+00:00  Художественный   \n",
       "5864 2018-05-03 12:00:00+00:00  Художественный   \n",
       "5876 2018-05-17 12:00:00+00:00  Художественный   \n",
       "5896 2018-06-06 12:00:00+00:00  Художественный   \n",
       "6016 2018-07-12 12:00:00+00:00    Анимационный   \n",
       "6274 2018-10-04 12:00:00+00:00  Художественный   \n",
       "6340 2018-10-26 12:00:00+00:00  Художественный   \n",
       "6392 2018-11-15 12:00:00+00:00  Художественный   \n",
       "6470 2018-12-20 12:00:00+00:00  Художественный   \n",
       "6501 2018-12-13 12:00:00+00:00  Художественный   \n",
       "6549 2018-12-21 12:00:00+00:00  Художественный   \n",
       "6715 2019-02-21 12:00:00+00:00    Анимационный   \n",
       "6728 2019-03-07 12:00:00+00:00  Художественный   \n",
       "6820 2019-04-29 12:00:00+00:00  Художественный   \n",
       "6957 2019-05-25 12:00:00+00:00    Анимационный   \n",
       "7057 2019-07-04 12:00:00+00:00  Художественный   \n",
       "7109 2019-08-08 12:00:00+00:00  Художественный   \n",
       "7110 2019-08-01 12:00:00+00:00  Художественный   \n",
       "7201 2019-09-05 12:00:00+00:00  Художественный   \n",
       "7216 2019-10-04 12:00:00+00:00  Художественный   \n",
       "7258 2019-10-03 12:00:00+00:00  Художественный   \n",
       "7383 2019-11-23 12:00:00+00:00    Анимационный   \n",
       "7388 2019-12-12 12:00:00+00:00  Художественный   \n",
       "7418 2019-12-06 12:00:00+00:00  Художественный   \n",
       "7456 2019-12-19 12:00:00+00:00  Художественный   \n",
       "\n",
       "                                            film_studio  \\\n",
       "1982  Леджендари Пикчерз, Мовинг Пикчерз Компани, Ут...   \n",
       "2105  Юниверсал Пикчерз, Релятивити Медиа, Дентсу, Ф...   \n",
       "2159                                     Марвел Студиос   \n",
       "2509              Парамаунт Пикчерз, Скайдэнс Продакшнз   \n",
       "2511  Коламбиа Пикчерз, ЭлСтар Кэпитал, Сони Пикчерз...   \n",
       "2578                          Иллюминейшн Интертейнмент   \n",
       "2579  Эмблин Интертейнмент, Леджендари Пикчерз, Юнив...   \n",
       "2840  ХХ век Фокс, Марвел Энтерпрайзиз, Тэ Эс Гэ Инт...   \n",
       "2859  Уолт Дисней Анимейшн Студиос, Уолт Дисней Пикчерз   \n",
       "2920              ООО \"Студия \"ТРИТЭ\" Никиты Михалкова\"   \n",
       "2938  Фэйрвью Интертейнмент, Мувинг Пикчер Компани, ...   \n",
       "2991  Атлас Интертеймент, Леджендари Пикчерз, Близза...   \n",
       "3002                   Лайонсгейт, Саммит Интертейнмент   \n",
       "3117            Лукасфилм, Бэд Робот, Трунорт Продакшнз   \n",
       "3172  Нью Ридженси Пикчерз, Анонимус Контент, Аппиан...   \n",
       "3235                                 ДримУоркс Анимейшн   \n",
       "3318                                     Марвел Студиос   \n",
       "3334                       Уорнер Бразерс, Хэйдэй Филмз   \n",
       "3371       Итака Филмз, Уан Рейс Филмз, Ориджинал Фильм   \n",
       "3396  Атлас Интертейнмент, Ди Си Интертейнмент, Дюн ...   \n",
       "3488  Джерри Брукхаймер Филмз, Уолт Дисней Пикчерз, ...   \n",
       "3523                Марвел Студиос, Уолт Дисней Пикчерз   \n",
       "3565      ООО \"Водород 2011\",  ООО \"Арт Пикчерс Студия\"   \n",
       "3742      Иллюминейшен Интертейнмент, Юниверсал Пикчерз   \n",
       "3755       Иллюминейшн Интертейнмент, Юниверсал Пикчерз   \n",
       "5473  Нью Лайн Синема, КатзСмит Продакшнз, Лин Пикче...   \n",
       "5505  ООО \"Киностудия \"Слово\" по заказу ООО \"Уолт Ди...   \n",
       "5548  Марвел Интертейнмент, Марвел Студиос, Уолт Дис...   \n",
       "5653              ООО \"Студия \"ТРИТЭ\" Никиты Михалкова\"   \n",
       "5654  Мэтт Толмак Продакшнз, Радар Пикчерз, Севен Ба...   \n",
       "5708  ООО \"Водород 2011\", ООО \"Арт Пикчерс Студия\", ...   \n",
       "5864                                     Марвел Студиос   \n",
       "5876  Доннерс Компани, Кинберг Жанр, Марвел Интертей...   \n",
       "5896  Амблин Интертейнмент, Эпейчс Интертейнмент, Ле...   \n",
       "6016  Коламбиа Пикчерз, Медиа Райтс Кэпитал, Сони Пи...   \n",
       "6274  Коламбиа Пикчерз, Марвел Интертейнмент, Паскал...   \n",
       "6340  Нью Ридженси Пикчерз, Ридженси Интертейнмент, ...   \n",
       "6392                       Хейдэй Филмз, Уорнер Бразерс   \n",
       "6470                  ООО \"ЛЕГИО ФЕЛИКС\", ООО \"Ника ТВ\"   \n",
       "6501  Ди Си Комикс, Панорамик Пикчерз, Сафран Компан...   \n",
       "6549  ООО \"Кинокомпания МАРС-фильм\" по заказу ООО \"М...   \n",
       "6715       ДримУоркс Анимейшн, Мэд Хаттер Интертейнмент   \n",
       "6728                                     Марвел Студиос   \n",
       "6820                                     Марвел Студиос   \n",
       "6957       Иллюминейшн Интертейнмент, Юниверсал Пикчерз   \n",
       "7057  Коламбиа Пикчерз, Марвел Студиос, Паскаль Пикчерз   \n",
       "7109  Бона Филм Груп, Хейдей Филмз, Сони Пикчерз Инт...   \n",
       "7110                                  Юниверсал Пикчерз   \n",
       "7201  Дабл Дрим, Вертиго Интертейнмент, Райбэк, Катц...   \n",
       "7216                     Рот Филмз, Уолт Дисней Пикчерз   \n",
       "7258  Брон Студиос, Ди Си Комикс, Джоинт Эффорт, Вил...   \n",
       "7383  Уолт Дисней Анимейшн Студиос, Уолт Дисней Пикчерс   \n",
       "7388  АО \"ТНТ-Телесеть\", ООО \"ЛЕГИО ФЕЛИКС\", ООО \"1-...   \n",
       "7418  Хартбит Продакшнз, Мэтт Толмак Продакшнз, Севе...   \n",
       "7456            ООО \"МЕМ-МЕДИА\" по заказу АО \"ВБД Груп\"   \n",
       "\n",
       "                       production_country  \\\n",
       "1982  США - Великобритания - Канада - КНР   \n",
       "2105                                  США   \n",
       "2159                                  США   \n",
       "2509                                  США   \n",
       "2511                                  США   \n",
       "2578                                  США   \n",
       "2579                                  США   \n",
       "2840                         США - Канада   \n",
       "2859                                  США   \n",
       "2920                               Россия   \n",
       "2938                                  США   \n",
       "2991          США - Канада - Япония - КНР   \n",
       "3002                                  США   \n",
       "3117                                  США   \n",
       "3172                                  США   \n",
       "3235                                  США   \n",
       "3318                                  США   \n",
       "3334                 США - Великобритания   \n",
       "3371                                  США   \n",
       "3396                                  США   \n",
       "3488                                  США   \n",
       "3523                                  США   \n",
       "3565                               Россия   \n",
       "3742                                  США   \n",
       "3755                                  США   \n",
       "5473                                  США   \n",
       "5505                               Россия   \n",
       "5548                                  США   \n",
       "5653                               Россия   \n",
       "5654                                  США   \n",
       "5708                               Россия   \n",
       "5864                                  США   \n",
       "5876                                  США   \n",
       "5896                        США - Испания   \n",
       "6016                                  США   \n",
       "6274                                  США   \n",
       "6340                 США - Великобритания   \n",
       "6392                 США - Великобритания   \n",
       "6470                               Россия   \n",
       "6501                      США - Австралия   \n",
       "6549                               Россия   \n",
       "6715                                  США   \n",
       "6728                                  США   \n",
       "6820                                  США   \n",
       "6957                 США, Франция, Япония   \n",
       "7057                                  США   \n",
       "7109           США - Великобритания - КНР   \n",
       "7110                 Великобритания - США   \n",
       "7201                                  США   \n",
       "7216                                  США   \n",
       "7258                         США - Канада   \n",
       "7383                                  США   \n",
       "7388                               Россия   \n",
       "7418                                  США   \n",
       "7456                               Россия   \n",
       "\n",
       "                                   director  \\\n",
       "1982                          Сергей Бодров   \n",
       "2105                             Джеймс Ван   \n",
       "2159                            Джосс Уидон   \n",
       "2509                            Алан Тэйлор   \n",
       "2511                  Геннадий Тартаковский   \n",
       "2578                Кайл Балда, Пьер Соффин   \n",
       "2579                        Колин Треворроу   \n",
       "2840                             Тим Миллер   \n",
       "2859                 Рич Мур, Байрон Ховард   \n",
       "2920                              Н.Лебедев   \n",
       "2938                             Джон Фавро   \n",
       "2991                           Дункан Джонс   \n",
       "3002                              Джон М.Чу   \n",
       "3117                       Джей Джей Абрамс   \n",
       "3172           Алехандро Гонсалес Иньярриту   \n",
       "3235                            Том МакГрат   \n",
       "3318                        Скотт Дерриксон   \n",
       "3334                            Дэвид Йейтс   \n",
       "3371                            Ф.Гэри Грей   \n",
       "3396                              Дэвид Эйр   \n",
       "3488         Йоаким Реннинг, Эспен Сандберг   \n",
       "3523                            Джеймс Ганн   \n",
       "3565                            Ф.Бондарчук   \n",
       "3742  Кайл Балда, Эрик Гуильон, Пьер Коффан   \n",
       "3755                              Крис Рено   \n",
       "5473                        Андрес Мускетти   \n",
       "5505                             Д.Дьяченко   \n",
       "5548                          Тайка Вайтити   \n",
       "5653                           А.Мегердичев   \n",
       "5654                           Джейк Касдан   \n",
       "5708                               О.Трофим   \n",
       "5864                Энтони Руссо, Джо Руссо   \n",
       "5876                             Дэвид Литч   \n",
       "5896                    Хуан Антонио Байона   \n",
       "6016                  Геннадий Тартаковский   \n",
       "6274                          Рубен Флейшер   \n",
       "6340                          Брайан Сингер   \n",
       "6392                            Дэвид Йейтс   \n",
       "6470                              И.Куликов   \n",
       "6501                             Джеймс Ван   \n",
       "6549                              А.Сидоров   \n",
       "6715                             Дин ДеБлуа   \n",
       "6728                 Анна Боден, Райан Флек   \n",
       "6820                Джо Руссо, Энтони Руссо   \n",
       "6957                              Крис Рено   \n",
       "7057                             Джон Уоттс   \n",
       "7109                      Квентин Тарантино   \n",
       "7110                             Дэвид Литч   \n",
       "7201                          Энди Мускетти   \n",
       "7216                         Йоаким Роннинг   \n",
       "7258                           Тодд Филлипс   \n",
       "7383                 Крис Бак, Дженнифер Ли   \n",
       "7388                              И.Куликов   \n",
       "7418                           Джейк Кэздан   \n",
       "7456                              К.Шипенко   \n",
       "\n",
       "                                               producer age_restriction  \\\n",
       "1982           Бэзил Иваник, Томас Тулл, Лайонел Уигрэм             12+   \n",
       "2105                         Вин Дизель, Майкл Фоттрел              16+   \n",
       "2159                                        Кевин Фейги             12+   \n",
       "2509                       Дэвид Эллисон, Дэна Голдберг             12+   \n",
       "2511                      Аллен Коверт, Мишель Мердокка              6+   \n",
       "2578                  Кристофер Меледандри, Джанет Хили              6+   \n",
       "2579                       Патрик Краули, Фрэнк Маршалл             12+   \n",
       "2840  Саймон Кинберг, Райан Рейнольдс, Лорен Шулер Д...             18+   \n",
       "2859                                      Кларк Спенсер              6+   \n",
       "2920  Л.Верещагин, А.Златопольский, Н.Михалков, ООО ...              6+   \n",
       "2938                          Бригэм Тэйлор, Джон Фавро             12+   \n",
       "2991                                     Стюарт Фенеган             12+   \n",
       "3002           Бобби Коэн, Алекс Куртцман, Роберто Орси             12+   \n",
       "3117      Джей Джей Абрамс, Брайан Берк, Кэтлин Кеннеди             12+   \n",
       "3172  Стив Голин, Алехандро Гонсалес Иньярриту, Дэви...             18+   \n",
       "3235                                    Рэмси Энн Наито              6+   \n",
       "3318                                        Кевин Фейги             16+   \n",
       "3334         Стивен Кловз, Дж. К. Роулинг, Дэвид Хэйман             12+   \n",
       "3371             Вин Дизель, Нил Х.Мориц, Майкл Фоттрел             12+   \n",
       "3396                          Чарльз Ровен, Ричард Скал             16+   \n",
       "3488                                  Джерри Брукхаймер             16+   \n",
       "3523                                        Кевин Фейги             16+   \n",
       "3565                           ООО \"Арт Пикчерс Студия\"             12+   \n",
       "3742   Кристофер Меледандри, Джанет Хили, Бретт Хоффман              6+   \n",
       "3755                               Кристофер Меледандри              6+   \n",
       "5473                     Сэт Грэм-Смит, Рой Ли, Дэн Лин             18+   \n",
       "5505  Э.Илоян, Д.Жалинский, М.Озкан, А.Троцюк, В.Шляппо             12+   \n",
       "5548                                         Кеви Фейги             16+   \n",
       "5653  Л.Верещагин, А.Златопольский, Н.Михалков, ООО ...              6+   \n",
       "5654                                        Мэтт Толмак             16+   \n",
       "5708  М.Врубель, А.Андрющенко, Ф.Бондарчук, Д.Рудовс...             12+   \n",
       "5864                                        Кевин Фейги             16+   \n",
       "5876  Лорен Шулер Доннер, Саймон Кинберг, Райан Рейн...             18+   \n",
       "5896                       Белен Атьенса, Патрик Краули             12+   \n",
       "6016                                    Мишель Мердокка              6+   \n",
       "6274                 Ави Арад, Эми Паскаль, Мэтт Толмак             16+   \n",
       "6340                Джим Бич, Грэм Кинг, Роберт Де Ниро             18+   \n",
       "6392  Стив Кловз, Джоан К,Роулинг, Лайонел Уигрэм, Д...             12+   \n",
       "6470                И.Куликов, А.Семенов, ООО \"Ника ТВ\"             16+   \n",
       "6501                            Роб Кауэн, Питер Сафран             12+   \n",
       "6549  А.Златопольский, Р.Дишдишян, Л.Блаватник, Н.Яр...             12+   \n",
       "6715                          Бонни Арнольд, Брэд Льюис              6+   \n",
       "6728                                        Кевин Фейги             16+   \n",
       "6820                                        Кевин Фейги             16+   \n",
       "6957                                      Лиз-Мари Амар              6+   \n",
       "7057                           Эми Паскаль, Кевин Фейги             12+   \n",
       "7109   Шэннон МакИнтош, Квентин Тарантино, Дэвид Хейман             18+   \n",
       "7110                        Хирам Гарсиа, Дуэйн Джонсон             12+   \n",
       "7201                   Дэн Ли, Рой Ли, Барбара Мускетти             18+   \n",
       "7216         Анджелина Джоли, Джо Рот, Дункан Хендерсон              6+   \n",
       "7258  Брэдли Купер, Эмма Тиллинджер Коскофф, Тодд Фи...             18+   \n",
       "7383                                     Питер Дел Вечо              6+   \n",
       "7388  В.Федорович, Е.Никишов, И.Куликов, ООО \"1-2-3 ...             12+   \n",
       "7418  Дэни Гарсия, Хирам Гарсия, Дуэйн Джонсон, Джей...             12+   \n",
       "7456  Э.Илоян, Д.Жалинский, В.Дусмухаметов, Т.Бадзие...             12+   \n",
       "\n",
       "      refundable_support  nonrefundable_support       budget financing_source  \\\n",
       "1982                 NaN                    NaN          NaN              NaN   \n",
       "2105                 NaN                    NaN          NaN              NaN   \n",
       "2159                 NaN                    NaN          NaN              NaN   \n",
       "2509                 NaN                    NaN          NaN              NaN   \n",
       "2511                 NaN                    NaN          NaN              NaN   \n",
       "2578                 NaN                    NaN          NaN              NaN   \n",
       "2579                 NaN                    NaN          NaN              NaN   \n",
       "2840                 NaN                    NaN          NaN              NaN   \n",
       "2859                 NaN                    NaN          NaN              NaN   \n",
       "2920          50000000.0            392104482.0  635283867.0        Фонд кино   \n",
       "2938                 NaN                    NaN          NaN              NaN   \n",
       "2991                 NaN                    NaN          NaN              NaN   \n",
       "3002                 NaN                    NaN          NaN              NaN   \n",
       "3117                 NaN                    NaN          NaN              NaN   \n",
       "3172                 NaN                    NaN          NaN              NaN   \n",
       "3235                 NaN                    NaN          NaN              NaN   \n",
       "3318                 NaN                    NaN          NaN              NaN   \n",
       "3334                 NaN                    NaN          NaN              NaN   \n",
       "3371                 NaN                    NaN          NaN              NaN   \n",
       "3396                 NaN                    NaN          NaN              NaN   \n",
       "3488                 NaN                    NaN          NaN              NaN   \n",
       "3523                 NaN                    NaN          NaN              NaN   \n",
       "3565                 0.0            250000000.0  250000000.0        Фонд кино   \n",
       "3742                 NaN                    NaN          NaN              NaN   \n",
       "3755                 NaN                    NaN          NaN              NaN   \n",
       "5473                 NaN                    NaN          NaN              NaN   \n",
       "5505          50000000.0             50000000.0  352477575.0        Фонд кино   \n",
       "5548                 NaN                    NaN          NaN              NaN   \n",
       "5653                 0.0            400000000.0  590192191.0        Фонд кино   \n",
       "5654                 NaN                    NaN          NaN              NaN   \n",
       "5708          25000000.0             60000000.0  148585222.0        Фонд кино   \n",
       "5864                 NaN                    NaN          NaN              NaN   \n",
       "5876                 NaN                    NaN          NaN              NaN   \n",
       "5896                 NaN                    NaN          NaN              NaN   \n",
       "6016                 NaN                    NaN          NaN              NaN   \n",
       "6274                 NaN                    NaN          NaN              NaN   \n",
       "6340                 NaN                    NaN          NaN              NaN   \n",
       "6392                 NaN                    NaN          NaN              NaN   \n",
       "6470                 NaN                    NaN          NaN              NaN   \n",
       "6501                 NaN                    NaN          NaN              NaN   \n",
       "6549          60000000.0            120000000.0  563784717.0        Фонд кино   \n",
       "6715                 NaN                    NaN          NaN              NaN   \n",
       "6728                 NaN                    NaN          NaN              NaN   \n",
       "6820                 NaN                    NaN          NaN              NaN   \n",
       "6957                 NaN                    NaN          NaN              NaN   \n",
       "7057                 NaN                    NaN          NaN              NaN   \n",
       "7109                 NaN                    NaN          NaN              NaN   \n",
       "7110                 NaN                    NaN          NaN              NaN   \n",
       "7201                 NaN                    NaN          NaN              NaN   \n",
       "7216                 NaN                    NaN          NaN              NaN   \n",
       "7258                 NaN                    NaN          NaN              NaN   \n",
       "7383                 NaN                    NaN          NaN              NaN   \n",
       "7388                 NaN                    NaN          NaN              NaN   \n",
       "7418                 NaN                    NaN          NaN              NaN   \n",
       "7456          25000000.0             35000000.0  160000000.0        Фонд кино   \n",
       "\n",
       "      ratings                              genres    box_office  \n",
       "1982      5.8                 фэнтези,приключения  1.016411e+09  \n",
       "2105      7.0          боевик,триллер,приключения  1.486131e+09  \n",
       "2159      7.2       фантастика,боевик,приключения  1.500989e+09  \n",
       "2509      6.4           фантастика,боевик,триллер  1.060054e+09  \n",
       "2511      7.2          мультфильм,фэнтези,комедия  1.000157e+09  \n",
       "2578      6.2       мультфильм,фантастика,комедия  1.646581e+09  \n",
       "2579      6.9       фантастика,приключения,боевик  1.211159e+09  \n",
       "2840      7.5           фантастика,боевик,комедия  1.587516e+09  \n",
       "2859      8.3         мультфильм,комедия,криминал  2.048126e+09  \n",
       "2920      7.6           драма,триллер,приключения  1.402255e+09  \n",
       "2938      7.1           фэнтези,драма,приключения  1.216781e+09  \n",
       "2991      7.6          фэнтези,боевик,приключения  1.307254e+09  \n",
       "3002      6.6              боевик,триллер,комедия  1.021426e+09  \n",
       "3117      7.1       фантастика,боевик,приключения  1.658861e+09  \n",
       "3172      7.8          приключения,вестерн,боевик  1.006737e+09  \n",
       "3235      6.5      мультфильм,комедия,приключения  1.376727e+09  \n",
       "3318      7.4           фантастика,фэнтези,боевик  1.288357e+09  \n",
       "3334      7.6        фэнтези,приключения,семейный  1.398265e+09  \n",
       "3371      6.2             боевик,триллер,криминал  1.429977e+09  \n",
       "3396      6.1           фантастика,боевик,фэнтези  1.570380e+09  \n",
       "3488      6.6              фэнтези,боевик,комедия  2.118396e+09  \n",
       "3523      7.6       фантастика,боевик,приключения  1.468780e+09  \n",
       "3565      5.6                          фантастика  1.038321e+09  \n",
       "3742      6.3       мультфильм,фантастика,фэнтези  1.390393e+09  \n",
       "3755      6.7  мультфильм,короткометражка,комедия  1.971005e+09  \n",
       "5473      7.3                 ужасы,фэнтези,драма  1.036725e+09  \n",
       "5505      6.8         комедия,фэнтези,приключения  1.655038e+09  \n",
       "5548      8.2                история,драма,боевик  1.229588e+09  \n",
       "5653      7.5                         спорт,драма  2.779686e+09  \n",
       "5654      6.8              фэнтези,боевик,комедия  1.246588e+09  \n",
       "5708      NaN                                 NaN  1.445732e+09  \n",
       "5864      7.9       фантастика,боевик,приключения  1.875990e+09  \n",
       "5876      7.4           фантастика,боевик,комедия  1.236763e+09  \n",
       "5896      6.2       фантастика,боевик,приключения  1.096833e+09  \n",
       "6016      7.5        аниме,мультфильм,приключения  1.125243e+09  \n",
       "6274      6.8           боевик,фантастика,триллер  1.913258e+09  \n",
       "6340      8.0              биография,музыка,драма  1.019186e+09  \n",
       "6392      6.6        фэнтези,приключения,семейный  1.520627e+09  \n",
       "6470      5.8                 комедия,приключения  1.682680e+09  \n",
       "6501      6.8           фантастика,фэнтези,боевик  1.278044e+09  \n",
       "6549      6.5                драма,военный,боевик  2.271754e+09  \n",
       "6715      7.7           мультфильм,фэнтези,боевик  1.689541e+09  \n",
       "6728      6.5       фантастика,боевик,приключения  1.144426e+09  \n",
       "6820      7.6             фантастика,боевик,драма  2.576614e+09  \n",
       "6957      6.8      мультфильм,комедия,приключения  1.478921e+09  \n",
       "7057      7.2       фантастика,боевик,приключения  1.203696e+09  \n",
       "7109      5.9                       драма,комедия  1.121949e+09  \n",
       "7110      6.3          боевик,триллер,приключения  1.065210e+09  \n",
       "7201      6.5                 ужасы,фэнтези,драма  1.107950e+09  \n",
       "7216      6.9        фэнтези,приключения,семейный  1.911945e+09  \n",
       "7258      8.0              триллер,драма,криминал  1.890368e+09  \n",
       "7383      7.1           мультфильм,мюзикл,фэнтези  1.827245e+09  \n",
       "7388      5.8                 комедия,приключения  1.039706e+09  \n",
       "7418      6.5              фэнтези,боевик,комедия  1.120026e+09  \n",
       "7456      6.8                             комедия  3.073569e+09  "
      ]
     },
     "execution_count": 49,
     "metadata": {},
     "output_type": "execute_result"
    }
   ],
   "source": [
    "df.query('box_office > 1000000000')"
   ]
  },
  {
   "cell_type": "markdown",
   "id": "ef284a45",
   "metadata": {},
   "source": [
    "**Вывод** - Достаточно большой разброс по суммам сборов. Большое сомнение вызывают сборы меньше 100000 руб, но возможно это действительно так, также среди них есть фильмы с государственной поддержкой, поэтому пока эти данные осталяю, т.к. тут есть другая полезная для исследования информация. "
   ]
  },
  {
   "cell_type": "markdown",
   "id": "f5f4fefe",
   "metadata": {},
   "source": [
    "**Добавляем столбец с информацией о годе проката**"
   ]
  },
  {
   "cell_type": "code",
   "execution_count": 50,
   "id": "bedbf8d3",
   "metadata": {},
   "outputs": [
    {
     "name": "stderr",
     "output_type": "stream",
     "text": [
      "/tmp/ipykernel_124/394961333.py:1: SettingWithCopyWarning: \n",
      "A value is trying to be set on a copy of a slice from a DataFrame.\n",
      "Try using .loc[row_indexer,col_indexer] = value instead\n",
      "\n",
      "See the caveats in the documentation: https://pandas.pydata.org/pandas-docs/stable/user_guide/indexing.html#returning-a-view-versus-a-copy\n",
      "  df['show_start_date_year'] = pd.DatetimeIndex(df['show_start_date']).year\n"
     ]
    },
    {
     "data": {
      "text/html": [
       "<div>\n",
       "<style scoped>\n",
       "    .dataframe tbody tr th:only-of-type {\n",
       "        vertical-align: middle;\n",
       "    }\n",
       "\n",
       "    .dataframe tbody tr th {\n",
       "        vertical-align: top;\n",
       "    }\n",
       "\n",
       "    .dataframe thead th {\n",
       "        text-align: right;\n",
       "    }\n",
       "</style>\n",
       "<table border=\"1\" class=\"dataframe\">\n",
       "  <thead>\n",
       "    <tr style=\"text-align: right;\">\n",
       "      <th></th>\n",
       "      <th>title</th>\n",
       "      <th>puNumber</th>\n",
       "      <th>show_start_date</th>\n",
       "      <th>type</th>\n",
       "      <th>film_studio</th>\n",
       "      <th>production_country</th>\n",
       "      <th>director</th>\n",
       "      <th>producer</th>\n",
       "      <th>age_restriction</th>\n",
       "      <th>refundable_support</th>\n",
       "      <th>nonrefundable_support</th>\n",
       "      <th>budget</th>\n",
       "      <th>financing_source</th>\n",
       "      <th>ratings</th>\n",
       "      <th>genres</th>\n",
       "      <th>box_office</th>\n",
       "      <th>show_start_date_year</th>\n",
       "    </tr>\n",
       "  </thead>\n",
       "  <tbody>\n",
       "    <tr>\n",
       "      <th>0</th>\n",
       "      <td>Открытый простор</td>\n",
       "      <td>221048915</td>\n",
       "      <td>2015-11-27 12:00:00+00:00</td>\n",
       "      <td>Художественный</td>\n",
       "      <td>Тачстоун Пикчерз, Кобальт Пикчерз, Бикон Пикче...</td>\n",
       "      <td>США</td>\n",
       "      <td>Кевин Костнер</td>\n",
       "      <td>Дэвид Валдес, Кевин Костнер, Джейк Эбертс</td>\n",
       "      <td>18+</td>\n",
       "      <td>NaN</td>\n",
       "      <td>NaN</td>\n",
       "      <td>NaN</td>\n",
       "      <td>NaN</td>\n",
       "      <td>7.2</td>\n",
       "      <td>боевик,драма,мелодрама</td>\n",
       "      <td>NaN</td>\n",
       "      <td>2015</td>\n",
       "    </tr>\n",
       "    <tr>\n",
       "      <th>1</th>\n",
       "      <td>Особо важное задание</td>\n",
       "      <td>111013716</td>\n",
       "      <td>2016-09-13 12:00:00+00:00</td>\n",
       "      <td>Художественный</td>\n",
       "      <td>Киностудия \"Мосфильм\"</td>\n",
       "      <td>СССР</td>\n",
       "      <td>Е.Матвеев</td>\n",
       "      <td>NaN</td>\n",
       "      <td>6+</td>\n",
       "      <td>NaN</td>\n",
       "      <td>NaN</td>\n",
       "      <td>NaN</td>\n",
       "      <td>NaN</td>\n",
       "      <td>6.6</td>\n",
       "      <td>драма,военный</td>\n",
       "      <td>NaN</td>\n",
       "      <td>2016</td>\n",
       "    </tr>\n",
       "    <tr>\n",
       "      <th>2</th>\n",
       "      <td>Особо опасен</td>\n",
       "      <td>221038416</td>\n",
       "      <td>2016-10-10 12:00:00+00:00</td>\n",
       "      <td>Художественный</td>\n",
       "      <td>Юниверсал Пикчерз, Кикстарт Продакшнз, Марк Пл...</td>\n",
       "      <td>США</td>\n",
       "      <td>Тимур Бекмамбетов</td>\n",
       "      <td>Джим Лемли, Джейсон Нетер, Марк Е.Платт, Яйн Смит</td>\n",
       "      <td>18+</td>\n",
       "      <td>NaN</td>\n",
       "      <td>NaN</td>\n",
       "      <td>NaN</td>\n",
       "      <td>NaN</td>\n",
       "      <td>6.8</td>\n",
       "      <td>фантастика,боевик,триллер</td>\n",
       "      <td>NaN</td>\n",
       "      <td>2016</td>\n",
       "    </tr>\n",
       "  </tbody>\n",
       "</table>\n",
       "</div>"
      ],
      "text/plain": [
       "                  title   puNumber           show_start_date            type  \\\n",
       "0      Открытый простор  221048915 2015-11-27 12:00:00+00:00  Художественный   \n",
       "1  Особо важное задание  111013716 2016-09-13 12:00:00+00:00  Художественный   \n",
       "2          Особо опасен  221038416 2016-10-10 12:00:00+00:00  Художественный   \n",
       "\n",
       "                                         film_studio production_country  \\\n",
       "0  Тачстоун Пикчерз, Кобальт Пикчерз, Бикон Пикче...                США   \n",
       "1                              Киностудия \"Мосфильм\"               СССР   \n",
       "2  Юниверсал Пикчерз, Кикстарт Продакшнз, Марк Пл...                США   \n",
       "\n",
       "            director                                           producer  \\\n",
       "0      Кевин Костнер          Дэвид Валдес, Кевин Костнер, Джейк Эбертс   \n",
       "1          Е.Матвеев                                                NaN   \n",
       "2  Тимур Бекмамбетов  Джим Лемли, Джейсон Нетер, Марк Е.Платт, Яйн Смит   \n",
       "\n",
       "  age_restriction  refundable_support  nonrefundable_support  budget  \\\n",
       "0             18+                 NaN                    NaN     NaN   \n",
       "1              6+                 NaN                    NaN     NaN   \n",
       "2             18+                 NaN                    NaN     NaN   \n",
       "\n",
       "  financing_source  ratings                     genres  box_office  \\\n",
       "0              NaN      7.2     боевик,драма,мелодрама         NaN   \n",
       "1              NaN      6.6              драма,военный         NaN   \n",
       "2              NaN      6.8  фантастика,боевик,триллер         NaN   \n",
       "\n",
       "   show_start_date_year  \n",
       "0                  2015  \n",
       "1                  2016  \n",
       "2                  2016  "
      ]
     },
     "execution_count": 50,
     "metadata": {},
     "output_type": "execute_result"
    }
   ],
   "source": [
    "df['show_start_date_year'] = pd.DatetimeIndex(df['show_start_date']).year\n",
    "df.head(3)"
   ]
  },
  {
   "cell_type": "markdown",
   "id": "0b924cf3",
   "metadata": {},
   "source": [
    "**Добовляем столбец доли государственного бюджета в общем бюджете**"
   ]
  },
  {
   "cell_type": "code",
   "execution_count": 51,
   "id": "cacd6f06",
   "metadata": {},
   "outputs": [
    {
     "name": "stderr",
     "output_type": "stream",
     "text": [
      "/tmp/ipykernel_124/3372911273.py:1: SettingWithCopyWarning: \n",
      "A value is trying to be set on a copy of a slice from a DataFrame.\n",
      "Try using .loc[row_indexer,col_indexer] = value instead\n",
      "\n",
      "See the caveats in the documentation: https://pandas.pydata.org/pandas-docs/stable/user_guide/indexing.html#returning-a-view-versus-a-copy\n",
      "  df['part_goverment_help'] =  (df['refundable_support'] + df['nonrefundable_support'])/df['budget']\n"
     ]
    },
    {
     "data": {
      "text/html": [
       "<div>\n",
       "<style scoped>\n",
       "    .dataframe tbody tr th:only-of-type {\n",
       "        vertical-align: middle;\n",
       "    }\n",
       "\n",
       "    .dataframe tbody tr th {\n",
       "        vertical-align: top;\n",
       "    }\n",
       "\n",
       "    .dataframe thead th {\n",
       "        text-align: right;\n",
       "    }\n",
       "</style>\n",
       "<table border=\"1\" class=\"dataframe\">\n",
       "  <thead>\n",
       "    <tr style=\"text-align: right;\">\n",
       "      <th></th>\n",
       "      <th>title</th>\n",
       "      <th>puNumber</th>\n",
       "      <th>show_start_date</th>\n",
       "      <th>type</th>\n",
       "      <th>film_studio</th>\n",
       "      <th>production_country</th>\n",
       "      <th>director</th>\n",
       "      <th>producer</th>\n",
       "      <th>age_restriction</th>\n",
       "      <th>refundable_support</th>\n",
       "      <th>nonrefundable_support</th>\n",
       "      <th>budget</th>\n",
       "      <th>financing_source</th>\n",
       "      <th>ratings</th>\n",
       "      <th>genres</th>\n",
       "      <th>box_office</th>\n",
       "      <th>show_start_date_year</th>\n",
       "      <th>part_goverment_help</th>\n",
       "    </tr>\n",
       "  </thead>\n",
       "  <tbody>\n",
       "    <tr>\n",
       "      <th>1281</th>\n",
       "      <td>Пока еще жива</td>\n",
       "      <td>111005313</td>\n",
       "      <td>2013-10-11 12:00:00+00:00</td>\n",
       "      <td>Художественный</td>\n",
       "      <td>АНО содействия развитию кинематографии \"Ангел-...</td>\n",
       "      <td>Россия</td>\n",
       "      <td>А.Атанесян</td>\n",
       "      <td>А.Атанесян, М.Бабаханов, Р.Бутко</td>\n",
       "      <td>16+</td>\n",
       "      <td>0.0</td>\n",
       "      <td>26500000.0</td>\n",
       "      <td>79411900.0</td>\n",
       "      <td>Министерство культуры</td>\n",
       "      <td>8.1</td>\n",
       "      <td>драма,мелодрама</td>\n",
       "      <td>365353.6</td>\n",
       "      <td>2013</td>\n",
       "      <td>0.333703</td>\n",
       "    </tr>\n",
       "    <tr>\n",
       "      <th>1448</th>\n",
       "      <td>Бесславные придурки</td>\n",
       "      <td>111003314</td>\n",
       "      <td>2014-03-28 12:00:00+00:00</td>\n",
       "      <td>Художественный</td>\n",
       "      <td>ООО \"Компания \"АТК-Студио\"</td>\n",
       "      <td>Россия</td>\n",
       "      <td>А.Якимчук</td>\n",
       "      <td>А.Тютрюмов</td>\n",
       "      <td>12+</td>\n",
       "      <td>0.0</td>\n",
       "      <td>26000000.0</td>\n",
       "      <td>37142857.0</td>\n",
       "      <td>Министерство культуры</td>\n",
       "      <td>NaN</td>\n",
       "      <td>NaN</td>\n",
       "      <td>28140.0</td>\n",
       "      <td>2014</td>\n",
       "      <td>0.700000</td>\n",
       "    </tr>\n",
       "    <tr>\n",
       "      <th>1498</th>\n",
       "      <td>Невидимки</td>\n",
       "      <td>111004213</td>\n",
       "      <td>2013-09-10 12:00:00+00:00</td>\n",
       "      <td>Художественный</td>\n",
       "      <td>ООО \"Компания \"РЕАЛ-ДАКОТА\"</td>\n",
       "      <td>Россия</td>\n",
       "      <td>Р.Давлетьяров, С.Комаров</td>\n",
       "      <td>Р.Давлетьяров, А.Котелевский, А.Олейников</td>\n",
       "      <td>12+</td>\n",
       "      <td>0.0</td>\n",
       "      <td>107847945.0</td>\n",
       "      <td>176023490.0</td>\n",
       "      <td>Фонд кино</td>\n",
       "      <td>5.3</td>\n",
       "      <td>комедия,фантастика</td>\n",
       "      <td>19957031.5</td>\n",
       "      <td>2013</td>\n",
       "      <td>0.612691</td>\n",
       "    </tr>\n",
       "    <tr>\n",
       "      <th>1524</th>\n",
       "      <td>БЕРЦЫ</td>\n",
       "      <td>111004314</td>\n",
       "      <td>2014-05-05 12:00:00+00:00</td>\n",
       "      <td>Художественный</td>\n",
       "      <td>ООО \"Студия \"Пассажир\"</td>\n",
       "      <td>Россия</td>\n",
       "      <td>Е.Миндадзе (псевдоним Катя Шагалова)</td>\n",
       "      <td>Л.Антонова</td>\n",
       "      <td>16+</td>\n",
       "      <td>0.0</td>\n",
       "      <td>28000000.0</td>\n",
       "      <td>40574140.0</td>\n",
       "      <td>Министерство культуры</td>\n",
       "      <td>4.2</td>\n",
       "      <td>драма</td>\n",
       "      <td>55917.5</td>\n",
       "      <td>2014</td>\n",
       "      <td>0.690095</td>\n",
       "    </tr>\n",
       "    <tr>\n",
       "      <th>1792</th>\n",
       "      <td>Братья Ч</td>\n",
       "      <td>111004414</td>\n",
       "      <td>2014-04-23 12:00:00+00:00</td>\n",
       "      <td>Художественный</td>\n",
       "      <td>ООО \"Студия \"Пассажир\"</td>\n",
       "      <td>Россия</td>\n",
       "      <td>М.Угаров</td>\n",
       "      <td>А.Миндадзе, Л.Антонова</td>\n",
       "      <td>16+</td>\n",
       "      <td>0.0</td>\n",
       "      <td>25000000.0</td>\n",
       "      <td>40015122.0</td>\n",
       "      <td>Министерство культуры</td>\n",
       "      <td>6.4</td>\n",
       "      <td>драма</td>\n",
       "      <td>232100.0</td>\n",
       "      <td>2014</td>\n",
       "      <td>0.624764</td>\n",
       "    </tr>\n",
       "  </tbody>\n",
       "</table>\n",
       "</div>"
      ],
      "text/plain": [
       "                    title   puNumber           show_start_date  \\\n",
       "1281        Пока еще жива  111005313 2013-10-11 12:00:00+00:00   \n",
       "1448  Бесславные придурки  111003314 2014-03-28 12:00:00+00:00   \n",
       "1498            Невидимки  111004213 2013-09-10 12:00:00+00:00   \n",
       "1524                БЕРЦЫ  111004314 2014-05-05 12:00:00+00:00   \n",
       "1792             Братья Ч  111004414 2014-04-23 12:00:00+00:00   \n",
       "\n",
       "                type                                        film_studio  \\\n",
       "1281  Художественный  АНО содействия развитию кинематографии \"Ангел-...   \n",
       "1448  Художественный                         ООО \"Компания \"АТК-Студио\"   \n",
       "1498  Художественный                        ООО \"Компания \"РЕАЛ-ДАКОТА\"   \n",
       "1524  Художественный                             ООО \"Студия \"Пассажир\"   \n",
       "1792  Художественный                             ООО \"Студия \"Пассажир\"   \n",
       "\n",
       "     production_country                              director  \\\n",
       "1281             Россия                            А.Атанесян   \n",
       "1448             Россия                             А.Якимчук   \n",
       "1498             Россия              Р.Давлетьяров, С.Комаров   \n",
       "1524             Россия  Е.Миндадзе (псевдоним Катя Шагалова)   \n",
       "1792             Россия                              М.Угаров   \n",
       "\n",
       "                                       producer age_restriction  \\\n",
       "1281           А.Атанесян, М.Бабаханов, Р.Бутко             16+   \n",
       "1448                                 А.Тютрюмов             12+   \n",
       "1498  Р.Давлетьяров, А.Котелевский, А.Олейников             12+   \n",
       "1524                                 Л.Антонова             16+   \n",
       "1792                     А.Миндадзе, Л.Антонова             16+   \n",
       "\n",
       "      refundable_support  nonrefundable_support       budget  \\\n",
       "1281                 0.0             26500000.0   79411900.0   \n",
       "1448                 0.0             26000000.0   37142857.0   \n",
       "1498                 0.0            107847945.0  176023490.0   \n",
       "1524                 0.0             28000000.0   40574140.0   \n",
       "1792                 0.0             25000000.0   40015122.0   \n",
       "\n",
       "           financing_source  ratings              genres  box_office  \\\n",
       "1281  Министерство культуры      8.1     драма,мелодрама    365353.6   \n",
       "1448  Министерство культуры      NaN                 NaN     28140.0   \n",
       "1498              Фонд кино      5.3  комедия,фантастика  19957031.5   \n",
       "1524  Министерство культуры      4.2               драма     55917.5   \n",
       "1792  Министерство культуры      6.4               драма    232100.0   \n",
       "\n",
       "      show_start_date_year  part_goverment_help  \n",
       "1281                  2013             0.333703  \n",
       "1448                  2014             0.700000  \n",
       "1498                  2013             0.612691  \n",
       "1524                  2014             0.690095  \n",
       "1792                  2014             0.624764  "
      ]
     },
     "execution_count": 51,
     "metadata": {},
     "output_type": "execute_result"
    }
   ],
   "source": [
    "df['part_goverment_help'] =  (df['refundable_support'] + df['nonrefundable_support'])/df['budget']                                    \n",
    "df.query('not(part_goverment_help.isna())').head()                                     "
   ]
  },
  {
   "cell_type": "markdown",
   "id": "534b8752",
   "metadata": {},
   "source": [
    "**Добавляем столбец с именем главного режесера и жанра (первое значение из списка). Для этого пишем функцию, позволяющую выбрать первое значение из списка соответсвующего столбца (три аргумента, название датафрема, старого и нового столбца), затем применяем ее к столбцам director и genres. Проверяем**"
   ]
  },
  {
   "cell_type": "code",
   "execution_count": 52,
   "id": "54dd7d1a",
   "metadata": {},
   "outputs": [
    {
     "name": "stderr",
     "output_type": "stream",
     "text": [
      "/tmp/ipykernel_124/487892925.py:3: SettingWithCopyWarning: \n",
      "A value is trying to be set on a copy of a slice from a DataFrame.\n",
      "Try using .loc[row_indexer,col_indexer] = value instead\n",
      "\n",
      "See the caveats in the documentation: https://pandas.pydata.org/pandas-docs/stable/user_guide/indexing.html#returning-a-view-versus-a-copy\n",
      "  row[column_new] = row_new[0]\n"
     ]
    },
    {
     "data": {
      "text/html": [
       "<div>\n",
       "<style scoped>\n",
       "    .dataframe tbody tr th:only-of-type {\n",
       "        vertical-align: middle;\n",
       "    }\n",
       "\n",
       "    .dataframe tbody tr th {\n",
       "        vertical-align: top;\n",
       "    }\n",
       "\n",
       "    .dataframe thead th {\n",
       "        text-align: right;\n",
       "    }\n",
       "</style>\n",
       "<table border=\"1\" class=\"dataframe\">\n",
       "  <thead>\n",
       "    <tr style=\"text-align: right;\">\n",
       "      <th></th>\n",
       "      <th>title</th>\n",
       "      <th>puNumber</th>\n",
       "      <th>show_start_date</th>\n",
       "      <th>type</th>\n",
       "      <th>film_studio</th>\n",
       "      <th>production_country</th>\n",
       "      <th>director</th>\n",
       "      <th>producer</th>\n",
       "      <th>age_restriction</th>\n",
       "      <th>refundable_support</th>\n",
       "      <th>nonrefundable_support</th>\n",
       "      <th>budget</th>\n",
       "      <th>financing_source</th>\n",
       "      <th>ratings</th>\n",
       "      <th>genres</th>\n",
       "      <th>box_office</th>\n",
       "      <th>show_start_date_year</th>\n",
       "      <th>part_goverment_help</th>\n",
       "      <th>genres_new</th>\n",
       "      <th>director_new</th>\n",
       "    </tr>\n",
       "  </thead>\n",
       "  <tbody>\n",
       "    <tr>\n",
       "      <th>1498</th>\n",
       "      <td>Невидимки</td>\n",
       "      <td>111004213</td>\n",
       "      <td>2013-09-10 12:00:00+00:00</td>\n",
       "      <td>Художественный</td>\n",
       "      <td>ООО \"Компания \"РЕАЛ-ДАКОТА\"</td>\n",
       "      <td>Россия</td>\n",
       "      <td>Р.Давлетьяров, С.Комаров</td>\n",
       "      <td>Р.Давлетьяров, А.Котелевский, А.Олейников</td>\n",
       "      <td>12+</td>\n",
       "      <td>0.0</td>\n",
       "      <td>107847945.0</td>\n",
       "      <td>176023490.0</td>\n",
       "      <td>Фонд кино</td>\n",
       "      <td>5.3</td>\n",
       "      <td>комедия,фантастика</td>\n",
       "      <td>19957031.5</td>\n",
       "      <td>2013</td>\n",
       "      <td>0.612691</td>\n",
       "      <td>комедия</td>\n",
       "      <td>Р.Давлетьяров</td>\n",
       "    </tr>\n",
       "  </tbody>\n",
       "</table>\n",
       "</div>"
      ],
      "text/plain": [
       "          title   puNumber           show_start_date            type  \\\n",
       "1498  Невидимки  111004213 2013-09-10 12:00:00+00:00  Художественный   \n",
       "\n",
       "                      film_studio production_country  \\\n",
       "1498  ООО \"Компания \"РЕАЛ-ДАКОТА\"             Россия   \n",
       "\n",
       "                      director                                   producer  \\\n",
       "1498  Р.Давлетьяров, С.Комаров  Р.Давлетьяров, А.Котелевский, А.Олейников   \n",
       "\n",
       "     age_restriction  refundable_support  nonrefundable_support       budget  \\\n",
       "1498             12+                 0.0            107847945.0  176023490.0   \n",
       "\n",
       "     financing_source  ratings              genres  box_office  \\\n",
       "1498        Фонд кино      5.3  комедия,фантастика  19957031.5   \n",
       "\n",
       "      show_start_date_year  part_goverment_help genres_new   director_new  \n",
       "1498                  2013             0.612691    комедия  Р.Давлетьяров  "
      ]
     },
     "metadata": {},
     "output_type": "display_data"
    },
    {
     "data": {
      "text/html": [
       "<div>\n",
       "<style scoped>\n",
       "    .dataframe tbody tr th:only-of-type {\n",
       "        vertical-align: middle;\n",
       "    }\n",
       "\n",
       "    .dataframe tbody tr th {\n",
       "        vertical-align: top;\n",
       "    }\n",
       "\n",
       "    .dataframe thead th {\n",
       "        text-align: right;\n",
       "    }\n",
       "</style>\n",
       "<table border=\"1\" class=\"dataframe\">\n",
       "  <thead>\n",
       "    <tr style=\"text-align: right;\">\n",
       "      <th></th>\n",
       "      <th>title</th>\n",
       "      <th>puNumber</th>\n",
       "      <th>show_start_date</th>\n",
       "      <th>type</th>\n",
       "      <th>film_studio</th>\n",
       "      <th>production_country</th>\n",
       "      <th>director</th>\n",
       "      <th>producer</th>\n",
       "      <th>age_restriction</th>\n",
       "      <th>refundable_support</th>\n",
       "      <th>nonrefundable_support</th>\n",
       "      <th>budget</th>\n",
       "      <th>financing_source</th>\n",
       "      <th>ratings</th>\n",
       "      <th>genres</th>\n",
       "      <th>box_office</th>\n",
       "      <th>show_start_date_year</th>\n",
       "      <th>part_goverment_help</th>\n",
       "      <th>genres_new</th>\n",
       "      <th>director_new</th>\n",
       "    </tr>\n",
       "  </thead>\n",
       "  <tbody>\n",
       "    <tr>\n",
       "      <th>0</th>\n",
       "      <td>Открытый простор</td>\n",
       "      <td>221048915</td>\n",
       "      <td>2015-11-27 12:00:00+00:00</td>\n",
       "      <td>Художественный</td>\n",
       "      <td>Тачстоун Пикчерз, Кобальт Пикчерз, Бикон Пикче...</td>\n",
       "      <td>США</td>\n",
       "      <td>Кевин Костнер</td>\n",
       "      <td>Дэвид Валдес, Кевин Костнер, Джейк Эбертс</td>\n",
       "      <td>18+</td>\n",
       "      <td>NaN</td>\n",
       "      <td>NaN</td>\n",
       "      <td>NaN</td>\n",
       "      <td>NaN</td>\n",
       "      <td>7.2</td>\n",
       "      <td>боевик,драма,мелодрама</td>\n",
       "      <td>NaN</td>\n",
       "      <td>2015</td>\n",
       "      <td>NaN</td>\n",
       "      <td>боевик</td>\n",
       "      <td>Кевин Костнер</td>\n",
       "    </tr>\n",
       "    <tr>\n",
       "      <th>1</th>\n",
       "      <td>Особо важное задание</td>\n",
       "      <td>111013716</td>\n",
       "      <td>2016-09-13 12:00:00+00:00</td>\n",
       "      <td>Художественный</td>\n",
       "      <td>Киностудия \"Мосфильм\"</td>\n",
       "      <td>СССР</td>\n",
       "      <td>Е.Матвеев</td>\n",
       "      <td>NaN</td>\n",
       "      <td>6+</td>\n",
       "      <td>NaN</td>\n",
       "      <td>NaN</td>\n",
       "      <td>NaN</td>\n",
       "      <td>NaN</td>\n",
       "      <td>6.6</td>\n",
       "      <td>драма,военный</td>\n",
       "      <td>NaN</td>\n",
       "      <td>2016</td>\n",
       "      <td>NaN</td>\n",
       "      <td>драма</td>\n",
       "      <td>Е.Матвеев</td>\n",
       "    </tr>\n",
       "    <tr>\n",
       "      <th>2</th>\n",
       "      <td>Особо опасен</td>\n",
       "      <td>221038416</td>\n",
       "      <td>2016-10-10 12:00:00+00:00</td>\n",
       "      <td>Художественный</td>\n",
       "      <td>Юниверсал Пикчерз, Кикстарт Продакшнз, Марк Пл...</td>\n",
       "      <td>США</td>\n",
       "      <td>Тимур Бекмамбетов</td>\n",
       "      <td>Джим Лемли, Джейсон Нетер, Марк Е.Платт, Яйн Смит</td>\n",
       "      <td>18+</td>\n",
       "      <td>NaN</td>\n",
       "      <td>NaN</td>\n",
       "      <td>NaN</td>\n",
       "      <td>NaN</td>\n",
       "      <td>6.8</td>\n",
       "      <td>фантастика,боевик,триллер</td>\n",
       "      <td>NaN</td>\n",
       "      <td>2016</td>\n",
       "      <td>NaN</td>\n",
       "      <td>фантастика</td>\n",
       "      <td>Тимур Бекмамбетов</td>\n",
       "    </tr>\n",
       "    <tr>\n",
       "      <th>3</th>\n",
       "      <td>Особо опасен</td>\n",
       "      <td>221026916</td>\n",
       "      <td>2016-06-10 12:00:00+00:00</td>\n",
       "      <td>Художественный</td>\n",
       "      <td>Юниверсал Пикчерз, Кикстарт Продакшнз, Марк Пл...</td>\n",
       "      <td>США</td>\n",
       "      <td>Тимур Бекмамбетов</td>\n",
       "      <td>Джим Лемли, Джейсон Нетер, Марк Е.Платт, Яйн Смит</td>\n",
       "      <td>18+</td>\n",
       "      <td>NaN</td>\n",
       "      <td>NaN</td>\n",
       "      <td>NaN</td>\n",
       "      <td>NaN</td>\n",
       "      <td>6.8</td>\n",
       "      <td>фантастика,боевик,триллер</td>\n",
       "      <td>NaN</td>\n",
       "      <td>2016</td>\n",
       "      <td>NaN</td>\n",
       "      <td>фантастика</td>\n",
       "      <td>Тимур Бекмамбетов</td>\n",
       "    </tr>\n",
       "    <tr>\n",
       "      <th>4</th>\n",
       "      <td>Особо опасен</td>\n",
       "      <td>221030815</td>\n",
       "      <td>2015-07-29 12:00:00+00:00</td>\n",
       "      <td>Художественный</td>\n",
       "      <td>Юниверсал Пикчерз, Кикстарт Продакшнз, Марк Пл...</td>\n",
       "      <td>США</td>\n",
       "      <td>Тимур Бекмамбетов</td>\n",
       "      <td>Джим Лемли, Джейсон Нетер, Марк Е.Платт, Яйн Смит</td>\n",
       "      <td>18+</td>\n",
       "      <td>NaN</td>\n",
       "      <td>NaN</td>\n",
       "      <td>NaN</td>\n",
       "      <td>NaN</td>\n",
       "      <td>6.8</td>\n",
       "      <td>фантастика,боевик,триллер</td>\n",
       "      <td>NaN</td>\n",
       "      <td>2015</td>\n",
       "      <td>NaN</td>\n",
       "      <td>фантастика</td>\n",
       "      <td>Тимур Бекмамбетов</td>\n",
       "    </tr>\n",
       "  </tbody>\n",
       "</table>\n",
       "</div>"
      ],
      "text/plain": [
       "                  title   puNumber           show_start_date            type  \\\n",
       "0      Открытый простор  221048915 2015-11-27 12:00:00+00:00  Художественный   \n",
       "1  Особо важное задание  111013716 2016-09-13 12:00:00+00:00  Художественный   \n",
       "2          Особо опасен  221038416 2016-10-10 12:00:00+00:00  Художественный   \n",
       "3          Особо опасен  221026916 2016-06-10 12:00:00+00:00  Художественный   \n",
       "4          Особо опасен  221030815 2015-07-29 12:00:00+00:00  Художественный   \n",
       "\n",
       "                                         film_studio production_country  \\\n",
       "0  Тачстоун Пикчерз, Кобальт Пикчерз, Бикон Пикче...                США   \n",
       "1                              Киностудия \"Мосфильм\"               СССР   \n",
       "2  Юниверсал Пикчерз, Кикстарт Продакшнз, Марк Пл...                США   \n",
       "3  Юниверсал Пикчерз, Кикстарт Продакшнз, Марк Пл...                США   \n",
       "4  Юниверсал Пикчерз, Кикстарт Продакшнз, Марк Пл...                США   \n",
       "\n",
       "            director                                           producer  \\\n",
       "0      Кевин Костнер          Дэвид Валдес, Кевин Костнер, Джейк Эбертс   \n",
       "1          Е.Матвеев                                                NaN   \n",
       "2  Тимур Бекмамбетов  Джим Лемли, Джейсон Нетер, Марк Е.Платт, Яйн Смит   \n",
       "3  Тимур Бекмамбетов  Джим Лемли, Джейсон Нетер, Марк Е.Платт, Яйн Смит   \n",
       "4  Тимур Бекмамбетов  Джим Лемли, Джейсон Нетер, Марк Е.Платт, Яйн Смит   \n",
       "\n",
       "  age_restriction  refundable_support  nonrefundable_support  budget  \\\n",
       "0             18+                 NaN                    NaN     NaN   \n",
       "1              6+                 NaN                    NaN     NaN   \n",
       "2             18+                 NaN                    NaN     NaN   \n",
       "3             18+                 NaN                    NaN     NaN   \n",
       "4             18+                 NaN                    NaN     NaN   \n",
       "\n",
       "  financing_source  ratings                     genres  box_office  \\\n",
       "0              NaN      7.2     боевик,драма,мелодрама         NaN   \n",
       "1              NaN      6.6              драма,военный         NaN   \n",
       "2              NaN      6.8  фантастика,боевик,триллер         NaN   \n",
       "3              NaN      6.8  фантастика,боевик,триллер         NaN   \n",
       "4              NaN      6.8  фантастика,боевик,триллер         NaN   \n",
       "\n",
       "   show_start_date_year  part_goverment_help  genres_new       director_new  \n",
       "0                  2015                  NaN      боевик      Кевин Костнер  \n",
       "1                  2016                  NaN       драма          Е.Матвеев  \n",
       "2                  2016                  NaN  фантастика  Тимур Бекмамбетов  \n",
       "3                  2016                  NaN  фантастика  Тимур Бекмамбетов  \n",
       "4                  2015                  NaN  фантастика  Тимур Бекмамбетов  "
      ]
     },
     "execution_count": 52,
     "metadata": {},
     "output_type": "execute_result"
    }
   ],
   "source": [
    "def make_first_name (row, column, column_new):\n",
    "    row_new = row[column].str.split(',', expand = True)\n",
    "    row[column_new] = row_new[0]\n",
    "    return row\n",
    "\n",
    "make_first_name (row=df, column='genres', column_new='genres_new')\n",
    "make_first_name (row=df, column='director', column_new='director_new')\n",
    "\n",
    "display(df.query('puNumber == 111004213'))\n",
    "df.head()\n"
   ]
  },
  {
   "cell_type": "markdown",
   "id": "30bd4e36",
   "metadata": {},
   "source": [
    "В процессе проедобратоки данных было сделано следующее:\n",
    "- добавлен столбец с информацией о годе проката;\n",
    "- добавила столбцы с именем и фамилией главного режесера и основного жанра фильма;\n",
    "- посчитала и добавила столбец доли государственной поддержки в общем бюджете.\n",
    "Изменили тип данных в столбцах show_start_date на datetime и rating  на float.\n",
    "Исправила ряд значений в столбце rating.\n",
    "Заменила пропуски в столбце film_studio на неизвестная студия\n",
    "Заменила пропуски в столбце production_country на Россию.\n",
    "Удалила часть неявных дубликатов в столбцах type и production_country.\n",
    "Заменила значения в столбце age_restriction на более удобные для дальнейшего исследолвания."
   ]
  },
  {
   "cell_type": "markdown",
   "id": "24ec1a67",
   "metadata": {},
   "source": [
    "**3. Проводим исследовательский анализ данных**"
   ]
  },
  {
   "cell_type": "markdown",
   "id": "995511ca",
   "metadata": {},
   "source": [
    "**Считаем, сколько фильмов выходиоло каждый год и расчитываем долю фильмов с информацией по суммам сборов. Сначала считаем долю фильмов с информацией о прокате (делим количество данных в столбце box_office на общее количество фильмов в датафрейме. Затем с помощью сводной таблице группируем данные по годам, считаем общее количенство фильмов вышедших в соответсвующий год (можно взять любой заполненный полностью столбец) и количество фильмов с информацией по сумме сборов, меняем название столбцов в получившейся таблице  и считаем конверсию - отношение количества фильмов с информацией о прокате в соответсвующем году к общему количеству фильмов в соответсвующем году** "
   ]
  },
  {
   "cell_type": "code",
   "execution_count": 53,
   "id": "e6596ca9",
   "metadata": {},
   "outputs": [
    {
     "name": "stdout",
     "output_type": "stream",
     "text": [
      "Доля фильмов с информацией о прокате: 0.42\n"
     ]
    }
   ],
   "source": [
    "convers = df['box_office'].count()/len(df)\n",
    "\n",
    "print(f'Доля фильмов с информацией о прокате: {convers:.2f}')"
   ]
  },
  {
   "cell_type": "code",
   "execution_count": 54,
   "id": "5e022a22",
   "metadata": {},
   "outputs": [
    {
     "data": {
      "text/html": [
       "<div>\n",
       "<style scoped>\n",
       "    .dataframe tbody tr th:only-of-type {\n",
       "        vertical-align: middle;\n",
       "    }\n",
       "\n",
       "    .dataframe tbody tr th {\n",
       "        vertical-align: top;\n",
       "    }\n",
       "\n",
       "    .dataframe thead th {\n",
       "        text-align: right;\n",
       "    }\n",
       "</style>\n",
       "<table border=\"1\" class=\"dataframe\">\n",
       "  <thead>\n",
       "    <tr style=\"text-align: right;\">\n",
       "      <th></th>\n",
       "      <th>count_box_office</th>\n",
       "      <th>count</th>\n",
       "      <th>conversion</th>\n",
       "    </tr>\n",
       "    <tr>\n",
       "      <th>show_start_date_year</th>\n",
       "      <th></th>\n",
       "      <th></th>\n",
       "      <th></th>\n",
       "    </tr>\n",
       "  </thead>\n",
       "  <tbody>\n",
       "    <tr>\n",
       "      <th>2010</th>\n",
       "      <td>101</td>\n",
       "      <td>981</td>\n",
       "      <td>0.102956</td>\n",
       "    </tr>\n",
       "    <tr>\n",
       "      <th>2011</th>\n",
       "      <td>109</td>\n",
       "      <td>622</td>\n",
       "      <td>0.175241</td>\n",
       "    </tr>\n",
       "    <tr>\n",
       "      <th>2012</th>\n",
       "      <td>123</td>\n",
       "      <td>588</td>\n",
       "      <td>0.209184</td>\n",
       "    </tr>\n",
       "    <tr>\n",
       "      <th>2013</th>\n",
       "      <td>179</td>\n",
       "      <td>625</td>\n",
       "      <td>0.286400</td>\n",
       "    </tr>\n",
       "    <tr>\n",
       "      <th>2014</th>\n",
       "      <td>273</td>\n",
       "      <td>801</td>\n",
       "      <td>0.340824</td>\n",
       "    </tr>\n",
       "    <tr>\n",
       "      <th>2015</th>\n",
       "      <td>462</td>\n",
       "      <td>702</td>\n",
       "      <td>0.658120</td>\n",
       "    </tr>\n",
       "    <tr>\n",
       "      <th>2016</th>\n",
       "      <td>525</td>\n",
       "      <td>817</td>\n",
       "      <td>0.642595</td>\n",
       "    </tr>\n",
       "    <tr>\n",
       "      <th>2017</th>\n",
       "      <td>357</td>\n",
       "      <td>505</td>\n",
       "      <td>0.706931</td>\n",
       "    </tr>\n",
       "    <tr>\n",
       "      <th>2018</th>\n",
       "      <td>475</td>\n",
       "      <td>891</td>\n",
       "      <td>0.533109</td>\n",
       "    </tr>\n",
       "    <tr>\n",
       "      <th>2019</th>\n",
       "      <td>530</td>\n",
       "      <td>930</td>\n",
       "      <td>0.569892</td>\n",
       "    </tr>\n",
       "  </tbody>\n",
       "</table>\n",
       "</div>"
      ],
      "text/plain": [
       "                      count_box_office  count  conversion\n",
       "show_start_date_year                                     \n",
       "2010                               101    981    0.102956\n",
       "2011                               109    622    0.175241\n",
       "2012                               123    588    0.209184\n",
       "2013                               179    625    0.286400\n",
       "2014                               273    801    0.340824\n",
       "2015                               462    702    0.658120\n",
       "2016                               525    817    0.642595\n",
       "2017                               357    505    0.706931\n",
       "2018                               475    891    0.533109\n",
       "2019                               530    930    0.569892"
      ]
     },
     "execution_count": 54,
     "metadata": {},
     "output_type": "execute_result"
    }
   ],
   "source": [
    "df_group_year = df.pivot_table(index='show_start_date_year', values=['type', 'box_office'], aggfunc=('count'))\n",
    "df_group_year.columns = ['count_box_office', 'count']\n",
    "df_group_year['conversion'] = df_group_year['count_box_office']/df_group_year['count']\n",
    "df_group_year"
   ]
  },
  {
   "cell_type": "markdown",
   "id": "993b37e2",
   "metadata": {},
   "source": [
    "Строим графики, как менялось количество фильмов в зависимости от года и на этот график наклыдваем график конверсии"
   ]
  },
  {
   "cell_type": "code",
   "execution_count": 55,
   "id": "a2a8d645",
   "metadata": {},
   "outputs": [
    {
     "data": {
      "text/plain": [
       "<AxesSubplot:title={'center':'общее число фильмов и число фильмов с информацией о прокате'}, xlabel='show_start_date_year'>"
      ]
     },
     "execution_count": 55,
     "metadata": {},
     "output_type": "execute_result"
    },
    {
     "data": {
      "image/png": "[encoded data removed]",
      "text/plain": [
       "<Figure size 432x216 with 1 Axes>"
      ]
     },
     "metadata": {
      "needs_background": "light"
     },
     "output_type": "display_data"
    }
   ],
   "source": [
    "df_group_year.plot(kind='bar', y=['count_box_office', 'count'], title = 'общее число фильмов и число фильмов с информацией о прокате', \n",
    "                   figsize = (6,3), grid=True)\n"
   ]
  },
  {
   "cell_type": "code",
   "execution_count": 56,
   "id": "2fe99d32",
   "metadata": {},
   "outputs": [
    {
     "data": {
      "text/plain": [
       "<AxesSubplot:title={'center':'доля фильмов с информацией о прокате'}, xlabel='show_start_date_year'>"
      ]
     },
     "execution_count": 56,
     "metadata": {},
     "output_type": "execute_result"
    },
    {
     "data": {
      "image/png": "[encoded data removed]",
      "text/plain": [
       "<Figure size 432x216 with 1 Axes>"
      ]
     },
     "metadata": {
      "needs_background": "light"
     },
     "output_type": "display_data"
    }
   ],
   "source": [
    "df_group_year.plot(y='conversion', style='o-', title = 'доля фильмов с информацией о прокате', figsize= (6,3), grid=True)"
   ]
  },
  {
   "cell_type": "markdown",
   "id": "fb363b9a",
   "metadata": {},
   "source": [
    "**Вывод** - Количество фильмов, выходящих в прокат, менялось каждый год, какой-то определенной тенденции нет. Самое большое количество фильмов вышло в 2010 и 2019 годах. Если рассматривать количество фильмов с информацией о прокате - то в целом наблюдается тенденция роста числа таких фильмов. Доля фильмов с информацией о прокате была максимальной в 2017 году. В период с 2015 по 2019 год наиболее полная информация о прокате фильмов относительно предыдущих периодов. "
   ]
  },
  {
   "cell_type": "markdown",
   "id": "0759f12a",
   "metadata": {},
   "source": [
    "**Изучаем, как менялась динамика проката по годам. Определяем в каком году сумма сборов была минимальной и максимальной. С помощью сводной таблицы группируем датафрем по годам и считаем сумму сборов по каждому году, а затем выводим индекс элемента с максимальным и минимальным значением.** "
   ]
  },
  {
   "cell_type": "code",
   "execution_count": 57,
   "id": "6047796e",
   "metadata": {},
   "outputs": [
    {
     "data": {
      "text/html": [
       "<div>\n",
       "<style scoped>\n",
       "    .dataframe tbody tr th:only-of-type {\n",
       "        vertical-align: middle;\n",
       "    }\n",
       "\n",
       "    .dataframe tbody tr th {\n",
       "        vertical-align: top;\n",
       "    }\n",
       "\n",
       "    .dataframe thead th {\n",
       "        text-align: right;\n",
       "    }\n",
       "</style>\n",
       "<table border=\"1\" class=\"dataframe\">\n",
       "  <thead>\n",
       "    <tr style=\"text-align: right;\">\n",
       "      <th></th>\n",
       "      <th>box_office</th>\n",
       "    </tr>\n",
       "    <tr>\n",
       "      <th>show_start_date_year</th>\n",
       "      <th></th>\n",
       "    </tr>\n",
       "  </thead>\n",
       "  <tbody>\n",
       "    <tr>\n",
       "      <th>2010</th>\n",
       "      <td>2.428654e+06</td>\n",
       "    </tr>\n",
       "    <tr>\n",
       "      <th>2011</th>\n",
       "      <td>1.410276e+07</td>\n",
       "    </tr>\n",
       "    <tr>\n",
       "      <th>2012</th>\n",
       "      <td>6.955423e+06</td>\n",
       "    </tr>\n",
       "    <tr>\n",
       "      <th>2013</th>\n",
       "      <td>2.979971e+07</td>\n",
       "    </tr>\n",
       "    <tr>\n",
       "      <th>2014</th>\n",
       "      <td>7.444952e+09</td>\n",
       "    </tr>\n",
       "    <tr>\n",
       "      <th>2015</th>\n",
       "      <td>3.949737e+10</td>\n",
       "    </tr>\n",
       "    <tr>\n",
       "      <th>2016</th>\n",
       "      <td>4.786630e+10</td>\n",
       "    </tr>\n",
       "    <tr>\n",
       "      <th>2017</th>\n",
       "      <td>4.856371e+10</td>\n",
       "    </tr>\n",
       "    <tr>\n",
       "      <th>2018</th>\n",
       "      <td>4.966840e+10</td>\n",
       "    </tr>\n",
       "    <tr>\n",
       "      <th>2019</th>\n",
       "      <td>4.842571e+10</td>\n",
       "    </tr>\n",
       "  </tbody>\n",
       "</table>\n",
       "</div>"
      ],
      "text/plain": [
       "                        box_office\n",
       "show_start_date_year              \n",
       "2010                  2.428654e+06\n",
       "2011                  1.410276e+07\n",
       "2012                  6.955423e+06\n",
       "2013                  2.979971e+07\n",
       "2014                  7.444952e+09\n",
       "2015                  3.949737e+10\n",
       "2016                  4.786630e+10\n",
       "2017                  4.856371e+10\n",
       "2018                  4.966840e+10\n",
       "2019                  4.842571e+10"
      ]
     },
     "metadata": {},
     "output_type": "display_data"
    },
    {
     "name": "stdout",
     "output_type": "stream",
     "text": [
      "Год, в котором были максимальные сборы: 2018\n",
      "Год, в котором были минимальные сборы: 2010\n"
     ]
    }
   ],
   "source": [
    "display(df.pivot_table(index='show_start_date_year', values='box_office', aggfunc='sum'))\n",
    "print('Год, в котором были максимальные сборы:', df.pivot_table(index='show_start_date_year', values='box_office', \n",
    "                                                                aggfunc='sum')['box_office'].idxmax())\n",
    "print('Год, в котором были минимальные сборы:', df.pivot_table(index='show_start_date_year', values='box_office', \n",
    "                                                               aggfunc='sum')['box_office'].idxmin())"
   ]
  },
  {
   "cell_type": "markdown",
   "id": "d699a904",
   "metadata": {},
   "source": [
    "**Вывод** Сумма сборов начиная с 2015 года значительно выросла, связано это в том числе с увеличением доли фильмов с информацией о прокате, поэтому сравнивать суммы сборов с предыдущими периодом не корректно."
   ]
  },
  {
   "cell_type": "markdown",
   "id": "bef04bd0",
   "metadata": {},
   "source": [
    "**С помощью сводной таблицы считаем среднюю и медианную сумму сборов для каждого года**"
   ]
  },
  {
   "cell_type": "code",
   "execution_count": 58,
   "id": "70d52026",
   "metadata": {},
   "outputs": [
    {
     "data": {
      "text/html": [
       "<div>\n",
       "<style scoped>\n",
       "    .dataframe tbody tr th:only-of-type {\n",
       "        vertical-align: middle;\n",
       "    }\n",
       "\n",
       "    .dataframe tbody tr th {\n",
       "        vertical-align: top;\n",
       "    }\n",
       "\n",
       "    .dataframe thead tr th {\n",
       "        text-align: left;\n",
       "    }\n",
       "\n",
       "    .dataframe thead tr:last-of-type th {\n",
       "        text-align: right;\n",
       "    }\n",
       "</style>\n",
       "<table border=\"1\" class=\"dataframe\">\n",
       "  <thead>\n",
       "    <tr>\n",
       "      <th></th>\n",
       "      <th>mean</th>\n",
       "      <th>median</th>\n",
       "    </tr>\n",
       "    <tr>\n",
       "      <th></th>\n",
       "      <th>box_office</th>\n",
       "      <th>box_office</th>\n",
       "    </tr>\n",
       "    <tr>\n",
       "      <th>show_start_date_year</th>\n",
       "      <th></th>\n",
       "      <th></th>\n",
       "    </tr>\n",
       "  </thead>\n",
       "  <tbody>\n",
       "    <tr>\n",
       "      <th>2010</th>\n",
       "      <td>2.404608e+04</td>\n",
       "      <td>1710.000</td>\n",
       "    </tr>\n",
       "    <tr>\n",
       "      <th>2011</th>\n",
       "      <td>1.293832e+05</td>\n",
       "      <td>3000.000</td>\n",
       "    </tr>\n",
       "    <tr>\n",
       "      <th>2012</th>\n",
       "      <td>5.654815e+04</td>\n",
       "      <td>6220.000</td>\n",
       "    </tr>\n",
       "    <tr>\n",
       "      <th>2013</th>\n",
       "      <td>1.664788e+05</td>\n",
       "      <td>3580.000</td>\n",
       "    </tr>\n",
       "    <tr>\n",
       "      <th>2014</th>\n",
       "      <td>2.727089e+07</td>\n",
       "      <td>20400.000</td>\n",
       "    </tr>\n",
       "    <tr>\n",
       "      <th>2015</th>\n",
       "      <td>8.549213e+07</td>\n",
       "      <td>5003450.150</td>\n",
       "    </tr>\n",
       "    <tr>\n",
       "      <th>2016</th>\n",
       "      <td>9.117390e+07</td>\n",
       "      <td>3915041.020</td>\n",
       "    </tr>\n",
       "    <tr>\n",
       "      <th>2017</th>\n",
       "      <td>1.360328e+08</td>\n",
       "      <td>9968340.000</td>\n",
       "    </tr>\n",
       "    <tr>\n",
       "      <th>2018</th>\n",
       "      <td>1.045651e+08</td>\n",
       "      <td>8891102.210</td>\n",
       "    </tr>\n",
       "    <tr>\n",
       "      <th>2019</th>\n",
       "      <td>9.136926e+07</td>\n",
       "      <td>4627798.345</td>\n",
       "    </tr>\n",
       "  </tbody>\n",
       "</table>\n",
       "</div>"
      ],
      "text/plain": [
       "                              mean       median\n",
       "                        box_office   box_office\n",
       "show_start_date_year                           \n",
       "2010                  2.404608e+04     1710.000\n",
       "2011                  1.293832e+05     3000.000\n",
       "2012                  5.654815e+04     6220.000\n",
       "2013                  1.664788e+05     3580.000\n",
       "2014                  2.727089e+07    20400.000\n",
       "2015                  8.549213e+07  5003450.150\n",
       "2016                  9.117390e+07  3915041.020\n",
       "2017                  1.360328e+08  9968340.000\n",
       "2018                  1.045651e+08  8891102.210\n",
       "2019                  9.136926e+07  4627798.345"
      ]
     },
     "execution_count": 58,
     "metadata": {},
     "output_type": "execute_result"
    }
   ],
   "source": [
    "df.pivot_table(index='show_start_date_year', values='box_office', aggfunc=['mean','median'])"
   ]
  },
  {
   "cell_type": "markdown",
   "id": "0dc05479",
   "metadata": {},
   "source": [
    "**Вывод** - мы видим, что есть значительное отличие между медианным и средним значением, это обусловлено тем, что есть очень большой разброс значений, есть очень маленькие сборы и очень большие. Среднее значение более чуствительно в данном случае, чем медиана."
   ]
  },
  {
   "cell_type": "markdown",
   "id": "13d523ab",
   "metadata": {},
   "source": [
    "Посмотрим, как изменяться данные, если мы исключим малые суммы сборов (менее 100000) и большие (1000000000)"
   ]
  },
  {
   "cell_type": "code",
   "execution_count": 59,
   "id": "359bd6ea",
   "metadata": {},
   "outputs": [
    {
     "name": "stdout",
     "output_type": "stream",
     "text": [
      "2297\n"
     ]
    },
    {
     "data": {
      "text/html": [
       "<div>\n",
       "<style scoped>\n",
       "    .dataframe tbody tr th:only-of-type {\n",
       "        vertical-align: middle;\n",
       "    }\n",
       "\n",
       "    .dataframe tbody tr th {\n",
       "        vertical-align: top;\n",
       "    }\n",
       "\n",
       "    .dataframe thead tr th {\n",
       "        text-align: left;\n",
       "    }\n",
       "\n",
       "    .dataframe thead tr:last-of-type th {\n",
       "        text-align: right;\n",
       "    }\n",
       "</style>\n",
       "<table border=\"1\" class=\"dataframe\">\n",
       "  <thead>\n",
       "    <tr>\n",
       "      <th></th>\n",
       "      <th>mean</th>\n",
       "      <th>median</th>\n",
       "    </tr>\n",
       "    <tr>\n",
       "      <th></th>\n",
       "      <th>box_office</th>\n",
       "      <th>box_office</th>\n",
       "    </tr>\n",
       "    <tr>\n",
       "      <th>show_start_date_year</th>\n",
       "      <th></th>\n",
       "      <th></th>\n",
       "    </tr>\n",
       "  </thead>\n",
       "  <tbody>\n",
       "    <tr>\n",
       "      <th>2010</th>\n",
       "      <td>6.201470e+05</td>\n",
       "      <td>245630.000</td>\n",
       "    </tr>\n",
       "    <tr>\n",
       "      <th>2011</th>\n",
       "      <td>3.251634e+06</td>\n",
       "      <td>641375.000</td>\n",
       "    </tr>\n",
       "    <tr>\n",
       "      <th>2012</th>\n",
       "      <td>6.051211e+05</td>\n",
       "      <td>351643.000</td>\n",
       "    </tr>\n",
       "    <tr>\n",
       "      <th>2013</th>\n",
       "      <td>1.766003e+06</td>\n",
       "      <td>186090.000</td>\n",
       "    </tr>\n",
       "    <tr>\n",
       "      <th>2014</th>\n",
       "      <td>5.446693e+07</td>\n",
       "      <td>948195.750</td>\n",
       "    </tr>\n",
       "    <tr>\n",
       "      <th>2015</th>\n",
       "      <td>7.231269e+07</td>\n",
       "      <td>8927658.850</td>\n",
       "    </tr>\n",
       "    <tr>\n",
       "      <th>2016</th>\n",
       "      <td>7.114299e+07</td>\n",
       "      <td>5789346.420</td>\n",
       "    </tr>\n",
       "    <tr>\n",
       "      <th>2017</th>\n",
       "      <td>9.656298e+07</td>\n",
       "      <td>9898090.000</td>\n",
       "    </tr>\n",
       "    <tr>\n",
       "      <th>2018</th>\n",
       "      <td>7.297077e+07</td>\n",
       "      <td>8751895.750</td>\n",
       "    </tr>\n",
       "    <tr>\n",
       "      <th>2019</th>\n",
       "      <td>5.213886e+07</td>\n",
       "      <td>4627798.345</td>\n",
       "    </tr>\n",
       "  </tbody>\n",
       "</table>\n",
       "</div>"
      ],
      "text/plain": [
       "                              mean       median\n",
       "                        box_office   box_office\n",
       "show_start_date_year                           \n",
       "2010                  6.201470e+05   245630.000\n",
       "2011                  3.251634e+06   641375.000\n",
       "2012                  6.051211e+05   351643.000\n",
       "2013                  1.766003e+06   186090.000\n",
       "2014                  5.446693e+07   948195.750\n",
       "2015                  7.231269e+07  8927658.850\n",
       "2016                  7.114299e+07  5789346.420\n",
       "2017                  9.656298e+07  9898090.000\n",
       "2018                  7.297077e+07  8751895.750\n",
       "2019                  5.213886e+07  4627798.345"
      ]
     },
     "execution_count": 59,
     "metadata": {},
     "output_type": "execute_result"
    }
   ],
   "source": [
    "print(len(df.query('box_office > 100000 and box_office < 1000000000')))\n",
    "df.query('box_office > 100000 and box_office < 1000000000').pivot_table(index='show_start_date_year', values='box_office', aggfunc=['mean','median'])\n"
   ]
  },
  {
   "cell_type": "markdown",
   "id": "468e91cb",
   "metadata": {},
   "source": [
    "**Вывод** - В данном случае разница между медианным и средним значением меньше. Медиана и среднене значение в период с 2010 по 2013 увеличились по сравнению с прошлым расчетом, т.к. тут было больше фильмов с маленькими сборами, а в период с 2013 пол 2019 немного уменьшилась, т.к. именно в этот период были фильмы с большими сборами."
   ]
  },
  {
   "cell_type": "markdown",
   "id": "d267dc59",
   "metadata": {},
   "source": [
    "**Определяем, влияет ли возрасное ограничение аудитории на сборы фильма в прокате в период с 2015 по 2019 год. Определяем фильмы с каким возрастным ограничением собрали больше всего денег в прокате.** "
   ]
  },
  {
   "cell_type": "markdown",
   "id": "c69ac2ec",
   "metadata": {},
   "source": [
    "Сначала определяем сумму сборов в зависимости от возрастных ограничений за весь период с 2015 по 2019 годы, группируем таблицу по возрастным ограничением с помощью свлодной таблицы и считаем сумму сборов."
   ]
  },
  {
   "cell_type": "code",
   "execution_count": 60,
   "id": "c78049e7",
   "metadata": {},
   "outputs": [
    {
     "data": {
      "text/html": [
       "<div>\n",
       "<style scoped>\n",
       "    .dataframe tbody tr th:only-of-type {\n",
       "        vertical-align: middle;\n",
       "    }\n",
       "\n",
       "    .dataframe tbody tr th {\n",
       "        vertical-align: top;\n",
       "    }\n",
       "\n",
       "    .dataframe thead th {\n",
       "        text-align: right;\n",
       "    }\n",
       "</style>\n",
       "<table border=\"1\" class=\"dataframe\">\n",
       "  <thead>\n",
       "    <tr style=\"text-align: right;\">\n",
       "      <th></th>\n",
       "      <th>box_office</th>\n",
       "    </tr>\n",
       "    <tr>\n",
       "      <th>age_restriction</th>\n",
       "      <th></th>\n",
       "    </tr>\n",
       "  </thead>\n",
       "  <tbody>\n",
       "    <tr>\n",
       "      <th>0+</th>\n",
       "      <td>8.090774e+08</td>\n",
       "    </tr>\n",
       "    <tr>\n",
       "      <th>12+</th>\n",
       "      <td>6.061945e+10</td>\n",
       "    </tr>\n",
       "    <tr>\n",
       "      <th>16+</th>\n",
       "      <td>7.603473e+10</td>\n",
       "    </tr>\n",
       "    <tr>\n",
       "      <th>18+</th>\n",
       "      <td>4.075962e+10</td>\n",
       "    </tr>\n",
       "    <tr>\n",
       "      <th>6+</th>\n",
       "      <td>5.579861e+10</td>\n",
       "    </tr>\n",
       "  </tbody>\n",
       "</table>\n",
       "</div>"
      ],
      "text/plain": [
       "                   box_office\n",
       "age_restriction              \n",
       "0+               8.090774e+08\n",
       "12+              6.061945e+10\n",
       "16+              7.603473e+10\n",
       "18+              4.075962e+10\n",
       "6+               5.579861e+10"
      ]
     },
     "metadata": {},
     "output_type": "display_data"
    },
    {
     "name": "stdout",
     "output_type": "stream",
     "text": [
      "Возрасное ограничение, в котором были максимальные сборы: 16+\n",
      "Возрасное ограничение, в котором были минимальные сборы: 0+\n"
     ]
    }
   ],
   "source": [
    "display(df.query('show_start_date_year >= 2015').pivot_table(index='age_restriction', values='box_office', aggfunc='sum'))\n",
    "print('Возрасное ограничение, в котором были максимальные сборы:', df.query('show_start_date_year >= 2015').\n",
    "      pivot_table(index='age_restriction', values='box_office', aggfunc='sum')['box_office'].idxmax())\n",
    "print('Возрасное ограничение, в котором были минимальные сборы:',df.query('show_start_date_year >= 2015').\n",
    "      pivot_table(index='age_restriction', values='box_office', aggfunc='sum')['box_office'].idxmin())"
   ]
  },
  {
   "cell_type": "code",
   "execution_count": 61,
   "id": "5757737f",
   "metadata": {},
   "outputs": [
    {
     "data": {
      "text/plain": [
       "<AxesSubplot:title={'center':'сборы в зависимости от возрасной категории'}, xlabel='age_restriction'>"
      ]
     },
     "execution_count": 61,
     "metadata": {},
     "output_type": "execute_result"
    },
    {
     "data": {
      "image/png": "[encoded data removed]",
      "text/plain": [
       "<Figure size 432x216 with 1 Axes>"
      ]
     },
     "metadata": {
      "needs_background": "light"
     },
     "output_type": "display_data"
    }
   ],
   "source": [
    "(df\n",
    "    .query('show_start_date_year >= 2015')\n",
    "    .pivot_table(index='age_restriction', values='box_office', aggfunc='sum')\n",
    "    .sort_values(by='box_office', ascending=False)\n",
    "    .plot(kind='bar', title = 'сборы в зависимости от возрасной категории', figsize= (6,3), grid=True)\n",
    ") "
   ]
  },
  {
   "cell_type": "markdown",
   "id": "2bd183b7",
   "metadata": {},
   "source": [
    "Теперь смотрим меняется ли картина в зависимости от года, группуруем данные с помощью сводной таблицы."
   ]
  },
  {
   "cell_type": "code",
   "execution_count": 62,
   "id": "739f90f4",
   "metadata": {},
   "outputs": [
    {
     "data": {
      "text/html": [
       "<div>\n",
       "<style scoped>\n",
       "    .dataframe tbody tr th:only-of-type {\n",
       "        vertical-align: middle;\n",
       "    }\n",
       "\n",
       "    .dataframe tbody tr th {\n",
       "        vertical-align: top;\n",
       "    }\n",
       "\n",
       "    .dataframe thead th {\n",
       "        text-align: right;\n",
       "    }\n",
       "</style>\n",
       "<table border=\"1\" class=\"dataframe\">\n",
       "  <thead>\n",
       "    <tr style=\"text-align: right;\">\n",
       "      <th>age_restriction</th>\n",
       "      <th>0+</th>\n",
       "      <th>12+</th>\n",
       "      <th>16+</th>\n",
       "      <th>18+</th>\n",
       "      <th>6+</th>\n",
       "    </tr>\n",
       "    <tr>\n",
       "      <th>show_start_date_year</th>\n",
       "      <th></th>\n",
       "      <th></th>\n",
       "      <th></th>\n",
       "      <th></th>\n",
       "      <th></th>\n",
       "    </tr>\n",
       "  </thead>\n",
       "  <tbody>\n",
       "    <tr>\n",
       "      <th>2015</th>\n",
       "      <td>3.790546e+08</td>\n",
       "      <td>1.361608e+10</td>\n",
       "      <td>1.136812e+10</td>\n",
       "      <td>5.432308e+09</td>\n",
       "      <td>8.701799e+09</td>\n",
       "    </tr>\n",
       "    <tr>\n",
       "      <th>2016</th>\n",
       "      <td>1.502288e+08</td>\n",
       "      <td>1.220445e+10</td>\n",
       "      <td>1.666455e+10</td>\n",
       "      <td>6.793930e+09</td>\n",
       "      <td>1.205315e+10</td>\n",
       "    </tr>\n",
       "    <tr>\n",
       "      <th>2017</th>\n",
       "      <td>2.295989e+08</td>\n",
       "      <td>7.851428e+09</td>\n",
       "      <td>1.874504e+10</td>\n",
       "      <td>9.651496e+09</td>\n",
       "      <td>1.208614e+10</td>\n",
       "    </tr>\n",
       "    <tr>\n",
       "      <th>2018</th>\n",
       "      <td>3.244900e+07</td>\n",
       "      <td>1.426729e+10</td>\n",
       "      <td>1.650360e+10</td>\n",
       "      <td>8.760086e+09</td>\n",
       "      <td>1.010497e+10</td>\n",
       "    </tr>\n",
       "    <tr>\n",
       "      <th>2019</th>\n",
       "      <td>1.774607e+07</td>\n",
       "      <td>1.268020e+10</td>\n",
       "      <td>1.275342e+10</td>\n",
       "      <td>1.012180e+10</td>\n",
       "      <td>1.285255e+10</td>\n",
       "    </tr>\n",
       "  </tbody>\n",
       "</table>\n",
       "</div>"
      ],
      "text/plain": [
       "age_restriction                 0+           12+           16+           18+  \\\n",
       "show_start_date_year                                                           \n",
       "2015                  3.790546e+08  1.361608e+10  1.136812e+10  5.432308e+09   \n",
       "2016                  1.502288e+08  1.220445e+10  1.666455e+10  6.793930e+09   \n",
       "2017                  2.295989e+08  7.851428e+09  1.874504e+10  9.651496e+09   \n",
       "2018                  3.244900e+07  1.426729e+10  1.650360e+10  8.760086e+09   \n",
       "2019                  1.774607e+07  1.268020e+10  1.275342e+10  1.012180e+10   \n",
       "\n",
       "age_restriction                 6+  \n",
       "show_start_date_year                \n",
       "2015                  8.701799e+09  \n",
       "2016                  1.205315e+10  \n",
       "2017                  1.208614e+10  \n",
       "2018                  1.010497e+10  \n",
       "2019                  1.285255e+10  "
      ]
     },
     "execution_count": 62,
     "metadata": {},
     "output_type": "execute_result"
    }
   ],
   "source": [
    "df.query('show_start_date_year >= 2015').pivot_table(index='show_start_date_year', columns='age_restriction', \n",
    "                                                     values='box_office', aggfunc='sum')"
   ]
  },
  {
   "cell_type": "markdown",
   "id": "780f44bc",
   "metadata": {},
   "source": [
    "**Вывод** Картина меняется в зависимости от года, но не значительно. Минимальное количество сборов в возрасной категории 0+ из года в год. А вот мах значение меняется, но в большинстве случаев все-таки чаще всего больше собирают фильмы в категории 16+. Незначительные коллебания по годам скорее всего связаны с конкретными фильмами, которые выходили в соответсвующем году."
   ]
  },
  {
   "cell_type": "markdown",
   "id": "61ac4e15",
   "metadata": {},
   "source": [
    "В результате исследования всех фильмов было выявлено следующее:\n",
    "\n",
    "Количество фильмов, выходящих в прокат, менялось каждый год, какой-то определенной тенденции нет. Самое большое количество фильмов вышло в 2010 и 2019 годах. Самое маленькое количество фильмов выпущено в прокат в 2017 году.\n",
    "\n",
    "Количество фильмов с информацией о прокате - в целом наблюдается тенденция роста числа таких фильмов. Доля фильмов с информацией о прокате была максимальной в 2017 году - около 0,7, минимальной в 2010 году - около 0,1. В период с 2015 по 2019 год наиболее полная информация о прокате фильмов относительно предыдущих периодов(с 2010 по 2014 включительно).\n",
    "\n",
    "Сумма сборов начиная с 2015 года значительно выросла. Год, в котором были максимальные сборы: 2018, год, в котором были минимальные сборы: 2010. Однако данная информация требует дополнительного исследования, т.к. с 2015 г увеличилось количество фильмов с информаицей о сборах, ранне данной информации практически не было.\n",
    "\n",
    "Определили, что возрасное ограничение аудитории влияет на сборы фильма в прокате в период с 2015 по 2019 год. Возрасное ограничение, в котором были максимальные сборы (70000000000 руб) : 16+, возрасное ограничение, в котором были минимальные сборы (около 800000000 руб): 0+. Картина меняется в зависимости от года, но не значительно. Минимальное количество сборов в возрасной категории 0+ из года в год. А вот мах значение меняется, но в большинстве случаев чаще всего больше собирают фильмы в категории 16+. Незначительные коллебания по годам скорее всего связаны с конкретными фильмами, которые выходили в соответсвующем году.\n",
    "\n",
    "Посчитав среднюю и медианную сумму сборов для каждого года, видим значительное отличие между медианным и средним значением. Такое отличие обусловлено большим разбросом значений, есть очень маленькие сборы и очень большие. Среднее значение более чуствительно в данном случае, чем медиана."
   ]
  },
  {
   "cell_type": "markdown",
   "id": "9dc8d522",
   "metadata": {},
   "source": [
    "**4. Исследование фильмов, которые получили государственную поддержку**"
   ]
  },
  {
   "cell_type": "markdown",
   "id": "49584d14",
   "metadata": {},
   "source": [
    "4.1. Сохраняем в переменной df_goverment данные из датафрейма df c фильмами, которым предоставлялись государственная поддрежка"
   ]
  },
  {
   "cell_type": "code",
   "execution_count": 63,
   "id": "20a0d630",
   "metadata": {
    "scrolled": true
   },
   "outputs": [
    {
     "name": "stdout",
     "output_type": "stream",
     "text": [
      "<class 'pandas.core.frame.DataFrame'>\n",
      "RangeIndex: 332 entries, 0 to 331\n",
      "Data columns (total 21 columns):\n",
      " #   Column                 Non-Null Count  Dtype              \n",
      "---  ------                 --------------  -----              \n",
      " 0   index                  332 non-null    int64              \n",
      " 1   title                  332 non-null    object             \n",
      " 2   puNumber               332 non-null    int64              \n",
      " 3   show_start_date        332 non-null    datetime64[ns, UTC]\n",
      " 4   type                   332 non-null    object             \n",
      " 5   film_studio            332 non-null    object             \n",
      " 6   production_country     332 non-null    object             \n",
      " 7   director               332 non-null    object             \n",
      " 8   producer               330 non-null    object             \n",
      " 9   age_restriction        332 non-null    object             \n",
      " 10  refundable_support     332 non-null    float64            \n",
      " 11  nonrefundable_support  332 non-null    float64            \n",
      " 12  budget                 332 non-null    float64            \n",
      " 13  financing_source       332 non-null    object             \n",
      " 14  ratings                316 non-null    float64            \n",
      " 15  genres                 316 non-null    object             \n",
      " 16  box_office             318 non-null    float64            \n",
      " 17  show_start_date_year   332 non-null    int64              \n",
      " 18  part_goverment_help    332 non-null    float64            \n",
      " 19  genres_new             316 non-null    object             \n",
      " 20  director_new           332 non-null    object             \n",
      "dtypes: datetime64[ns, UTC](1), float64(6), int64(3), object(11)\n",
      "memory usage: 54.6+ KB\n"
     ]
    }
   ],
   "source": [
    "df_goverment = df.query('not(budget.isna())').reset_index()\n",
    "df_goverment.info()"
   ]
  },
  {
   "cell_type": "markdown",
   "id": "f204f668",
   "metadata": {},
   "source": [
    "Посмотрим сколько фильмов с поддержкой государства выходило в прокат в соответсвующих годах, для визуализации результатов, посторим график."
   ]
  },
  {
   "cell_type": "code",
   "execution_count": 64,
   "id": "c6ae7830",
   "metadata": {},
   "outputs": [
    {
     "data": {
      "text/plain": [
       "<AxesSubplot:title={'center':'количество фильмов с поддержкой государства'}, xlabel='show_start_date_year'>"
      ]
     },
     "execution_count": 64,
     "metadata": {},
     "output_type": "execute_result"
    },
    {
     "data": {
      "image/png": "[encoded data removed]",
      "text/plain": [
       "<Figure size 432x216 with 1 Axes>"
      ]
     },
     "metadata": {
      "needs_background": "light"
     },
     "output_type": "display_data"
    }
   ],
   "source": [
    "(df_goverment\n",
    "    .groupby('show_start_date_year')['show_start_date_year'].count()\n",
    "    .plot(style='o-', title = 'количество фильмов с поддержкой государства', figsize= (6,3), grid=True)\n",
    ")"
   ]
  },
  {
   "cell_type": "markdown",
   "id": "6ba44c50",
   "metadata": {},
   "source": [
    "**Вывод** В период с 2013 по 2019 год в прокат поступило 332 фильма с государственно поддержкой. В целом в рассматриваемый период наблюдается рост числа фильмов с государственной поддержкой. Самое большое количество фильмов вышло в прока в 2015 году, в 2016-2017 наблюдался спад, а затем опять рост. Минимальное количество фильмов с гос. поддержкой было в 2013 году."
   ]
  },
  {
   "cell_type": "markdown",
   "id": "fb598d6e",
   "metadata": {},
   "source": [
    "4.2 Добавим столбец с общей суммой государственной поддержки"
   ]
  },
  {
   "cell_type": "code",
   "execution_count": 65,
   "id": "44cb07b2",
   "metadata": {},
   "outputs": [
    {
     "data": {
      "text/html": [
       "<div>\n",
       "<style scoped>\n",
       "    .dataframe tbody tr th:only-of-type {\n",
       "        vertical-align: middle;\n",
       "    }\n",
       "\n",
       "    .dataframe tbody tr th {\n",
       "        vertical-align: top;\n",
       "    }\n",
       "\n",
       "    .dataframe thead th {\n",
       "        text-align: right;\n",
       "    }\n",
       "</style>\n",
       "<table border=\"1\" class=\"dataframe\">\n",
       "  <thead>\n",
       "    <tr style=\"text-align: right;\">\n",
       "      <th></th>\n",
       "      <th>index</th>\n",
       "      <th>title</th>\n",
       "      <th>puNumber</th>\n",
       "      <th>show_start_date</th>\n",
       "      <th>type</th>\n",
       "      <th>film_studio</th>\n",
       "      <th>production_country</th>\n",
       "      <th>director</th>\n",
       "      <th>producer</th>\n",
       "      <th>age_restriction</th>\n",
       "      <th>...</th>\n",
       "      <th>budget</th>\n",
       "      <th>financing_source</th>\n",
       "      <th>ratings</th>\n",
       "      <th>genres</th>\n",
       "      <th>box_office</th>\n",
       "      <th>show_start_date_year</th>\n",
       "      <th>part_goverment_help</th>\n",
       "      <th>genres_new</th>\n",
       "      <th>director_new</th>\n",
       "      <th>goverment_help</th>\n",
       "    </tr>\n",
       "  </thead>\n",
       "  <tbody>\n",
       "    <tr>\n",
       "      <th>0</th>\n",
       "      <td>1281</td>\n",
       "      <td>Пока еще жива</td>\n",
       "      <td>111005313</td>\n",
       "      <td>2013-10-11 12:00:00+00:00</td>\n",
       "      <td>Художественный</td>\n",
       "      <td>АНО содействия развитию кинематографии \"Ангел-...</td>\n",
       "      <td>Россия</td>\n",
       "      <td>А.Атанесян</td>\n",
       "      <td>А.Атанесян, М.Бабаханов, Р.Бутко</td>\n",
       "      <td>16+</td>\n",
       "      <td>...</td>\n",
       "      <td>79411900.0</td>\n",
       "      <td>Министерство культуры</td>\n",
       "      <td>8.1</td>\n",
       "      <td>драма,мелодрама</td>\n",
       "      <td>365353.6</td>\n",
       "      <td>2013</td>\n",
       "      <td>0.333703</td>\n",
       "      <td>драма</td>\n",
       "      <td>А.Атанесян</td>\n",
       "      <td>26500000.0</td>\n",
       "    </tr>\n",
       "    <tr>\n",
       "      <th>1</th>\n",
       "      <td>1448</td>\n",
       "      <td>Бесславные придурки</td>\n",
       "      <td>111003314</td>\n",
       "      <td>2014-03-28 12:00:00+00:00</td>\n",
       "      <td>Художественный</td>\n",
       "      <td>ООО \"Компания \"АТК-Студио\"</td>\n",
       "      <td>Россия</td>\n",
       "      <td>А.Якимчук</td>\n",
       "      <td>А.Тютрюмов</td>\n",
       "      <td>12+</td>\n",
       "      <td>...</td>\n",
       "      <td>37142857.0</td>\n",
       "      <td>Министерство культуры</td>\n",
       "      <td>NaN</td>\n",
       "      <td>NaN</td>\n",
       "      <td>28140.0</td>\n",
       "      <td>2014</td>\n",
       "      <td>0.700000</td>\n",
       "      <td>NaN</td>\n",
       "      <td>А.Якимчук</td>\n",
       "      <td>26000000.0</td>\n",
       "    </tr>\n",
       "    <tr>\n",
       "      <th>2</th>\n",
       "      <td>1498</td>\n",
       "      <td>Невидимки</td>\n",
       "      <td>111004213</td>\n",
       "      <td>2013-09-10 12:00:00+00:00</td>\n",
       "      <td>Художественный</td>\n",
       "      <td>ООО \"Компания \"РЕАЛ-ДАКОТА\"</td>\n",
       "      <td>Россия</td>\n",
       "      <td>Р.Давлетьяров, С.Комаров</td>\n",
       "      <td>Р.Давлетьяров, А.Котелевский, А.Олейников</td>\n",
       "      <td>12+</td>\n",
       "      <td>...</td>\n",
       "      <td>176023490.0</td>\n",
       "      <td>Фонд кино</td>\n",
       "      <td>5.3</td>\n",
       "      <td>комедия,фантастика</td>\n",
       "      <td>19957031.5</td>\n",
       "      <td>2013</td>\n",
       "      <td>0.612691</td>\n",
       "      <td>комедия</td>\n",
       "      <td>Р.Давлетьяров</td>\n",
       "      <td>107847945.0</td>\n",
       "    </tr>\n",
       "    <tr>\n",
       "      <th>3</th>\n",
       "      <td>1524</td>\n",
       "      <td>БЕРЦЫ</td>\n",
       "      <td>111004314</td>\n",
       "      <td>2014-05-05 12:00:00+00:00</td>\n",
       "      <td>Художественный</td>\n",
       "      <td>ООО \"Студия \"Пассажир\"</td>\n",
       "      <td>Россия</td>\n",
       "      <td>Е.Миндадзе (псевдоним Катя Шагалова)</td>\n",
       "      <td>Л.Антонова</td>\n",
       "      <td>16+</td>\n",
       "      <td>...</td>\n",
       "      <td>40574140.0</td>\n",
       "      <td>Министерство культуры</td>\n",
       "      <td>4.2</td>\n",
       "      <td>драма</td>\n",
       "      <td>55917.5</td>\n",
       "      <td>2014</td>\n",
       "      <td>0.690095</td>\n",
       "      <td>драма</td>\n",
       "      <td>Е.Миндадзе (псевдоним Катя Шагалова)</td>\n",
       "      <td>28000000.0</td>\n",
       "    </tr>\n",
       "    <tr>\n",
       "      <th>4</th>\n",
       "      <td>1792</td>\n",
       "      <td>Братья Ч</td>\n",
       "      <td>111004414</td>\n",
       "      <td>2014-04-23 12:00:00+00:00</td>\n",
       "      <td>Художественный</td>\n",
       "      <td>ООО \"Студия \"Пассажир\"</td>\n",
       "      <td>Россия</td>\n",
       "      <td>М.Угаров</td>\n",
       "      <td>А.Миндадзе, Л.Антонова</td>\n",
       "      <td>16+</td>\n",
       "      <td>...</td>\n",
       "      <td>40015122.0</td>\n",
       "      <td>Министерство культуры</td>\n",
       "      <td>6.4</td>\n",
       "      <td>драма</td>\n",
       "      <td>232100.0</td>\n",
       "      <td>2014</td>\n",
       "      <td>0.624764</td>\n",
       "      <td>драма</td>\n",
       "      <td>М.Угаров</td>\n",
       "      <td>25000000.0</td>\n",
       "    </tr>\n",
       "  </tbody>\n",
       "</table>\n",
       "<p>5 rows × 22 columns</p>\n",
       "</div>"
      ],
      "text/plain": [
       "   index                title   puNumber           show_start_date  \\\n",
       "0   1281        Пока еще жива  111005313 2013-10-11 12:00:00+00:00   \n",
       "1   1448  Бесславные придурки  111003314 2014-03-28 12:00:00+00:00   \n",
       "2   1498            Невидимки  111004213 2013-09-10 12:00:00+00:00   \n",
       "3   1524                БЕРЦЫ  111004314 2014-05-05 12:00:00+00:00   \n",
       "4   1792             Братья Ч  111004414 2014-04-23 12:00:00+00:00   \n",
       "\n",
       "             type                                        film_studio  \\\n",
       "0  Художественный  АНО содействия развитию кинематографии \"Ангел-...   \n",
       "1  Художественный                         ООО \"Компания \"АТК-Студио\"   \n",
       "2  Художественный                        ООО \"Компания \"РЕАЛ-ДАКОТА\"   \n",
       "3  Художественный                             ООО \"Студия \"Пассажир\"   \n",
       "4  Художественный                             ООО \"Студия \"Пассажир\"   \n",
       "\n",
       "  production_country                              director  \\\n",
       "0             Россия                            А.Атанесян   \n",
       "1             Россия                             А.Якимчук   \n",
       "2             Россия              Р.Давлетьяров, С.Комаров   \n",
       "3             Россия  Е.Миндадзе (псевдоним Катя Шагалова)   \n",
       "4             Россия                              М.Угаров   \n",
       "\n",
       "                                    producer age_restriction  ...  \\\n",
       "0           А.Атанесян, М.Бабаханов, Р.Бутко             16+  ...   \n",
       "1                                 А.Тютрюмов             12+  ...   \n",
       "2  Р.Давлетьяров, А.Котелевский, А.Олейников             12+  ...   \n",
       "3                                 Л.Антонова             16+  ...   \n",
       "4                     А.Миндадзе, Л.Антонова             16+  ...   \n",
       "\n",
       "        budget       financing_source  ratings              genres  \\\n",
       "0   79411900.0  Министерство культуры      8.1     драма,мелодрама   \n",
       "1   37142857.0  Министерство культуры      NaN                 NaN   \n",
       "2  176023490.0              Фонд кино      5.3  комедия,фантастика   \n",
       "3   40574140.0  Министерство культуры      4.2               драма   \n",
       "4   40015122.0  Министерство культуры      6.4               драма   \n",
       "\n",
       "   box_office show_start_date_year  part_goverment_help  genres_new  \\\n",
       "0    365353.6                 2013             0.333703       драма   \n",
       "1     28140.0                 2014             0.700000         NaN   \n",
       "2  19957031.5                 2013             0.612691     комедия   \n",
       "3     55917.5                 2014             0.690095       драма   \n",
       "4    232100.0                 2014             0.624764       драма   \n",
       "\n",
       "                           director_new goverment_help  \n",
       "0                            А.Атанесян     26500000.0  \n",
       "1                             А.Якимчук     26000000.0  \n",
       "2                         Р.Давлетьяров    107847945.0  \n",
       "3  Е.Миндадзе (псевдоним Катя Шагалова)     28000000.0  \n",
       "4                              М.Угаров     25000000.0  \n",
       "\n",
       "[5 rows x 22 columns]"
      ]
     },
     "execution_count": 65,
     "metadata": {},
     "output_type": "execute_result"
    }
   ],
   "source": [
    "df_goverment['goverment_help'] = df_goverment['nonrefundable_support'] + df_goverment['refundable_support']\n",
    "df_goverment.head()"
   ]
  },
  {
   "cell_type": "markdown",
   "id": "7ad76f12",
   "metadata": {},
   "source": [
    "4.3 Посчитаем сумму государственной поддержки, сумму возвратных и невозвратных средств государственной поддержки в целом и по годам. Для подсчета по годам группипуем фильмы по году с помощью сводной таблицы и считаем соответсвующие сумму государственной поддержки\n"
   ]
  },
  {
   "cell_type": "code",
   "execution_count": 66,
   "id": "50e34361",
   "metadata": {},
   "outputs": [
    {
     "name": "stdout",
     "output_type": "stream",
     "text": [
      "Сумма, выделенная на поддержку фильмов со стороны государства: 20200688312.0\n",
      "Невозвратная сумма, выделенная на поддержку фильмов со стороны государства: 16261688312.0\n",
      "Доля невозвратной части: 0.81\n",
      "Возвратная сумма, выделенная на поддержку фильмов со стороны государства: 3939000000.0\n"
     ]
    }
   ],
   "source": [
    "print('Сумма, выделенная на поддержку фильмов со стороны государства:', df_goverment['goverment_help'].sum())\n",
    "print('Невозвратная сумма, выделенная на поддержку фильмов со стороны государства:', \n",
    "      df_goverment['nonrefundable_support'].sum())\n",
    "print('Доля невозвратной части:', (df_goverment['nonrefundable_support'].sum()/df_goverment['goverment_help'].sum()).round(decimals=2))\n",
    "print('Возвратная сумма, выделенная на поддержку фильмов со стороны государства:', df_goverment['refundable_support'].sum())"
   ]
  },
  {
   "cell_type": "code",
   "execution_count": 67,
   "id": "cd7185fb",
   "metadata": {},
   "outputs": [
    {
     "data": {
      "text/html": [
       "<div>\n",
       "<style scoped>\n",
       "    .dataframe tbody tr th:only-of-type {\n",
       "        vertical-align: middle;\n",
       "    }\n",
       "\n",
       "    .dataframe tbody tr th {\n",
       "        vertical-align: top;\n",
       "    }\n",
       "\n",
       "    .dataframe thead th {\n",
       "        text-align: right;\n",
       "    }\n",
       "</style>\n",
       "<table border=\"1\" class=\"dataframe\">\n",
       "  <thead>\n",
       "    <tr style=\"text-align: right;\">\n",
       "      <th></th>\n",
       "      <th>goverment_help</th>\n",
       "      <th>nonrefundable_support</th>\n",
       "      <th>refundable_support</th>\n",
       "    </tr>\n",
       "    <tr>\n",
       "      <th>show_start_date_year</th>\n",
       "      <th></th>\n",
       "      <th></th>\n",
       "      <th></th>\n",
       "    </tr>\n",
       "  </thead>\n",
       "  <tbody>\n",
       "    <tr>\n",
       "      <th>2013</th>\n",
       "      <td>1.343479e+08</td>\n",
       "      <td>1.343479e+08</td>\n",
       "      <td>0.0</td>\n",
       "    </tr>\n",
       "    <tr>\n",
       "      <th>2014</th>\n",
       "      <td>5.720023e+08</td>\n",
       "      <td>5.010023e+08</td>\n",
       "      <td>71000000.0</td>\n",
       "    </tr>\n",
       "    <tr>\n",
       "      <th>2015</th>\n",
       "      <td>3.656241e+09</td>\n",
       "      <td>3.019088e+09</td>\n",
       "      <td>637153119.0</td>\n",
       "    </tr>\n",
       "    <tr>\n",
       "      <th>2016</th>\n",
       "      <td>4.303155e+09</td>\n",
       "      <td>3.381655e+09</td>\n",
       "      <td>921500000.0</td>\n",
       "    </tr>\n",
       "    <tr>\n",
       "      <th>2017</th>\n",
       "      <td>3.183972e+09</td>\n",
       "      <td>2.464625e+09</td>\n",
       "      <td>719346881.0</td>\n",
       "    </tr>\n",
       "    <tr>\n",
       "      <th>2018</th>\n",
       "      <td>3.446969e+09</td>\n",
       "      <td>2.784969e+09</td>\n",
       "      <td>662000000.0</td>\n",
       "    </tr>\n",
       "    <tr>\n",
       "      <th>2019</th>\n",
       "      <td>4.904000e+09</td>\n",
       "      <td>3.976000e+09</td>\n",
       "      <td>928000000.0</td>\n",
       "    </tr>\n",
       "  </tbody>\n",
       "</table>\n",
       "</div>"
      ],
      "text/plain": [
       "                      goverment_help  nonrefundable_support  \\\n",
       "show_start_date_year                                          \n",
       "2013                    1.343479e+08           1.343479e+08   \n",
       "2014                    5.720023e+08           5.010023e+08   \n",
       "2015                    3.656241e+09           3.019088e+09   \n",
       "2016                    4.303155e+09           3.381655e+09   \n",
       "2017                    3.183972e+09           2.464625e+09   \n",
       "2018                    3.446969e+09           2.784969e+09   \n",
       "2019                    4.904000e+09           3.976000e+09   \n",
       "\n",
       "                      refundable_support  \n",
       "show_start_date_year                      \n",
       "2013                                 0.0  \n",
       "2014                          71000000.0  \n",
       "2015                         637153119.0  \n",
       "2016                         921500000.0  \n",
       "2017                         719346881.0  \n",
       "2018                         662000000.0  \n",
       "2019                         928000000.0  "
      ]
     },
     "execution_count": 67,
     "metadata": {},
     "output_type": "execute_result"
    }
   ],
   "source": [
    "df_goverment.pivot_table(index='show_start_date_year', values=[ 'goverment_help', 'nonrefundable_support',\n",
    "                                                               'refundable_support'], aggfunc='sum')"
   ]
  },
  {
   "cell_type": "markdown",
   "id": "85692ba9",
   "metadata": {},
   "source": [
    "**Вывод** Из полученных данных видно, что государство за период с 2013 по 2019 год потратила на поддержку производства фильмов 20200688312.0 руб, при чем 16261688312.0 невозвратная сумма. Доля невозвратной части составила 0.81.\n",
    "Из разбивки по годам, видно, что наименьше вложения были в 2013 и 2014 годах, а максимальное в 2019 году. В 2017 и 2018 году наблюдался небольшой спад финансирования. Аналогичная картина и по невозвратным средствамю. В 2013 году выделялись только невозвратные средства, а с 2014 года наблюдается рост возвратной части средств, со спадом в 2017 и 2018 годах."
   ]
  },
  {
   "cell_type": "markdown",
   "id": "5083e2b4",
   "metadata": {},
   "source": [
    "4.4 Определим, кто финансирует государственную поддержку фильмов"
   ]
  },
  {
   "cell_type": "code",
   "execution_count": 68,
   "id": "ada5fe6a",
   "metadata": {},
   "outputs": [
    {
     "data": {
      "text/plain": [
       "Министерство культуры               164\n",
       "Фонд кино                           146\n",
       "Министерство культуры, Фонд кино     22\n",
       "Name: financing_source, dtype: int64"
      ]
     },
     "execution_count": 68,
     "metadata": {},
     "output_type": "execute_result"
    }
   ],
   "source": [
    "df_goverment['financing_source'].value_counts()"
   ]
  },
  {
   "cell_type": "markdown",
   "id": "da87115d",
   "metadata": {},
   "source": [
    "4.5 Посмотрим на съемки каких типов фильмов государство выделяет деньги. Посмотрим меняется ли картина по годам."
   ]
  },
  {
   "cell_type": "code",
   "execution_count": 69,
   "id": "b201822e",
   "metadata": {},
   "outputs": [
    {
     "data": {
      "text/plain": [
       "type\n",
       "Анимационный       31\n",
       "Документальный      1\n",
       "Художественный    300\n",
       "Name: type, dtype: int64"
      ]
     },
     "execution_count": 69,
     "metadata": {},
     "output_type": "execute_result"
    }
   ],
   "source": [
    "df_goverment.groupby('type')['type'].count()"
   ]
  },
  {
   "cell_type": "code",
   "execution_count": 70,
   "id": "5d6e53b3",
   "metadata": {},
   "outputs": [
    {
     "data": {
      "text/plain": [
       "show_start_date_year  type          \n",
       "2013                  Художественный     2\n",
       "2014                  Художественный    15\n",
       "                      Анимационный       1\n",
       "2015                  Художественный    79\n",
       "                      Анимационный       7\n",
       "2016                  Художественный    56\n",
       "                      Анимационный       5\n",
       "2017                  Художественный    36\n",
       "                      Анимационный       5\n",
       "2018                  Художественный    48\n",
       "                      Анимационный       8\n",
       "2019                  Художественный    64\n",
       "                      Анимационный       5\n",
       "                      Документальный     1\n",
       "Name: type, dtype: int64"
      ]
     },
     "execution_count": 70,
     "metadata": {},
     "output_type": "execute_result"
    }
   ],
   "source": [
    "df_goverment.groupby('show_start_date_year')['type'].value_counts()"
   ]
  },
  {
   "cell_type": "markdown",
   "id": "ab5f3e37",
   "metadata": {},
   "source": [
    "**Вывод** Государство спонсирует производство художественных фильмов, значительно реже анимационных фильмов, зависимости от года нет, тенденция сохраняется."
   ]
  },
  {
   "cell_type": "markdown",
   "id": "4ebd9b4c",
   "metadata": {},
   "source": [
    "4.6 Посмотрим на съемки фильмов, каких возврастных групп, государство выделяет деньги. Посмотрим меняется ли картина по годам."
   ]
  },
  {
   "cell_type": "code",
   "execution_count": 71,
   "id": "ead64c3d",
   "metadata": {},
   "outputs": [
    {
     "data": {
      "text/plain": [
       "age_restriction\n",
       "0+       8\n",
       "12+    106\n",
       "16+    125\n",
       "18+     28\n",
       "6+      65\n",
       "Name: age_restriction, dtype: int64"
      ]
     },
     "execution_count": 71,
     "metadata": {},
     "output_type": "execute_result"
    }
   ],
   "source": [
    "df_goverment.groupby('age_restriction')['age_restriction'].count()"
   ]
  },
  {
   "cell_type": "code",
   "execution_count": 72,
   "id": "5588e1db",
   "metadata": {},
   "outputs": [
    {
     "data": {
      "text/plain": [
       "show_start_date_year  age_restriction\n",
       "2013                  12+                 1\n",
       "                      16+                 1\n",
       "2014                  16+                 6\n",
       "                      12+                 5\n",
       "                      0+                  2\n",
       "                      18+                 2\n",
       "                      6+                  1\n",
       "2015                  16+                39\n",
       "                      12+                24\n",
       "                      6+                 17\n",
       "                      18+                 5\n",
       "                      0+                  1\n",
       "2016                  12+                24\n",
       "                      16+                21\n",
       "                      6+                 11\n",
       "                      18+                 3\n",
       "                      0+                  2\n",
       "2017                  12+                15\n",
       "                      16+                11\n",
       "                      6+                  9\n",
       "                      18+                 4\n",
       "                      0+                  2\n",
       "2018                  16+                19\n",
       "                      12+                18\n",
       "                      6+                 10\n",
       "                      18+                 9\n",
       "2019                  16+                28\n",
       "                      12+                19\n",
       "                      6+                 17\n",
       "                      18+                 5\n",
       "                      0+                  1\n",
       "Name: age_restriction, dtype: int64"
      ]
     },
     "execution_count": 72,
     "metadata": {},
     "output_type": "execute_result"
    }
   ],
   "source": [
    "df_goverment.groupby('show_start_date_year')['age_restriction'].value_counts()"
   ]
  },
  {
   "cell_type": "markdown",
   "id": "36b28b81",
   "metadata": {},
   "source": [
    "**Вывод** - Больше всего госсударство принимала участие в фильмах с возрасной категорией 16+ и 12+, 125 и 106 фильмов сответственно. По годам картина в целом похожая."
   ]
  },
  {
   "cell_type": "markdown",
   "id": "878e2f59",
   "metadata": {},
   "source": [
    "4.7. Посчитаем средний рейтинг и долю государственного участия, посмотрим как данные величины менялись по годам (группируем данные по годам с помощью сводной таблицы)."
   ]
  },
  {
   "cell_type": "code",
   "execution_count": 73,
   "id": "aff5b01e",
   "metadata": {},
   "outputs": [
    {
     "name": "stdout",
     "output_type": "stream",
     "text": [
      "Среднее значение доли государственного участия: 0.5420979916491464\n",
      "Среднее значение рейтинга фильмов: 6.020886075949368\n"
     ]
    }
   ],
   "source": [
    "print('Среднее значение доли государственного участия:', df_goverment['part_goverment_help'].mean())\n",
    "print('Среднее значение рейтинга фильмов:', (df_goverment['ratings'].mean()))"
   ]
  },
  {
   "cell_type": "code",
   "execution_count": 74,
   "id": "ff8ec1e0",
   "metadata": {
    "scrolled": true
   },
   "outputs": [
    {
     "data": {
      "text/html": [
       "<div>\n",
       "<style scoped>\n",
       "    .dataframe tbody tr th:only-of-type {\n",
       "        vertical-align: middle;\n",
       "    }\n",
       "\n",
       "    .dataframe tbody tr th {\n",
       "        vertical-align: top;\n",
       "    }\n",
       "\n",
       "    .dataframe thead th {\n",
       "        text-align: right;\n",
       "    }\n",
       "</style>\n",
       "<table border=\"1\" class=\"dataframe\">\n",
       "  <thead>\n",
       "    <tr style=\"text-align: right;\">\n",
       "      <th></th>\n",
       "      <th>part_goverment_help</th>\n",
       "      <th>ratings</th>\n",
       "    </tr>\n",
       "    <tr>\n",
       "      <th>show_start_date_year</th>\n",
       "      <th></th>\n",
       "      <th></th>\n",
       "    </tr>\n",
       "  </thead>\n",
       "  <tbody>\n",
       "    <tr>\n",
       "      <th>2013</th>\n",
       "      <td>0.473197</td>\n",
       "      <td>6.700000</td>\n",
       "    </tr>\n",
       "    <tr>\n",
       "      <th>2014</th>\n",
       "      <td>0.551318</td>\n",
       "      <td>6.006667</td>\n",
       "    </tr>\n",
       "    <tr>\n",
       "      <th>2015</th>\n",
       "      <td>0.561975</td>\n",
       "      <td>6.139759</td>\n",
       "    </tr>\n",
       "    <tr>\n",
       "      <th>2016</th>\n",
       "      <td>0.574673</td>\n",
       "      <td>5.677193</td>\n",
       "    </tr>\n",
       "    <tr>\n",
       "      <th>2017</th>\n",
       "      <td>0.506221</td>\n",
       "      <td>6.000000</td>\n",
       "    </tr>\n",
       "    <tr>\n",
       "      <th>2018</th>\n",
       "      <td>0.544880</td>\n",
       "      <td>6.001887</td>\n",
       "    </tr>\n",
       "    <tr>\n",
       "      <th>2019</th>\n",
       "      <td>0.507940</td>\n",
       "      <td>6.176119</td>\n",
       "    </tr>\n",
       "  </tbody>\n",
       "</table>\n",
       "</div>"
      ],
      "text/plain": [
       "                      part_goverment_help   ratings\n",
       "show_start_date_year                               \n",
       "2013                             0.473197  6.700000\n",
       "2014                             0.551318  6.006667\n",
       "2015                             0.561975  6.139759\n",
       "2016                             0.574673  5.677193\n",
       "2017                             0.506221  6.000000\n",
       "2018                             0.544880  6.001887\n",
       "2019                             0.507940  6.176119"
      ]
     },
     "execution_count": 74,
     "metadata": {},
     "output_type": "execute_result"
    }
   ],
   "source": [
    "df_goverment.pivot_table(index='show_start_date_year', values=[ 'part_goverment_help', 'ratings'], aggfunc='mean')"
   ]
  },
  {
   "cell_type": "markdown",
   "id": "14798f4c",
   "metadata": {},
   "source": [
    "Посчитаем средний рейтинг фильмов без государственной поддержки. Для этого возьмем датафрейм df, отберем фильмы без информации по бюджету и посчитаем средний рейтинг."
   ]
  },
  {
   "cell_type": "code",
   "execution_count": 75,
   "id": "91994d75",
   "metadata": {},
   "outputs": [
    {
     "data": {
      "text/plain": [
       "6.510933203946306"
      ]
     },
     "execution_count": 75,
     "metadata": {},
     "output_type": "execute_result"
    }
   ],
   "source": [
    "df.query('budget.isna()')['ratings'].mean()"
   ]
  },
  {
   "cell_type": "markdown",
   "id": "062c6a75",
   "metadata": {},
   "source": [
    "**Вывод:** Средняя доля государственной поддрежки составляет 0,54, при этом сильных колебаний доли государственной поддержки в исследуемый период нет, она меняется в пределах 0,47 - 0,57. Средний рейтинг фильмов с государственной поддержкой составляет 6,02, по годам также нет сильных коллебаний, меняется в пределах (5,7 - 6,7). Если сравнивать средний рейтинг фильмов с государственной поддержкой и без, то тут также нет сильной разницы, рейтин фильмов без государственной поддержки только чуть выше 6,5.  "
   ]
  },
  {
   "cell_type": "markdown",
   "id": "486f8eae",
   "metadata": {},
   "source": [
    "4.8. Посмотрим фильмам каких режесеров оказывали госсударственную поддержку. Определяем уникальные занчения методом unique(). Проверяем нет ли неявных дубликатов. Заменяем неявные дубликаты и методом value_counts() определяем еще раз уникальные занчения. "
   ]
  },
  {
   "cell_type": "code",
   "execution_count": 76,
   "id": "7dff93e1",
   "metadata": {},
   "outputs": [
    {
     "data": {
      "text/plain": [
       "array(['А.Атанесян', 'А.Якимчук', 'Р.Давлетьяров',\n",
       "       'Е.Миндадзе (псевдоним Катя Шагалова)', 'М.Угаров', 'С.Серегин',\n",
       "       'В.Глаголева', 'А.Войтинский', 'Д.Федоров', 'Максим Свешников',\n",
       "       'Т.Аленикова', 'А.Пиманов', 'А.Цицилин', 'А.Стриженов', 'А.Зайцев',\n",
       "       'Р.Прыгунов', 'С.Попов', 'Д.Месхиев', 'В.Щегольков', 'А.Прошкин',\n",
       "       'П.Санаев', 'С.Мокрицкий', 'А.Мельник', 'А.Аксененко', 'Ю.Кара',\n",
       "       'К.Сухарьков', 'В.Демент', 'Ф.Абрютин', 'М.Бальчюнас',\n",
       "       'Э.Архангельская', 'К.Шипенко', 'Д.Елеонский', 'А.Звягинцев',\n",
       "       'Е.Татаров', 'А.Федорченко', 'Ю.Фетинг', 'В.Харченко', 'И.Чижиков',\n",
       "       'А.Меликян', 'А.Андрианов', 'Э.Манжеева', 'А.Калинкин',\n",
       "       'Е.Константинова (псевдоним Алена Званцева)', 'Н.Джорджадзе',\n",
       "       'Ф.Дмитриев', 'Р.Каримов', 'Д.Штурманова', 'А.Аравин',\n",
       "       'С.Говорухин', 'К.Ангелина', 'А.Карпиловский', 'Стефано Лоренци',\n",
       "       'В.Хотиненко', 'В.Штерянов при участии Е.Немых', 'С.Комаров',\n",
       "       'И.Северов', 'А.Ананикян', 'К.Белевич', 'Д.Чернов', 'А.Герман',\n",
       "       'А.Темников', 'Р.Ильясов', 'С.Пускепалис', 'М.Фадеев',\n",
       "       'Н.Кудряшова', 'Е.Хазанова', 'Э.Оганесян', 'М.Местецкий',\n",
       "       'Р.Гигинеишвили', 'И.Джендубаев',\n",
       "       'А.Першин (псевдоним Ж.Крыжовников)', 'Ю.Попович', 'К.Кузин',\n",
       "       'И.Вырыпаев', 'Д.Дьяченко', 'Э.Бордуков', 'А.Миндадзе', 'А.Нужный',\n",
       "       'Штефан Кромер', 'С Чекалов', 'А.Галибин', 'И.Кордзаия',\n",
       "       'Е.Баранов', 'Г.Куценко (Ю.Куценко)', 'К.Дружинин', 'В.Ровенский',\n",
       "       'И.Волкова', 'М.Волков', 'Т.Воронецкая', 'Н.Лебедев', 'А.Амиров',\n",
       "       'К.Геворкян', 'Т.Мамедов', 'Р.Артемьев', 'А.Матисон',\n",
       "       'В.Сторожева', 'А.Чернакова', 'А.Котт', 'А.Китайцев', 'О.Лопато',\n",
       "       'Т.Игуменцева', 'В.Лакисов', 'О.Беляева', 'Д.Тюрин', 'Ю.Белюсева',\n",
       "       'И.Угольников', 'А.Коваленко', 'М.Кравченко', 'А.Томашевский',\n",
       "       'Д.Шмидт', 'А.Михалков', 'П.Руминов',\n",
       "       'Н.Степанова при участии С.Иванова', 'Н.Бондарчук', 'А.Майовер',\n",
       "       'А.Соколов', 'М.Михайлова', 'Ю.Васильев', 'М.Левитин мл.',\n",
       "       'И.Болотников', 'А.Федотов', 'И.Твердовский', 'С.Подгаевский',\n",
       "       'П.Лунгин', 'Д.Киселев', 'И.Шахназаров', 'И.Учитель',\n",
       "       'Д.Светозаров', 'Н.Меркулова', 'А.Сурикова', 'А.Мизгирев',\n",
       "       'А.Кончаловский', 'В.Бортко', 'А.Хант', 'Р.Шульман', 'П.Чухрай',\n",
       "       'С.Гинзбург', 'М.Демченко', 'Н.Хомерики', 'В.Барбэ', 'С.Андреасян',\n",
       "       'А.Пармас', 'А.Лукьянчиков', 'М.Свешников', 'Ю.Кулаков', 'И.Перин',\n",
       "       'Ф.Бондарчук', 'Е.Борисова', 'Л.Марголин', 'Т.Бекмамбетов',\n",
       "       'Ю.Грымов', 'Э.Веливис', 'В.Тодоровский', 'В.Шевельков',\n",
       "       'В.Татарский', 'А.Лукичев', 'К.Баскакова', 'Эген Уулу Нурбек',\n",
       "       'А.Касаткин', 'Ф.Коршунов при участии П.Мирзоева', 'Т.Корнев',\n",
       "       'А.Романец', 'М.Шевчук', 'А.Волгин', 'А.Молочников', 'О.Карас',\n",
       "       'К.Худяков', 'Р.Волобуев', 'М.Расходников', 'А.Учитель',\n",
       "       'Т.Игуменцева (псевдоним Татьяна Капитан)', 'А Андрющенко',\n",
       "       'К.Оганесян', 'Э.Парри', 'А.Колпин', 'В.Марков', 'И.Шурховецкий',\n",
       "       'К.Коваленко', 'Е.Жигаева', 'А.Богуславский', 'О.Зуева',\n",
       "       'К.Максимов', 'О.Попова', 'Д.Суворов', 'А.Мегердичев',\n",
       "       'К.Феоктистов', 'Е.Соколов', 'Я.Поляруш', 'Р.Мосафир', 'О.Трофим',\n",
       "       'Ф.Фархшатова', 'К.Васильев',\n",
       "       'А.Черномазов (псевдоним Алексей Нужный)', 'Д.Козловский',\n",
       "       'П.Дроздов', 'К.Хабенский', 'А.Горчилин', 'А.Луканев', 'Т.Жалнин',\n",
       "       'К.Малкин-Фам', 'И.Евланникова', 'Н.Мещанинова', 'В.Битоков',\n",
       "       'И.Максимов', 'Е.Шелякин', 'И.Волошин', 'М.Нефедова', 'В.Алфёров',\n",
       "       'Н.Михалкова', 'А.Игудин',\n",
       "       'К.Белевич (псевдоним - Кирилл Астахов)', 'В.Алеников', 'М.Идов',\n",
       "       'А.Сухарев', 'С.Соколов', 'К.Плетнёв', 'К.Соколов', 'Т.Кеосаян',\n",
       "       'В.Саков', 'К.Бронзит', 'С.Черников', 'А.Сидоров', 'В.Потапов',\n",
       "       'А.Велединский', 'В.Николаев', 'А.Сахелашвили', 'А.Баршак',\n",
       "       'Д.Панченко', 'П.Сидоров',\n",
       "       'М.Бальчюнас (псевдоним Марюс Вайсберг)', 'С.Дворцевой',\n",
       "       'И.Зайцев', 'А.Золотухин', 'А.Домогаров', 'В.Фанасютина',\n",
       "       'Н.Лопато', 'Е.Бедарев', 'Ф.Попов', 'С.Саркисов', 'М.Агранович',\n",
       "       'Т.Тания', 'Н.Назарова', 'Валерия Гай Германика', 'Е.Яцкина',\n",
       "       'А.Лунгин', 'Ю.Разыков', 'Н.Сайфуллаева', 'Р.Паушу', 'Б.Акопов',\n",
       "       'Ю.Быков', 'П.Левченко', 'С.Проскурина',\n",
       "       'Р.Артемьев (псев.С.Васильев)', 'А.Красовский', 'О.Степченко',\n",
       "       'Е.Невский (псевдоним Е.Торрес)', 'М.Зыков', 'А.Аббасов',\n",
       "       'А.Михалков (псевдоним А.Кончаловский)', 'А.Попова', 'А.Богатырев',\n",
       "       'Е.Михалков-Кончаловский', 'М.Морсков', 'К.Оганисян', 'А.Пинхасов',\n",
       "       'В.Чигинский', 'О.Городецкая', 'В.Бедошвили', 'А.Кравчук',\n",
       "       ' Ф.Бондарчук', 'М.Бальчюнас (псевдоним М.Вайсберг)'], dtype=object)"
      ]
     },
     "metadata": {},
     "output_type": "display_data"
    }
   ],
   "source": [
    "display(df_goverment['director_new'].unique())"
   ]
  },
  {
   "cell_type": "code",
   "execution_count": 77,
   "id": "660977b6",
   "metadata": {},
   "outputs": [
    {
     "data": {
      "text/plain": [
       "Р.Давлетьяров    5\n",
       "С.Андреасян      4\n",
       "Д.Дьяченко       4\n",
       "С.Мокрицкий      3\n",
       "М.Бальчюнас      3\n",
       "                ..\n",
       "М.Кравченко      1\n",
       "А.Мегердичев     1\n",
       "Т.Аленикова      1\n",
       "С.Проскурина     1\n",
       "А.Кравчук        1\n",
       "Name: director_new, Length: 264, dtype: int64"
      ]
     },
     "execution_count": 77,
     "metadata": {},
     "output_type": "execute_result"
    }
   ],
   "source": [
    "dictionary5 = {' Ф.Бондарчук': 'Ф.Бондарчук', 'А.Михалков': 'А.Кончаловский', 'А.Михалков (псевдоним А.Кончаловский)': 'А.Кончаловский', \n",
    "               'А.Черномазов (псевдоним Алексей Нужный)': 'А.Нужный', 'К.Белевич (псевдоним - Кирилл Астахов)': 'К.Белевич', \n",
    "               'М.Бальчюнас (псевдоним М.Вайсберг)': 'М.Бальчюнас', 'М.Бальчюнас (псевдоним Марюс Вайсберг)': 'М.Бальчюнас',\n",
    "               'В.Штерянов при участии Е.Немых': 'В.Штерянов', 'Н.Степанова при участии С.Иванова': 'Н.Степанова', \n",
    "               'Ф.Коршунов при участии П.Мирзоева': 'Ф.Коршунов при участии П.Мирзоева'}\n",
    "\n",
    "df_goverment['director_new'] = df_goverment['director_new'].replace(dictionary5)\n",
    "df_goverment['director_new'].value_counts()"
   ]
  },
  {
   "cell_type": "markdown",
   "id": "59c51ca8",
   "metadata": {},
   "source": [
    "**Вывод** - Чаще всего за рассматриваемый период государство поддерживало фильмы режесеров - Р.Давлетьярова (5 фильмов), Д.Дьяченко и С.Андреасяна (4 фильма)."
   ]
  },
  {
   "cell_type": "markdown",
   "id": "0f6d8d47",
   "metadata": {},
   "source": [
    "4.9. Посмотри окупаются ли фильмы с государственным участием. Для этого в датафрейме df_goverment добавим столбец 'income', в него дабавим разницу между сборами от фильма и его бюджетом. Затем посчитаем долю фильмов, у которых доход >0 (при этом в расчете не учитываем фильмы сборы по которым не известны: для этого в новый датафрейм df_goverment_new сохраняем данные без пропусков в столбце income)."
   ]
  },
  {
   "cell_type": "code",
   "execution_count": 78,
   "id": "e7a20140",
   "metadata": {},
   "outputs": [
    {
     "data": {
      "text/html": [
       "<div>\n",
       "<style scoped>\n",
       "    .dataframe tbody tr th:only-of-type {\n",
       "        vertical-align: middle;\n",
       "    }\n",
       "\n",
       "    .dataframe tbody tr th {\n",
       "        vertical-align: top;\n",
       "    }\n",
       "\n",
       "    .dataframe thead th {\n",
       "        text-align: right;\n",
       "    }\n",
       "</style>\n",
       "<table border=\"1\" class=\"dataframe\">\n",
       "  <thead>\n",
       "    <tr style=\"text-align: right;\">\n",
       "      <th></th>\n",
       "      <th>index</th>\n",
       "      <th>title</th>\n",
       "      <th>puNumber</th>\n",
       "      <th>show_start_date</th>\n",
       "      <th>type</th>\n",
       "      <th>film_studio</th>\n",
       "      <th>production_country</th>\n",
       "      <th>director</th>\n",
       "      <th>producer</th>\n",
       "      <th>age_restriction</th>\n",
       "      <th>...</th>\n",
       "      <th>financing_source</th>\n",
       "      <th>ratings</th>\n",
       "      <th>genres</th>\n",
       "      <th>box_office</th>\n",
       "      <th>show_start_date_year</th>\n",
       "      <th>part_goverment_help</th>\n",
       "      <th>genres_new</th>\n",
       "      <th>director_new</th>\n",
       "      <th>goverment_help</th>\n",
       "      <th>income</th>\n",
       "    </tr>\n",
       "  </thead>\n",
       "  <tbody>\n",
       "    <tr>\n",
       "      <th>0</th>\n",
       "      <td>1281</td>\n",
       "      <td>Пока еще жива</td>\n",
       "      <td>111005313</td>\n",
       "      <td>2013-10-11 12:00:00+00:00</td>\n",
       "      <td>Художественный</td>\n",
       "      <td>АНО содействия развитию кинематографии \"Ангел-...</td>\n",
       "      <td>Россия</td>\n",
       "      <td>А.Атанесян</td>\n",
       "      <td>А.Атанесян, М.Бабаханов, Р.Бутко</td>\n",
       "      <td>16+</td>\n",
       "      <td>...</td>\n",
       "      <td>Министерство культуры</td>\n",
       "      <td>8.1</td>\n",
       "      <td>драма,мелодрама</td>\n",
       "      <td>365353.6</td>\n",
       "      <td>2013</td>\n",
       "      <td>0.333703</td>\n",
       "      <td>драма</td>\n",
       "      <td>А.Атанесян</td>\n",
       "      <td>26500000.0</td>\n",
       "      <td>-79046546.4</td>\n",
       "    </tr>\n",
       "    <tr>\n",
       "      <th>1</th>\n",
       "      <td>1448</td>\n",
       "      <td>Бесславные придурки</td>\n",
       "      <td>111003314</td>\n",
       "      <td>2014-03-28 12:00:00+00:00</td>\n",
       "      <td>Художественный</td>\n",
       "      <td>ООО \"Компания \"АТК-Студио\"</td>\n",
       "      <td>Россия</td>\n",
       "      <td>А.Якимчук</td>\n",
       "      <td>А.Тютрюмов</td>\n",
       "      <td>12+</td>\n",
       "      <td>...</td>\n",
       "      <td>Министерство культуры</td>\n",
       "      <td>NaN</td>\n",
       "      <td>NaN</td>\n",
       "      <td>28140.0</td>\n",
       "      <td>2014</td>\n",
       "      <td>0.700000</td>\n",
       "      <td>NaN</td>\n",
       "      <td>А.Якимчук</td>\n",
       "      <td>26000000.0</td>\n",
       "      <td>-37114717.0</td>\n",
       "    </tr>\n",
       "    <tr>\n",
       "      <th>2</th>\n",
       "      <td>1498</td>\n",
       "      <td>Невидимки</td>\n",
       "      <td>111004213</td>\n",
       "      <td>2013-09-10 12:00:00+00:00</td>\n",
       "      <td>Художественный</td>\n",
       "      <td>ООО \"Компания \"РЕАЛ-ДАКОТА\"</td>\n",
       "      <td>Россия</td>\n",
       "      <td>Р.Давлетьяров, С.Комаров</td>\n",
       "      <td>Р.Давлетьяров, А.Котелевский, А.Олейников</td>\n",
       "      <td>12+</td>\n",
       "      <td>...</td>\n",
       "      <td>Фонд кино</td>\n",
       "      <td>5.3</td>\n",
       "      <td>комедия,фантастика</td>\n",
       "      <td>19957031.5</td>\n",
       "      <td>2013</td>\n",
       "      <td>0.612691</td>\n",
       "      <td>комедия</td>\n",
       "      <td>Р.Давлетьяров</td>\n",
       "      <td>107847945.0</td>\n",
       "      <td>-156066458.5</td>\n",
       "    </tr>\n",
       "    <tr>\n",
       "      <th>3</th>\n",
       "      <td>1524</td>\n",
       "      <td>БЕРЦЫ</td>\n",
       "      <td>111004314</td>\n",
       "      <td>2014-05-05 12:00:00+00:00</td>\n",
       "      <td>Художественный</td>\n",
       "      <td>ООО \"Студия \"Пассажир\"</td>\n",
       "      <td>Россия</td>\n",
       "      <td>Е.Миндадзе (псевдоним Катя Шагалова)</td>\n",
       "      <td>Л.Антонова</td>\n",
       "      <td>16+</td>\n",
       "      <td>...</td>\n",
       "      <td>Министерство культуры</td>\n",
       "      <td>4.2</td>\n",
       "      <td>драма</td>\n",
       "      <td>55917.5</td>\n",
       "      <td>2014</td>\n",
       "      <td>0.690095</td>\n",
       "      <td>драма</td>\n",
       "      <td>Е.Миндадзе (псевдоним Катя Шагалова)</td>\n",
       "      <td>28000000.0</td>\n",
       "      <td>-40518222.5</td>\n",
       "    </tr>\n",
       "    <tr>\n",
       "      <th>4</th>\n",
       "      <td>1792</td>\n",
       "      <td>Братья Ч</td>\n",
       "      <td>111004414</td>\n",
       "      <td>2014-04-23 12:00:00+00:00</td>\n",
       "      <td>Художественный</td>\n",
       "      <td>ООО \"Студия \"Пассажир\"</td>\n",
       "      <td>Россия</td>\n",
       "      <td>М.Угаров</td>\n",
       "      <td>А.Миндадзе, Л.Антонова</td>\n",
       "      <td>16+</td>\n",
       "      <td>...</td>\n",
       "      <td>Министерство культуры</td>\n",
       "      <td>6.4</td>\n",
       "      <td>драма</td>\n",
       "      <td>232100.0</td>\n",
       "      <td>2014</td>\n",
       "      <td>0.624764</td>\n",
       "      <td>драма</td>\n",
       "      <td>М.Угаров</td>\n",
       "      <td>25000000.0</td>\n",
       "      <td>-39783022.0</td>\n",
       "    </tr>\n",
       "  </tbody>\n",
       "</table>\n",
       "<p>5 rows × 23 columns</p>\n",
       "</div>"
      ],
      "text/plain": [
       "   index                title   puNumber           show_start_date  \\\n",
       "0   1281        Пока еще жива  111005313 2013-10-11 12:00:00+00:00   \n",
       "1   1448  Бесславные придурки  111003314 2014-03-28 12:00:00+00:00   \n",
       "2   1498            Невидимки  111004213 2013-09-10 12:00:00+00:00   \n",
       "3   1524                БЕРЦЫ  111004314 2014-05-05 12:00:00+00:00   \n",
       "4   1792             Братья Ч  111004414 2014-04-23 12:00:00+00:00   \n",
       "\n",
       "             type                                        film_studio  \\\n",
       "0  Художественный  АНО содействия развитию кинематографии \"Ангел-...   \n",
       "1  Художественный                         ООО \"Компания \"АТК-Студио\"   \n",
       "2  Художественный                        ООО \"Компания \"РЕАЛ-ДАКОТА\"   \n",
       "3  Художественный                             ООО \"Студия \"Пассажир\"   \n",
       "4  Художественный                             ООО \"Студия \"Пассажир\"   \n",
       "\n",
       "  production_country                              director  \\\n",
       "0             Россия                            А.Атанесян   \n",
       "1             Россия                             А.Якимчук   \n",
       "2             Россия              Р.Давлетьяров, С.Комаров   \n",
       "3             Россия  Е.Миндадзе (псевдоним Катя Шагалова)   \n",
       "4             Россия                              М.Угаров   \n",
       "\n",
       "                                    producer age_restriction  ...  \\\n",
       "0           А.Атанесян, М.Бабаханов, Р.Бутко             16+  ...   \n",
       "1                                 А.Тютрюмов             12+  ...   \n",
       "2  Р.Давлетьяров, А.Котелевский, А.Олейников             12+  ...   \n",
       "3                                 Л.Антонова             16+  ...   \n",
       "4                     А.Миндадзе, Л.Антонова             16+  ...   \n",
       "\n",
       "        financing_source  ratings              genres  box_office  \\\n",
       "0  Министерство культуры      8.1     драма,мелодрама    365353.6   \n",
       "1  Министерство культуры      NaN                 NaN     28140.0   \n",
       "2              Фонд кино      5.3  комедия,фантастика  19957031.5   \n",
       "3  Министерство культуры      4.2               драма     55917.5   \n",
       "4  Министерство культуры      6.4               драма    232100.0   \n",
       "\n",
       "   show_start_date_year part_goverment_help  genres_new  \\\n",
       "0                  2013            0.333703       драма   \n",
       "1                  2014            0.700000         NaN   \n",
       "2                  2013            0.612691     комедия   \n",
       "3                  2014            0.690095       драма   \n",
       "4                  2014            0.624764       драма   \n",
       "\n",
       "                           director_new  goverment_help       income  \n",
       "0                            А.Атанесян      26500000.0  -79046546.4  \n",
       "1                             А.Якимчук      26000000.0  -37114717.0  \n",
       "2                         Р.Давлетьяров     107847945.0 -156066458.5  \n",
       "3  Е.Миндадзе (псевдоним Катя Шагалова)      28000000.0  -40518222.5  \n",
       "4                              М.Угаров      25000000.0  -39783022.0  \n",
       "\n",
       "[5 rows x 23 columns]"
      ]
     },
     "execution_count": 78,
     "metadata": {},
     "output_type": "execute_result"
    }
   ],
   "source": [
    "df_goverment['income'] = df_goverment['box_office'] - df_goverment['budget']\n",
    "df_goverment.head()"
   ]
  },
  {
   "cell_type": "code",
   "execution_count": 79,
   "id": "274a91a3",
   "metadata": {},
   "outputs": [
    {
     "data": {
      "text/plain": [
       "0"
      ]
     },
     "execution_count": 79,
     "metadata": {},
     "output_type": "execute_result"
    }
   ],
   "source": [
    "df_goverment_new = df_goverment.query('not(income.isna())')\n",
    "df_goverment_new['income'].isna().sum()"
   ]
  },
  {
   "cell_type": "code",
   "execution_count": 80,
   "id": "ef4f17ec",
   "metadata": {},
   "outputs": [
    {
     "data": {
      "text/plain": [
       "0.24842767295597484"
      ]
     },
     "execution_count": 80,
     "metadata": {},
     "output_type": "execute_result"
    }
   ],
   "source": [
    "len(df_goverment_new.query('income > 0'))/len(df_goverment_new)"
   ]
  },
  {
   "cell_type": "markdown",
   "id": "3bf275b4",
   "metadata": {},
   "source": [
    "**Вывод** - только около 25 % фильмов с государственной поддержкой окупаются."
   ]
  },
  {
   "cell_type": "markdown",
   "id": "49d5c18e",
   "metadata": {},
   "source": [
    "4.10. Посмотрим есть ли зависимость между количественными столбцами датафрейма df_goverment и какие. Строим матрику корреляции для интересующих нас столбцов и диаграммы рассеяния.\n"
   ]
  },
  {
   "cell_type": "code",
   "execution_count": 81,
   "id": "f2a70a3f",
   "metadata": {},
   "outputs": [
    {
     "data": {
      "text/html": [
       "<div>\n",
       "<style scoped>\n",
       "    .dataframe tbody tr th:only-of-type {\n",
       "        vertical-align: middle;\n",
       "    }\n",
       "\n",
       "    .dataframe tbody tr th {\n",
       "        vertical-align: top;\n",
       "    }\n",
       "\n",
       "    .dataframe thead th {\n",
       "        text-align: right;\n",
       "    }\n",
       "</style>\n",
       "<table border=\"1\" class=\"dataframe\">\n",
       "  <thead>\n",
       "    <tr style=\"text-align: right;\">\n",
       "      <th></th>\n",
       "      <th>ratings</th>\n",
       "      <th>box_office</th>\n",
       "      <th>budget</th>\n",
       "      <th>part_goverment_help</th>\n",
       "      <th>goverment_help</th>\n",
       "      <th>income</th>\n",
       "    </tr>\n",
       "  </thead>\n",
       "  <tbody>\n",
       "    <tr>\n",
       "      <th>ratings</th>\n",
       "      <td>1.000000</td>\n",
       "      <td>0.143755</td>\n",
       "      <td>0.088855</td>\n",
       "      <td>-0.070519</td>\n",
       "      <td>0.102222</td>\n",
       "      <td>0.091610</td>\n",
       "    </tr>\n",
       "    <tr>\n",
       "      <th>box_office</th>\n",
       "      <td>0.143755</td>\n",
       "      <td>1.000000</td>\n",
       "      <td>0.375631</td>\n",
       "      <td>-0.084591</td>\n",
       "      <td>0.488976</td>\n",
       "      <td>0.839991</td>\n",
       "    </tr>\n",
       "    <tr>\n",
       "      <th>budget</th>\n",
       "      <td>0.088855</td>\n",
       "      <td>0.375631</td>\n",
       "      <td>1.000000</td>\n",
       "      <td>-0.283001</td>\n",
       "      <td>0.736250</td>\n",
       "      <td>-0.187338</td>\n",
       "    </tr>\n",
       "    <tr>\n",
       "      <th>part_goverment_help</th>\n",
       "      <td>-0.070519</td>\n",
       "      <td>-0.084591</td>\n",
       "      <td>-0.283001</td>\n",
       "      <td>1.000000</td>\n",
       "      <td>0.110352</td>\n",
       "      <td>0.085326</td>\n",
       "    </tr>\n",
       "    <tr>\n",
       "      <th>goverment_help</th>\n",
       "      <td>0.102222</td>\n",
       "      <td>0.488976</td>\n",
       "      <td>0.736250</td>\n",
       "      <td>0.110352</td>\n",
       "      <td>1.000000</td>\n",
       "      <td>0.099607</td>\n",
       "    </tr>\n",
       "    <tr>\n",
       "      <th>income</th>\n",
       "      <td>0.091610</td>\n",
       "      <td>0.839991</td>\n",
       "      <td>-0.187338</td>\n",
       "      <td>0.085326</td>\n",
       "      <td>0.099607</td>\n",
       "      <td>1.000000</td>\n",
       "    </tr>\n",
       "  </tbody>\n",
       "</table>\n",
       "</div>"
      ],
      "text/plain": [
       "                      ratings  box_office    budget  part_goverment_help  \\\n",
       "ratings              1.000000    0.143755  0.088855            -0.070519   \n",
       "box_office           0.143755    1.000000  0.375631            -0.084591   \n",
       "budget               0.088855    0.375631  1.000000            -0.283001   \n",
       "part_goverment_help -0.070519   -0.084591 -0.283001             1.000000   \n",
       "goverment_help       0.102222    0.488976  0.736250             0.110352   \n",
       "income               0.091610    0.839991 -0.187338             0.085326   \n",
       "\n",
       "                     goverment_help    income  \n",
       "ratings                    0.102222  0.091610  \n",
       "box_office                 0.488976  0.839991  \n",
       "budget                     0.736250 -0.187338  \n",
       "part_goverment_help        0.110352  0.085326  \n",
       "goverment_help             1.000000  0.099607  \n",
       "income                     0.099607  1.000000  "
      ]
     },
     "execution_count": 81,
     "metadata": {},
     "output_type": "execute_result"
    }
   ],
   "source": [
    "df_goverment[['ratings', 'box_office', 'budget', 'part_goverment_help', 'goverment_help', 'income']].corr()\n"
   ]
  },
  {
   "cell_type": "code",
   "execution_count": 82,
   "id": "786e6183",
   "metadata": {},
   "outputs": [
    {
     "data": {
      "text/plain": [
       "<AxesSubplot:title={'center':'Зависимость между рейтингом и долей государственного участия'}, xlabel='part_goverment_help', ylabel='ratings'>"
      ]
     },
     "execution_count": 82,
     "metadata": {},
     "output_type": "execute_result"
    },
    {
     "data": {
      "image/png": "[encoded data removed]",
      "text/plain": [
       "<Figure size 432x144 with 1 Axes>"
      ]
     },
     "metadata": {
      "needs_background": "light"
     },
     "output_type": "display_data"
    }
   ],
   "source": [
    "df_goverment.plot(x='part_goverment_help', y='ratings', \n",
    "                  title='Зависимость между рейтингом и долей государственного участия', kind='scatter', figsize= (6,2))"
   ]
  },
  {
   "cell_type": "markdown",
   "id": "1cde50b4",
   "metadata": {},
   "source": [
    "**Вывод** - зависимости между рейтингом и долей государственного участия нет или она более сложная."
   ]
  },
  {
   "cell_type": "code",
   "execution_count": 83,
   "id": "18d2b985",
   "metadata": {},
   "outputs": [
    {
     "data": {
      "text/plain": [
       "<AxesSubplot:title={'center':'Зависимость между рейтингом и бюджетом фильма'}, xlabel='budget', ylabel='ratings'>"
      ]
     },
     "execution_count": 83,
     "metadata": {},
     "output_type": "execute_result"
    },
    {
     "data": {
      "image/png": "[encoded data removed]",
      "text/plain": [
       "<Figure size 432x144 with 1 Axes>"
      ]
     },
     "metadata": {
      "needs_background": "light"
     },
     "output_type": "display_data"
    }
   ],
   "source": [
    "df_goverment.plot(x='budget', y='ratings', \n",
    "                  title='Зависимость между рейтингом и бюджетом фильма', kind='scatter', figsize= (6,2))"
   ]
  },
  {
   "cell_type": "raw",
   "id": "03c8e618",
   "metadata": {},
   "source": [
    "**Вывод** - зависимости между рейтингом и бюджетом нет или она более сложная."
   ]
  },
  {
   "cell_type": "code",
   "execution_count": 84,
   "id": "2b28b3b6",
   "metadata": {
    "scrolled": true
   },
   "outputs": [
    {
     "data": {
      "text/plain": [
       "<AxesSubplot:title={'center':'Зависимость между рейтингом и окупаемостью фильмов'}, xlabel='income', ylabel='ratings'>"
      ]
     },
     "execution_count": 84,
     "metadata": {},
     "output_type": "execute_result"
    },
    {
     "data": {
      "image/png": "[encoded data removed]",
      "text/plain": [
       "<Figure size 432x144 with 1 Axes>"
      ]
     },
     "metadata": {
      "needs_background": "light"
     },
     "output_type": "display_data"
    }
   ],
   "source": [
    "df_goverment.plot(x='income', y='ratings', \n",
    "                  title='Зависимость между рейтингом и окупаемостью фильмов', kind='scatter', figsize= (6,2))"
   ]
  },
  {
   "cell_type": "markdown",
   "id": "d15ce033",
   "metadata": {},
   "source": [
    "**Вывод** - зависимости между рейтингом и окупаемостью фильма нет или она более сложная."
   ]
  },
  {
   "cell_type": "code",
   "execution_count": 85,
   "id": "ec1ba5a4",
   "metadata": {},
   "outputs": [
    {
     "data": {
      "text/plain": [
       "<AxesSubplot:title={'center':'Зависимость между суммой государственной поддержки и бюджетом фильмов'}, xlabel='budget', ylabel='goverment_help'>"
      ]
     },
     "execution_count": 85,
     "metadata": {},
     "output_type": "execute_result"
    },
    {
     "data": {
      "image/png": "[encoded data removed]",
      "text/plain": [
       "<Figure size 432x144 with 1 Axes>"
      ]
     },
     "metadata": {
      "needs_background": "light"
     },
     "output_type": "display_data"
    }
   ],
   "source": [
    "df_goverment.plot(x='budget', y='goverment_help', \n",
    "                 title='Зависимость между суммой государственной поддержки и бюджетом фильмов', kind='scatter', figsize= (6,2))"
   ]
  },
  {
   "cell_type": "markdown",
   "id": "a445ac51",
   "metadata": {},
   "source": [
    "**Вывод** - зависимости между размером государственной поддержки и бюджетом фильма прослеживается, чем больше бюджет фильма, тем как правило выше сумма государственно поддержки."
   ]
  },
  {
   "cell_type": "markdown",
   "id": "c138affa",
   "metadata": {},
   "source": [
    "Смотрю, какие уникальные значения есть в столбце production_country датафрейма фильмов с государственной поддержкой df_goverment, чтобы понять с какой выборкой из обшего датафрема фильмов df сравнивать. "
   ]
  },
  {
   "cell_type": "code",
   "execution_count": 86,
   "id": "6d62d9a7",
   "metadata": {},
   "outputs": [
    {
     "data": {
      "text/plain": [
       "array(['Россия', 'Россия, Франция, Латвия', 'Россия-Украина',\n",
       "       'Россия, Италия', 'Россия, Украина, Польша',\n",
       "       'Россия, Германия, Великобритания', 'Россия, Германия',\n",
       "       'Россия, Армения', 'Россия-Словакия-Чехия',\n",
       "       'Россия, Латвия, Чешская Республика',\n",
       "       'Россия, Германия, Казахстан, Польша, Китай', 'Россия, Сербия',\n",
       "       'Россия - Грузия', 'Россия-Китай', 'Россия, Бельгия, Финляндия'],\n",
       "      dtype=object)"
      ]
     },
     "execution_count": 86,
     "metadata": {},
     "output_type": "execute_result"
    }
   ],
   "source": [
    "df_goverment['production_country'].unique()"
   ]
  },
  {
   "cell_type": "markdown",
   "id": "b143ae82",
   "metadata": {},
   "source": [
    "Видим, что есть фильмы, где указана только Россия и есть фильмы совместного производтсва России с другими странами. Соответсвенно в общем датафрейме df находим аналогичные фильмы только без государственной поддержки и сохраним их в новом датафрейме df_russia. Для этого в датафрейме df добавляем столбец production_country_new, в котором заменяем значение на Россию, если среди стран производивших фильм, упоминается Россия, остальные значения оставляем как есть. Проверяем. Затем в датафрейме \n",
    "df_russia оставляем только фильмы, у которых в столбце production_country_new указано Россия и нет значений в столбце budget (это фильмы без гос. поддержки). Проверяем."
   ]
  },
  {
   "cell_type": "code",
   "execution_count": 87,
   "id": "e44f60e8",
   "metadata": {},
   "outputs": [
    {
     "name": "stdout",
     "output_type": "stream",
     "text": [
      "['США' 'СССР' 'Франция' 'СССР, Венгрия' 'Германия-Великобритания'\n",
      " 'Великобритания - Италия' 'Чехословакия' 'США - Франция - Турция'\n",
      " 'Новая Зеландия' 'Канада - Франция - Испания' 'США-Германия'\n",
      " 'США - Великобритания' 'Великобритания' 'США - Германия'\n",
      " 'Франция - Мексика - США' 'Россия' 'СССР, Швеция' 'Германия'\n",
      " 'Великобритания-США-Германия-КНР' 'СССР, ЧССР, Западный Берлин, ПНР'\n",
      " 'СССР, Италия' 'Гонконг, КНР' 'США - Франция'\n",
      " 'США - Япония - Франция - Великобритания'\n",
      " 'Гонконг - Сингапур - Таиланд - Великобритания' 'США-Канада'\n",
      " 'Франция - Италия - Великобритания - США' 'Франция - США'\n",
      " 'Ирландия-Великобритания-Германия' 'Чехия' 'США-Австралия'\n",
      " 'СССР, Финляндия' 'США-Франция-Великобритания-Австрия' 'США - Бельгия'\n",
      " 'США - Ирландия - Великобритания' 'Великобритания - США'\n",
      " 'Люксембург - Нидерланды - Испания - Великобритания - США - Италия'\n",
      " 'Великобритания - Франция - США' 'Новая Зеландия - США'\n",
      " 'США - Великобритания - Чехия' 'Канада - Франция - Великобритания'\n",
      " 'Ирландия' 'Великобритания - Германия - США'\n",
      " 'США - Франция - Великобритания' 'Япония' 'СССР, Польша'\n",
      " 'Франция - Испания' 'Канада-Франция' 'Германия - Италия - США'\n",
      " 'Аргентина - Бразилия' 'Дания - Швейцария - Бельгия - Франция'\n",
      " 'США - Испания' 'Германия - США'\n",
      " 'Франция - Австрия - Германия - Италия - США' 'Австрия'\n",
      " 'США - Канада - Германия' 'США - Канада' 'СССР- Швейцария - Франция'\n",
      " 'Гонконг' 'Италия' 'США - ОАЭ' 'США - Франция - Испания - Великобритания'\n",
      " 'Великобритания - Франция' 'США-Италия-Испания-Аргентина'\n",
      " 'Франция-Великобритания' 'КНР - Гонконг' 'Франция - Италия - Швейцария'\n",
      " 'США - Новая Зеландия' 'Франция - Бельгия' 'КНР'\n",
      " 'Германия - Великобритания - Австрия'\n",
      " 'Великобритания - Израиль - Франция - Япония - США' 'Швеция' 'Испания'\n",
      " 'Дания' 'Франция - Бельгия - Люксембург' 'США - Индия - ОАЭ'\n",
      " 'Германия-Канада-Великобритания-Швейцария-Франция' 'Мексика - Чили'\n",
      " 'Аргентина' 'Бразилия' 'Чили' 'Австралия' 'Португалия - Франция'\n",
      " 'США - ЮАР' 'Исландия-Ирландия-Германия' 'США-Индонезия' 'Южная Корея'\n",
      " 'Мексика - Испания - Дания - США' 'Великобритания-США' 'Франция - Италия'\n",
      " 'США-Франция' 'США - Венгрия - Великобритания' 'Бельгия-Франция-Италия'\n",
      " 'Чехия - Германия' 'Германия - Франция' 'США-Нидерланды' 'Украина'\n",
      " 'Великобритания - Германия' 'Франция-Бельгия' 'США-Франция-Испания'\n",
      " 'Италия - Франция' 'Канада' 'Швеция-Франция-Дания'\n",
      " 'Германия-Франция-Польша' 'Франция-Великобритания - Германия'\n",
      " 'США - Бразилия - Франция - Австралия - Великобритания - Германия'\n",
      " 'Германия-Австрия' 'Германия-Италия- Шри-Ланка'\n",
      " 'Великобритания - Испания' 'США - Великобритания - Канада - Швеция'\n",
      " 'Босния и Герцеговина - Франция - Великобритания - Германия - Словения - Бельгия - Сербия'\n",
      " 'Великобритания - Франция - Италия - США' 'США-ОАЭ' 'Испания - Франция'\n",
      " 'США-Великобритания' 'США-ЮАР' 'Великобритания-Австралия - США'\n",
      " 'Норвегия - Швеция - Дания - Германия' 'Норвегия' 'Швейцария'\n",
      " 'Греция - Германия - Франция' 'Норвения' 'Южная Корея - США'\n",
      " 'Чили - Франция - США' 'Австрия - Германия - Франция' 'Швеция - Дания'\n",
      " 'Великобритания - Франция - Бельгия - Италия' 'Франция - Германия'\n",
      " 'Грузия - Франция - Люксембург'\n",
      " 'США - Франция - Великобритания - Бразилия ' 'США - КНР'\n",
      " 'Мексика - Франция' 'США - Германия - Гонконг - Сингапур'\n",
      " 'Испания - Куба' 'Великобритания - ЮАР' 'Великобритания - Ирландия'\n",
      " 'Израиль' 'Бразилия - Германия - Порртугалия - Франция '\n",
      " 'Франция - Канада - Бельгия' 'Франция-Испания'\n",
      " 'Испания - Канада - Япония' 'Иран' 'Швеция-Куба'\n",
      " 'США-Великобритания-Ирландия' 'Гонконг - КНР' 'Нидерланды'\n",
      " 'Испания - Канада' 'Япония-Великобритания'\n",
      " 'Великобритания - Норвегия - Дания - Германия'\n",
      " 'Финляндия - Франция - Германия'\n",
      " 'Мексика - Франция - Нидерланды - Германия' 'США - Индия'\n",
      " 'США-Великобритания-Индия' 'США-Канада-Бельгия' 'Республика Узбекистан'\n",
      " 'Италия ' 'Турция'\n",
      " 'Сербия - Словения - Хорватия - Черногория - Македония' 'Киргизия'\n",
      " 'Индия' 'Великобритания - Нидерланды - Франция - Хорватия'\n",
      " 'Канада - Южная Корея' 'Великобритания - Польша - КНР - Индия - Норвегия'\n",
      " 'Япония - Франция - США - Южная Корея - Турция'\n",
      " 'Мексика - Аргентина - Великобритания' 'Израиль - Франция'\n",
      " 'Польша - Португалия - Франция - Великобритания' 'Австралия - США'\n",
      " 'США - Великобритания ' 'Франция - Люксембург - Бельгия'\n",
      " 'Бельгия - Люксембург - Франция - Швейцария'\n",
      " 'США - Великобритания - Канада' 'Норвегия - Швеция' 'Канада - Франция'\n",
      " 'КНР - Гонконг - США' 'США - Сингапур - Малайзия - Индонезия'\n",
      " 'Япония - Канада' 'Финляндия - Дания - Германия - Ирландия'\n",
      " 'Франция - Люксембург - Германия - Бельгия - Швейцария - Великобритания '\n",
      " 'Канада - США' 'США-Италия-Испания' 'США-Испания'\n",
      " 'США - Швейцария - Франция' 'Испания - США - Колумбия' 'Канада-ЮАР'\n",
      " 'Германия - Финляндия - Австралия' 'Дания - Швеция' 'Бельгия'\n",
      " 'Германия - Франция - Австрия' 'Франция-Индия' 'ЮАР' 'Франция-Перу'\n",
      " 'Франция - Канада' 'Республика Беларусь'\n",
      " 'Великобритания - Австрия - Франция - США' 'Австрия-Германия-Франция'\n",
      " 'Германия-США' 'США - Южная Корея' 'Канада - КНР'\n",
      " 'Дания - Швеция - Италия - Франция - Германия'\n",
      " 'Франция-Италия-Испания-Венгрия' 'Франция - Германия - Бельгия'\n",
      " 'Франция-Великобритания-Чехия' 'Румыния - Франция - Бельгия'\n",
      " 'Болгария - Франция - Изриль'\n",
      " 'Израиль - Германия - Польша - Бельгия - Франция - Люксембург'\n",
      " 'Индонезия' 'Франция - Португалия' 'Великобритания - Пуэрто-Рико'\n",
      " 'СССР, ФРГ, Западный Берлин' 'США, Великобритания' 'Франция - Австрия'\n",
      " 'Бельгия-Нидерланды' 'Великобритания - США - Индия'\n",
      " 'США - Великобритания - Австралия'\n",
      " 'Канада - Франция - США - ОАЭ - Великобритания'\n",
      " 'США - Австралия - Франция'\n",
      " 'Дания-Франция-Бельгия-Германия-Великобритания' 'Испания - Аргентина'\n",
      " 'Исландия - Финляндия' 'Дания - Германия - Швеция'\n",
      " 'Южная Корея - США - Канада' 'Таиланд' 'США-Мальта' 'США -Германия'\n",
      " 'Великобритания - Германия - Франция - Кипр - США' 'Мексика'\n",
      " 'США - Великобритания - Ирландия' 'США - Украина'\n",
      " 'США - Финляндия - Испания - Великобритания - Франция'\n",
      " 'Австралия-Великобритания'\n",
      " 'США - Канада - Афганистан - Бельгия - Франция'\n",
      " 'США - Великобритания - Германия - Новая Зеландия - Бельгия - Франция'\n",
      " 'Франция-Канада'\n",
      " 'Ирландия - Финляндия - Бельгия - Великобритания - США - Швейцария'\n",
      " 'Малайзия - США' 'Германия - Италия' 'США - Франция - Бельгия - Италия'\n",
      " 'Франция - Ирландия - Швеция' 'Великобритания - Италия - Швейцария'\n",
      " 'США - Германия - Великобритания' 'США-Китай' 'Чили - Испания'\n",
      " 'Франция - Швейцария' 'Канада - Испания' 'США - Румыния - Великобритания'\n",
      " 'США - Япония' 'Франция-США' 'Парагвай' 'Германия - Канада'\n",
      " 'США - Канада - Великобритания' 'Финляндия - Канада'\n",
      " 'Уругвай-Мексика-Германия ' 'США - Чили'\n",
      " 'Германия - Аргентина - Нидерланды - Чили' 'США - Канада - Индонезия'\n",
      " 'Армения - Казахстан' 'Финляндия' 'Испания - Италия - Франция'\n",
      " 'Бельгия - Испания - Канада - Нидерланды'\n",
      " 'Великобритания - Франция - Швеция - Бельгия'\n",
      " 'Мексика - Эквадор - Канада - США - Франция - Малайзия - Италия - Аргентина - Германия - Индия  '\n",
      " 'Франция - Бенльгия' 'Индия - Великобритания'\n",
      " 'Япония - Великобритания - Франция' 'Испания - Уругвай - Аргентина'\n",
      " 'Франция - Италия - Бельгия - Люксембург'\n",
      " 'Франция - Украина - Грузия - Армения' 'Сербия - Германия - Венгрия'\n",
      " 'Франция-Польша' 'Франция ' 'Румыния-США'\n",
      " 'США - Нидерланды - Бельгия - Венгрия - Греция - Канада'\n",
      " 'Германия - Франция - Люксембург' 'Великобритания - США - Франция'\n",
      " 'США - Австралия - Дания' 'Бельгия-Франция' 'США-Мексика' 'СЩА'\n",
      " 'Бразилия - Испания'\n",
      " 'Нидерланды - США - Германия - Канада - Франция - Ирландия - Великобритания'\n",
      " 'Уругвай - Колумбия' 'США - Испания - Болгария' 'Армения - Германия'\n",
      " 'США - Великобритания- Франция - Швеция' 'США - Мексика'\n",
      " 'Австралия-Турция-США' 'Швеция - Германия' 'Франция - Бразилия'\n",
      " 'США - Канада - КНР' 'СССР, Венгрия, ЧССР, ГДР'\n",
      " 'Бельгия - Германия - Люксембург' 'США - Австралия' 'Бразилия - США'\n",
      " 'США - Великобритания - Канада - КНР' 'Франция - Чили'\n",
      " 'Дания - Великобритания - ЮАР' 'Германия - США - Швеция - Франция'\n",
      " 'Великобритания-Германия-Канада-ЮАР' 'Армения' 'Ирландия, Канада'\n",
      " 'Япония - Великобритания - Швейцария - Ирландия - Дания - Франция - Польша - Австралия - Канада  '\n",
      " 'Великобритания, Канада' 'Бельгия - США'\n",
      " 'Германия - США - Великобритания - Израиль' 'Канада - Германия'\n",
      " 'США- Ю.Корея' 'Индия - Мексика'\n",
      " 'Великобритания - Франция - Республика Кипр - Швейцария - США - Сербия'\n",
      " 'Испания - Аргентина - Индия - США'\n",
      " 'Норвегия - Исландия - США - Великобритания '\n",
      " 'Турция - Германя - Франция' 'Германия - Великобритания'\n",
      " 'Австралия - Германия' 'Мексика - Испания'\n",
      " 'Великобритания - США - Германия - Бельгия' 'США - Чехия - Франция'\n",
      " 'Норвегия - Дания - Швеция' 'Франция - Швейцария - Германия'\n",
      " 'Грузия - Украина' 'США - Франция - ЮАР'\n",
      " 'Великобритания - США - Швейцария' 'Канада-США'\n",
      " 'Мексика - Нидерланды - Германия - Франция' 'США - Испания - Франция'\n",
      " 'США - Великобритания - КНР' 'США-Франция-Канада'\n",
      " 'Япония, Великобритания, Австрия, Германия, Ю.Корея'\n",
      " 'Великобритания - Ирландия - США' 'Бельгия - Италия - Франция '\n",
      " 'Швейцария-Германия-ЮАР' 'Великобритания - США - Германия'\n",
      " 'Германия - Исландия' 'Испания - США' 'Хорватия'\n",
      " 'Финляндия - Исландия - Швеция' 'Канада - США - Германия - Франция'\n",
      " 'США - Великобритания - Испания' 'Ирландия-Великобритания'\n",
      " 'Аргентина - Испания' 'Австрия - Германия'\n",
      " 'Германия - Швейцария - Франция - Южная Корея - США'\n",
      " 'Украина - Нидерланды' 'Венгрия - Германия - Швеция' 'СССР, Афганистан'\n",
      " 'СССР, Монголия'\n",
      " 'Великобритания - Нидерланды - Германия - Франция - Бельгия - Австрия '\n",
      " 'Испания - Великобритания - Франция' 'Дания - Норвегия - Великобритания'\n",
      " 'Бельгия - Франция - Люксембург'\n",
      " 'Италия - Франция - Швейцария - Великобритания'\n",
      " 'Франция - Бельгия - Великобритания - Испания - Германия - США'\n",
      " 'Швейцария - Израиль - Франция - Великобритания'\n",
      " 'Великобритания - США - Канада - Нидерланды - Франция' 'СССР, Албания'\n",
      " 'Финляндия - Великобритания - Германия'\n",
      " 'Франция - Италия - Бельгия - КНР'\n",
      " 'Германия - Бельгия - Люксембург - Ирландия' 'КНР - Сингапур'\n",
      " 'Франция - Бельгия - Великобритания - США - Нидерланды - Канада'\n",
      " 'Франция - Бельгия - Канада' 'США ' 'Мексика - США'\n",
      " 'США - Гонконг - КНР '\n",
      " 'Ирландия - Дания - Бельгия - Люксембург - Франция'\n",
      " 'Великобритания - Исландия - Испания - Швейцария - США'\n",
      " 'Австралия - Великобритания - Бельгия - Индия'\n",
      " 'Швеция - Германия - Франция - Норвегия'\n",
      " 'Нидерланды - Бельгия - Германия - Ирландия'\n",
      " 'Нидерланды - Великобритания - Бельгия' 'США - Колумбия - Испания'\n",
      " 'Франция-Испания-Бельгия-Панама' 'США-Великобритания-Чехия-Румыния'\n",
      " 'Швеция - Франция - Норвегия - Дания' 'Италия-Франция-Великобритания'\n",
      " 'Великобритания, Франция' 'Австралия, США' 'Венесуэла'\n",
      " 'Великобритания - США - Австралия - Ирландия - Германия - Куба - Канада'\n",
      " 'Южная Корея - КНР' 'Аргентина - Мексика - Бразилия - Франция - США'\n",
      " 'Швеция - США' 'Франция - Германия - Турция - Катар' 'Франция-Китай'\n",
      " 'Великобритания - Италия - Испания' 'Япония - КНР - Южная Корея'\n",
      " 'Македония - Франция - Великобритания' 'Франция - Бразилия - Италия'\n",
      " 'Франция -  Бельгия' 'Грузия-Франция' 'ЮАР - США'\n",
      " 'Великобритания-США-Франция'\n",
      " 'Великобритания - США - Германия - Канада - Австралия' 'США-Ирландия'\n",
      " 'Германия - Люксембург - Франция'\n",
      " 'США - Нидерланды - Финляндия - Великобритания - Италия'\n",
      " 'Республика Кипр' 'Венгрия' 'Франция - США - Норвегия - Дания'\n",
      " 'Германия - Австрия - Ирландия' 'США - Финляндия' 'Италия-Великобритания'\n",
      " 'США - Великобритания - Болгария' 'Великобритания - Люксембург'\n",
      " 'Индия - США'\n",
      " 'Дания - Австрия - Ирландия - Финляндия - Норвегия - Швеция - Нидерланды'\n",
      " 'США-КНР' 'Грузия' 'Австралия - Ирландия' 'Великобритания - Канада'\n",
      " 'Италия - Аргентина - Словения '\n",
      " 'Испания - Франция - Нидерланды - Германия - Бельгия - Великобритания - Канада'\n",
      " 'Франция - Чехия - Бельгия' 'Великобритания - Франция - Германия - США'\n",
      " 'Ирландия - Великобритания - Франция - США - Германия - Нидерланды'\n",
      " 'США - Канада - Япония - КНР' 'Италия-Франция'\n",
      " 'США - Великобритания - Исландия' 'Великобритания-Франция'\n",
      " 'Франция - Германия - Нидерланды' 'Иран '\n",
      " 'Франция - Германия - Швеция - США - Чехия - Словакия - Великобритания - Нидерланды'\n",
      " 'Турция - США'\n",
      " 'Великобритания - США - Канада - Бельгия - Нидерланды - Австрия - Германия'\n",
      " 'Израиль - Франция - Германия - Палестина - США - Австрия - Великобритания'\n",
      " 'Аргентина - Франция - Испания'\n",
      " 'Великобритания - Франция - Италия - Индия - Дания - КНР - Бангладеш - Камбоджа - Гаити - Уганда'\n",
      " 'Италия - Франция - Швейцария' 'Ирландия - Великобритания - Канада'\n",
      " 'Перу' 'США - Норвегия' 'Испания-Канада' 'Китай-Гонконг'\n",
      " 'США - Германия - КНР' 'Великобритания - Новая Зеландия'\n",
      " 'Франция - Дания - Швеция - КНР'\n",
      " 'США - Великобритания - Германия - Бельгия - Дания'\n",
      " 'США - Франция - Канада - Германия - Австралия - Индия'\n",
      " 'СССР, Румыния, Франция' 'СССР, ГДР' 'Австралия-Ирландия' 'США - Китай'\n",
      " 'Великобритания - Франция - Австрия - Швеция'\n",
      " 'Нидерланды - Бельгия - Болгария' 'Великобритания - Канада - США'\n",
      " 'Франция - Бельгия - Испания' 'Китай-Гонконг-США'\n",
      " 'Франция - Великобритания' 'США - Вьетнам' 'США - Германия - Франция'\n",
      " 'Германия - Франция - Бельгия' 'США - Италия'\n",
      " 'Германия - Дания - Испания - Швеция - Канада - Эстония - Франция'\n",
      " 'Княжество Андорра - Украина' 'Германия - Люксембург - Бельгия'\n",
      " 'Германия - Бельгия - Люксембург - Норвегия'\n",
      " 'США - Австралия - Новая Зеландия - Великобритания'\n",
      " 'США - Франция - Канада - Великобритания' 'Испания-Колумбия'\n",
      " 'Великобритания - Чехия - Франция' 'Исландия'\n",
      " 'Великобритания - Франция - Венгрия' 'Франция - Македония'\n",
      " 'Нидерланды - Франция - Германия - Бельгия - Швеция - Великобритания'\n",
      " 'Испания - США - Великобритания - Канада' 'Германия - Австрия'\n",
      " 'Республика Казахстан' 'Франция - Испания - Дания - Венгрия - Швейцария'\n",
      " 'Франция-КНР' 'США - Пуэрто-Рико - Франция ' 'Мексика - Тайвань - США'\n",
      " 'Великобритания - Испания - Непал - Индия - Венгрия - Гонконг - Германия - Дания - Бахрейн'\n",
      " 'КНР - США' 'Италия - США' 'Финляндия - Швеция - Германия'\n",
      " 'Канада- Испания' 'Франция - Бельгия - Чехия' 'Франция-Бельгия-Канада'\n",
      " 'Франция - Германия - США' 'США - Дания' 'Индия - КНР'\n",
      " 'Чехия-Великобритания-США'\n",
      " 'Ирландия-Нидерланды-Франция-США-Великобритания'\n",
      " 'Финляндия - Швеция - Норвегия' 'Сербия - Великобритания - США'\n",
      " 'США - Великобритания - Франция - Гонконг' 'Швейцария - Франция'\n",
      " 'Швейцария - Великобритания' 'ОАЭ - США'\n",
      " 'США - Франция - Германия - Канада - Австралия ' 'Германия - Австралия'\n",
      " 'Иран, Франция' 'США - Великобритания - Новая Зеландия' 'США-Колумбия'\n",
      " 'США-Франция-Ирландия' 'Великобритания - Франция - Бельгия'\n",
      " 'США - Великобритания - Япония' 'США - Франция - Германия'\n",
      " 'Польша - Ирландия' 'Ирландия - Великобритания - Франция - США'\n",
      " 'США - Бельгия - Великобритания' 'СССР, ВНР'\n",
      " 'Испания - Франция - США - Великобритания - Бельгия'\n",
      " 'Франция - Дания - США' 'США - Гонконг' 'Бразилия - К;анада'\n",
      " 'Франция-Германия' 'США - Колумбия'\n",
      " 'США - Ирландия - Великобритания - Франция'\n",
      " 'Великобритания - США - Канада' 'Польша - Франция'\n",
      " 'Канада - США - Нидерланды - Великобритания - Аргентина'\n",
      " 'Великобритания - Дания' 'Франция - Бельгия - Япония' 'Франция -Бельгия'\n",
      " 'США - Канада - Германия - Франция' 'США-Канада-Франция'\n",
      " 'Китай - Гонконг' 'Германия-Австрия-Франция-Италия' 'США-Япония'\n",
      " 'США - Германия - Канада' 'Испания-Мексика'\n",
      " 'США - Япония - Канада - Великобритания - Германия - Франция'\n",
      " 'США -Великобритания - Австралия'\n",
      " 'Израиль - Франция - Великобритания - Германия' 'Корея' 'США-Индия'\n",
      " 'Германия-Канада-Франция-Бельгия' 'Германия-Кения' 'Франция - Монако'\n",
      " 'Франция-Испания-Швейцария' 'Австрия-Франция-Германия' 'Румыния'\n",
      " 'США-Великобритания-Франция' 'Канада-Бразилия-Япония'\n",
      " 'Германия - Дания - Норвегия' 'Дания - Германия' 'СССР- Италия'\n",
      " 'СССР- ГДР - Польша - Италия' 'США - Испания - Франция - Великобритания'\n",
      " 'Китай' 'Мексика-Аргентина'\n",
      " 'Германия - Великобритания - Италия - Испания'\n",
      " 'Франция-Германия-Великобритания' 'Голландия' 'Швейцария-Франция'\n",
      " 'Франция - Испания - Тайвань' 'США-Южная Корея-Новая Зеландия'\n",
      " 'Великобритания-Венгрия' 'Великобритания-Франция-Германия'\n",
      " 'Франция-Германия-Италия' 'Швеция-Финляндия-Франция-Норвегия'\n",
      " 'Франция-Италия' 'Германия-Израиль'\n",
      " 'Швеция - Германия - Дания - Норвегия' 'США-Бельгия'\n",
      " 'Франция-Гонконг-Ирландия' 'Эстония' 'Германия - Италия - Франция'\n",
      " 'Великобритания - Австрия - Германия' 'Бельгия - Франция'\n",
      " 'Испания - Мальта' 'Испания - Мексика' 'США-Аргентина' 'Великобритания '\n",
      " 'Израиль-США-Франция' 'США - Новая Зеландия - Япония'\n",
      " 'Франция - Чехия - Великобритания' 'Германия-Франция-Великобритания'\n",
      " 'США-Германия-Канада' 'США-Гонконг-Китай'\n",
      " 'США - Великобритания - Германия' 'США-Канада-Австралия'\n",
      " 'Япония-США-Франция' 'Франция-Испания-Германия'\n",
      " 'США - Хорватия - Босния-Герцеговина'\n",
      " 'Великобритания - Чехия - Франция - Италия' 'США - Германия - Нидерланды'\n",
      " 'Германия - Франция - Канада' 'Великобритания - Франция - Италия'\n",
      " 'Франция - Италия - Иран' 'Греция' 'Дания - США'\n",
      " 'США-Великобритания-Новая Зеландия' 'США-Германия-Австралия'\n",
      " 'США-Канада-Италия' 'США - Япония - Германия' 'Австралия-США'\n",
      " 'Франция - Великобритания - Багамские острова - США'\n",
      " 'Швейцария - Люксембург' 'Швейцария - Австрия' 'Германия - Швейцария'\n",
      " 'Дания-Швеция-Франция-Германия' 'Польша' 'Швейцария-Австрия'\n",
      " 'Бразилия - Канада - США' 'Португалия' 'Франция-Аргентина'\n",
      " 'Швеция-Франция' 'Франция-Украина' 'Германия-Украина-Нидерланды'\n",
      " 'Италия-Швейцария' 'США-Германия-Великобритания'\n",
      " 'Германия-Франция-Великобритания-США' 'Канада - Италия'\n",
      " 'США - Объединенные Арабские Эмираты' 'США-Венгрия' 'Малайзия'\n",
      " 'США - Австралия - Мексика' 'Литва - Венгрия' 'Германия - Китай'\n",
      " 'Казахстан' 'Республика Корея'\n",
      " 'США - Германия - Франция - Великобритания - Канада '\n",
      " 'Бельгия - Германия - Люксембург - Франция' 'Франция - Греция'\n",
      " 'Италия - Канада' 'США - Великобритания - Франция' 'США-Италия-Греция'\n",
      " 'Германия - США - Великобритания - Ирландия'\n",
      " 'Великобритания - Франция - Германия' 'Германия - Нидерланды - ЮАР'\n",
      " 'США-Япония-Германия-Великобритания-Нидерланды'\n",
      " 'США-Япония-Германия-Великобритания' 'Германия - Франция - Польша'\n",
      " 'Таиланд-Великобритания-Франция-Германия-Испания-Нидерланды'\n",
      " 'Германия-Италия-Швейцария'\n",
      " 'Дания - Швеция - Великобритания - Франция - Германия - Нидерланды - Норвегия - Финляндия'\n",
      " 'Франция - Великобритания - Нидерланды - Люксембург'\n",
      " 'Нидерланды-Великобритания-Франция-Италия-Япония'\n",
      " 'Финляндия-Дания-Германия-Ирландия' 'Испания-Аргентина'\n",
      " 'Великобритания - Нидерланды - Франция - США' 'Канада - Мексика'\n",
      " 'США, Франция' 'Канада-Южная Корея-США'\n",
      " 'Великобритания - Франция - Бельгия - США' 'КНР - Канада - США'\n",
      " 'Италия - Франция - Германия' 'Швеция - Германия - Франция - Дания'\n",
      " 'Франция - США - Бельгия' 'Украина - Германия - Латвия - Эстония'\n",
      " 'Австрия - Люксембург' 'Великобритания - КНР' 'Монголия'\n",
      " 'Франция - Дания' 'Швеция - Дания - Финляндия'\n",
      " 'Сингапур - Великобритания - Индонезия - Канада - США'\n",
      " 'США - Германия - Япония' 'Таиланд - США' 'Франция - Нидерланды'\n",
      " 'Великобритания - Румыния' 'США - Мальта'\n",
      " 'Великобритания - Германия - Нидерланды - Дания' 'США - ЮАР - Гонконг'\n",
      " 'Австралия - Колумбия' 'Великобритания - Польша'\n",
      " 'США - Великобритания - Швеция' 'Франция - Швеция - Дания - Норвегия'\n",
      " 'Болгария - США' 'СССР, ФРГ' 'Бельгия - Нидерланды - Франция'\n",
      " 'Финляндия - Германия' 'Болгария' 'Франция - Люксембург'\n",
      " 'Франция - Германия - Австрия' 'Норвегия - США' 'Германия-Швеция'\n",
      " 'Франция - Германия - Италия' 'Франция-Германия-Австрия' 'КНР-США'\n",
      " 'Великобритания - Ирландия - США ' 'Финляндия - Польша'\n",
      " 'Германия - Бельгия' 'Германия - США - Франция - Испания'\n",
      " 'Бельгия-Германия-Канада-Франция-США-Великобритания'\n",
      " 'Нидерланды - Бельгия - Люксембург' 'Канада-Германия'\n",
      " 'Люксембург - Бельгия - Франция' 'США-Великобритания-Австралия'\n",
      " 'Великобритания, Новая Зеландия' 'Бельгия, Великобритания, США'\n",
      " 'Великобритания, Австралия' 'Исландия, Бельгия'\n",
      " 'Испания - Швейцария - Великобритания - Германия - Новая Зеландия - Нидерланды - Канада'\n",
      " 'Франция, Бельгия' 'Великобритания, США' 'Германия, США'\n",
      " 'Великобритания, США, Испания' 'Италия - Швейцария - Германия'\n",
      " 'Франция, Германия' 'Китай, Канада, США' 'Германия, Австралия' 'КНР, США'\n",
      " 'США, Великобритания, Люксембург' 'Испания, Ирландия, Бельгия, Франция'\n",
      " 'Великобритания - Гонконг - Венгрия - США - Ирландия' 'США - Пуэрто Рико'\n",
      " 'Аргентина - Испания - Уругвай'\n",
      " 'Израиль - Германия - Франция - Швейцария'\n",
      " 'Великобритания - Мексика - США' 'Испания - Болгария - США'\n",
      " 'Испания - Бельгия - Франция - Португалия - Великобритания'\n",
      " 'Бразилия - Португалия - Франция' 'Швеция - Норвегия'\n",
      " 'Франция - Польша - Бельгия' 'CША' 'Китай, США'\n",
      " 'Италия, Франция, Германия' 'Германия - Австрия - Франция'\n",
      " 'Чехия - Словакия - Хорватия'\n",
      " 'Франция - Великобритания - Камбоджа - США - КНР' 'Чехия - Испания - США'\n",
      " 'Германия - Люксембург - Дания' 'Великобритания - Испания - Германия'\n",
      " 'Дания - Исландия' 'Германия, Франция, Великобритания'\n",
      " 'Великобритания - Испания - Италия - Латвия - Франция - Эстония'\n",
      " 'Дания, Швеция, Великобритания, Франция, Германия, Норвегия, Финляндия, Нидерланды, Италия'\n",
      " 'Польша - Франция - Великобритания' 'Дания, Норвегия, Венгрия, Чехия'\n",
      " 'Дания - Франция - Германия - Швеция' 'Великобритания, Швеция, США'\n",
      " 'Канада, Франция, Италия, Швейцария, США' 'США, Индия'\n",
      " 'США - Великобритания - Германия - - Швеция - Канада' 'Италия, Франция'\n",
      " 'Италия-Швейцария-Франция-Германия '\n",
      " 'Франция - Испания - Румыния - США - Бельгия' 'Италия-США'\n",
      " 'Ирландия - Великобритания - США'\n",
      " 'Швейцария, Великобритания, Франция, США, Ирландия'\n",
      " 'Мексика, Франция, Германия, Дания, Швеция' 'Нидерланды, Бельгия'\n",
      " 'Швеция, Норвегия, Финляндия, Франция' 'Испания, Франция, Италия'\n",
      " 'Великобритания - Япония - США' 'Дания, Канада, Норвегия, Австралия, США'\n",
      " 'Аргентина, Испания' 'Португалия, Франция, Польша, США'\n",
      " 'США - Канада - Аргентина' 'Ливан-США' 'Япония - США' 'США, Гонконг '\n",
      " 'Аргентина-Испания' 'США - Болгария - Мексика'\n",
      " 'США - Великобритания - Швейцария - Франция' 'Таиланд - КНР - США'\n",
      " 'Великобритания, Нидерланды, Польша, Швейцария, Франция' 'Ирландия - США'\n",
      " 'Германия - Франция - Великобритания - Польша - США'\n",
      " 'Великобритания-Франция-Италия' 'США - Австралия - Индия' 'Франция - КНР'\n",
      " 'Великобритания - Израиль' 'Великобритания - Норвегия - Кения - Хорватия'\n",
      " 'США - Бразилия - Великобритания - Канада' 'Германия, Бельгия'\n",
      " 'Австралия, Канада' 'США, Великобритания, Франция' 'Кения, Германия'\n",
      " 'Нидерланды, Бельгия, Люксембург' 'Колумбия' 'Латвия - Франция'\n",
      " 'Ирландия, Великобритания' 'Франция - Израиль - Германия'\n",
      " 'Швеция, Франция, Великобритания' 'Бельгия - Люксембург'\n",
      " 'Германия - Бельгия - Великобритания'\n",
      " 'Испания, Франция, Великобритания, Дания, Бельгия, Германия'\n",
      " 'Румыния, ЮАР, Иран, Франция, Канада, Великобритания' 'Германия, Франция'\n",
      " 'США, Япония' 'США, Великобритания, Ирландия, Люксембург'\n",
      " 'Республика Армения' 'США, Франция, Япония' 'Япония, США' 'Канада, США'\n",
      " 'Дания - Франция - Италия - Бельгия - Нидерланды' 'Италия, Германия'\n",
      " 'Норвегия, Швеция, Дания' 'КНР, Индия, Гонконг, США' 'Израиль, Украина'\n",
      " 'США - КНР - Индия - Ю.Корея' 'США - Швеция' 'Франция, Канада'\n",
      " 'Канада, Великобритания' 'США, Германия' 'Канада, США, Каймановы острова'\n",
      " 'Бразилия, Уругвай, Дания, Норвегия, Чили, Швеция'\n",
      " 'Пуэрто-Рико, Великобритания, США' 'Уругвай - Аргентина - Испания'\n",
      " 'США - Великобритания - Италия - Израиль - Сербия - Индия'\n",
      " 'США - Канада - Франция - Индия' 'Франция, Новая Зеландия'\n",
      " 'Франция, Люксембург, Бельгия' 'Канада, США, Норвегия' 'Италия, Испания'\n",
      " 'Испания - Германия - Нидерланды' 'Бразилия - США - КНР '\n",
      " 'Великобритания, Германия, Дания, США' '2019'\n",
      " 'Италия - Фрация - Бразилия - Германия' 'Великобритания, Япония, США'\n",
      " 'США, Канада' 'Бельгия, Канада' 'Великобритания - Австралия - США'\n",
      " 'КНР - США ' 'Франция - Финляндия' 'Колумбия - США'\n",
      " 'Великобритания, Франция, Бельгия' 'Норвегия - Нидерланды'\n",
      " 'Великобритания, Канада, США' 'Япония, Великобритания'\n",
      " 'Италия - Бельгия - Франция' 'США, Украина' 'Франция, Норвегия'\n",
      " 'Великобритания, Южная Корея, Канада, США, Индия, Китай, Япония'\n",
      " 'Канада - Норвегия' 'Польша - Франция - Испания - Бразилия - Швеция'\n",
      " 'Австрия, Великобритания, Германия' 'Франция - Сенегал - Бельгия'\n",
      " 'Франция, Бельгия, Люксембург' 'Финляндия, Латвия' 'Пакистан'\n",
      " 'Германия, Франция, США' 'Германия - Великобритания - США'\n",
      " 'КНР - Франция' 'Дания, Норвегия, Швеция, Исландия'\n",
      " 'Новая Зеландия - КНР'\n",
      " 'Дания - Канада - Швеция - Франция - Германия - Великобритания - США']\n"
     ]
    }
   ],
   "source": [
    "def change_production_country(row):\n",
    "    if 'Россия' in row:\n",
    "        return 'Россия'\n",
    "    \n",
    "    else:\n",
    "        return row\n",
    "    \n",
    "df['production_country_new'] = df['production_country'].apply(change_production_country) \n",
    "print(df['production_country_new'].unique())  "
   ]
  },
  {
   "cell_type": "code",
   "execution_count": 88,
   "id": "b867b120",
   "metadata": {},
   "outputs": [
    {
     "data": {
      "text/html": [
       "<div>\n",
       "<style scoped>\n",
       "    .dataframe tbody tr th:only-of-type {\n",
       "        vertical-align: middle;\n",
       "    }\n",
       "\n",
       "    .dataframe tbody tr th {\n",
       "        vertical-align: top;\n",
       "    }\n",
       "\n",
       "    .dataframe thead th {\n",
       "        text-align: right;\n",
       "    }\n",
       "</style>\n",
       "<table border=\"1\" class=\"dataframe\">\n",
       "  <thead>\n",
       "    <tr style=\"text-align: right;\">\n",
       "      <th></th>\n",
       "      <th>title</th>\n",
       "      <th>puNumber</th>\n",
       "      <th>show_start_date</th>\n",
       "      <th>type</th>\n",
       "      <th>film_studio</th>\n",
       "      <th>production_country</th>\n",
       "      <th>director</th>\n",
       "      <th>producer</th>\n",
       "      <th>age_restriction</th>\n",
       "      <th>refundable_support</th>\n",
       "      <th>...</th>\n",
       "      <th>budget</th>\n",
       "      <th>financing_source</th>\n",
       "      <th>ratings</th>\n",
       "      <th>genres</th>\n",
       "      <th>box_office</th>\n",
       "      <th>show_start_date_year</th>\n",
       "      <th>part_goverment_help</th>\n",
       "      <th>genres_new</th>\n",
       "      <th>director_new</th>\n",
       "      <th>production_country_new</th>\n",
       "    </tr>\n",
       "  </thead>\n",
       "  <tbody>\n",
       "    <tr>\n",
       "      <th>61</th>\n",
       "      <td>Американская дочь</td>\n",
       "      <td>111005515</td>\n",
       "      <td>2015-04-23 12:00:00+00:00</td>\n",
       "      <td>Художественный</td>\n",
       "      <td>АО \"Караван\", Компания \"Америкен Дистрибьюшн\",...</td>\n",
       "      <td>Россия, Казахстан, США</td>\n",
       "      <td>К.Шахназаров</td>\n",
       "      <td>NaN</td>\n",
       "      <td>6+</td>\n",
       "      <td>NaN</td>\n",
       "      <td>...</td>\n",
       "      <td>NaN</td>\n",
       "      <td>NaN</td>\n",
       "      <td>7.0</td>\n",
       "      <td>драма,комедия</td>\n",
       "      <td>300.0</td>\n",
       "      <td>2015</td>\n",
       "      <td>NaN</td>\n",
       "      <td>драма</td>\n",
       "      <td>К.Шахназаров</td>\n",
       "      <td>Россия</td>\n",
       "    </tr>\n",
       "    <tr>\n",
       "      <th>311</th>\n",
       "      <td>Фара</td>\n",
       "      <td>211040615</td>\n",
       "      <td>2015-09-10 12:00:00+00:00</td>\n",
       "      <td>Художественный</td>\n",
       "      <td>ЗАО Студия \"Эй-Би-Эй\", Национальный продюсерск...</td>\n",
       "      <td>Россия - Казахстан</td>\n",
       "      <td>А.Карпыков</td>\n",
       "      <td>Б.Айрапетян</td>\n",
       "      <td>12+</td>\n",
       "      <td>NaN</td>\n",
       "      <td>...</td>\n",
       "      <td>NaN</td>\n",
       "      <td>NaN</td>\n",
       "      <td>7.6</td>\n",
       "      <td>триллер,драма</td>\n",
       "      <td>NaN</td>\n",
       "      <td>2015</td>\n",
       "      <td>NaN</td>\n",
       "      <td>триллер</td>\n",
       "      <td>А.Карпыков</td>\n",
       "      <td>Россия</td>\n",
       "    </tr>\n",
       "    <tr>\n",
       "      <th>336</th>\n",
       "      <td>Каникулы строгого режима</td>\n",
       "      <td>111008514</td>\n",
       "      <td>2014-08-07 12:00:00+00:00</td>\n",
       "      <td>Художественный</td>\n",
       "      <td>ООО \"Кинобазза\" по  заказу ЗАО \"Дирекция Кино\"</td>\n",
       "      <td>Россия</td>\n",
       "      <td>И.Зайцев</td>\n",
       "      <td>А.Максимов, Н.Попов, Д.Файзиев</td>\n",
       "      <td>12+</td>\n",
       "      <td>NaN</td>\n",
       "      <td>...</td>\n",
       "      <td>NaN</td>\n",
       "      <td>NaN</td>\n",
       "      <td>7.1</td>\n",
       "      <td>драма,комедия,приключения</td>\n",
       "      <td>360.0</td>\n",
       "      <td>2014</td>\n",
       "      <td>NaN</td>\n",
       "      <td>драма</td>\n",
       "      <td>И.Зайцев</td>\n",
       "      <td>Россия</td>\n",
       "    </tr>\n",
       "    <tr>\n",
       "      <th>462</th>\n",
       "      <td>Август. Восьмого</td>\n",
       "      <td>111000612</td>\n",
       "      <td>2012-02-07 12:00:00+00:00</td>\n",
       "      <td>Художественный</td>\n",
       "      <td>ЗАО \"ПК \"ГЛАВКИНО\"</td>\n",
       "      <td>Россия</td>\n",
       "      <td>Д.Файзиев</td>\n",
       "      <td>Д.Файзиев, Ф.Бондарчук, И.Бачурин</td>\n",
       "      <td>12+</td>\n",
       "      <td>NaN</td>\n",
       "      <td>...</td>\n",
       "      <td>NaN</td>\n",
       "      <td>NaN</td>\n",
       "      <td>6.1</td>\n",
       "      <td>драма,военный</td>\n",
       "      <td>6775.0</td>\n",
       "      <td>2012</td>\n",
       "      <td>NaN</td>\n",
       "      <td>драма</td>\n",
       "      <td>Д.Файзиев</td>\n",
       "      <td>Россия</td>\n",
       "    </tr>\n",
       "    <tr>\n",
       "      <th>463</th>\n",
       "      <td>Тот еще...!</td>\n",
       "      <td>111001612</td>\n",
       "      <td>2012-02-20 12:00:00+00:00</td>\n",
       "      <td>Художественный</td>\n",
       "      <td>ООО \"Энджой мувиз\"</td>\n",
       "      <td>Россия</td>\n",
       "      <td>С.Андреасян</td>\n",
       "      <td>Г.Малков</td>\n",
       "      <td>12+</td>\n",
       "      <td>NaN</td>\n",
       "      <td>...</td>\n",
       "      <td>NaN</td>\n",
       "      <td>NaN</td>\n",
       "      <td>2.6</td>\n",
       "      <td>фэнтези,комедия,семейный</td>\n",
       "      <td>12779.0</td>\n",
       "      <td>2012</td>\n",
       "      <td>NaN</td>\n",
       "      <td>фэнтези</td>\n",
       "      <td>С.Андреасян</td>\n",
       "      <td>Россия</td>\n",
       "    </tr>\n",
       "    <tr>\n",
       "      <th>...</th>\n",
       "      <td>...</td>\n",
       "      <td>...</td>\n",
       "      <td>...</td>\n",
       "      <td>...</td>\n",
       "      <td>...</td>\n",
       "      <td>...</td>\n",
       "      <td>...</td>\n",
       "      <td>...</td>\n",
       "      <td>...</td>\n",
       "      <td>...</td>\n",
       "      <td>...</td>\n",
       "      <td>...</td>\n",
       "      <td>...</td>\n",
       "      <td>...</td>\n",
       "      <td>...</td>\n",
       "      <td>...</td>\n",
       "      <td>...</td>\n",
       "      <td>...</td>\n",
       "      <td>...</td>\n",
       "      <td>...</td>\n",
       "      <td>...</td>\n",
       "    </tr>\n",
       "    <tr>\n",
       "      <th>7470</th>\n",
       "      <td>Дикие и свободные</td>\n",
       "      <td>112004819</td>\n",
       "      <td>2019-12-23 12:00:00+00:00</td>\n",
       "      <td>Документальный</td>\n",
       "      <td>АНО \"ТВ-Новости\"</td>\n",
       "      <td>Россия</td>\n",
       "      <td>Н.Карачкова</td>\n",
       "      <td>В.Сенина</td>\n",
       "      <td>6+</td>\n",
       "      <td>NaN</td>\n",
       "      <td>...</td>\n",
       "      <td>NaN</td>\n",
       "      <td>NaN</td>\n",
       "      <td>NaN</td>\n",
       "      <td>NaN</td>\n",
       "      <td>NaN</td>\n",
       "      <td>2019</td>\n",
       "      <td>NaN</td>\n",
       "      <td>NaN</td>\n",
       "      <td>Н.Карачкова</td>\n",
       "      <td>Россия</td>\n",
       "    </tr>\n",
       "    <tr>\n",
       "      <th>7475</th>\n",
       "      <td>Папа</td>\n",
       "      <td>111022919</td>\n",
       "      <td>2019-12-24 12:00:00+00:00</td>\n",
       "      <td>Художественный</td>\n",
       "      <td>ООО \"Киношкола имени Сергея Федоровича Бондарч...</td>\n",
       "      <td>Россия</td>\n",
       "      <td>К.Чувикова</td>\n",
       "      <td>ООО \"Киношкола имени Сергея Федоровича Бондарч...</td>\n",
       "      <td>18+</td>\n",
       "      <td>NaN</td>\n",
       "      <td>...</td>\n",
       "      <td>NaN</td>\n",
       "      <td>NaN</td>\n",
       "      <td>8.2</td>\n",
       "      <td>драма</td>\n",
       "      <td>NaN</td>\n",
       "      <td>2019</td>\n",
       "      <td>NaN</td>\n",
       "      <td>драма</td>\n",
       "      <td>К.Чувикова</td>\n",
       "      <td>Россия</td>\n",
       "    </tr>\n",
       "    <tr>\n",
       "      <th>7479</th>\n",
       "      <td>Эколав</td>\n",
       "      <td>111023219</td>\n",
       "      <td>2019-12-26 12:00:00+00:00</td>\n",
       "      <td>Художественный</td>\n",
       "      <td>ВГИК</td>\n",
       "      <td>Россия</td>\n",
       "      <td>Д.Григорьев</td>\n",
       "      <td>ВГИК</td>\n",
       "      <td>18+</td>\n",
       "      <td>NaN</td>\n",
       "      <td>...</td>\n",
       "      <td>NaN</td>\n",
       "      <td>NaN</td>\n",
       "      <td>NaN</td>\n",
       "      <td>NaN</td>\n",
       "      <td>NaN</td>\n",
       "      <td>2019</td>\n",
       "      <td>NaN</td>\n",
       "      <td>NaN</td>\n",
       "      <td>Д.Григорьев</td>\n",
       "      <td>Россия</td>\n",
       "    </tr>\n",
       "    <tr>\n",
       "      <th>7484</th>\n",
       "      <td>Машины песенки. Серия \"Испанские мотивы\"</td>\n",
       "      <td>124010619</td>\n",
       "      <td>2019-12-30 12:00:00+00:00</td>\n",
       "      <td>Анимационный</td>\n",
       "      <td>Анимаккорд Лтд., ООО Студия \"АНИМАККОРД\"</td>\n",
       "      <td>Республика Кипр, Россия</td>\n",
       "      <td>А.Беляев</td>\n",
       "      <td>Д.Ловейко</td>\n",
       "      <td>0+</td>\n",
       "      <td>NaN</td>\n",
       "      <td>...</td>\n",
       "      <td>NaN</td>\n",
       "      <td>NaN</td>\n",
       "      <td>NaN</td>\n",
       "      <td>NaN</td>\n",
       "      <td>NaN</td>\n",
       "      <td>2019</td>\n",
       "      <td>NaN</td>\n",
       "      <td>NaN</td>\n",
       "      <td>А.Беляев</td>\n",
       "      <td>Россия</td>\n",
       "    </tr>\n",
       "    <tr>\n",
       "      <th>7485</th>\n",
       "      <td>Машины песенки. Серия \"Когда цветут кактусы\"</td>\n",
       "      <td>124010719</td>\n",
       "      <td>2019-12-30 12:00:00+00:00</td>\n",
       "      <td>Анимационный</td>\n",
       "      <td>Анимаккорд Лтд., ООО Студия \"АНИМАККОРД\"</td>\n",
       "      <td>Республика Кипр, Россия</td>\n",
       "      <td>И.Трусов</td>\n",
       "      <td>Д.Ловейко</td>\n",
       "      <td>0+</td>\n",
       "      <td>NaN</td>\n",
       "      <td>...</td>\n",
       "      <td>NaN</td>\n",
       "      <td>NaN</td>\n",
       "      <td>6.3</td>\n",
       "      <td>комедия,вестерн</td>\n",
       "      <td>NaN</td>\n",
       "      <td>2019</td>\n",
       "      <td>NaN</td>\n",
       "      <td>комедия</td>\n",
       "      <td>И.Трусов</td>\n",
       "      <td>Россия</td>\n",
       "    </tr>\n",
       "  </tbody>\n",
       "</table>\n",
       "<p>1644 rows × 21 columns</p>\n",
       "</div>"
      ],
      "text/plain": [
       "                                             title   puNumber  \\\n",
       "61                               Американская дочь  111005515   \n",
       "311                                           Фара  211040615   \n",
       "336                       Каникулы строгого режима  111008514   \n",
       "462                               Август. Восьмого  111000612   \n",
       "463                                    Тот еще...!  111001612   \n",
       "...                                            ...        ...   \n",
       "7470                             Дикие и свободные  112004819   \n",
       "7475                                          Папа  111022919   \n",
       "7479                                        Эколав  111023219   \n",
       "7484      Машины песенки. Серия \"Испанские мотивы\"  124010619   \n",
       "7485  Машины песенки. Серия \"Когда цветут кактусы\"  124010719   \n",
       "\n",
       "               show_start_date            type  \\\n",
       "61   2015-04-23 12:00:00+00:00  Художественный   \n",
       "311  2015-09-10 12:00:00+00:00  Художественный   \n",
       "336  2014-08-07 12:00:00+00:00  Художественный   \n",
       "462  2012-02-07 12:00:00+00:00  Художественный   \n",
       "463  2012-02-20 12:00:00+00:00  Художественный   \n",
       "...                        ...             ...   \n",
       "7470 2019-12-23 12:00:00+00:00  Документальный   \n",
       "7475 2019-12-24 12:00:00+00:00  Художественный   \n",
       "7479 2019-12-26 12:00:00+00:00  Художественный   \n",
       "7484 2019-12-30 12:00:00+00:00    Анимационный   \n",
       "7485 2019-12-30 12:00:00+00:00    Анимационный   \n",
       "\n",
       "                                            film_studio  \\\n",
       "61    АО \"Караван\", Компания \"Америкен Дистрибьюшн\",...   \n",
       "311   ЗАО Студия \"Эй-Би-Эй\", Национальный продюсерск...   \n",
       "336      ООО \"Кинобазза\" по  заказу ЗАО \"Дирекция Кино\"   \n",
       "462                                  ЗАО \"ПК \"ГЛАВКИНО\"   \n",
       "463                                  ООО \"Энджой мувиз\"   \n",
       "...                                                 ...   \n",
       "7470                                   АНО \"ТВ-Новости\"   \n",
       "7475  ООО \"Киношкола имени Сергея Федоровича Бондарч...   \n",
       "7479                                               ВГИК   \n",
       "7484           Анимаккорд Лтд., ООО Студия \"АНИМАККОРД\"   \n",
       "7485           Анимаккорд Лтд., ООО Студия \"АНИМАККОРД\"   \n",
       "\n",
       "           production_country      director  \\\n",
       "61     Россия, Казахстан, США  К.Шахназаров   \n",
       "311        Россия - Казахстан    А.Карпыков   \n",
       "336                    Россия      И.Зайцев   \n",
       "462                    Россия     Д.Файзиев   \n",
       "463                    Россия   С.Андреасян   \n",
       "...                       ...           ...   \n",
       "7470                   Россия   Н.Карачкова   \n",
       "7475                   Россия    К.Чувикова   \n",
       "7479                   Россия   Д.Григорьев   \n",
       "7484  Республика Кипр, Россия      А.Беляев   \n",
       "7485  Республика Кипр, Россия      И.Трусов   \n",
       "\n",
       "                                               producer age_restriction  \\\n",
       "61                                                  NaN              6+   \n",
       "311                                         Б.Айрапетян             12+   \n",
       "336                      А.Максимов, Н.Попов, Д.Файзиев             12+   \n",
       "462                   Д.Файзиев, Ф.Бондарчук, И.Бачурин             12+   \n",
       "463                                            Г.Малков             12+   \n",
       "...                                                 ...             ...   \n",
       "7470                                           В.Сенина              6+   \n",
       "7475  ООО \"Киношкола имени Сергея Федоровича Бондарч...             18+   \n",
       "7479                                               ВГИК             18+   \n",
       "7484                                          Д.Ловейко              0+   \n",
       "7485                                          Д.Ловейко              0+   \n",
       "\n",
       "      refundable_support  ...  budget  financing_source ratings  \\\n",
       "61                   NaN  ...     NaN               NaN     7.0   \n",
       "311                  NaN  ...     NaN               NaN     7.6   \n",
       "336                  NaN  ...     NaN               NaN     7.1   \n",
       "462                  NaN  ...     NaN               NaN     6.1   \n",
       "463                  NaN  ...     NaN               NaN     2.6   \n",
       "...                  ...  ...     ...               ...     ...   \n",
       "7470                 NaN  ...     NaN               NaN     NaN   \n",
       "7475                 NaN  ...     NaN               NaN     8.2   \n",
       "7479                 NaN  ...     NaN               NaN     NaN   \n",
       "7484                 NaN  ...     NaN               NaN     NaN   \n",
       "7485                 NaN  ...     NaN               NaN     6.3   \n",
       "\n",
       "                         genres box_office  show_start_date_year  \\\n",
       "61                драма,комедия      300.0                  2015   \n",
       "311               триллер,драма        NaN                  2015   \n",
       "336   драма,комедия,приключения      360.0                  2014   \n",
       "462               драма,военный     6775.0                  2012   \n",
       "463    фэнтези,комедия,семейный    12779.0                  2012   \n",
       "...                         ...        ...                   ...   \n",
       "7470                        NaN        NaN                  2019   \n",
       "7475                      драма        NaN                  2019   \n",
       "7479                        NaN        NaN                  2019   \n",
       "7484                        NaN        NaN                  2019   \n",
       "7485            комедия,вестерн        NaN                  2019   \n",
       "\n",
       "      part_goverment_help  genres_new  director_new production_country_new  \n",
       "61                    NaN       драма  К.Шахназаров                 Россия  \n",
       "311                   NaN     триллер    А.Карпыков                 Россия  \n",
       "336                   NaN       драма      И.Зайцев                 Россия  \n",
       "462                   NaN       драма     Д.Файзиев                 Россия  \n",
       "463                   NaN     фэнтези   С.Андреасян                 Россия  \n",
       "...                   ...         ...           ...                    ...  \n",
       "7470                  NaN         NaN   Н.Карачкова                 Россия  \n",
       "7475                  NaN       драма    К.Чувикова                 Россия  \n",
       "7479                  NaN         NaN   Д.Григорьев                 Россия  \n",
       "7484                  NaN         NaN      А.Беляев                 Россия  \n",
       "7485                  NaN     комедия      И.Трусов                 Россия  \n",
       "\n",
       "[1644 rows x 21 columns]"
      ]
     },
     "execution_count": 88,
     "metadata": {},
     "output_type": "execute_result"
    }
   ],
   "source": [
    "df_russia = df.query('production_country_new == \"Россия\" and budget.isna()')\n",
    "df_russia"
   ]
  },
  {
   "cell_type": "code",
   "execution_count": 89,
   "id": "6fc3a239",
   "metadata": {},
   "outputs": [
    {
     "data": {
      "text/plain": [
       "531"
      ]
     },
     "execution_count": 89,
     "metadata": {},
     "output_type": "execute_result"
    }
   ],
   "source": [
    "len(df_russia.query('not (box_office.isna())'))"
   ]
  },
  {
   "cell_type": "markdown",
   "id": "f0e97664",
   "metadata": {},
   "source": [
    "Теперь считаем средний рейтинг фильмов, произведенных с участием Росии, но без государственной поддержки и сумму сборов по ним, а также среднюю сумму сборов."
   ]
  },
  {
   "cell_type": "code",
   "execution_count": 90,
   "id": "dece0944",
   "metadata": {},
   "outputs": [
    {
     "name": "stdout",
     "output_type": "stream",
     "text": [
      "Среднее значение рейтинга фильмов, произведенных с участием России без гос. поддержки: 6.200091575091575\n",
      "Сборы фильмов, произведенных с участием России без гос. поддержки: 10564178389.349998\n",
      "Среднее значение сборов: 19894874.556214686\n"
     ]
    }
   ],
   "source": [
    "print('Среднее значение рейтинга фильмов, произведенных с участием России без гос. поддержки:', \n",
    "      df_russia['ratings'].mean())\n",
    "print('Сборы фильмов, произведенных с участием России без гос. поддержки:', df_russia['box_office'].sum())\n",
    "print('Среднее значение сборов:', df_russia['box_office'].mean())"
   ]
  },
  {
   "cell_type": "markdown",
   "id": "ce334e5b",
   "metadata": {},
   "source": [
    "Считаем сумму сборов фильмов с государственной поддержкой и среднюю сумму сборов, а средний рейтинг уже посчитали ранее - 6.02."
   ]
  },
  {
   "cell_type": "code",
   "execution_count": 91,
   "id": "c85a2be8",
   "metadata": {},
   "outputs": [
    {
     "name": "stdout",
     "output_type": "stream",
     "text": [
      "Сборы фильмов с государственной поддержкой: 42113509574.78\n",
      "Среднее значение сборов: 132432420.04647799\n"
     ]
    }
   ],
   "source": [
    "print('Сборы фильмов с государственной поддержкой:', df_goverment['box_office'].sum())\n",
    "print('Среднее значение сборов:', df_goverment['box_office'].mean())"
   ]
  },
  {
   "cell_type": "markdown",
   "id": "d3fdb8fd",
   "metadata": {},
   "source": [
    "**Вывод по варианту сравнения фильмов с гос. поддержкой только с фильмами, в производстве которых принимала участие Россия, без поддержки государства** \n",
    "Средний рейтинги фильмов с гос. поддеркой и фильмов с участием России без гос. поддержки похожи (6,02 и 6,2 соответсвенно). Если сравнивать средние значения сборов, тут лидируют фильмы с гос. поддержкой."
   ]
  },
  {
   "cell_type": "markdown",
   "id": "1396205d",
   "metadata": {},
   "source": [
    "**Итоговый вывод**\n",
    "Было проведено исследование рынка российского кинопроката. Нужно было изучить рынок российского кинопроката и выявить текущие тренды. Исследовать фильмы, которые получили государственную поддержку, понять какой рейтинг данных фильмов, хорошо ли они окупаются. Работа проводилась с данными, опубликованными на портале открытых данных Министерства культуры. Набор данных содержал информацию о прокатных удостоверениях, сборах и государственной поддержке фильмов, а также информацию с сайта КиноПоиск.\n",
    "Во время исследлвания. \n",
    "\n",
    "**В результате исследования всех фильмов было выявлено следующее:**\n",
    "\n",
    "1. Количество фильмов, выходящих в прокат, менялось каждый год, какой-то определенной тенденции нет. Самое большое количество фильмов вышло в 2010 и 2019 годах. Самое маленькое количество фильмов выпущено в прокат в 2017 году.\n",
    "\n",
    "2. Количество фильмов с информацией о прокате - в целом наблюдается тенденция роста числа таких фильмов. Доля фильмов с информацией о прокате была максимальной в 2017 году - около 0,7, минимальной в 2010 году - около 0,1. В период с 2015 по 2019 год наиболее полная информация о прокате фильмов относительно предыдущих периодов(с 2010 по 2014 включительно).\n",
    "\n",
    "3. Сумма сборов начиная с 2015 года значительно выросла. Год, в котором были максимальные сборы: 2018, год, в котором были минимальные сборы: 2010. Однако данная информация требует дополнительного исследования, т.к. с 2015 г увеличилось количество фильмов с информаицей о сборах, ранне данной информации практически не было.\n",
    "\n",
    "4. Определили, что возрасное ограничение аудитории влияет на сборы фильма в прокате в период с 2015 по 2019 год. Возрасное ограничение, в котором были максимальные сборы (70000000000 руб) : 16+, возрасное ограничение, в котором были минимальные сборы (около 800000000 руб): 0+. Картина меняется в зависимости от года, но не значительно. Минимальное количество сборов в возрасной категории 0+ из года в год. А вот мах значение меняется, но в большинстве случаев чаще всего больше собирают фильмы в категории 16+. Незначительные коллебания по годам скорее всего связаны с конкретными фильмами, которые выходили в соответсвующем году.\n",
    "\n",
    "**В результате исследования всех фильмов с государственной поддержкой было выявлено следующее:**\n",
    "\n",
    "1. В период с 2013 по 2019 год в прокат поступило 332 фильма с государственно поддержкой. В целом в рассматриваемый период наблюдается рост числа фильмов с государственной поддержкой. Самое большое количество фильмов вышло в прока в 2015 году - 86, в 2016-2017 наблюдался спад, а затем опять рост. Минимальное количество фильмов с гос. поддержкой было в 2013 году - 2.\n",
    "\n",
    "2. В целом на поддержку фильмов государство выделило:\n",
    "- сумма, выделенная на поддержку фильмов со стороны государства: 20200688312 руб\n",
    "- невозвратная сумма, выделенная на поддержку фильмов со стороны государства: 16261688312 руб, доля невозвратной части: 0.81\n",
    "- возвратная сумма, выделенная на поддержку фильмов со стороны государства: 3939000000 руб\n",
    "Из разбивки по годам, видно, что наименьше вложения были в 2013 и 2014 годах, а максимальное в 2019 году. В 2017 и 2018 году наблюдался небольшой спад финансирования. Аналогичная картина и по невозвратным средствам. В 2013 году выделялись только невозвратные средства, а с 2014 года наблюдается рост возвратной части средств, со спадом в 2017 и 2018 годах.\n",
    "\n",
    "3. Источник финансирования фильмов - Министерство культуры и Фонд кино.\n",
    "   Министерство культуры               164 фильма\n",
    "   Фонд кино                           146 фильма\n",
    "   Министерство культуры, Фонд кино     22 фильма\n",
    "   \n",
    "4. Больше всего с государственной поддрежкой снимается художественных фильмов (300), меньше анимационных (31), и один документальный фильм. \n",
    "\n",
    "5. Больше всего госсударство принимала участие в фильмах с возрасной категорией 16+ и 12+, 125 и 106 фильмов сответственно.\n",
    "\n",
    "6. Средняя доля государственной поддрежки составляет 0,54, при этом сильных колебаний доли государственной поддержки в исследуемый период нет, она меняется в пределах 0,47 - 0,57. \n",
    "\n",
    "7. Средний рейтинг фильмов с государственной поддержкой составляет 6,02, по годам также нет сильных коллебаний, меняется в пределах (5,7 - 6,7). Если сравнивать средний рейтинг фильмов с государственной поддержкой и без, то тут также нет сильной разницы, рейтин фильмов без государственной поддержки только чуть выше 6,5.  \n",
    "\n",
    "8. Чаще всего за рассматриваемый период государство поддерживало фильмы режесеров - Р.Давлетьярова (5 фильмов), Д.Дьяченко и С.Андреасяна (4 фильма)\n",
    "\n",
    "9. Только около 25 % фильмов с государственной поддержкой окупаются.\n",
    "\n",
    "10. Также было рассмотрено, есть ли зависимость между следующими величинами:\n",
    "- зависимость между рейтингом и долей государственного участия - ее нет или она более сложная;\n",
    "- зависимости между рейтингом и бюджетом  - ее нет или она более сложная;\n",
    "- зависимости между рейтингом и окупаемостью фильма - ее нет или она более сложная;\n",
    "- зависимости между размером государственной поддержки и бюджетом фильма -  прослеживается, чем больше бюджет фильма, тем как правило выше сумма государственно поддержки.\n",
    "\n",
    "  \n"
   ]
  }
 ],
 "metadata": {
  "ExecuteTimeLog": [
   {
    "duration": 477,
    "start_time": "2023-02-28T13:59:22.275Z"
   },
   {
    "duration": 269,
    "start_time": "2023-02-28T13:59:22.755Z"
   },
   {
    "duration": 57,
    "start_time": "2023-02-28T13:59:23.026Z"
   },
   {
    "duration": 24,
    "start_time": "2023-02-28T13:59:23.084Z"
   },
   {
    "duration": 86,
    "start_time": "2023-02-28T13:59:23.110Z"
   },
   {
    "duration": 0,
    "start_time": "2023-02-28T13:59:23.199Z"
   },
   {
    "duration": 0,
    "start_time": "2023-02-28T13:59:23.200Z"
   },
   {
    "duration": 0,
    "start_time": "2023-02-28T13:59:23.201Z"
   },
   {
    "duration": 0,
    "start_time": "2023-02-28T13:59:23.202Z"
   },
   {
    "duration": 0,
    "start_time": "2023-02-28T13:59:23.202Z"
   },
   {
    "duration": 0,
    "start_time": "2023-02-28T13:59:23.204Z"
   },
   {
    "duration": 0,
    "start_time": "2023-02-28T13:59:23.204Z"
   },
   {
    "duration": 0,
    "start_time": "2023-02-28T13:59:23.206Z"
   },
   {
    "duration": 0,
    "start_time": "2023-02-28T13:59:23.206Z"
   },
   {
    "duration": 0,
    "start_time": "2023-02-28T13:59:23.208Z"
   },
   {
    "duration": 0,
    "start_time": "2023-02-28T13:59:23.208Z"
   },
   {
    "duration": 0,
    "start_time": "2023-02-28T13:59:23.209Z"
   },
   {
    "duration": 0,
    "start_time": "2023-02-28T13:59:23.210Z"
   },
   {
    "duration": 0,
    "start_time": "2023-02-28T13:59:23.211Z"
   },
   {
    "duration": 0,
    "start_time": "2023-02-28T13:59:23.212Z"
   },
   {
    "duration": 0,
    "start_time": "2023-02-28T13:59:23.213Z"
   },
   {
    "duration": 0,
    "start_time": "2023-02-28T13:59:23.214Z"
   },
   {
    "duration": 0,
    "start_time": "2023-02-28T13:59:23.215Z"
   },
   {
    "duration": 0,
    "start_time": "2023-02-28T13:59:23.216Z"
   },
   {
    "duration": 0,
    "start_time": "2023-02-28T13:59:23.217Z"
   },
   {
    "duration": 0,
    "start_time": "2023-02-28T13:59:23.218Z"
   },
   {
    "duration": 0,
    "start_time": "2023-02-28T13:59:23.218Z"
   },
   {
    "duration": 0,
    "start_time": "2023-02-28T13:59:23.219Z"
   },
   {
    "duration": 0,
    "start_time": "2023-02-28T13:59:23.220Z"
   },
   {
    "duration": 0,
    "start_time": "2023-02-28T13:59:23.221Z"
   },
   {
    "duration": 0,
    "start_time": "2023-02-28T13:59:23.222Z"
   },
   {
    "duration": 0,
    "start_time": "2023-02-28T13:59:23.223Z"
   },
   {
    "duration": 0,
    "start_time": "2023-02-28T13:59:23.224Z"
   },
   {
    "duration": 0,
    "start_time": "2023-02-28T13:59:23.225Z"
   },
   {
    "duration": 0,
    "start_time": "2023-02-28T13:59:23.225Z"
   },
   {
    "duration": 0,
    "start_time": "2023-02-28T13:59:23.226Z"
   },
   {
    "duration": 0,
    "start_time": "2023-02-28T13:59:23.227Z"
   },
   {
    "duration": 0,
    "start_time": "2023-02-28T13:59:23.227Z"
   },
   {
    "duration": 0,
    "start_time": "2023-02-28T13:59:23.228Z"
   },
   {
    "duration": 0,
    "start_time": "2023-02-28T13:59:23.229Z"
   },
   {
    "duration": 0,
    "start_time": "2023-02-28T13:59:23.230Z"
   },
   {
    "duration": 0,
    "start_time": "2023-02-28T13:59:23.231Z"
   },
   {
    "duration": 0,
    "start_time": "2023-02-28T13:59:23.231Z"
   },
   {
    "duration": 0,
    "start_time": "2023-02-28T13:59:23.286Z"
   },
   {
    "duration": 0,
    "start_time": "2023-02-28T13:59:23.288Z"
   },
   {
    "duration": 0,
    "start_time": "2023-02-28T13:59:23.288Z"
   },
   {
    "duration": 0,
    "start_time": "2023-02-28T13:59:23.290Z"
   },
   {
    "duration": 0,
    "start_time": "2023-02-28T13:59:23.291Z"
   },
   {
    "duration": 0,
    "start_time": "2023-02-28T13:59:23.292Z"
   },
   {
    "duration": 0,
    "start_time": "2023-02-28T13:59:23.293Z"
   },
   {
    "duration": 0,
    "start_time": "2023-02-28T13:59:23.294Z"
   },
   {
    "duration": 0,
    "start_time": "2023-02-28T13:59:23.295Z"
   },
   {
    "duration": 0,
    "start_time": "2023-02-28T13:59:23.296Z"
   },
   {
    "duration": 0,
    "start_time": "2023-02-28T13:59:23.297Z"
   },
   {
    "duration": 0,
    "start_time": "2023-02-28T13:59:23.298Z"
   },
   {
    "duration": 0,
    "start_time": "2023-02-28T13:59:23.298Z"
   },
   {
    "duration": 0,
    "start_time": "2023-02-28T13:59:23.299Z"
   },
   {
    "duration": 0,
    "start_time": "2023-02-28T13:59:23.300Z"
   },
   {
    "duration": 0,
    "start_time": "2023-02-28T13:59:23.301Z"
   },
   {
    "duration": 0,
    "start_time": "2023-02-28T13:59:23.302Z"
   },
   {
    "duration": 0,
    "start_time": "2023-02-28T13:59:23.303Z"
   },
   {
    "duration": 0,
    "start_time": "2023-02-28T13:59:23.304Z"
   },
   {
    "duration": 0,
    "start_time": "2023-02-28T13:59:23.304Z"
   },
   {
    "duration": 0,
    "start_time": "2023-02-28T13:59:23.305Z"
   },
   {
    "duration": 0,
    "start_time": "2023-02-28T13:59:23.307Z"
   },
   {
    "duration": 0,
    "start_time": "2023-02-28T13:59:23.308Z"
   },
   {
    "duration": 0,
    "start_time": "2023-02-28T13:59:23.309Z"
   },
   {
    "duration": 0,
    "start_time": "2023-02-28T13:59:23.310Z"
   },
   {
    "duration": 0,
    "start_time": "2023-02-28T13:59:23.311Z"
   },
   {
    "duration": 0,
    "start_time": "2023-02-28T13:59:23.312Z"
   },
   {
    "duration": 0,
    "start_time": "2023-02-28T13:59:23.313Z"
   },
   {
    "duration": 0,
    "start_time": "2023-02-28T13:59:23.315Z"
   },
   {
    "duration": 0,
    "start_time": "2023-02-28T13:59:23.316Z"
   },
   {
    "duration": 0,
    "start_time": "2023-02-28T13:59:23.317Z"
   },
   {
    "duration": 0,
    "start_time": "2023-02-28T13:59:23.318Z"
   },
   {
    "duration": 0,
    "start_time": "2023-02-28T13:59:23.320Z"
   },
   {
    "duration": 0,
    "start_time": "2023-02-28T13:59:23.321Z"
   },
   {
    "duration": 0,
    "start_time": "2023-02-28T13:59:23.322Z"
   },
   {
    "duration": 0,
    "start_time": "2023-02-28T13:59:23.386Z"
   },
   {
    "duration": 0,
    "start_time": "2023-02-28T13:59:23.387Z"
   },
   {
    "duration": 0,
    "start_time": "2023-02-28T13:59:23.388Z"
   },
   {
    "duration": 0,
    "start_time": "2023-02-28T13:59:23.388Z"
   },
   {
    "duration": 0,
    "start_time": "2023-02-28T13:59:23.389Z"
   },
   {
    "duration": 0,
    "start_time": "2023-02-28T13:59:23.390Z"
   },
   {
    "duration": 0,
    "start_time": "2023-02-28T13:59:23.391Z"
   },
   {
    "duration": 431,
    "start_time": "2023-02-28T16:22:35.816Z"
   },
   {
    "duration": 218,
    "start_time": "2023-02-28T16:22:36.248Z"
   },
   {
    "duration": 96,
    "start_time": "2023-02-28T16:22:36.468Z"
   },
   {
    "duration": 24,
    "start_time": "2023-02-28T16:22:36.566Z"
   },
   {
    "duration": 82,
    "start_time": "2023-02-28T16:22:36.591Z"
   },
   {
    "duration": 0,
    "start_time": "2023-02-28T16:22:36.678Z"
   },
   {
    "duration": 0,
    "start_time": "2023-02-28T16:22:36.679Z"
   },
   {
    "duration": 0,
    "start_time": "2023-02-28T16:22:36.680Z"
   },
   {
    "duration": 0,
    "start_time": "2023-02-28T16:22:36.682Z"
   },
   {
    "duration": 0,
    "start_time": "2023-02-28T16:22:36.683Z"
   },
   {
    "duration": 0,
    "start_time": "2023-02-28T16:22:36.684Z"
   },
   {
    "duration": 0,
    "start_time": "2023-02-28T16:22:36.685Z"
   },
   {
    "duration": 0,
    "start_time": "2023-02-28T16:22:36.686Z"
   },
   {
    "duration": 0,
    "start_time": "2023-02-28T16:22:36.687Z"
   },
   {
    "duration": 0,
    "start_time": "2023-02-28T16:22:36.688Z"
   },
   {
    "duration": 0,
    "start_time": "2023-02-28T16:22:36.689Z"
   },
   {
    "duration": 0,
    "start_time": "2023-02-28T16:22:36.690Z"
   },
   {
    "duration": 0,
    "start_time": "2023-02-28T16:22:36.691Z"
   },
   {
    "duration": 0,
    "start_time": "2023-02-28T16:22:36.692Z"
   },
   {
    "duration": 0,
    "start_time": "2023-02-28T16:22:36.693Z"
   },
   {
    "duration": 0,
    "start_time": "2023-02-28T16:22:36.694Z"
   },
   {
    "duration": 0,
    "start_time": "2023-02-28T16:22:36.695Z"
   },
   {
    "duration": 0,
    "start_time": "2023-02-28T16:22:36.696Z"
   },
   {
    "duration": 0,
    "start_time": "2023-02-28T16:22:36.697Z"
   },
   {
    "duration": 0,
    "start_time": "2023-02-28T16:22:36.698Z"
   },
   {
    "duration": 0,
    "start_time": "2023-02-28T16:22:36.699Z"
   },
   {
    "duration": 0,
    "start_time": "2023-02-28T16:22:36.737Z"
   },
   {
    "duration": 0,
    "start_time": "2023-02-28T16:22:36.738Z"
   },
   {
    "duration": 0,
    "start_time": "2023-02-28T16:22:36.739Z"
   },
   {
    "duration": 0,
    "start_time": "2023-02-28T16:22:36.740Z"
   },
   {
    "duration": 0,
    "start_time": "2023-02-28T16:22:36.741Z"
   },
   {
    "duration": 0,
    "start_time": "2023-02-28T16:22:36.742Z"
   },
   {
    "duration": 0,
    "start_time": "2023-02-28T16:22:36.743Z"
   },
   {
    "duration": 0,
    "start_time": "2023-02-28T16:22:36.744Z"
   },
   {
    "duration": 0,
    "start_time": "2023-02-28T16:22:36.745Z"
   },
   {
    "duration": 0,
    "start_time": "2023-02-28T16:22:36.746Z"
   },
   {
    "duration": 0,
    "start_time": "2023-02-28T16:22:36.747Z"
   },
   {
    "duration": 0,
    "start_time": "2023-02-28T16:22:36.748Z"
   },
   {
    "duration": 0,
    "start_time": "2023-02-28T16:22:36.749Z"
   },
   {
    "duration": 0,
    "start_time": "2023-02-28T16:22:36.750Z"
   },
   {
    "duration": 0,
    "start_time": "2023-02-28T16:22:36.751Z"
   },
   {
    "duration": 0,
    "start_time": "2023-02-28T16:22:36.752Z"
   },
   {
    "duration": 0,
    "start_time": "2023-02-28T16:22:36.753Z"
   },
   {
    "duration": 0,
    "start_time": "2023-02-28T16:22:36.754Z"
   },
   {
    "duration": 0,
    "start_time": "2023-02-28T16:22:36.755Z"
   },
   {
    "duration": 0,
    "start_time": "2023-02-28T16:22:36.756Z"
   },
   {
    "duration": 0,
    "start_time": "2023-02-28T16:22:36.757Z"
   },
   {
    "duration": 0,
    "start_time": "2023-02-28T16:22:36.758Z"
   },
   {
    "duration": 0,
    "start_time": "2023-02-28T16:22:36.759Z"
   },
   {
    "duration": 0,
    "start_time": "2023-02-28T16:22:36.760Z"
   },
   {
    "duration": 0,
    "start_time": "2023-02-28T16:22:36.761Z"
   },
   {
    "duration": 0,
    "start_time": "2023-02-28T16:22:36.762Z"
   },
   {
    "duration": 0,
    "start_time": "2023-02-28T16:22:36.763Z"
   },
   {
    "duration": 0,
    "start_time": "2023-02-28T16:22:36.763Z"
   },
   {
    "duration": 0,
    "start_time": "2023-02-28T16:22:36.764Z"
   },
   {
    "duration": 0,
    "start_time": "2023-02-28T16:22:36.766Z"
   },
   {
    "duration": 0,
    "start_time": "2023-02-28T16:22:36.766Z"
   },
   {
    "duration": 0,
    "start_time": "2023-02-28T16:22:36.768Z"
   },
   {
    "duration": 0,
    "start_time": "2023-02-28T16:22:36.769Z"
   },
   {
    "duration": 0,
    "start_time": "2023-02-28T16:22:36.771Z"
   },
   {
    "duration": 0,
    "start_time": "2023-02-28T16:22:36.772Z"
   },
   {
    "duration": 0,
    "start_time": "2023-02-28T16:22:36.773Z"
   },
   {
    "duration": 0,
    "start_time": "2023-02-28T16:22:36.836Z"
   },
   {
    "duration": 0,
    "start_time": "2023-02-28T16:22:36.837Z"
   },
   {
    "duration": 0,
    "start_time": "2023-02-28T16:22:36.838Z"
   },
   {
    "duration": 0,
    "start_time": "2023-02-28T16:22:36.839Z"
   },
   {
    "duration": 0,
    "start_time": "2023-02-28T16:22:36.840Z"
   },
   {
    "duration": 0,
    "start_time": "2023-02-28T16:22:36.841Z"
   },
   {
    "duration": 0,
    "start_time": "2023-02-28T16:22:36.842Z"
   },
   {
    "duration": 0,
    "start_time": "2023-02-28T16:22:36.843Z"
   },
   {
    "duration": 0,
    "start_time": "2023-02-28T16:22:36.844Z"
   },
   {
    "duration": 0,
    "start_time": "2023-02-28T16:22:36.845Z"
   },
   {
    "duration": 0,
    "start_time": "2023-02-28T16:22:36.846Z"
   },
   {
    "duration": 0,
    "start_time": "2023-02-28T16:22:36.847Z"
   },
   {
    "duration": 0,
    "start_time": "2023-02-28T16:22:36.847Z"
   },
   {
    "duration": 0,
    "start_time": "2023-02-28T16:22:36.848Z"
   },
   {
    "duration": 0,
    "start_time": "2023-02-28T16:22:36.849Z"
   },
   {
    "duration": 0,
    "start_time": "2023-02-28T16:22:36.851Z"
   },
   {
    "duration": 0,
    "start_time": "2023-02-28T16:22:36.851Z"
   },
   {
    "duration": 0,
    "start_time": "2023-02-28T16:22:36.852Z"
   },
   {
    "duration": 0,
    "start_time": "2023-02-28T16:22:36.853Z"
   },
   {
    "duration": 0,
    "start_time": "2023-02-28T16:22:36.854Z"
   },
   {
    "duration": 0,
    "start_time": "2023-02-28T16:22:36.855Z"
   },
   {
    "duration": 0,
    "start_time": "2023-02-28T16:22:36.856Z"
   },
   {
    "duration": 1,
    "start_time": "2023-02-28T16:22:36.856Z"
   },
   {
    "duration": 10,
    "start_time": "2023-02-28T16:22:53.046Z"
   },
   {
    "duration": 53,
    "start_time": "2023-02-28T16:23:38.667Z"
   },
   {
    "duration": 14,
    "start_time": "2023-02-28T16:23:44.413Z"
   },
   {
    "duration": 49,
    "start_time": "2023-02-28T16:24:18.974Z"
   },
   {
    "duration": 79,
    "start_time": "2023-02-28T16:24:32.138Z"
   },
   {
    "duration": 11,
    "start_time": "2023-02-28T16:24:34.060Z"
   },
   {
    "duration": 11,
    "start_time": "2023-02-28T16:24:42.616Z"
   },
   {
    "duration": 29,
    "start_time": "2023-02-28T16:24:46.173Z"
   },
   {
    "duration": 7,
    "start_time": "2023-02-28T16:24:50.882Z"
   },
   {
    "duration": 20,
    "start_time": "2023-02-28T16:24:52.354Z"
   },
   {
    "duration": 8,
    "start_time": "2023-02-28T16:24:55.832Z"
   },
   {
    "duration": 29,
    "start_time": "2023-02-28T16:24:57.332Z"
   },
   {
    "duration": 28,
    "start_time": "2023-02-28T16:25:02.953Z"
   },
   {
    "duration": 23,
    "start_time": "2023-02-28T16:25:07.704Z"
   },
   {
    "duration": 22,
    "start_time": "2023-02-28T16:25:11.699Z"
   },
   {
    "duration": 21,
    "start_time": "2023-02-28T16:25:15.391Z"
   },
   {
    "duration": 11,
    "start_time": "2023-02-28T16:25:16.872Z"
   },
   {
    "duration": 21,
    "start_time": "2023-02-28T16:25:19.310Z"
   },
   {
    "duration": 17,
    "start_time": "2023-02-28T16:25:23.497Z"
   },
   {
    "duration": 20,
    "start_time": "2023-02-28T16:25:27.210Z"
   },
   {
    "duration": 6,
    "start_time": "2023-02-28T16:25:31.448Z"
   },
   {
    "duration": 23,
    "start_time": "2023-02-28T16:25:32.879Z"
   },
   {
    "duration": 10,
    "start_time": "2023-02-28T16:25:34.426Z"
   },
   {
    "duration": 15,
    "start_time": "2023-02-28T16:25:38.525Z"
   },
   {
    "duration": 62,
    "start_time": "2023-02-28T16:25:42.499Z"
   },
   {
    "duration": 13,
    "start_time": "2023-02-28T16:25:48.371Z"
   },
   {
    "duration": 5,
    "start_time": "2023-02-28T16:25:53.366Z"
   },
   {
    "duration": 9,
    "start_time": "2023-02-28T16:25:56.751Z"
   },
   {
    "duration": 27,
    "start_time": "2023-02-28T16:25:59.785Z"
   },
   {
    "duration": 1033,
    "start_time": "2023-02-28T16:26:01.898Z"
   },
   {
    "duration": 28,
    "start_time": "2023-02-28T16:26:07.144Z"
   },
   {
    "duration": 9,
    "start_time": "2023-02-28T16:26:11.125Z"
   },
   {
    "duration": 28,
    "start_time": "2023-02-28T16:26:12.662Z"
   },
   {
    "duration": 9,
    "start_time": "2023-02-28T16:26:16.421Z"
   },
   {
    "duration": 20,
    "start_time": "2023-02-28T16:26:18.197Z"
   },
   {
    "duration": 248,
    "start_time": "2023-02-28T16:26:22.415Z"
   },
   {
    "duration": 19,
    "start_time": "2023-02-28T16:26:28.335Z"
   },
   {
    "duration": 166,
    "start_time": "2023-02-28T16:26:32.312Z"
   },
   {
    "duration": 172,
    "start_time": "2023-02-28T16:26:36.585Z"
   },
   {
    "duration": 13,
    "start_time": "2023-02-28T16:26:40.123Z"
   },
   {
    "duration": 32,
    "start_time": "2023-02-28T16:26:43.206Z"
   },
   {
    "duration": 10,
    "start_time": "2023-02-28T16:26:49.022Z"
   },
   {
    "duration": 309,
    "start_time": "2023-02-28T16:26:51.349Z"
   },
   {
    "duration": 61,
    "start_time": "2023-02-28T16:26:54.422Z"
   },
   {
    "duration": 72,
    "start_time": "2023-02-28T16:26:57.863Z"
   },
   {
    "duration": 54,
    "start_time": "2023-02-28T16:27:07.063Z"
   },
   {
    "duration": 21,
    "start_time": "2023-02-28T16:27:14.380Z"
   },
   {
    "duration": 18,
    "start_time": "2023-02-28T16:27:15.391Z"
   },
   {
    "duration": 25,
    "start_time": "2023-02-28T16:27:19.686Z"
   },
   {
    "duration": 23,
    "start_time": "2023-02-28T16:27:19.923Z"
   },
   {
    "duration": 23,
    "start_time": "2023-02-28T16:27:21.685Z"
   },
   {
    "duration": 19,
    "start_time": "2023-02-28T16:27:32.779Z"
   },
   {
    "duration": 2,
    "start_time": "2023-02-28T16:28:41.401Z"
   },
   {
    "duration": 95,
    "start_time": "2023-02-28T16:28:43.551Z"
   },
   {
    "duration": 62,
    "start_time": "2023-02-28T16:28:45.852Z"
   },
   {
    "duration": 19,
    "start_time": "2023-02-28T16:28:47.474Z"
   },
   {
    "duration": 21,
    "start_time": "2023-02-28T16:28:50.122Z"
   },
   {
    "duration": 15,
    "start_time": "2023-02-28T16:28:59.924Z"
   },
   {
    "duration": 3,
    "start_time": "2023-02-28T16:30:41.553Z"
   },
   {
    "duration": 104,
    "start_time": "2023-02-28T16:30:42.987Z"
   },
   {
    "duration": 55,
    "start_time": "2023-02-28T16:30:45.093Z"
   },
   {
    "duration": 20,
    "start_time": "2023-02-28T16:30:47.951Z"
   },
   {
    "duration": 43,
    "start_time": "2023-02-28T16:30:51.752Z"
   },
   {
    "duration": 15,
    "start_time": "2023-02-28T16:30:55.967Z"
   },
   {
    "duration": 34,
    "start_time": "2023-02-28T16:31:01.599Z"
   },
   {
    "duration": 7,
    "start_time": "2023-02-28T16:31:05.286Z"
   },
   {
    "duration": 107,
    "start_time": "2023-02-28T16:31:07.499Z"
   },
   {
    "duration": 15,
    "start_time": "2023-02-28T16:31:09.202Z"
   },
   {
    "duration": 30,
    "start_time": "2023-02-28T16:31:21.098Z"
   },
   {
    "duration": 17,
    "start_time": "2023-02-28T16:31:23.370Z"
   },
   {
    "duration": 38,
    "start_time": "2023-02-28T16:31:26.753Z"
   },
   {
    "duration": 8,
    "start_time": "2023-02-28T16:31:29.665Z"
   },
   {
    "duration": 20,
    "start_time": "2023-02-28T16:31:31.239Z"
   },
   {
    "duration": 7,
    "start_time": "2023-02-28T16:31:33.161Z"
   },
   {
    "duration": 26,
    "start_time": "2023-02-28T16:31:35.312Z"
   },
   {
    "duration": 28,
    "start_time": "2023-02-28T16:31:37.379Z"
   },
   {
    "duration": 24,
    "start_time": "2023-02-28T16:31:46.451Z"
   },
   {
    "duration": 21,
    "start_time": "2023-02-28T16:31:48.957Z"
   },
   {
    "duration": 23,
    "start_time": "2023-02-28T16:31:51.523Z"
   },
   {
    "duration": 13,
    "start_time": "2023-02-28T16:31:53.577Z"
   },
   {
    "duration": 23,
    "start_time": "2023-02-28T16:31:55.418Z"
   },
   {
    "duration": 22,
    "start_time": "2023-02-28T16:31:57.506Z"
   },
   {
    "duration": 14,
    "start_time": "2023-02-28T16:31:59.259Z"
   },
   {
    "duration": 15,
    "start_time": "2023-02-28T16:32:15.731Z"
   },
   {
    "duration": 406,
    "start_time": "2023-02-28T16:32:42.997Z"
   },
   {
    "duration": 94,
    "start_time": "2023-02-28T16:32:43.405Z"
   },
   {
    "duration": 44,
    "start_time": "2023-02-28T16:32:43.500Z"
   },
   {
    "duration": 25,
    "start_time": "2023-02-28T16:32:43.546Z"
   },
   {
    "duration": 21,
    "start_time": "2023-02-28T16:32:43.573Z"
   },
   {
    "duration": 60,
    "start_time": "2023-02-28T16:32:43.597Z"
   },
   {
    "duration": 103,
    "start_time": "2023-02-28T16:32:43.659Z"
   },
   {
    "duration": 6,
    "start_time": "2023-02-28T16:32:43.765Z"
   },
   {
    "duration": 87,
    "start_time": "2023-02-28T16:32:43.773Z"
   },
   {
    "duration": 21,
    "start_time": "2023-02-28T16:32:43.862Z"
   },
   {
    "duration": 11,
    "start_time": "2023-02-28T16:32:43.884Z"
   },
   {
    "duration": 53,
    "start_time": "2023-02-28T16:32:43.897Z"
   },
   {
    "duration": 8,
    "start_time": "2023-02-28T16:32:43.951Z"
   },
   {
    "duration": 38,
    "start_time": "2023-02-28T16:32:43.964Z"
   },
   {
    "duration": 10,
    "start_time": "2023-02-28T16:32:44.004Z"
   },
   {
    "duration": 31,
    "start_time": "2023-02-28T16:32:44.036Z"
   },
   {
    "duration": 50,
    "start_time": "2023-02-28T16:32:44.070Z"
   },
   {
    "duration": 31,
    "start_time": "2023-02-28T16:32:44.122Z"
   },
   {
    "duration": 28,
    "start_time": "2023-02-28T16:32:44.155Z"
   },
   {
    "duration": 24,
    "start_time": "2023-02-28T16:32:44.185Z"
   },
   {
    "duration": 38,
    "start_time": "2023-02-28T16:32:44.211Z"
   },
   {
    "duration": 32,
    "start_time": "2023-02-28T16:32:44.251Z"
   },
   {
    "duration": 51,
    "start_time": "2023-02-28T16:32:44.286Z"
   },
   {
    "duration": 32,
    "start_time": "2023-02-28T16:32:44.340Z"
   },
   {
    "duration": 6,
    "start_time": "2023-02-28T16:32:44.374Z"
   },
   {
    "duration": 56,
    "start_time": "2023-02-28T16:32:44.382Z"
   },
   {
    "duration": 9,
    "start_time": "2023-02-28T16:32:44.439Z"
   },
   {
    "duration": 13,
    "start_time": "2023-02-28T16:32:44.451Z"
   },
   {
    "duration": 103,
    "start_time": "2023-02-28T16:32:44.465Z"
   },
   {
    "duration": 13,
    "start_time": "2023-02-28T16:32:44.570Z"
   },
   {
    "duration": 5,
    "start_time": "2023-02-28T16:32:44.584Z"
   },
   {
    "duration": 10,
    "start_time": "2023-02-28T16:32:44.590Z"
   },
   {
    "duration": 67,
    "start_time": "2023-02-28T16:32:44.601Z"
   },
   {
    "duration": 897,
    "start_time": "2023-02-28T16:32:44.670Z"
   },
   {
    "duration": 29,
    "start_time": "2023-02-28T16:32:45.569Z"
   },
   {
    "duration": 87,
    "start_time": "2023-02-28T16:32:45.600Z"
   },
   {
    "duration": 28,
    "start_time": "2023-02-28T16:32:45.689Z"
   },
   {
    "duration": 24,
    "start_time": "2023-02-28T16:32:45.718Z"
   },
   {
    "duration": 19,
    "start_time": "2023-02-28T16:32:45.744Z"
   },
   {
    "duration": 267,
    "start_time": "2023-02-28T16:32:45.765Z"
   },
   {
    "duration": 25,
    "start_time": "2023-02-28T16:32:46.039Z"
   },
   {
    "duration": 190,
    "start_time": "2023-02-28T16:32:46.065Z"
   },
   {
    "duration": 186,
    "start_time": "2023-02-28T16:32:46.257Z"
   },
   {
    "duration": 12,
    "start_time": "2023-02-28T16:32:46.445Z"
   },
   {
    "duration": 40,
    "start_time": "2023-02-28T16:32:46.459Z"
   },
   {
    "duration": 9,
    "start_time": "2023-02-28T16:32:46.502Z"
   },
   {
    "duration": 330,
    "start_time": "2023-02-28T16:32:46.512Z"
   },
   {
    "duration": 55,
    "start_time": "2023-02-28T16:32:46.843Z"
   },
   {
    "duration": 107,
    "start_time": "2023-02-28T16:32:46.900Z"
   },
   {
    "duration": 24,
    "start_time": "2023-02-28T16:32:47.009Z"
   },
   {
    "duration": 30,
    "start_time": "2023-02-28T16:32:47.035Z"
   },
   {
    "duration": 87,
    "start_time": "2023-02-28T16:32:47.068Z"
   },
   {
    "duration": 4,
    "start_time": "2023-02-28T16:32:47.156Z"
   },
   {
    "duration": 32,
    "start_time": "2023-02-28T16:32:47.162Z"
   },
   {
    "duration": 244,
    "start_time": "2023-02-28T16:32:47.196Z"
   },
   {
    "duration": 162,
    "start_time": "2023-02-28T16:32:47.442Z"
   },
   {
    "duration": 40,
    "start_time": "2023-02-28T16:32:47.606Z"
   },
   {
    "duration": 24,
    "start_time": "2023-02-28T16:32:47.648Z"
   },
   {
    "duration": 33,
    "start_time": "2023-02-28T16:32:47.674Z"
   },
   {
    "duration": 58,
    "start_time": "2023-02-28T16:32:47.709Z"
   },
   {
    "duration": 184,
    "start_time": "2023-02-28T16:32:47.769Z"
   },
   {
    "duration": 28,
    "start_time": "2023-02-28T16:32:47.955Z"
   },
   {
    "duration": 27,
    "start_time": "2023-02-28T16:32:47.984Z"
   },
   {
    "duration": 242,
    "start_time": "2023-02-28T16:32:48.013Z"
   },
   {
    "duration": 28,
    "start_time": "2023-02-28T16:32:48.256Z"
   },
   {
    "duration": 35,
    "start_time": "2023-02-28T16:32:48.285Z"
   },
   {
    "duration": 37,
    "start_time": "2023-02-28T16:32:48.322Z"
   },
   {
    "duration": 22,
    "start_time": "2023-02-28T16:32:48.361Z"
   },
   {
    "duration": 28,
    "start_time": "2023-02-28T16:32:48.385Z"
   },
   {
    "duration": 36,
    "start_time": "2023-02-28T16:32:48.416Z"
   },
   {
    "duration": 48,
    "start_time": "2023-02-28T16:32:48.454Z"
   },
   {
    "duration": 36,
    "start_time": "2023-02-28T16:32:48.504Z"
   },
   {
    "duration": 52,
    "start_time": "2023-02-28T16:32:48.542Z"
   },
   {
    "duration": 61,
    "start_time": "2023-02-28T16:32:48.596Z"
   },
   {
    "duration": 32,
    "start_time": "2023-02-28T16:32:48.659Z"
   },
   {
    "duration": 18,
    "start_time": "2023-02-28T16:32:48.693Z"
   },
   {
    "duration": 44,
    "start_time": "2023-02-28T16:32:48.712Z"
   },
   {
    "duration": 83,
    "start_time": "2023-02-28T16:32:48.758Z"
   },
   {
    "duration": 30,
    "start_time": "2023-02-28T16:32:48.843Z"
   },
   {
    "duration": 34,
    "start_time": "2023-02-28T16:32:48.875Z"
   },
   {
    "duration": 33,
    "start_time": "2023-02-28T16:32:48.911Z"
   },
   {
    "duration": 177,
    "start_time": "2023-02-28T16:32:48.947Z"
   },
   {
    "duration": 136,
    "start_time": "2023-02-28T16:32:49.126Z"
   },
   {
    "duration": 174,
    "start_time": "2023-02-28T16:32:49.264Z"
   },
   {
    "duration": 157,
    "start_time": "2023-02-28T16:32:49.440Z"
   },
   {
    "duration": 17,
    "start_time": "2023-02-28T16:34:09.508Z"
   },
   {
    "duration": 26,
    "start_time": "2023-02-28T16:34:12.052Z"
   },
   {
    "duration": 92,
    "start_time": "2023-02-28T16:34:18.156Z"
   },
   {
    "duration": 415,
    "start_time": "2023-02-28T17:10:28.250Z"
   },
   {
    "duration": 233,
    "start_time": "2023-02-28T17:10:28.667Z"
   },
   {
    "duration": 111,
    "start_time": "2023-02-28T17:10:28.902Z"
   },
   {
    "duration": 26,
    "start_time": "2023-02-28T17:10:29.016Z"
   },
   {
    "duration": 18,
    "start_time": "2023-02-28T17:10:29.044Z"
   },
   {
    "duration": 38,
    "start_time": "2023-02-28T17:10:29.065Z"
   },
   {
    "duration": 19,
    "start_time": "2023-02-28T17:10:29.122Z"
   },
   {
    "duration": 5,
    "start_time": "2023-02-28T17:10:29.142Z"
   },
   {
    "duration": 93,
    "start_time": "2023-02-28T17:10:29.148Z"
   },
   {
    "duration": 20,
    "start_time": "2023-02-28T17:10:29.244Z"
   },
   {
    "duration": 9,
    "start_time": "2023-02-28T17:10:29.266Z"
   },
   {
    "duration": 53,
    "start_time": "2023-02-28T17:10:29.276Z"
   },
   {
    "duration": 7,
    "start_time": "2023-02-28T17:10:29.330Z"
   },
   {
    "duration": 20,
    "start_time": "2023-02-28T17:10:29.338Z"
   },
   {
    "duration": 7,
    "start_time": "2023-02-28T17:10:29.360Z"
   },
   {
    "duration": 20,
    "start_time": "2023-02-28T17:10:29.369Z"
   },
   {
    "duration": 56,
    "start_time": "2023-02-28T17:10:29.391Z"
   },
   {
    "duration": 21,
    "start_time": "2023-02-28T17:10:29.449Z"
   },
   {
    "duration": 19,
    "start_time": "2023-02-28T17:10:29.472Z"
   },
   {
    "duration": 47,
    "start_time": "2023-02-28T17:10:29.493Z"
   },
   {
    "duration": 11,
    "start_time": "2023-02-28T17:10:29.541Z"
   },
   {
    "duration": 19,
    "start_time": "2023-02-28T17:10:29.553Z"
   },
   {
    "duration": 49,
    "start_time": "2023-02-28T17:10:29.573Z"
   },
   {
    "duration": 19,
    "start_time": "2023-02-28T17:10:29.624Z"
   },
   {
    "duration": 6,
    "start_time": "2023-02-28T17:10:29.645Z"
   },
   {
    "duration": 23,
    "start_time": "2023-02-28T17:10:29.652Z"
   },
   {
    "duration": 12,
    "start_time": "2023-02-28T17:10:29.677Z"
   },
   {
    "duration": 11,
    "start_time": "2023-02-28T17:10:29.720Z"
   },
   {
    "duration": 59,
    "start_time": "2023-02-28T17:10:29.732Z"
   },
   {
    "duration": 35,
    "start_time": "2023-02-28T17:10:29.793Z"
   },
   {
    "duration": 5,
    "start_time": "2023-02-28T17:10:29.830Z"
   },
   {
    "duration": 12,
    "start_time": "2023-02-28T17:10:29.836Z"
   },
   {
    "duration": 27,
    "start_time": "2023-02-28T17:10:29.849Z"
   },
   {
    "duration": 1108,
    "start_time": "2023-02-28T17:10:29.878Z"
   },
   {
    "duration": 34,
    "start_time": "2023-02-28T17:10:30.988Z"
   },
   {
    "duration": 106,
    "start_time": "2023-02-28T17:10:31.024Z"
   },
   {
    "duration": 56,
    "start_time": "2023-02-28T17:10:31.132Z"
   },
   {
    "duration": 23,
    "start_time": "2023-02-28T17:10:31.189Z"
   },
   {
    "duration": 49,
    "start_time": "2023-02-28T17:10:31.214Z"
   },
   {
    "duration": 265,
    "start_time": "2023-02-28T17:10:31.265Z"
   },
   {
    "duration": 17,
    "start_time": "2023-02-28T17:10:31.531Z"
   },
   {
    "duration": 183,
    "start_time": "2023-02-28T17:10:31.550Z"
   },
   {
    "duration": 192,
    "start_time": "2023-02-28T17:10:31.735Z"
   },
   {
    "duration": 11,
    "start_time": "2023-02-28T17:10:31.929Z"
   },
   {
    "duration": 33,
    "start_time": "2023-02-28T17:10:31.941Z"
   },
   {
    "duration": 20,
    "start_time": "2023-02-28T17:10:31.976Z"
   },
   {
    "duration": 323,
    "start_time": "2023-02-28T17:10:31.997Z"
   },
   {
    "duration": 58,
    "start_time": "2023-02-28T17:10:32.322Z"
   },
   {
    "duration": 78,
    "start_time": "2023-02-28T17:10:32.382Z"
   },
   {
    "duration": 24,
    "start_time": "2023-02-28T17:10:32.462Z"
   },
   {
    "duration": 24,
    "start_time": "2023-02-28T17:10:32.488Z"
   },
   {
    "duration": 79,
    "start_time": "2023-02-28T17:10:32.513Z"
   },
   {
    "duration": 4,
    "start_time": "2023-02-28T17:10:32.594Z"
   },
   {
    "duration": 36,
    "start_time": "2023-02-28T17:10:32.599Z"
   },
   {
    "duration": 219,
    "start_time": "2023-02-28T17:10:32.636Z"
   },
   {
    "duration": 172,
    "start_time": "2023-02-28T17:10:32.856Z"
   },
   {
    "duration": 27,
    "start_time": "2023-02-28T17:10:33.030Z"
   },
   {
    "duration": 21,
    "start_time": "2023-02-28T17:10:33.059Z"
   },
   {
    "duration": 58,
    "start_time": "2023-02-28T17:10:33.083Z"
   },
   {
    "duration": 33,
    "start_time": "2023-02-28T17:10:33.143Z"
   },
   {
    "duration": 176,
    "start_time": "2023-02-28T17:10:33.178Z"
   },
   {
    "duration": 25,
    "start_time": "2023-02-28T17:10:33.356Z"
   },
   {
    "duration": 17,
    "start_time": "2023-02-28T17:10:33.382Z"
   },
   {
    "duration": 194,
    "start_time": "2023-02-28T17:10:33.421Z"
   },
   {
    "duration": 27,
    "start_time": "2023-02-28T17:10:33.617Z"
   },
   {
    "duration": 6,
    "start_time": "2023-02-28T17:10:33.645Z"
   },
   {
    "duration": 19,
    "start_time": "2023-02-28T17:10:33.652Z"
   },
   {
    "duration": 4,
    "start_time": "2023-02-28T17:10:33.673Z"
   },
   {
    "duration": 7,
    "start_time": "2023-02-28T17:10:33.678Z"
   },
   {
    "duration": 37,
    "start_time": "2023-02-28T17:10:33.687Z"
   },
   {
    "duration": 7,
    "start_time": "2023-02-28T17:10:33.725Z"
   },
   {
    "duration": 8,
    "start_time": "2023-02-28T17:10:33.734Z"
   },
   {
    "duration": 4,
    "start_time": "2023-02-28T17:10:33.744Z"
   },
   {
    "duration": 14,
    "start_time": "2023-02-28T17:10:33.750Z"
   },
   {
    "duration": 10,
    "start_time": "2023-02-28T17:10:33.765Z"
   },
   {
    "duration": 5,
    "start_time": "2023-02-28T17:10:33.776Z"
   },
   {
    "duration": 42,
    "start_time": "2023-02-28T17:10:33.782Z"
   },
   {
    "duration": 27,
    "start_time": "2023-02-28T17:10:33.826Z"
   },
   {
    "duration": 10,
    "start_time": "2023-02-28T17:10:33.855Z"
   },
   {
    "duration": 10,
    "start_time": "2023-02-28T17:10:33.867Z"
   },
   {
    "duration": 43,
    "start_time": "2023-02-28T17:10:33.879Z"
   },
   {
    "duration": 139,
    "start_time": "2023-02-28T17:10:33.927Z"
   },
   {
    "duration": 135,
    "start_time": "2023-02-28T17:10:34.068Z"
   },
   {
    "duration": 139,
    "start_time": "2023-02-28T17:10:34.206Z"
   },
   {
    "duration": 153,
    "start_time": "2023-02-28T17:10:34.347Z"
   },
   {
    "duration": 77,
    "start_time": "2023-02-28T17:31:11.570Z"
   },
   {
    "duration": 54,
    "start_time": "2023-02-28T19:05:04.271Z"
   },
   {
    "duration": 454,
    "start_time": "2023-02-28T19:05:23.336Z"
   },
   {
    "duration": 224,
    "start_time": "2023-02-28T19:05:23.792Z"
   },
   {
    "duration": 105,
    "start_time": "2023-02-28T19:05:24.018Z"
   },
   {
    "duration": 24,
    "start_time": "2023-02-28T19:05:24.125Z"
   },
   {
    "duration": 19,
    "start_time": "2023-02-28T19:05:24.151Z"
   },
   {
    "duration": 38,
    "start_time": "2023-02-28T19:05:24.172Z"
   },
   {
    "duration": 47,
    "start_time": "2023-02-28T19:05:24.211Z"
   },
   {
    "duration": 5,
    "start_time": "2023-02-28T19:05:24.261Z"
   },
   {
    "duration": 95,
    "start_time": "2023-02-28T19:05:24.267Z"
   },
   {
    "duration": 23,
    "start_time": "2023-02-28T19:05:24.365Z"
   },
   {
    "duration": 10,
    "start_time": "2023-02-28T19:05:24.390Z"
   },
   {
    "duration": 53,
    "start_time": "2023-02-28T19:05:24.401Z"
   },
   {
    "duration": 10,
    "start_time": "2023-02-28T19:05:24.457Z"
   },
   {
    "duration": 21,
    "start_time": "2023-02-28T19:05:24.472Z"
   },
   {
    "duration": 5,
    "start_time": "2023-02-28T19:05:24.495Z"
   },
   {
    "duration": 57,
    "start_time": "2023-02-28T19:05:24.502Z"
   },
   {
    "duration": 29,
    "start_time": "2023-02-28T19:05:24.562Z"
   },
   {
    "duration": 23,
    "start_time": "2023-02-28T19:05:24.594Z"
   },
   {
    "duration": 49,
    "start_time": "2023-02-28T19:05:24.618Z"
   },
   {
    "duration": 23,
    "start_time": "2023-02-28T19:05:24.669Z"
   },
   {
    "duration": 10,
    "start_time": "2023-02-28T19:05:24.694Z"
   },
   {
    "duration": 43,
    "start_time": "2023-02-28T19:05:24.706Z"
   },
   {
    "duration": 18,
    "start_time": "2023-02-28T19:05:24.751Z"
   },
   {
    "duration": 28,
    "start_time": "2023-02-28T19:05:24.771Z"
   },
   {
    "duration": 5,
    "start_time": "2023-02-28T19:05:24.800Z"
   },
   {
    "duration": 51,
    "start_time": "2023-02-28T19:05:24.806Z"
   },
   {
    "duration": 12,
    "start_time": "2023-02-28T19:05:24.860Z"
   },
   {
    "duration": 11,
    "start_time": "2023-02-28T19:05:24.874Z"
   },
   {
    "duration": 86,
    "start_time": "2023-02-28T19:05:24.886Z"
   },
   {
    "duration": 13,
    "start_time": "2023-02-28T19:05:24.973Z"
   },
   {
    "duration": 5,
    "start_time": "2023-02-28T19:05:24.988Z"
   },
   {
    "duration": 11,
    "start_time": "2023-02-28T19:05:24.994Z"
   },
   {
    "duration": 61,
    "start_time": "2023-02-28T19:05:25.006Z"
   },
   {
    "duration": 1007,
    "start_time": "2023-02-28T19:05:25.069Z"
   },
   {
    "duration": 30,
    "start_time": "2023-02-28T19:05:26.078Z"
   },
   {
    "duration": 79,
    "start_time": "2023-02-28T19:05:26.110Z"
   },
   {
    "duration": 23,
    "start_time": "2023-02-28T19:05:26.191Z"
   },
   {
    "duration": 29,
    "start_time": "2023-02-28T19:05:26.216Z"
   },
   {
    "duration": 17,
    "start_time": "2023-02-28T19:05:26.247Z"
   },
   {
    "duration": 251,
    "start_time": "2023-02-28T19:05:26.266Z"
   },
   {
    "duration": 24,
    "start_time": "2023-02-28T19:05:26.522Z"
   },
   {
    "duration": 181,
    "start_time": "2023-02-28T19:05:26.548Z"
   },
   {
    "duration": 177,
    "start_time": "2023-02-28T19:05:26.731Z"
   },
   {
    "duration": 12,
    "start_time": "2023-02-28T19:05:26.910Z"
   },
   {
    "duration": 45,
    "start_time": "2023-02-28T19:05:26.923Z"
   },
   {
    "duration": 8,
    "start_time": "2023-02-28T19:05:26.970Z"
   },
   {
    "duration": 317,
    "start_time": "2023-02-28T19:05:26.980Z"
   },
   {
    "duration": 65,
    "start_time": "2023-02-28T19:05:27.299Z"
   },
   {
    "duration": 74,
    "start_time": "2023-02-28T19:05:27.366Z"
   },
   {
    "duration": 24,
    "start_time": "2023-02-28T19:05:27.442Z"
   },
   {
    "duration": 25,
    "start_time": "2023-02-28T19:05:27.468Z"
   },
   {
    "duration": 89,
    "start_time": "2023-02-28T19:05:27.494Z"
   },
   {
    "duration": 4,
    "start_time": "2023-02-28T19:05:27.585Z"
   },
   {
    "duration": 24,
    "start_time": "2023-02-28T19:05:27.591Z"
   },
   {
    "duration": 226,
    "start_time": "2023-02-28T19:05:27.617Z"
   },
   {
    "duration": 169,
    "start_time": "2023-02-28T19:05:27.845Z"
   },
   {
    "duration": 39,
    "start_time": "2023-02-28T19:05:28.016Z"
   },
   {
    "duration": 19,
    "start_time": "2023-02-28T19:05:28.057Z"
   },
   {
    "duration": 27,
    "start_time": "2023-02-28T19:05:28.078Z"
   },
   {
    "duration": 59,
    "start_time": "2023-02-28T19:05:28.106Z"
   },
   {
    "duration": 212,
    "start_time": "2023-02-28T19:05:28.167Z"
   },
   {
    "duration": 24,
    "start_time": "2023-02-28T19:05:28.380Z"
   },
   {
    "duration": 16,
    "start_time": "2023-02-28T19:05:28.406Z"
   },
   {
    "duration": 238,
    "start_time": "2023-02-28T19:05:28.424Z"
   },
   {
    "duration": 27,
    "start_time": "2023-02-28T19:05:28.665Z"
   },
   {
    "duration": 7,
    "start_time": "2023-02-28T19:05:28.694Z"
   },
   {
    "duration": 43,
    "start_time": "2023-02-28T19:05:28.703Z"
   },
   {
    "duration": 5,
    "start_time": "2023-02-28T19:05:28.748Z"
   },
   {
    "duration": 8,
    "start_time": "2023-02-28T19:05:28.754Z"
   },
   {
    "duration": 8,
    "start_time": "2023-02-28T19:05:28.764Z"
   },
   {
    "duration": 5,
    "start_time": "2023-02-28T19:05:28.774Z"
   },
   {
    "duration": 11,
    "start_time": "2023-02-28T19:05:28.780Z"
   },
   {
    "duration": 12,
    "start_time": "2023-02-28T19:05:28.793Z"
   },
   {
    "duration": 39,
    "start_time": "2023-02-28T19:05:28.807Z"
   },
   {
    "duration": 10,
    "start_time": "2023-02-28T19:05:28.849Z"
   },
   {
    "duration": 5,
    "start_time": "2023-02-28T19:05:28.861Z"
   },
   {
    "duration": 10,
    "start_time": "2023-02-28T19:05:28.868Z"
   },
   {
    "duration": 28,
    "start_time": "2023-02-28T19:05:28.880Z"
   },
   {
    "duration": 38,
    "start_time": "2023-02-28T19:05:28.910Z"
   },
   {
    "duration": 7,
    "start_time": "2023-02-28T19:05:28.950Z"
   },
   {
    "duration": 15,
    "start_time": "2023-02-28T19:05:28.959Z"
   },
   {
    "duration": 157,
    "start_time": "2023-02-28T19:05:28.976Z"
   },
   {
    "duration": 154,
    "start_time": "2023-02-28T19:05:29.134Z"
   },
   {
    "duration": 140,
    "start_time": "2023-02-28T19:05:29.289Z"
   },
   {
    "duration": 147,
    "start_time": "2023-02-28T19:05:29.432Z"
   },
   {
    "duration": 73,
    "start_time": "2023-02-28T19:05:59.444Z"
   },
   {
    "duration": 381,
    "start_time": "2023-03-01T09:05:52.659Z"
   },
   {
    "duration": 229,
    "start_time": "2023-03-01T09:05:53.042Z"
   },
   {
    "duration": 96,
    "start_time": "2023-03-01T09:05:53.272Z"
   },
   {
    "duration": 22,
    "start_time": "2023-03-01T09:05:53.370Z"
   },
   {
    "duration": 16,
    "start_time": "2023-03-01T09:05:53.394Z"
   },
   {
    "duration": 44,
    "start_time": "2023-03-01T09:05:53.412Z"
   },
   {
    "duration": 18,
    "start_time": "2023-03-01T09:05:53.457Z"
   },
   {
    "duration": 7,
    "start_time": "2023-03-01T09:05:53.476Z"
   },
   {
    "duration": 87,
    "start_time": "2023-03-01T09:05:53.485Z"
   },
   {
    "duration": 31,
    "start_time": "2023-03-01T09:05:53.573Z"
   },
   {
    "duration": 9,
    "start_time": "2023-03-01T09:05:53.606Z"
   },
   {
    "duration": 36,
    "start_time": "2023-03-01T09:05:53.616Z"
   },
   {
    "duration": 6,
    "start_time": "2023-03-01T09:05:53.653Z"
   },
   {
    "duration": 30,
    "start_time": "2023-03-01T09:05:53.662Z"
   },
   {
    "duration": 11,
    "start_time": "2023-03-01T09:05:53.704Z"
   },
   {
    "duration": 22,
    "start_time": "2023-03-01T09:05:53.717Z"
   },
   {
    "duration": 38,
    "start_time": "2023-03-01T09:05:53.741Z"
   },
   {
    "duration": 24,
    "start_time": "2023-03-01T09:05:53.780Z"
   },
   {
    "duration": 19,
    "start_time": "2023-03-01T09:05:53.806Z"
   },
   {
    "duration": 38,
    "start_time": "2023-03-01T09:05:53.827Z"
   },
   {
    "duration": 10,
    "start_time": "2023-03-01T09:05:53.867Z"
   },
   {
    "duration": 42,
    "start_time": "2023-03-01T09:05:53.878Z"
   },
   {
    "duration": 24,
    "start_time": "2023-03-01T09:05:53.922Z"
   },
   {
    "duration": 29,
    "start_time": "2023-03-01T09:05:53.948Z"
   },
   {
    "duration": 34,
    "start_time": "2023-03-01T09:05:53.979Z"
   },
   {
    "duration": 48,
    "start_time": "2023-03-01T09:05:54.014Z"
   },
   {
    "duration": 23,
    "start_time": "2023-03-01T09:05:54.064Z"
   },
   {
    "duration": 22,
    "start_time": "2023-03-01T09:05:54.088Z"
   },
   {
    "duration": 77,
    "start_time": "2023-03-01T09:05:54.112Z"
   },
   {
    "duration": 15,
    "start_time": "2023-03-01T09:05:54.191Z"
   },
   {
    "duration": 21,
    "start_time": "2023-03-01T09:05:54.208Z"
   },
   {
    "duration": 26,
    "start_time": "2023-03-01T09:05:54.231Z"
   },
   {
    "duration": 39,
    "start_time": "2023-03-01T09:05:54.259Z"
   },
   {
    "duration": 1205,
    "start_time": "2023-03-01T09:05:54.299Z"
   },
   {
    "duration": 36,
    "start_time": "2023-03-01T09:05:55.507Z"
   },
   {
    "duration": 102,
    "start_time": "2023-03-01T09:05:55.545Z"
   },
   {
    "duration": 41,
    "start_time": "2023-03-01T09:05:55.650Z"
   },
   {
    "duration": 20,
    "start_time": "2023-03-01T09:05:55.693Z"
   },
   {
    "duration": 28,
    "start_time": "2023-03-01T09:05:55.715Z"
   },
   {
    "duration": 265,
    "start_time": "2023-03-01T09:05:55.748Z"
   },
   {
    "duration": 18,
    "start_time": "2023-03-01T09:05:56.017Z"
   },
   {
    "duration": 184,
    "start_time": "2023-03-01T09:05:56.036Z"
   },
   {
    "duration": 243,
    "start_time": "2023-03-01T09:05:56.222Z"
   },
   {
    "duration": 16,
    "start_time": "2023-03-01T09:05:56.468Z"
   },
   {
    "duration": 51,
    "start_time": "2023-03-01T09:05:56.486Z"
   },
   {
    "duration": 28,
    "start_time": "2023-03-01T09:05:56.540Z"
   },
   {
    "duration": 475,
    "start_time": "2023-03-01T09:05:56.570Z"
   },
   {
    "duration": 94,
    "start_time": "2023-03-01T09:05:57.048Z"
   },
   {
    "duration": 92,
    "start_time": "2023-03-01T09:05:57.144Z"
   },
   {
    "duration": 31,
    "start_time": "2023-03-01T09:05:57.239Z"
   },
   {
    "duration": 35,
    "start_time": "2023-03-01T09:05:57.272Z"
   },
   {
    "duration": 119,
    "start_time": "2023-03-01T09:05:57.310Z"
   },
   {
    "duration": 5,
    "start_time": "2023-03-01T09:05:57.431Z"
   },
   {
    "duration": 24,
    "start_time": "2023-03-01T09:05:57.438Z"
   },
   {
    "duration": 248,
    "start_time": "2023-03-01T09:05:57.464Z"
   },
   {
    "duration": 157,
    "start_time": "2023-03-01T09:05:57.714Z"
   },
   {
    "duration": 40,
    "start_time": "2023-03-01T09:05:57.873Z"
   },
   {
    "duration": 20,
    "start_time": "2023-03-01T09:05:57.915Z"
   },
   {
    "duration": 27,
    "start_time": "2023-03-01T09:05:57.937Z"
   },
   {
    "duration": 74,
    "start_time": "2023-03-01T09:05:57.967Z"
   },
   {
    "duration": 222,
    "start_time": "2023-03-01T09:05:58.043Z"
   },
   {
    "duration": 43,
    "start_time": "2023-03-01T09:05:58.267Z"
   },
   {
    "duration": 18,
    "start_time": "2023-03-01T09:05:58.312Z"
   },
   {
    "duration": 226,
    "start_time": "2023-03-01T09:05:58.332Z"
   },
   {
    "duration": 29,
    "start_time": "2023-03-01T09:05:58.560Z"
   },
   {
    "duration": 18,
    "start_time": "2023-03-01T09:05:58.590Z"
   },
   {
    "duration": 23,
    "start_time": "2023-03-01T09:05:58.609Z"
   },
   {
    "duration": 11,
    "start_time": "2023-03-01T09:05:58.634Z"
   },
   {
    "duration": 9,
    "start_time": "2023-03-01T09:05:58.646Z"
   },
   {
    "duration": 10,
    "start_time": "2023-03-01T09:05:58.657Z"
   },
   {
    "duration": 17,
    "start_time": "2023-03-01T09:05:58.668Z"
   },
   {
    "duration": 17,
    "start_time": "2023-03-01T09:05:58.687Z"
   },
   {
    "duration": 9,
    "start_time": "2023-03-01T09:05:58.706Z"
   },
   {
    "duration": 17,
    "start_time": "2023-03-01T09:05:58.717Z"
   },
   {
    "duration": 21,
    "start_time": "2023-03-01T09:05:58.735Z"
   },
   {
    "duration": 5,
    "start_time": "2023-03-01T09:05:58.757Z"
   },
   {
    "duration": 12,
    "start_time": "2023-03-01T09:05:58.764Z"
   },
   {
    "duration": 36,
    "start_time": "2023-03-01T09:05:58.777Z"
   },
   {
    "duration": 8,
    "start_time": "2023-03-01T09:05:58.815Z"
   },
   {
    "duration": 9,
    "start_time": "2023-03-01T09:05:58.825Z"
   },
   {
    "duration": 16,
    "start_time": "2023-03-01T09:05:58.835Z"
   },
   {
    "duration": 146,
    "start_time": "2023-03-01T09:05:58.852Z"
   },
   {
    "duration": 160,
    "start_time": "2023-03-01T09:05:59.012Z"
   },
   {
    "duration": 133,
    "start_time": "2023-03-01T09:05:59.174Z"
   },
   {
    "duration": 139,
    "start_time": "2023-03-01T09:05:59.308Z"
   },
   {
    "duration": 18,
    "start_time": "2023-03-01T09:07:52.305Z"
   },
   {
    "duration": 24,
    "start_time": "2023-03-01T09:07:59.896Z"
   },
   {
    "duration": 62,
    "start_time": "2023-03-01T09:08:08.769Z"
   },
   {
    "duration": 151,
    "start_time": "2023-03-01T09:20:32.120Z"
   },
   {
    "duration": 90,
    "start_time": "2023-03-01T09:20:39.216Z"
   },
   {
    "duration": 143,
    "start_time": "2023-03-01T09:44:09.868Z"
   },
   {
    "duration": 149,
    "start_time": "2023-03-01T09:45:50.519Z"
   },
   {
    "duration": 90,
    "start_time": "2023-03-01T09:58:07.074Z"
   },
   {
    "duration": 5,
    "start_time": "2023-03-01T09:58:13.690Z"
   },
   {
    "duration": 8,
    "start_time": "2023-03-01T10:01:23.044Z"
   },
   {
    "duration": 8,
    "start_time": "2023-03-01T10:01:35.783Z"
   },
   {
    "duration": 31,
    "start_time": "2023-03-01T10:01:51.217Z"
   },
   {
    "duration": 9,
    "start_time": "2023-03-01T10:02:41.997Z"
   },
   {
    "duration": 9,
    "start_time": "2023-03-01T10:15:00.505Z"
   },
   {
    "duration": 8,
    "start_time": "2023-03-01T10:15:19.744Z"
   },
   {
    "duration": 48,
    "start_time": "2023-03-01T10:29:56.101Z"
   },
   {
    "duration": 4,
    "start_time": "2023-03-01T10:35:02.503Z"
   },
   {
    "duration": 4,
    "start_time": "2023-03-01T10:35:27.915Z"
   },
   {
    "duration": 5,
    "start_time": "2023-03-01T10:38:19.728Z"
   },
   {
    "duration": 4,
    "start_time": "2023-03-01T10:43:11.361Z"
   },
   {
    "duration": 5,
    "start_time": "2023-03-01T10:45:54.236Z"
   },
   {
    "duration": 5,
    "start_time": "2023-03-01T10:50:59.675Z"
   },
   {
    "duration": 7,
    "start_time": "2023-03-01T10:52:08.501Z"
   },
   {
    "duration": 447,
    "start_time": "2023-03-01T10:53:52.383Z"
   },
   {
    "duration": 96,
    "start_time": "2023-03-01T10:53:52.832Z"
   },
   {
    "duration": 44,
    "start_time": "2023-03-01T10:53:52.930Z"
   },
   {
    "duration": 23,
    "start_time": "2023-03-01T10:53:52.976Z"
   },
   {
    "duration": 17,
    "start_time": "2023-03-01T10:53:53.000Z"
   },
   {
    "duration": 36,
    "start_time": "2023-03-01T10:53:53.018Z"
   },
   {
    "duration": 18,
    "start_time": "2023-03-01T10:53:53.056Z"
   },
   {
    "duration": 29,
    "start_time": "2023-03-01T10:53:53.076Z"
   },
   {
    "duration": 79,
    "start_time": "2023-03-01T10:53:53.107Z"
   },
   {
    "duration": 29,
    "start_time": "2023-03-01T10:53:53.188Z"
   },
   {
    "duration": 10,
    "start_time": "2023-03-01T10:53:53.218Z"
   },
   {
    "duration": 27,
    "start_time": "2023-03-01T10:53:53.229Z"
   },
   {
    "duration": 7,
    "start_time": "2023-03-01T10:53:53.257Z"
   },
   {
    "duration": 50,
    "start_time": "2023-03-01T10:53:53.265Z"
   },
   {
    "duration": 10,
    "start_time": "2023-03-01T10:53:53.316Z"
   },
   {
    "duration": 19,
    "start_time": "2023-03-01T10:53:53.327Z"
   },
   {
    "duration": 25,
    "start_time": "2023-03-01T10:53:53.347Z"
   },
   {
    "duration": 43,
    "start_time": "2023-03-01T10:53:53.373Z"
   },
   {
    "duration": 17,
    "start_time": "2023-03-01T10:53:53.418Z"
   },
   {
    "duration": 19,
    "start_time": "2023-03-01T10:53:53.436Z"
   },
   {
    "duration": 9,
    "start_time": "2023-03-01T10:53:53.457Z"
   },
   {
    "duration": 41,
    "start_time": "2023-03-01T10:53:53.467Z"
   },
   {
    "duration": 18,
    "start_time": "2023-03-01T10:53:53.510Z"
   },
   {
    "duration": 17,
    "start_time": "2023-03-01T10:53:53.530Z"
   },
   {
    "duration": 8,
    "start_time": "2023-03-01T10:53:53.549Z"
   },
   {
    "duration": 23,
    "start_time": "2023-03-01T10:53:53.558Z"
   },
   {
    "duration": 11,
    "start_time": "2023-03-01T10:53:53.604Z"
   },
   {
    "duration": 12,
    "start_time": "2023-03-01T10:53:53.618Z"
   },
   {
    "duration": 81,
    "start_time": "2023-03-01T10:53:53.632Z"
   },
   {
    "duration": 12,
    "start_time": "2023-03-01T10:53:53.714Z"
   },
   {
    "duration": 4,
    "start_time": "2023-03-01T10:53:53.728Z"
   },
   {
    "duration": 12,
    "start_time": "2023-03-01T10:53:53.734Z"
   },
   {
    "duration": 24,
    "start_time": "2023-03-01T10:53:53.748Z"
   },
   {
    "duration": 808,
    "start_time": "2023-03-01T10:53:53.774Z"
   },
   {
    "duration": 31,
    "start_time": "2023-03-01T10:53:54.584Z"
   },
   {
    "duration": 53,
    "start_time": "2023-03-01T10:53:54.617Z"
   },
   {
    "duration": 41,
    "start_time": "2023-03-01T10:53:54.672Z"
   },
   {
    "duration": 9,
    "start_time": "2023-03-01T10:53:54.715Z"
   },
   {
    "duration": 17,
    "start_time": "2023-03-01T10:53:54.726Z"
   },
   {
    "duration": 265,
    "start_time": "2023-03-01T10:53:54.744Z"
   },
   {
    "duration": 18,
    "start_time": "2023-03-01T10:53:55.011Z"
   },
   {
    "duration": 186,
    "start_time": "2023-03-01T10:53:55.030Z"
   },
   {
    "duration": 190,
    "start_time": "2023-03-01T10:53:55.217Z"
   },
   {
    "duration": 10,
    "start_time": "2023-03-01T10:53:55.409Z"
   },
   {
    "duration": 33,
    "start_time": "2023-03-01T10:53:55.421Z"
   },
   {
    "duration": 7,
    "start_time": "2023-03-01T10:53:55.456Z"
   },
   {
    "duration": 328,
    "start_time": "2023-03-01T10:53:55.464Z"
   },
   {
    "duration": 60,
    "start_time": "2023-03-01T10:53:55.793Z"
   },
   {
    "duration": 85,
    "start_time": "2023-03-01T10:53:55.855Z"
   },
   {
    "duration": 19,
    "start_time": "2023-03-01T10:53:55.942Z"
   },
   {
    "duration": 22,
    "start_time": "2023-03-01T10:53:55.962Z"
   },
   {
    "duration": 67,
    "start_time": "2023-03-01T10:53:55.986Z"
   },
   {
    "duration": 3,
    "start_time": "2023-03-01T10:53:56.054Z"
   },
   {
    "duration": 20,
    "start_time": "2023-03-01T10:53:56.059Z"
   },
   {
    "duration": 201,
    "start_time": "2023-03-01T10:53:56.081Z"
   },
   {
    "duration": 145,
    "start_time": "2023-03-01T10:53:56.283Z"
   },
   {
    "duration": 24,
    "start_time": "2023-03-01T10:53:56.430Z"
   },
   {
    "duration": 19,
    "start_time": "2023-03-01T10:53:56.455Z"
   },
   {
    "duration": 48,
    "start_time": "2023-03-01T10:53:56.476Z"
   },
   {
    "duration": 33,
    "start_time": "2023-03-01T10:53:56.526Z"
   },
   {
    "duration": 164,
    "start_time": "2023-03-01T10:53:56.560Z"
   },
   {
    "duration": 23,
    "start_time": "2023-03-01T10:53:56.725Z"
   },
   {
    "duration": 13,
    "start_time": "2023-03-01T10:53:56.749Z"
   },
   {
    "duration": 230,
    "start_time": "2023-03-01T10:53:56.764Z"
   },
   {
    "duration": 29,
    "start_time": "2023-03-01T10:53:57.003Z"
   },
   {
    "duration": 5,
    "start_time": "2023-03-01T10:53:57.034Z"
   },
   {
    "duration": 22,
    "start_time": "2023-03-01T10:53:57.041Z"
   },
   {
    "duration": 4,
    "start_time": "2023-03-01T10:53:57.065Z"
   },
   {
    "duration": 9,
    "start_time": "2023-03-01T10:53:57.070Z"
   },
   {
    "duration": 26,
    "start_time": "2023-03-01T10:53:57.080Z"
   },
   {
    "duration": 7,
    "start_time": "2023-03-01T10:53:57.108Z"
   },
   {
    "duration": 12,
    "start_time": "2023-03-01T10:53:57.116Z"
   },
   {
    "duration": 14,
    "start_time": "2023-03-01T10:53:57.129Z"
   },
   {
    "duration": 17,
    "start_time": "2023-03-01T10:53:57.144Z"
   },
   {
    "duration": 13,
    "start_time": "2023-03-01T10:53:57.162Z"
   },
   {
    "duration": 4,
    "start_time": "2023-03-01T10:53:57.177Z"
   },
   {
    "duration": 30,
    "start_time": "2023-03-01T10:53:57.182Z"
   },
   {
    "duration": 28,
    "start_time": "2023-03-01T10:53:57.214Z"
   },
   {
    "duration": 8,
    "start_time": "2023-03-01T10:53:57.244Z"
   },
   {
    "duration": 15,
    "start_time": "2023-03-01T10:53:57.254Z"
   },
   {
    "duration": 16,
    "start_time": "2023-03-01T10:53:57.270Z"
   },
   {
    "duration": 142,
    "start_time": "2023-03-01T10:53:57.290Z"
   },
   {
    "duration": 136,
    "start_time": "2023-03-01T10:53:57.434Z"
   },
   {
    "duration": 151,
    "start_time": "2023-03-01T10:53:57.571Z"
   },
   {
    "duration": 167,
    "start_time": "2023-03-01T10:53:57.723Z"
   },
   {
    "duration": 12,
    "start_time": "2023-03-01T10:53:57.892Z"
   },
   {
    "duration": 10,
    "start_time": "2023-03-01T10:53:57.905Z"
   },
   {
    "duration": 44,
    "start_time": "2023-03-01T10:53:57.916Z"
   },
   {
    "duration": 7,
    "start_time": "2023-03-01T10:53:57.962Z"
   },
   {
    "duration": 34,
    "start_time": "2023-03-01T10:53:57.971Z"
   },
   {
    "duration": 29,
    "start_time": "2023-03-01T10:55:34.504Z"
   },
   {
    "duration": 25,
    "start_time": "2023-03-01T10:55:57.777Z"
   },
   {
    "duration": 28,
    "start_time": "2023-03-01T10:56:08.715Z"
   },
   {
    "duration": 80,
    "start_time": "2023-03-01T10:56:19.161Z"
   },
   {
    "duration": 4,
    "start_time": "2023-03-01T10:56:38.539Z"
   },
   {
    "duration": 16,
    "start_time": "2023-03-01T10:56:39.594Z"
   },
   {
    "duration": 225,
    "start_time": "2023-03-01T10:56:42.937Z"
   },
   {
    "duration": 139,
    "start_time": "2023-03-01T10:56:45.851Z"
   },
   {
    "duration": 25,
    "start_time": "2023-03-01T10:56:51.343Z"
   },
   {
    "duration": 19,
    "start_time": "2023-03-01T10:56:58.708Z"
   },
   {
    "duration": 26,
    "start_time": "2023-03-01T10:57:07.610Z"
   },
   {
    "duration": 33,
    "start_time": "2023-03-01T10:57:11.210Z"
   },
   {
    "duration": 149,
    "start_time": "2023-03-01T10:57:15.784Z"
   },
   {
    "duration": 25,
    "start_time": "2023-03-01T10:57:21.374Z"
   },
   {
    "duration": 18,
    "start_time": "2023-03-01T10:57:26.031Z"
   },
   {
    "duration": 145,
    "start_time": "2023-03-01T10:57:28.330Z"
   },
   {
    "duration": 27,
    "start_time": "2023-03-01T10:57:32.042Z"
   },
   {
    "duration": 6,
    "start_time": "2023-03-01T10:57:34.418Z"
   },
   {
    "duration": 16,
    "start_time": "2023-03-01T10:57:35.738Z"
   },
   {
    "duration": 6,
    "start_time": "2023-03-01T10:57:42.624Z"
   },
   {
    "duration": 6,
    "start_time": "2023-03-01T10:57:43.714Z"
   },
   {
    "duration": 8,
    "start_time": "2023-03-01T10:57:46.040Z"
   },
   {
    "duration": 7,
    "start_time": "2023-03-01T10:57:48.122Z"
   },
   {
    "duration": 8,
    "start_time": "2023-03-01T10:57:49.676Z"
   },
   {
    "duration": 5,
    "start_time": "2023-03-01T10:57:53.002Z"
   },
   {
    "duration": 13,
    "start_time": "2023-03-01T10:57:53.970Z"
   },
   {
    "duration": 9,
    "start_time": "2023-03-01T10:57:57.864Z"
   },
   {
    "duration": 6,
    "start_time": "2023-03-01T10:58:05.527Z"
   },
   {
    "duration": 10,
    "start_time": "2023-03-01T10:58:08.252Z"
   },
   {
    "duration": 34,
    "start_time": "2023-03-01T10:58:11.200Z"
   },
   {
    "duration": 10,
    "start_time": "2023-03-01T10:58:14.369Z"
   },
   {
    "duration": 8,
    "start_time": "2023-03-01T10:58:16.233Z"
   },
   {
    "duration": 15,
    "start_time": "2023-03-01T10:58:18.290Z"
   },
   {
    "duration": 147,
    "start_time": "2023-03-01T10:58:19.974Z"
   },
   {
    "duration": 124,
    "start_time": "2023-03-01T10:58:22.143Z"
   },
   {
    "duration": 198,
    "start_time": "2023-03-01T10:58:23.897Z"
   },
   {
    "duration": 136,
    "start_time": "2023-03-01T10:58:26.101Z"
   },
   {
    "duration": 5,
    "start_time": "2023-03-01T10:58:32.568Z"
   },
   {
    "duration": 10,
    "start_time": "2023-03-01T10:58:36.623Z"
   },
   {
    "duration": 39,
    "start_time": "2023-03-01T10:58:40.634Z"
   },
   {
    "duration": 7,
    "start_time": "2023-03-01T10:58:50.385Z"
   },
   {
    "duration": 7,
    "start_time": "2023-03-01T10:59:01.081Z"
   },
   {
    "duration": 406,
    "start_time": "2023-03-01T11:00:08.060Z"
   },
   {
    "duration": 109,
    "start_time": "2023-03-01T11:00:08.468Z"
   },
   {
    "duration": 48,
    "start_time": "2023-03-01T11:00:08.579Z"
   },
   {
    "duration": 23,
    "start_time": "2023-03-01T11:00:08.632Z"
   },
   {
    "duration": 16,
    "start_time": "2023-03-01T11:00:08.656Z"
   },
   {
    "duration": 56,
    "start_time": "2023-03-01T11:00:08.674Z"
   },
   {
    "duration": 17,
    "start_time": "2023-03-01T11:00:08.732Z"
   },
   {
    "duration": 4,
    "start_time": "2023-03-01T11:00:08.751Z"
   },
   {
    "duration": 106,
    "start_time": "2023-03-01T11:00:08.756Z"
   },
   {
    "duration": 21,
    "start_time": "2023-03-01T11:00:08.864Z"
   },
   {
    "duration": 27,
    "start_time": "2023-03-01T11:00:08.886Z"
   },
   {
    "duration": 33,
    "start_time": "2023-03-01T11:00:08.917Z"
   },
   {
    "duration": 7,
    "start_time": "2023-03-01T11:00:08.952Z"
   },
   {
    "duration": 25,
    "start_time": "2023-03-01T11:00:08.960Z"
   },
   {
    "duration": 10,
    "start_time": "2023-03-01T11:00:09.005Z"
   },
   {
    "duration": 35,
    "start_time": "2023-03-01T11:00:09.017Z"
   },
   {
    "duration": 41,
    "start_time": "2023-03-01T11:00:09.053Z"
   },
   {
    "duration": 37,
    "start_time": "2023-03-01T11:00:09.096Z"
   },
   {
    "duration": 30,
    "start_time": "2023-03-01T11:00:09.135Z"
   },
   {
    "duration": 21,
    "start_time": "2023-03-01T11:00:09.166Z"
   },
   {
    "duration": 16,
    "start_time": "2023-03-01T11:00:09.189Z"
   },
   {
    "duration": 32,
    "start_time": "2023-03-01T11:00:09.207Z"
   },
   {
    "duration": 27,
    "start_time": "2023-03-01T11:00:09.241Z"
   },
   {
    "duration": 18,
    "start_time": "2023-03-01T11:00:09.269Z"
   },
   {
    "duration": 23,
    "start_time": "2023-03-01T11:00:09.288Z"
   },
   {
    "duration": 30,
    "start_time": "2023-03-01T11:00:09.313Z"
   },
   {
    "duration": 18,
    "start_time": "2023-03-01T11:00:09.345Z"
   },
   {
    "duration": 11,
    "start_time": "2023-03-01T11:00:09.367Z"
   },
   {
    "duration": 82,
    "start_time": "2023-03-01T11:00:09.380Z"
   },
   {
    "duration": 15,
    "start_time": "2023-03-01T11:00:09.464Z"
   },
   {
    "duration": 26,
    "start_time": "2023-03-01T11:00:09.481Z"
   },
   {
    "duration": 16,
    "start_time": "2023-03-01T11:00:09.509Z"
   },
   {
    "duration": 36,
    "start_time": "2023-03-01T11:00:09.527Z"
   },
   {
    "duration": 924,
    "start_time": "2023-03-01T11:00:09.565Z"
   },
   {
    "duration": 47,
    "start_time": "2023-03-01T11:00:10.491Z"
   },
   {
    "duration": 65,
    "start_time": "2023-03-01T11:00:10.540Z"
   },
   {
    "duration": 43,
    "start_time": "2023-03-01T11:00:10.607Z"
   },
   {
    "duration": 12,
    "start_time": "2023-03-01T11:00:10.652Z"
   },
   {
    "duration": 20,
    "start_time": "2023-03-01T11:00:10.666Z"
   },
   {
    "duration": 271,
    "start_time": "2023-03-01T11:00:10.687Z"
   },
   {
    "duration": 18,
    "start_time": "2023-03-01T11:00:10.960Z"
   },
   {
    "duration": 185,
    "start_time": "2023-03-01T11:00:10.979Z"
   },
   {
    "duration": 191,
    "start_time": "2023-03-01T11:00:11.165Z"
   },
   {
    "duration": 12,
    "start_time": "2023-03-01T11:00:11.357Z"
   },
   {
    "duration": 49,
    "start_time": "2023-03-01T11:00:11.371Z"
   },
   {
    "duration": 9,
    "start_time": "2023-03-01T11:00:11.422Z"
   },
   {
    "duration": 325,
    "start_time": "2023-03-01T11:00:11.433Z"
   },
   {
    "duration": 69,
    "start_time": "2023-03-01T11:00:11.760Z"
   },
   {
    "duration": 74,
    "start_time": "2023-03-01T11:00:11.830Z"
   },
   {
    "duration": 18,
    "start_time": "2023-03-01T11:00:11.905Z"
   },
   {
    "duration": 28,
    "start_time": "2023-03-01T11:00:11.925Z"
   },
   {
    "duration": 100,
    "start_time": "2023-03-01T11:00:11.955Z"
   },
   {
    "duration": 4,
    "start_time": "2023-03-01T11:00:12.056Z"
   },
   {
    "duration": 18,
    "start_time": "2023-03-01T11:00:12.062Z"
   },
   {
    "duration": 234,
    "start_time": "2023-03-01T11:00:12.082Z"
   },
   {
    "duration": 147,
    "start_time": "2023-03-01T11:00:12.318Z"
   },
   {
    "duration": 42,
    "start_time": "2023-03-01T11:00:12.467Z"
   },
   {
    "duration": 25,
    "start_time": "2023-03-01T11:00:12.511Z"
   },
   {
    "duration": 24,
    "start_time": "2023-03-01T11:00:12.538Z"
   },
   {
    "duration": 57,
    "start_time": "2023-03-01T11:00:12.564Z"
   },
   {
    "duration": 175,
    "start_time": "2023-03-01T11:00:12.623Z"
   },
   {
    "duration": 29,
    "start_time": "2023-03-01T11:00:12.803Z"
   },
   {
    "duration": 15,
    "start_time": "2023-03-01T11:00:12.833Z"
   },
   {
    "duration": 234,
    "start_time": "2023-03-01T11:00:12.849Z"
   },
   {
    "duration": 42,
    "start_time": "2023-03-01T11:00:13.084Z"
   },
   {
    "duration": 16,
    "start_time": "2023-03-01T11:00:13.128Z"
   },
   {
    "duration": 44,
    "start_time": "2023-03-01T11:00:13.146Z"
   },
   {
    "duration": 7,
    "start_time": "2023-03-01T11:00:13.192Z"
   },
   {
    "duration": 31,
    "start_time": "2023-03-01T11:00:13.200Z"
   },
   {
    "duration": 25,
    "start_time": "2023-03-01T11:00:13.233Z"
   },
   {
    "duration": 20,
    "start_time": "2023-03-01T11:00:13.260Z"
   },
   {
    "duration": 18,
    "start_time": "2023-03-01T11:00:13.282Z"
   },
   {
    "duration": 21,
    "start_time": "2023-03-01T11:00:13.302Z"
   },
   {
    "duration": 33,
    "start_time": "2023-03-01T11:00:13.325Z"
   },
   {
    "duration": 19,
    "start_time": "2023-03-01T11:00:13.360Z"
   },
   {
    "duration": 17,
    "start_time": "2023-03-01T11:00:13.381Z"
   },
   {
    "duration": 19,
    "start_time": "2023-03-01T11:00:13.399Z"
   },
   {
    "duration": 60,
    "start_time": "2023-03-01T11:00:13.427Z"
   },
   {
    "duration": 19,
    "start_time": "2023-03-01T11:00:13.488Z"
   },
   {
    "duration": 30,
    "start_time": "2023-03-01T11:00:13.508Z"
   },
   {
    "duration": 32,
    "start_time": "2023-03-01T11:00:13.539Z"
   },
   {
    "duration": 153,
    "start_time": "2023-03-01T11:00:13.577Z"
   },
   {
    "duration": 142,
    "start_time": "2023-03-01T11:00:13.732Z"
   },
   {
    "duration": 163,
    "start_time": "2023-03-01T11:00:13.876Z"
   },
   {
    "duration": 147,
    "start_time": "2023-03-01T11:00:14.041Z"
   },
   {
    "duration": 4,
    "start_time": "2023-03-01T11:00:14.190Z"
   },
   {
    "duration": 25,
    "start_time": "2023-03-01T11:00:14.203Z"
   },
   {
    "duration": 51,
    "start_time": "2023-03-01T11:00:14.230Z"
   },
   {
    "duration": 21,
    "start_time": "2023-03-01T11:00:14.283Z"
   },
   {
    "duration": 8,
    "start_time": "2023-03-01T11:00:14.307Z"
   },
   {
    "duration": 75,
    "start_time": "2023-03-01T11:04:03.940Z"
   },
   {
    "duration": 91,
    "start_time": "2023-03-01T11:04:26.956Z"
   },
   {
    "duration": 7,
    "start_time": "2023-03-01T11:05:15.388Z"
   },
   {
    "duration": 102,
    "start_time": "2023-03-01T11:09:33.500Z"
   },
   {
    "duration": 6,
    "start_time": "2023-03-01T11:09:41.403Z"
   },
   {
    "duration": 5,
    "start_time": "2023-03-01T11:10:10.507Z"
   },
   {
    "duration": 423,
    "start_time": "2023-03-01T11:10:33.568Z"
   },
   {
    "duration": 108,
    "start_time": "2023-03-01T11:10:33.993Z"
   },
   {
    "duration": 51,
    "start_time": "2023-03-01T11:10:34.103Z"
   },
   {
    "duration": 23,
    "start_time": "2023-03-01T11:10:34.157Z"
   },
   {
    "duration": 33,
    "start_time": "2023-03-01T11:10:34.182Z"
   },
   {
    "duration": 60,
    "start_time": "2023-03-01T11:10:34.216Z"
   },
   {
    "duration": 17,
    "start_time": "2023-03-01T11:10:34.278Z"
   },
   {
    "duration": 37,
    "start_time": "2023-03-01T11:10:34.297Z"
   },
   {
    "duration": 105,
    "start_time": "2023-03-01T11:10:34.336Z"
   },
   {
    "duration": 28,
    "start_time": "2023-03-01T11:10:34.444Z"
   },
   {
    "duration": 17,
    "start_time": "2023-03-01T11:10:34.473Z"
   },
   {
    "duration": 60,
    "start_time": "2023-03-01T11:10:34.492Z"
   },
   {
    "duration": 5,
    "start_time": "2023-03-01T11:10:34.554Z"
   },
   {
    "duration": 35,
    "start_time": "2023-03-01T11:10:34.561Z"
   },
   {
    "duration": 35,
    "start_time": "2023-03-01T11:10:34.598Z"
   },
   {
    "duration": 40,
    "start_time": "2023-03-01T11:10:34.635Z"
   },
   {
    "duration": 43,
    "start_time": "2023-03-01T11:10:34.677Z"
   },
   {
    "duration": 20,
    "start_time": "2023-03-01T11:10:34.721Z"
   },
   {
    "duration": 21,
    "start_time": "2023-03-01T11:10:34.743Z"
   },
   {
    "duration": 31,
    "start_time": "2023-03-01T11:10:34.765Z"
   },
   {
    "duration": 28,
    "start_time": "2023-03-01T11:10:34.803Z"
   },
   {
    "duration": 39,
    "start_time": "2023-03-01T11:10:34.833Z"
   },
   {
    "duration": 30,
    "start_time": "2023-03-01T11:10:34.874Z"
   },
   {
    "duration": 18,
    "start_time": "2023-03-01T11:10:34.905Z"
   },
   {
    "duration": 20,
    "start_time": "2023-03-01T11:10:34.925Z"
   },
   {
    "duration": 37,
    "start_time": "2023-03-01T11:10:34.947Z"
   },
   {
    "duration": 27,
    "start_time": "2023-03-01T11:10:34.986Z"
   },
   {
    "duration": 32,
    "start_time": "2023-03-01T11:10:35.017Z"
   },
   {
    "duration": 84,
    "start_time": "2023-03-01T11:10:35.051Z"
   },
   {
    "duration": 21,
    "start_time": "2023-03-01T11:10:35.136Z"
   },
   {
    "duration": 11,
    "start_time": "2023-03-01T11:10:35.160Z"
   },
   {
    "duration": 46,
    "start_time": "2023-03-01T11:10:35.173Z"
   },
   {
    "duration": 50,
    "start_time": "2023-03-01T11:10:35.221Z"
   },
   {
    "duration": 847,
    "start_time": "2023-03-01T11:10:35.273Z"
   },
   {
    "duration": 28,
    "start_time": "2023-03-01T11:10:36.122Z"
   },
   {
    "duration": 75,
    "start_time": "2023-03-01T11:10:36.152Z"
   },
   {
    "duration": 24,
    "start_time": "2023-03-01T11:10:36.228Z"
   },
   {
    "duration": 16,
    "start_time": "2023-03-01T11:10:36.254Z"
   },
   {
    "duration": 57,
    "start_time": "2023-03-01T11:10:36.272Z"
   },
   {
    "duration": 278,
    "start_time": "2023-03-01T11:10:36.331Z"
   },
   {
    "duration": 17,
    "start_time": "2023-03-01T11:10:36.611Z"
   },
   {
    "duration": 222,
    "start_time": "2023-03-01T11:10:36.630Z"
   },
   {
    "duration": 226,
    "start_time": "2023-03-01T11:10:36.854Z"
   },
   {
    "duration": 11,
    "start_time": "2023-03-01T11:10:37.082Z"
   },
   {
    "duration": 72,
    "start_time": "2023-03-01T11:10:37.095Z"
   },
   {
    "duration": 21,
    "start_time": "2023-03-01T11:10:37.168Z"
   },
   {
    "duration": 308,
    "start_time": "2023-03-01T11:10:37.191Z"
   },
   {
    "duration": 56,
    "start_time": "2023-03-01T11:10:37.501Z"
   },
   {
    "duration": 77,
    "start_time": "2023-03-01T11:10:37.559Z"
   },
   {
    "duration": 31,
    "start_time": "2023-03-01T11:10:37.639Z"
   },
   {
    "duration": 24,
    "start_time": "2023-03-01T11:10:37.672Z"
   },
   {
    "duration": 70,
    "start_time": "2023-03-01T11:10:37.698Z"
   },
   {
    "duration": 4,
    "start_time": "2023-03-01T11:10:37.769Z"
   },
   {
    "duration": 34,
    "start_time": "2023-03-01T11:10:37.774Z"
   },
   {
    "duration": 204,
    "start_time": "2023-03-01T11:10:37.810Z"
   },
   {
    "duration": 156,
    "start_time": "2023-03-01T11:10:38.015Z"
   },
   {
    "duration": 33,
    "start_time": "2023-03-01T11:10:38.172Z"
   },
   {
    "duration": 18,
    "start_time": "2023-03-01T11:10:38.207Z"
   },
   {
    "duration": 24,
    "start_time": "2023-03-01T11:10:38.227Z"
   },
   {
    "duration": 63,
    "start_time": "2023-03-01T11:10:38.252Z"
   },
   {
    "duration": 139,
    "start_time": "2023-03-01T11:10:38.317Z"
   },
   {
    "duration": 22,
    "start_time": "2023-03-01T11:10:38.458Z"
   },
   {
    "duration": 31,
    "start_time": "2023-03-01T11:10:38.481Z"
   },
   {
    "duration": 207,
    "start_time": "2023-03-01T11:10:38.514Z"
   },
   {
    "duration": 26,
    "start_time": "2023-03-01T11:10:38.723Z"
   },
   {
    "duration": 5,
    "start_time": "2023-03-01T11:10:38.751Z"
   },
   {
    "duration": 18,
    "start_time": "2023-03-01T11:10:38.758Z"
   },
   {
    "duration": 7,
    "start_time": "2023-03-01T11:10:38.803Z"
   },
   {
    "duration": 12,
    "start_time": "2023-03-01T11:10:38.812Z"
   },
   {
    "duration": 8,
    "start_time": "2023-03-01T11:10:38.826Z"
   },
   {
    "duration": 10,
    "start_time": "2023-03-01T11:10:38.836Z"
   },
   {
    "duration": 16,
    "start_time": "2023-03-01T11:10:38.848Z"
   },
   {
    "duration": 4,
    "start_time": "2023-03-01T11:10:38.865Z"
   },
   {
    "duration": 34,
    "start_time": "2023-03-01T11:10:38.870Z"
   },
   {
    "duration": 10,
    "start_time": "2023-03-01T11:10:38.906Z"
   },
   {
    "duration": 5,
    "start_time": "2023-03-01T11:10:38.918Z"
   },
   {
    "duration": 18,
    "start_time": "2023-03-01T11:10:38.924Z"
   },
   {
    "duration": 40,
    "start_time": "2023-03-01T11:10:38.944Z"
   },
   {
    "duration": 17,
    "start_time": "2023-03-01T11:10:38.986Z"
   },
   {
    "duration": 7,
    "start_time": "2023-03-01T11:10:39.005Z"
   },
   {
    "duration": 20,
    "start_time": "2023-03-01T11:10:39.014Z"
   },
   {
    "duration": 162,
    "start_time": "2023-03-01T11:10:39.039Z"
   },
   {
    "duration": 126,
    "start_time": "2023-03-01T11:10:39.204Z"
   },
   {
    "duration": 133,
    "start_time": "2023-03-01T11:10:39.332Z"
   },
   {
    "duration": 138,
    "start_time": "2023-03-01T11:10:39.467Z"
   },
   {
    "duration": 3,
    "start_time": "2023-03-01T11:10:39.607Z"
   },
   {
    "duration": 16,
    "start_time": "2023-03-01T11:10:39.612Z"
   },
   {
    "duration": 61,
    "start_time": "2023-03-01T11:10:39.630Z"
   },
   {
    "duration": 8,
    "start_time": "2023-03-01T11:10:39.693Z"
   },
   {
    "duration": 8,
    "start_time": "2023-03-01T11:10:39.703Z"
   },
   {
    "duration": 8,
    "start_time": "2023-03-01T11:10:39.712Z"
   },
   {
    "duration": 400,
    "start_time": "2023-03-01T15:41:34.399Z"
   },
   {
    "duration": 218,
    "start_time": "2023-03-01T15:41:34.801Z"
   },
   {
    "duration": 95,
    "start_time": "2023-03-01T15:41:35.021Z"
   },
   {
    "duration": 23,
    "start_time": "2023-03-01T15:41:35.118Z"
   },
   {
    "duration": 18,
    "start_time": "2023-03-01T15:41:35.142Z"
   },
   {
    "duration": 37,
    "start_time": "2023-03-01T15:41:35.161Z"
   },
   {
    "duration": 18,
    "start_time": "2023-03-01T15:41:35.200Z"
   },
   {
    "duration": 27,
    "start_time": "2023-03-01T15:41:35.220Z"
   },
   {
    "duration": 83,
    "start_time": "2023-03-01T15:41:35.248Z"
   },
   {
    "duration": 21,
    "start_time": "2023-03-01T15:41:35.344Z"
   },
   {
    "duration": 10,
    "start_time": "2023-03-01T15:41:35.367Z"
   },
   {
    "duration": 41,
    "start_time": "2023-03-01T15:41:35.378Z"
   },
   {
    "duration": 24,
    "start_time": "2023-03-01T15:41:35.420Z"
   },
   {
    "duration": 19,
    "start_time": "2023-03-01T15:41:35.447Z"
   },
   {
    "duration": 14,
    "start_time": "2023-03-01T15:41:35.468Z"
   },
   {
    "duration": 28,
    "start_time": "2023-03-01T15:41:35.484Z"
   },
   {
    "duration": 39,
    "start_time": "2023-03-01T15:41:35.514Z"
   },
   {
    "duration": 21,
    "start_time": "2023-03-01T15:41:35.555Z"
   },
   {
    "duration": 21,
    "start_time": "2023-03-01T15:41:35.578Z"
   },
   {
    "duration": 50,
    "start_time": "2023-03-01T15:41:35.600Z"
   },
   {
    "duration": 10,
    "start_time": "2023-03-01T15:41:35.652Z"
   },
   {
    "duration": 22,
    "start_time": "2023-03-01T15:41:35.664Z"
   },
   {
    "duration": 26,
    "start_time": "2023-03-01T15:41:35.688Z"
   },
   {
    "duration": 38,
    "start_time": "2023-03-01T15:41:35.715Z"
   },
   {
    "duration": 5,
    "start_time": "2023-03-01T15:41:35.754Z"
   },
   {
    "duration": 42,
    "start_time": "2023-03-01T15:41:35.760Z"
   },
   {
    "duration": 24,
    "start_time": "2023-03-01T15:41:35.804Z"
   },
   {
    "duration": 19,
    "start_time": "2023-03-01T15:41:35.832Z"
   },
   {
    "duration": 61,
    "start_time": "2023-03-01T15:41:35.852Z"
   },
   {
    "duration": 32,
    "start_time": "2023-03-01T15:41:35.916Z"
   },
   {
    "duration": 5,
    "start_time": "2023-03-01T15:41:35.950Z"
   },
   {
    "duration": 10,
    "start_time": "2023-03-01T15:41:35.957Z"
   },
   {
    "duration": 26,
    "start_time": "2023-03-01T15:41:35.968Z"
   },
   {
    "duration": 876,
    "start_time": "2023-03-01T15:41:35.996Z"
   },
   {
    "duration": 29,
    "start_time": "2023-03-01T15:41:36.874Z"
   },
   {
    "duration": 81,
    "start_time": "2023-03-01T15:41:36.906Z"
   },
   {
    "duration": 24,
    "start_time": "2023-03-01T15:41:36.989Z"
   },
   {
    "duration": 9,
    "start_time": "2023-03-01T15:41:37.015Z"
   },
   {
    "duration": 35,
    "start_time": "2023-03-01T15:41:37.026Z"
   },
   {
    "duration": 253,
    "start_time": "2023-03-01T15:41:37.064Z"
   },
   {
    "duration": 28,
    "start_time": "2023-03-01T15:41:37.319Z"
   },
   {
    "duration": 176,
    "start_time": "2023-03-01T15:41:37.348Z"
   },
   {
    "duration": 202,
    "start_time": "2023-03-01T15:41:37.526Z"
   },
   {
    "duration": 23,
    "start_time": "2023-03-01T15:41:37.730Z"
   },
   {
    "duration": 34,
    "start_time": "2023-03-01T15:41:37.755Z"
   },
   {
    "duration": 9,
    "start_time": "2023-03-01T15:41:37.791Z"
   },
   {
    "duration": 333,
    "start_time": "2023-03-01T15:41:37.802Z"
   },
   {
    "duration": 62,
    "start_time": "2023-03-01T15:41:38.137Z"
   },
   {
    "duration": 80,
    "start_time": "2023-03-01T15:41:38.200Z"
   },
   {
    "duration": 19,
    "start_time": "2023-03-01T15:41:38.283Z"
   },
   {
    "duration": 25,
    "start_time": "2023-03-01T15:41:38.304Z"
   },
   {
    "duration": 78,
    "start_time": "2023-03-01T15:41:38.331Z"
   },
   {
    "duration": 4,
    "start_time": "2023-03-01T15:41:38.411Z"
   },
   {
    "duration": 40,
    "start_time": "2023-03-01T15:41:38.417Z"
   },
   {
    "duration": 228,
    "start_time": "2023-03-01T15:41:38.459Z"
   },
   {
    "duration": 157,
    "start_time": "2023-03-01T15:41:38.689Z"
   },
   {
    "duration": 26,
    "start_time": "2023-03-01T15:41:38.849Z"
   },
   {
    "duration": 19,
    "start_time": "2023-03-01T15:41:38.877Z"
   },
   {
    "duration": 59,
    "start_time": "2023-03-01T15:41:38.898Z"
   },
   {
    "duration": 34,
    "start_time": "2023-03-01T15:41:38.958Z"
   },
   {
    "duration": 172,
    "start_time": "2023-03-01T15:41:38.994Z"
   },
   {
    "duration": 24,
    "start_time": "2023-03-01T15:41:39.168Z"
   },
   {
    "duration": 15,
    "start_time": "2023-03-01T15:41:39.194Z"
   },
   {
    "duration": 234,
    "start_time": "2023-03-01T15:41:39.211Z"
   },
   {
    "duration": 29,
    "start_time": "2023-03-01T15:41:39.447Z"
   },
   {
    "duration": 10,
    "start_time": "2023-03-01T15:41:39.477Z"
   },
   {
    "duration": 20,
    "start_time": "2023-03-01T15:41:39.489Z"
   },
   {
    "duration": 5,
    "start_time": "2023-03-01T15:41:39.510Z"
   },
   {
    "duration": 32,
    "start_time": "2023-03-01T15:41:39.517Z"
   },
   {
    "duration": 15,
    "start_time": "2023-03-01T15:41:39.551Z"
   },
   {
    "duration": 8,
    "start_time": "2023-03-01T15:41:39.568Z"
   },
   {
    "duration": 12,
    "start_time": "2023-03-01T15:41:39.578Z"
   },
   {
    "duration": 6,
    "start_time": "2023-03-01T15:41:39.592Z"
   },
   {
    "duration": 31,
    "start_time": "2023-03-01T15:41:39.600Z"
   },
   {
    "duration": 21,
    "start_time": "2023-03-01T15:41:39.633Z"
   },
   {
    "duration": 12,
    "start_time": "2023-03-01T15:41:39.655Z"
   },
   {
    "duration": 22,
    "start_time": "2023-03-01T15:41:39.668Z"
   },
   {
    "duration": 33,
    "start_time": "2023-03-01T15:41:39.692Z"
   },
   {
    "duration": 10,
    "start_time": "2023-03-01T15:41:39.727Z"
   },
   {
    "duration": 10,
    "start_time": "2023-03-01T15:41:39.739Z"
   },
   {
    "duration": 14,
    "start_time": "2023-03-01T15:41:39.751Z"
   },
   {
    "duration": 149,
    "start_time": "2023-03-01T15:41:39.770Z"
   },
   {
    "duration": 135,
    "start_time": "2023-03-01T15:41:39.921Z"
   },
   {
    "duration": 146,
    "start_time": "2023-03-01T15:41:40.057Z"
   },
   {
    "duration": 141,
    "start_time": "2023-03-01T15:41:40.205Z"
   },
   {
    "duration": 4,
    "start_time": "2023-03-01T15:41:40.348Z"
   },
   {
    "duration": 16,
    "start_time": "2023-03-01T15:41:40.354Z"
   },
   {
    "duration": 49,
    "start_time": "2023-03-01T15:41:40.372Z"
   },
   {
    "duration": 8,
    "start_time": "2023-03-01T15:41:40.422Z"
   },
   {
    "duration": 6,
    "start_time": "2023-03-01T15:41:40.445Z"
   },
   {
    "duration": 14,
    "start_time": "2023-03-01T15:41:40.452Z"
   },
   {
    "duration": 85,
    "start_time": "2023-03-01T15:43:35.724Z"
   }
  ],
  "kernelspec": {
   "display_name": "Python 3 (ipykernel)",
   "language": "python",
   "name": "python3"
  },
  "language_info": {
   "codemirror_mode": {
    "name": "ipython",
    "version": 3
   },
   "file_extension": ".py",
   "mimetype": "text/x-python",
   "name": "python",
   "nbconvert_exporter": "python",
   "pygments_lexer": "ipython3",
   "version": "3.9.13"
  },
  "toc": {
   "base_numbering": 1,
   "nav_menu": {},
   "number_sections": true,
   "sideBar": true,
   "skip_h1_title": true,
   "title_cell": "Table of Contents",
   "title_sidebar": "Contents",
   "toc_cell": false,
   "toc_position": {},
   "toc_section_display": true,
   "toc_window_display": false
  }
 },
 "nbformat": 4,
 "nbformat_minor": 5
}
